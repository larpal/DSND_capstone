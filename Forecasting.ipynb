{
 "cells": [
  {
   "cell_type": "code",
   "execution_count": 1,
   "metadata": {},
   "outputs": [],
   "source": [
    "import pandas as pd\n",
    "import numpy as np\n",
    "import matplotlib.pyplot as plt"
   ]
  },
  {
   "cell_type": "markdown",
   "metadata": {},
   "source": [
    "## Load Sample Data"
   ]
  },
  {
   "cell_type": "code",
   "execution_count": 2,
   "metadata": {},
   "outputs": [],
   "source": [
    "str_c = 'case'\n",
    "str_d = 'death'\n",
    "str_r = 'recovered'\n",
    "str_dstrct = 'district'\n",
    "str_date = 'date_reported'"
   ]
  },
  {
   "cell_type": "code",
   "execution_count": 3,
   "metadata": {},
   "outputs": [
    {
     "data": {
      "text/html": [
       "<div>\n",
       "<style scoped>\n",
       "    .dataframe tbody tr th:only-of-type {\n",
       "        vertical-align: middle;\n",
       "    }\n",
       "\n",
       "    .dataframe tbody tr th {\n",
       "        vertical-align: top;\n",
       "    }\n",
       "\n",
       "    .dataframe thead th {\n",
       "        text-align: right;\n",
       "    }\n",
       "</style>\n",
       "<table border=\"1\" class=\"dataframe\">\n",
       "  <thead>\n",
       "    <tr style=\"text-align: right;\">\n",
       "      <th></th>\n",
       "      <th>date_reported</th>\n",
       "      <th>category</th>\n",
       "      <th>Number</th>\n",
       "    </tr>\n",
       "  </thead>\n",
       "  <tbody>\n",
       "    <tr>\n",
       "      <th>0</th>\n",
       "      <td>2020-01-28</td>\n",
       "      <td>case</td>\n",
       "      <td>4</td>\n",
       "    </tr>\n",
       "    <tr>\n",
       "      <th>1</th>\n",
       "      <td>2020-01-28</td>\n",
       "      <td>recovered</td>\n",
       "      <td>4</td>\n",
       "    </tr>\n",
       "    <tr>\n",
       "      <th>2</th>\n",
       "      <td>2020-01-29</td>\n",
       "      <td>case</td>\n",
       "      <td>6</td>\n",
       "    </tr>\n",
       "    <tr>\n",
       "      <th>3</th>\n",
       "      <td>2020-01-29</td>\n",
       "      <td>recovered</td>\n",
       "      <td>6</td>\n",
       "    </tr>\n",
       "    <tr>\n",
       "      <th>4</th>\n",
       "      <td>2020-01-31</td>\n",
       "      <td>case</td>\n",
       "      <td>9</td>\n",
       "    </tr>\n",
       "    <tr>\n",
       "      <th>...</th>\n",
       "      <td>...</td>\n",
       "      <td>...</td>\n",
       "      <td>...</td>\n",
       "    </tr>\n",
       "    <tr>\n",
       "      <th>327</th>\n",
       "      <td>2020-06-08</td>\n",
       "      <td>case</td>\n",
       "      <td>184672</td>\n",
       "    </tr>\n",
       "    <tr>\n",
       "      <th>328</th>\n",
       "      <td>2020-06-08</td>\n",
       "      <td>death</td>\n",
       "      <td>8729</td>\n",
       "    </tr>\n",
       "    <tr>\n",
       "      <th>329</th>\n",
       "      <td>2020-06-08</td>\n",
       "      <td>recovered</td>\n",
       "      <td>170717</td>\n",
       "    </tr>\n",
       "    <tr>\n",
       "      <th>330</th>\n",
       "      <td>2020-06-09</td>\n",
       "      <td>case</td>\n",
       "      <td>184861</td>\n",
       "    </tr>\n",
       "    <tr>\n",
       "      <th>331</th>\n",
       "      <td>2020-06-09</td>\n",
       "      <td>recovered</td>\n",
       "      <td>170721</td>\n",
       "    </tr>\n",
       "  </tbody>\n",
       "</table>\n",
       "<p>332 rows × 3 columns</p>\n",
       "</div>"
      ],
      "text/plain": [
       "    date_reported   category  Number\n",
       "0      2020-01-28       case       4\n",
       "1      2020-01-28  recovered       4\n",
       "2      2020-01-29       case       6\n",
       "3      2020-01-29  recovered       6\n",
       "4      2020-01-31       case       9\n",
       "..            ...        ...     ...\n",
       "327    2020-06-08       case  184672\n",
       "328    2020-06-08      death    8729\n",
       "329    2020-06-08  recovered  170717\n",
       "330    2020-06-09       case  184861\n",
       "331    2020-06-09  recovered  170721\n",
       "\n",
       "[332 rows x 3 columns]"
      ]
     },
     "execution_count": 3,
     "metadata": {},
     "output_type": "execute_result"
    }
   ],
   "source": [
    "df_ctr_cum = pd.read_csv('df_ctr_cum.csv')\n",
    "df_ctr_cum"
   ]
  },
  {
   "cell_type": "markdown",
   "metadata": {},
   "source": [
    "**Set prediction time frames**"
   ]
  },
  {
   "cell_type": "code",
   "execution_count": 4,
   "metadata": {},
   "outputs": [],
   "source": [
    "n_training = 14\n",
    "n_predict_ahead = 3"
   ]
  },
  {
   "cell_type": "markdown",
   "metadata": {},
   "source": [
    "**Define Training Data**"
   ]
  },
  {
   "cell_type": "code",
   "execution_count": 5,
   "metadata": {},
   "outputs": [
    {
     "ename": "NameError",
     "evalue": "name 'n_days' is not defined",
     "output_type": "error",
     "traceback": [
      "\u001b[0;31m---------------------------------------------------------------------------\u001b[0m",
      "\u001b[0;31mNameError\u001b[0m                                 Traceback (most recent call last)",
      "\u001b[0;32m<ipython-input-5-cf97ee9511aa>\u001b[0m in \u001b[0;36m<module>\u001b[0;34m\u001b[0m\n\u001b[1;32m      1\u001b[0m \u001b[0;31m# indep. var\u001b[0m\u001b[0;34m\u001b[0m\u001b[0;34m\u001b[0m\u001b[0;34m\u001b[0m\u001b[0m\n\u001b[0;32m----> 2\u001b[0;31m \u001b[0mX\u001b[0m \u001b[0;34m=\u001b[0m \u001b[0mpd\u001b[0m\u001b[0;34m.\u001b[0m\u001b[0mto_numeric\u001b[0m\u001b[0;34m(\u001b[0m\u001b[0mpd\u001b[0m\u001b[0;34m.\u001b[0m\u001b[0mto_datetime\u001b[0m\u001b[0;34m(\u001b[0m\u001b[0mdf_ctr_cum\u001b[0m\u001b[0;34m.\u001b[0m\u001b[0mloc\u001b[0m\u001b[0;34m[\u001b[0m\u001b[0mdf_ctr_cum\u001b[0m\u001b[0;34m[\u001b[0m\u001b[0;34m'category'\u001b[0m\u001b[0;34m]\u001b[0m\u001b[0;34m==\u001b[0m\u001b[0;34m'case'\u001b[0m\u001b[0;34m]\u001b[0m\u001b[0;34m.\u001b[0m\u001b[0miloc\u001b[0m\u001b[0;34m[\u001b[0m\u001b[0;34m-\u001b[0m\u001b[0mn_days\u001b[0m\u001b[0;34m:\u001b[0m\u001b[0;34m]\u001b[0m\u001b[0;34m[\u001b[0m\u001b[0mstr_date\u001b[0m\u001b[0;34m]\u001b[0m\u001b[0;34m,\u001b[0m \u001b[0mformat\u001b[0m\u001b[0;34m=\u001b[0m\u001b[0;34m'%Y/%m/%d'\u001b[0m\u001b[0;34m)\u001b[0m\u001b[0;34m)\u001b[0m\u001b[0;34m\u001b[0m\u001b[0;34m\u001b[0m\u001b[0m\n\u001b[0m\u001b[1;32m      3\u001b[0m \u001b[0mX\u001b[0m \u001b[0;34m=\u001b[0m \u001b[0mX\u001b[0m\u001b[0;34m.\u001b[0m\u001b[0mto_numpy\u001b[0m\u001b[0;34m(\u001b[0m\u001b[0;34m)\u001b[0m\u001b[0;34m.\u001b[0m\u001b[0mreshape\u001b[0m\u001b[0;34m(\u001b[0m\u001b[0;34m-\u001b[0m\u001b[0;36m1\u001b[0m\u001b[0;34m,\u001b[0m\u001b[0;36m1\u001b[0m\u001b[0;34m)\u001b[0m\u001b[0;34m\u001b[0m\u001b[0;34m\u001b[0m\u001b[0m\n\u001b[1;32m      4\u001b[0m \u001b[0;31m# dep. var\u001b[0m\u001b[0;34m\u001b[0m\u001b[0;34m\u001b[0m\u001b[0;34m\u001b[0m\u001b[0m\n\u001b[1;32m      5\u001b[0m \u001b[0my\u001b[0m \u001b[0;34m=\u001b[0m \u001b[0mdf_ctr_cum\u001b[0m\u001b[0;34m.\u001b[0m\u001b[0mloc\u001b[0m\u001b[0;34m[\u001b[0m\u001b[0mdf_ctr_cum\u001b[0m\u001b[0;34m[\u001b[0m\u001b[0;34m'category'\u001b[0m\u001b[0;34m]\u001b[0m\u001b[0;34m==\u001b[0m\u001b[0;34m'case'\u001b[0m\u001b[0;34m]\u001b[0m\u001b[0;34m.\u001b[0m\u001b[0miloc\u001b[0m\u001b[0;34m[\u001b[0m\u001b[0;34m-\u001b[0m\u001b[0mn_days\u001b[0m\u001b[0;34m:\u001b[0m\u001b[0;34m]\u001b[0m\u001b[0;34m[\u001b[0m\u001b[0;34m'Number'\u001b[0m\u001b[0;34m]\u001b[0m\u001b[0;34m\u001b[0m\u001b[0;34m\u001b[0m\u001b[0m\n",
      "\u001b[0;31mNameError\u001b[0m: name 'n_days' is not defined"
     ]
    }
   ],
   "source": [
    "# indep. var\n",
    "X = pd.to_numeric(pd.to_datetime(df_ctr_cum.loc[df_ctr_cum['category']=='case'].iloc[-n_days:][str_date], format='%Y/%m/%d'))\n",
    "X = X.to_numpy().reshape(-1,1)\n",
    "# dep. var\n",
    "y = df_ctr_cum.loc[df_ctr_cum['category']=='case'].iloc[-n_days:]['Number']\n",
    "y = y.to_numpy().reshape(-1,1)"
   ]
  },
  {
   "cell_type": "markdown",
   "metadata": {},
   "source": [
    "**Model**<br>\n",
    "Initialize model and do training. Since the spread of a virus is (within a limited time frame) usually an exponential process, we train a linear regression model predicting the logarithm of the number of cases."
   ]
  },
  {
   "cell_type": "code",
   "execution_count": null,
   "metadata": {},
   "outputs": [],
   "source": [
    "from sklearn.linear_model import LinearRegression\n",
    "from sklearn.metrics import mean_squared_error\n",
    "\n",
    "lr = LinearRegression()\n",
    "lr.fit(X,np.log(y))\n",
    "\n",
    "print('Model fitted.')\n",
    "print('Training error is {:0.2f}.'.format(mean_squared_error(y,np.exp(lr.predict(X)))))"
   ]
  },
  {
   "cell_type": "markdown",
   "metadata": {},
   "source": [
    "We quickly compare predictions and truth visually."
   ]
  },
  {
   "cell_type": "code",
   "execution_count": null,
   "metadata": {},
   "outputs": [],
   "source": [
    "plt.plot(X.reshape(-1),y.reshape(-1))\n",
    "plt.plot(X.reshape(-1),y_hat.reshape(-1))\n",
    "plt.title('Regression model for Covid cases')\n",
    "plt.show()"
   ]
  },
  {
   "cell_type": "markdown",
   "metadata": {},
   "source": [
    "**Perform predictions on the next three dates.**"
   ]
  },
  {
   "cell_type": "code",
   "execution_count": null,
   "metadata": {},
   "outputs": [],
   "source": [
    "dates_to_predict = pd.Series([pd.Timestamp.today()\\\n",
    "                        + pd.DateOffset(idx) for idx in [1,2,3]]).dt.normalize()\n",
    "\n",
    "predictions = np.exp(lr.predict(pd.to_numeric(pd.Series(dates_to_predict))\\\n",
    "           .to_numpy().reshape(-1,1)\\\n",
    "          ))\n",
    "\n",
    "pd.DataFrame({'date':dates_to_predict, 'predictions':pd.Series(predictions.reshape(-1))})"
   ]
  },
  {
   "cell_type": "markdown",
   "metadata": {},
   "source": [
    "**Refactor code into function that can be used in the streamlit app.**"
   ]
  },
  {
   "cell_type": "code",
   "execution_count": null,
   "metadata": {},
   "outputs": [],
   "source": [
    "def predict_days(df, n_training, n_ahead, class_to_predict,str_date='date_reported'):\n",
    "    \"\"\"Predict the number of Covid cases/deaths/recoverd via Linear regression\n",
    "    \n",
    "    df (pandas data frame): data frame containing past Covid data\n",
    "    n_training (int): number of recent days used to train linear regression\n",
    "    n_ahead (int): number of days to predict ahead\n",
    "    class_to_predict (str): string indicating whether to predict cases, deaths,\n",
    "    or recovered\n",
    "    \"\"\"\n",
    "    # create training samples\n",
    "    X = pd.to_numeric(\\\n",
    "            pd.to_datetime(df.loc[df['category']==class_to_predict].iloc[-n_days:][str_date],\\\n",
    "                            format='%Y/%m/%d'))\n",
    "    #print(X)\n",
    "    X = X.to_numpy().reshape(-1,1)\n",
    "\n",
    "    # create training ground truth\n",
    "    y = df.loc[df['category']==class_to_predict].iloc[-n_days:]['Number']\n",
    "    y = y.to_numpy().reshape(-1,1)\n",
    "    # fit linear regression based on log of y\n",
    "    lr.fit(X,np.log(y))\n",
    "    # dates to predict\n",
    "    dates_to_predict = pd.Series([pd.Timestamp.today()\\\n",
    "                        + pd.DateOffset(idx) for idx in \\\n",
    "                                  list(np.linspace(1,n_ahead,n_ahead).astype(int))]).dt.normalize()\n",
    "    #print(dates_to_predict)\n",
    "    predictions = np.exp(lr.predict(pd.to_numeric(pd.Series(dates_to_predict))\\\n",
    "           .to_numpy().reshape(-1,1)\\\n",
    "          ))\n",
    "    df_predicted = pd.DataFrame({'date':dates_to_predict, \\\n",
    "                         'predictions':pd.Series(predictions.reshape(-1))})\n",
    "    df_predicted['category'] = class_to_predict\n",
    "    df_predicted['predictions'] =  df_predicted['predictions'].apply(np.round).astype(int)\n",
    "    return df_predicted"
   ]
  },
  {
   "cell_type": "markdown",
   "metadata": {},
   "source": [
    "**Plot predictions together with current trend of the past days.**"
   ]
  },
  {
   "cell_type": "code",
   "execution_count": null,
   "metadata": {},
   "outputs": [],
   "source": [
    "import altair as alt\n",
    "_width = 800\n",
    "_height = 300\n",
    "a = alt.Chart(df_ctr_cum[-3*14:])\\\n",
    "            .mark_line(point=True)\\\n",
    "            .encode(x=alt.X('monthdate('+str_date+'):O'),\\\n",
    "                    y=alt.Y('mean(Number):Q'), color='category',\\\n",
    "                            tooltip=['monthdate('+str_date+')',\\\n",
    "                                        'category','Number'])\n",
    "            \n",
    "b = alt.Chart(df_predicted)\\\n",
    "            .mark_point()\\\n",
    "            .encode(x=alt.X('monthdate('+'date'+'):O'),\\\n",
    "                    y=alt.Y('predictions:Q'), color='category',\\\n",
    "                            tooltip=['monthdate('+'date'+')',\\\n",
    "                                        'predictions'])\n",
    "            \n",
    "(a+b).properties(width=_width, height=_height, \\\n",
    "                        title='Log total cases in Germany')"
   ]
  }
 ],
 "metadata": {
  "kernelspec": {
   "display_name": "dsnd",
   "language": "python",
   "name": "dsnd"
  },
  "language_info": {
   "codemirror_mode": {
    "name": "ipython",
    "version": 3
   },
   "file_extension": ".py",
   "mimetype": "text/x-python",
   "name": "python",
   "nbconvert_exporter": "python",
   "pygments_lexer": "ipython3",
   "version": "3.8.2"
  }
 },
 "nbformat": 4,
 "nbformat_minor": 4
}
