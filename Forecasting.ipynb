{
 "cells": [
  {
   "cell_type": "code",
   "execution_count": 1,
   "metadata": {},
   "outputs": [],
   "source": [
    "import pandas as pd\n",
    "import numpy as np\n",
    "import matplotlib.pyplot as plt"
   ]
  },
  {
   "cell_type": "markdown",
   "metadata": {},
   "source": [
    "## Load Sample Data"
   ]
  },
  {
   "cell_type": "code",
   "execution_count": 184,
   "metadata": {},
   "outputs": [],
   "source": [
    "str_c = 'case'\n",
    "str_d = 'death'\n",
    "str_r = 'recovered'\n",
    "str_dstrct = 'district'\n",
    "str_date = 'date_reported'"
   ]
  },
  {
   "cell_type": "code",
   "execution_count": 102,
   "metadata": {},
   "outputs": [
    {
     "data": {
      "text/html": [
       "<div>\n",
       "<style scoped>\n",
       "    .dataframe tbody tr th:only-of-type {\n",
       "        vertical-align: middle;\n",
       "    }\n",
       "\n",
       "    .dataframe tbody tr th {\n",
       "        vertical-align: top;\n",
       "    }\n",
       "\n",
       "    .dataframe thead th {\n",
       "        text-align: right;\n",
       "    }\n",
       "</style>\n",
       "<table border=\"1\" class=\"dataframe\">\n",
       "  <thead>\n",
       "    <tr style=\"text-align: right;\">\n",
       "      <th></th>\n",
       "      <th>date_reported</th>\n",
       "      <th>category</th>\n",
       "      <th>Number</th>\n",
       "    </tr>\n",
       "  </thead>\n",
       "  <tbody>\n",
       "    <tr>\n",
       "      <th>0</th>\n",
       "      <td>2020-01-28</td>\n",
       "      <td>case</td>\n",
       "      <td>4</td>\n",
       "    </tr>\n",
       "    <tr>\n",
       "      <th>1</th>\n",
       "      <td>2020-01-28</td>\n",
       "      <td>recovered</td>\n",
       "      <td>4</td>\n",
       "    </tr>\n",
       "    <tr>\n",
       "      <th>2</th>\n",
       "      <td>2020-01-29</td>\n",
       "      <td>case</td>\n",
       "      <td>6</td>\n",
       "    </tr>\n",
       "    <tr>\n",
       "      <th>3</th>\n",
       "      <td>2020-01-29</td>\n",
       "      <td>recovered</td>\n",
       "      <td>6</td>\n",
       "    </tr>\n",
       "    <tr>\n",
       "      <th>4</th>\n",
       "      <td>2020-01-31</td>\n",
       "      <td>case</td>\n",
       "      <td>9</td>\n",
       "    </tr>\n",
       "    <tr>\n",
       "      <th>...</th>\n",
       "      <td>...</td>\n",
       "      <td>...</td>\n",
       "      <td>...</td>\n",
       "    </tr>\n",
       "    <tr>\n",
       "      <th>327</th>\n",
       "      <td>2020-06-08</td>\n",
       "      <td>case</td>\n",
       "      <td>184672</td>\n",
       "    </tr>\n",
       "    <tr>\n",
       "      <th>328</th>\n",
       "      <td>2020-06-08</td>\n",
       "      <td>death</td>\n",
       "      <td>8729</td>\n",
       "    </tr>\n",
       "    <tr>\n",
       "      <th>329</th>\n",
       "      <td>2020-06-08</td>\n",
       "      <td>recovered</td>\n",
       "      <td>170717</td>\n",
       "    </tr>\n",
       "    <tr>\n",
       "      <th>330</th>\n",
       "      <td>2020-06-09</td>\n",
       "      <td>case</td>\n",
       "      <td>184861</td>\n",
       "    </tr>\n",
       "    <tr>\n",
       "      <th>331</th>\n",
       "      <td>2020-06-09</td>\n",
       "      <td>recovered</td>\n",
       "      <td>170721</td>\n",
       "    </tr>\n",
       "  </tbody>\n",
       "</table>\n",
       "<p>332 rows × 3 columns</p>\n",
       "</div>"
      ],
      "text/plain": [
       "    date_reported   category  Number\n",
       "0      2020-01-28       case       4\n",
       "1      2020-01-28  recovered       4\n",
       "2      2020-01-29       case       6\n",
       "3      2020-01-29  recovered       6\n",
       "4      2020-01-31       case       9\n",
       "..            ...        ...     ...\n",
       "327    2020-06-08       case  184672\n",
       "328    2020-06-08      death    8729\n",
       "329    2020-06-08  recovered  170717\n",
       "330    2020-06-09       case  184861\n",
       "331    2020-06-09  recovered  170721\n",
       "\n",
       "[332 rows x 3 columns]"
      ]
     },
     "execution_count": 102,
     "metadata": {},
     "output_type": "execute_result"
    }
   ],
   "source": [
    "df_ctr_cum = pd.read_csv('df_ctr_cum.csv')\n",
    "df_ctr_cum"
   ]
  },
  {
   "cell_type": "markdown",
   "metadata": {},
   "source": [
    "**Set prediction time frames**"
   ]
  },
  {
   "cell_type": "code",
   "execution_count": 70,
   "metadata": {},
   "outputs": [],
   "source": [
    "n_training = 14\n",
    "n_predict_ahead = 3"
   ]
  },
  {
   "cell_type": "markdown",
   "metadata": {},
   "source": [
    "**Define Training Data**"
   ]
  },
  {
   "cell_type": "code",
   "execution_count": 231,
   "metadata": {},
   "outputs": [],
   "source": [
    "# indep. var\n",
    "X = pd.to_numeric(pd.to_datetime(df_ctr_cum.loc[df_ctr_cum['category']=='case'].iloc[-n_days:][str_date], format='%Y/%m/%d'))\n",
    "X = X.to_numpy().reshape(-1,1)\n",
    "# dep. var\n",
    "y = df_ctr_cum.loc[df_ctr_cum['category']=='case'].iloc[-n_days:]['Number']\n",
    "y = y.to_numpy().reshape(-1,1)"
   ]
  },
  {
   "cell_type": "markdown",
   "metadata": {},
   "source": [
    "**Model**<br>\n",
    "Initialize model and do training. Since the spread of a virus is (within a limited time frame) usually an exponential process, we train a linear regression model predicting the logarithm of the number of cases."
   ]
  },
  {
   "cell_type": "code",
   "execution_count": 233,
   "metadata": {},
   "outputs": [
    {
     "name": "stdout",
     "output_type": "stream",
     "text": [
      "Model fitted.\n",
      "Training error is 6.69.\n"
     ]
    }
   ],
   "source": [
    "from sklearn.linear_model import LinearRegression\n",
    "from sklearn.metrics import mean_squared_error\n",
    "\n",
    "lr = LinearRegression()\n",
    "lr.fit(X,np.log(y))\n",
    "\n",
    "print('Model fitted.')\n",
    "print('Training error is {:0.2f}.'.format(mean_squared_error(y,np.exp(lr.predict(X)))))"
   ]
  },
  {
   "cell_type": "markdown",
   "metadata": {},
   "source": [
    "We quickly compare predictions and truth visually."
   ]
  },
  {
   "cell_type": "code",
   "execution_count": 236,
   "metadata": {},
   "outputs": [
    {
     "data": {
      "image/png": "[encoded data removed]",
      "text/plain": [
       "<Figure size 432x288 with 1 Axes>"
      ]
     },
     "metadata": {
      "needs_background": "light"
     },
     "output_type": "display_data"
    }
   ],
   "source": [
    "plt.plot(X.reshape(-1),y.reshape(-1))\n",
    "plt.plot(X.reshape(-1),y_hat.reshape(-1))\n",
    "plt.title('Regression model for Covid cases')\n",
    "plt.show()"
   ]
  },
  {
   "cell_type": "markdown",
   "metadata": {},
   "source": [
    "**Perform predictions on the next three dates.**"
   ]
  },
  {
   "cell_type": "code",
   "execution_count": 209,
   "metadata": {},
   "outputs": [
    {
     "data": {
      "text/html": [
       "<div>\n",
       "<style scoped>\n",
       "    .dataframe tbody tr th:only-of-type {\n",
       "        vertical-align: middle;\n",
       "    }\n",
       "\n",
       "    .dataframe tbody tr th {\n",
       "        vertical-align: top;\n",
       "    }\n",
       "\n",
       "    .dataframe thead th {\n",
       "        text-align: right;\n",
       "    }\n",
       "</style>\n",
       "<table border=\"1\" class=\"dataframe\">\n",
       "  <thead>\n",
       "    <tr style=\"text-align: right;\">\n",
       "      <th></th>\n",
       "      <th>date</th>\n",
       "      <th>predictions</th>\n",
       "    </tr>\n",
       "  </thead>\n",
       "  <tbody>\n",
       "    <tr>\n",
       "      <th>0</th>\n",
       "      <td>2020-06-14</td>\n",
       "      <td>8746.692484</td>\n",
       "    </tr>\n",
       "    <tr>\n",
       "      <th>1</th>\n",
       "      <td>2020-06-15</td>\n",
       "      <td>8749.579225</td>\n",
       "    </tr>\n",
       "    <tr>\n",
       "      <th>2</th>\n",
       "      <td>2020-06-16</td>\n",
       "      <td>8752.466919</td>\n",
       "    </tr>\n",
       "  </tbody>\n",
       "</table>\n",
       "</div>"
      ],
      "text/plain": [
       "        date  predictions\n",
       "0 2020-06-14  8746.692484\n",
       "1 2020-06-15  8749.579225\n",
       "2 2020-06-16  8752.466919"
      ]
     },
     "execution_count": 209,
     "metadata": {},
     "output_type": "execute_result"
    }
   ],
   "source": [
    "dates_to_predict = pd.Series([pd.Timestamp.today()\\\n",
    "                        + pd.DateOffset(idx) for idx in [1,2,3]]).dt.normalize()\n",
    "\n",
    "predictions = np.exp(lr.predict(pd.to_numeric(pd.Series(dates_to_predict))\\\n",
    "           .to_numpy().reshape(-1,1)\\\n",
    "          ))\n",
    "\n",
    "pd.DataFrame({'date':dates_to_predict, 'predictions':pd.Series(predictions.reshape(-1))})"
   ]
  },
  {
   "cell_type": "markdown",
   "metadata": {},
   "source": [
    "**Refactor code into function that can be used in the streamlit app.**"
   ]
  },
  {
   "cell_type": "code",
   "execution_count": 198,
   "metadata": {},
   "outputs": [],
   "source": [
    "def predict_days(df, n_training, n_ahead, class_to_predict,str_date='date_reported'):\n",
    "    \"\"\"Predict the number of Covid cases/deaths/recoverd via Linear regression\n",
    "    \n",
    "    df (pandas data frame): data frame containing past Covid data\n",
    "    n_training (int): number of recent days used to train linear regression\n",
    "    n_ahead (int): number of days to predict ahead\n",
    "    class_to_predict (str): string indicating whether to predict cases, deaths,\n",
    "    or recovered\n",
    "    \"\"\"\n",
    "    # create training samples\n",
    "    X = pd.to_numeric(\\\n",
    "            pd.to_datetime(df.loc[df['category']==class_to_predict].iloc[-n_days:][str_date],\\\n",
    "                            format='%Y/%m/%d'))\n",
    "    #print(X)\n",
    "    X = X.to_numpy().reshape(-1,1)\n",
    "\n",
    "    # create training ground truth\n",
    "    y = df.loc[df['category']==class_to_predict].iloc[-n_days:]['Number']\n",
    "    y = y.to_numpy().reshape(-1,1)\n",
    "    # fit linear regression based on log of y\n",
    "    lr.fit(X,np.log(y))\n",
    "    # dates to predict\n",
    "    dates_to_predict = pd.Series([pd.Timestamp.today()\\\n",
    "                        + pd.DateOffset(idx) for idx in \\\n",
    "                                  list(np.linspace(1,n_ahead,n_ahead).astype(int))]).dt.normalize()\n",
    "    #print(dates_to_predict)\n",
    "    predictions = np.exp(lr.predict(pd.to_numeric(pd.Series(dates_to_predict))\\\n",
    "           .to_numpy().reshape(-1,1)\\\n",
    "          ))\n",
    "    df_predicted = pd.DataFrame({'date':dates_to_predict, \\\n",
    "                         'predictions':pd.Series(predictions.reshape(-1))})\n",
    "    df_predicted['category'] = class_to_predict\n",
    "    df_predicted['predictions'] =  df_predicted['predictions'].apply(np.round).astype(int)\n",
    "    return df_predicted"
   ]
  },
  {
   "cell_type": "markdown",
   "metadata": {},
   "source": [
    "** Plot predictions together with current trend of the past days.**"
   ]
  },
  {
   "cell_type": "code",
   "execution_count": 238,
   "metadata": {},
   "outputs": [
    {
     "data": {
      "text/html": [
       "\n",
       "<div id=\"altair-viz-fffe00231e28465cb8c77d344c86b4bd\"></div>\n",
       "<script type=\"text/javascript\">\n",
       "  (function(spec, embedOpt){\n",
       "    let outputDiv = document.currentScript.previousElementSibling;\n",
       "    if (outputDiv.id !== \"altair-viz-fffe00231e28465cb8c77d344c86b4bd\") {\n",
       "      outputDiv = document.getElementById(\"altair-viz-fffe00231e28465cb8c77d344c86b4bd\");\n",
       "    }\n",
       "    const paths = {\n",
       "      \"vega\": \"https://cdn.jsdelivr.net/npm//vega@5?noext\",\n",
       "      \"vega-lib\": \"https://cdn.jsdelivr.net/npm//vega-lib?noext\",\n",
       "      \"vega-lite\": \"https://cdn.jsdelivr.net/npm//vega-lite@4.8.1?noext\",\n",
       "      \"vega-embed\": \"https://cdn.jsdelivr.net/npm//vega-embed@6?noext\",\n",
       "    };\n",
       "\n",
       "    function loadScript(lib) {\n",
       "      return new Promise(function(resolve, reject) {\n",
       "        var s = document.createElement('script');\n",
       "        s.src = paths[lib];\n",
       "        s.async = true;\n",
       "        s.onload = () => resolve(paths[lib]);\n",
       "        s.onerror = () => reject(`Error loading script: ${paths[lib]}`);\n",
       "        document.getElementsByTagName(\"head\")[0].appendChild(s);\n",
       "      });\n",
       "    }\n",
       "\n",
       "    function showError(err) {\n",
       "      outputDiv.innerHTML = `<div class=\"error\" style=\"color:red;\">${err}</div>`;\n",
       "      throw err;\n",
       "    }\n",
       "\n",
       "    function displayChart(vegaEmbed) {\n",
       "      vegaEmbed(outputDiv, spec, embedOpt)\n",
       "        .catch(err => showError(`Javascript Error: ${err.message}<br>This usually means there's a typo in your chart specification. See the javascript console for the full traceback.`));\n",
       "    }\n",
       "\n",
       "    if(typeof define === \"function\" && define.amd) {\n",
       "      requirejs.config({paths});\n",
       "      require([\"vega-embed\"], displayChart, err => showError(`Error loading script: ${err.message}`));\n",
       "    } else if (typeof vegaEmbed === \"function\") {\n",
       "      displayChart(vegaEmbed);\n",
       "    } else {\n",
       "      loadScript(\"vega\")\n",
       "        .then(() => loadScript(\"vega-lite\"))\n",
       "        .then(() => loadScript(\"vega-embed\"))\n",
       "        .catch(showError)\n",
       "        .then(() => displayChart(vegaEmbed));\n",
       "    }\n",
       "  })({\"config\": {\"view\": {\"continuousWidth\": 400, \"continuousHeight\": 300}}, \"layer\": [{\"data\": {\"name\": \"data-bfbdeebbb2796f5e749b4507fe37daa4\"}, \"mark\": {\"type\": \"line\", \"point\": true}, \"encoding\": {\"color\": {\"type\": \"nominal\", \"field\": \"category\"}, \"tooltip\": [{\"type\": \"temporal\", \"field\": \"date_reported\", \"timeUnit\": \"monthdate\"}, {\"type\": \"nominal\", \"field\": \"category\"}, {\"type\": \"quantitative\", \"field\": \"Number\"}], \"x\": {\"type\": \"ordinal\", \"field\": \"date_reported\", \"timeUnit\": \"monthdate\"}, \"y\": {\"type\": \"quantitative\", \"aggregate\": \"mean\", \"field\": \"Number\"}}}, {\"data\": {\"name\": \"data-bc4450eda540a8786c7f3c95bad57c97\"}, \"mark\": \"point\", \"encoding\": {\"color\": {\"type\": \"nominal\", \"field\": \"category\"}, \"tooltip\": [{\"type\": \"temporal\", \"field\": \"date\", \"timeUnit\": \"monthdate\"}, {\"type\": \"quantitative\", \"field\": \"predictions\"}], \"x\": {\"type\": \"ordinal\", \"field\": \"date\", \"timeUnit\": \"monthdate\"}, \"y\": {\"type\": \"quantitative\", \"field\": \"predictions\"}}}], \"height\": 300, \"title\": \"Log total cases in Germany\", \"width\": 800, \"$schema\": \"https://vega.github.io/schema/vega-lite/v4.8.1.json\", \"datasets\": {\"data-bfbdeebbb2796f5e749b4507fe37daa4\": [{\"date_reported\": \"2020-05-26\", \"category\": \"death\", \"Number\": 8695}, {\"date_reported\": \"2020-05-26\", \"category\": \"recovered\", \"Number\": 169545}, {\"date_reported\": \"2020-05-27\", \"category\": \"case\", \"Number\": 180550}, {\"date_reported\": \"2020-05-27\", \"category\": \"death\", \"Number\": 8703}, {\"date_reported\": \"2020-05-27\", \"category\": \"recovered\", \"Number\": 170006}, {\"date_reported\": \"2020-05-28\", \"category\": \"case\", \"Number\": 181075}, {\"date_reported\": \"2020-05-28\", \"category\": \"death\", \"Number\": 8706}, {\"date_reported\": \"2020-05-28\", \"category\": \"recovered\", \"Number\": 170221}, {\"date_reported\": \"2020-05-29\", \"category\": \"case\", \"Number\": 181522}, {\"date_reported\": \"2020-05-29\", \"category\": \"death\", \"Number\": 8710}, {\"date_reported\": \"2020-05-29\", \"category\": \"recovered\", \"Number\": 170376}, {\"date_reported\": \"2020-05-30\", \"category\": \"case\", \"Number\": 181892}, {\"date_reported\": \"2020-05-30\", \"category\": \"death\", \"Number\": 8712}, {\"date_reported\": \"2020-05-30\", \"category\": \"recovered\", \"Number\": 170473}, {\"date_reported\": \"2020-05-31\", \"category\": \"case\", \"Number\": 182073}, {\"date_reported\": \"2020-05-31\", \"category\": \"death\", \"Number\": 8713}, {\"date_reported\": \"2020-05-31\", \"category\": \"recovered\", \"Number\": 170514}, {\"date_reported\": \"2020-06-01\", \"category\": \"case\", \"Number\": 182211}, {\"date_reported\": \"2020-06-01\", \"category\": \"death\", \"Number\": 8714}, {\"date_reported\": \"2020-06-01\", \"category\": \"recovered\", \"Number\": 170532}, {\"date_reported\": \"2020-06-02\", \"category\": \"case\", \"Number\": 182512}, {\"date_reported\": \"2020-06-02\", \"category\": \"death\", \"Number\": 8717}, {\"date_reported\": \"2020-06-02\", \"category\": \"recovered\", \"Number\": 170589}, {\"date_reported\": \"2020-06-03\", \"category\": \"case\", \"Number\": 183003}, {\"date_reported\": \"2020-06-03\", \"category\": \"death\", \"Number\": 8722}, {\"date_reported\": \"2020-06-03\", \"category\": \"recovered\", \"Number\": 170633}, {\"date_reported\": \"2020-06-04\", \"category\": \"case\", \"Number\": 183529}, {\"date_reported\": \"2020-06-04\", \"category\": \"death\", \"Number\": 8725}, {\"date_reported\": \"2020-06-04\", \"category\": \"recovered\", \"Number\": 170670}, {\"date_reported\": \"2020-06-05\", \"category\": \"case\", \"Number\": 183969}, {\"date_reported\": \"2020-06-05\", \"category\": \"death\", \"Number\": 8727}, {\"date_reported\": \"2020-06-05\", \"category\": \"recovered\", \"Number\": 170690}, {\"date_reported\": \"2020-06-06\", \"category\": \"case\", \"Number\": 184250}, {\"date_reported\": \"2020-06-06\", \"category\": \"death\", \"Number\": 8728}, {\"date_reported\": \"2020-06-06\", \"category\": \"recovered\", \"Number\": 170699}, {\"date_reported\": \"2020-06-07\", \"category\": \"case\", \"Number\": 184411}, {\"date_reported\": \"2020-06-07\", \"category\": \"recovered\", \"Number\": 170708}, {\"date_reported\": \"2020-06-08\", \"category\": \"case\", \"Number\": 184672}, {\"date_reported\": \"2020-06-08\", \"category\": \"death\", \"Number\": 8729}, {\"date_reported\": \"2020-06-08\", \"category\": \"recovered\", \"Number\": 170717}, {\"date_reported\": \"2020-06-09\", \"category\": \"case\", \"Number\": 184861}, {\"date_reported\": \"2020-06-09\", \"category\": \"recovered\", \"Number\": 170721}], \"data-bc4450eda540a8786c7f3c95bad57c97\": [{\"date\": \"2020-06-14T00:00:00\", \"predictions\": 186774, \"category\": \"case\"}, {\"date\": \"2020-06-15T00:00:00\", \"predictions\": 187116, \"category\": \"case\"}, {\"date\": \"2020-06-16T00:00:00\", \"predictions\": 187458, \"category\": \"case\"}, {\"date\": \"2020-06-14T00:00:00\", \"predictions\": 8751, \"category\": \"death\"}, {\"date\": \"2020-06-15T00:00:00\", \"predictions\": 8754, \"category\": \"death\"}, {\"date\": \"2020-06-16T00:00:00\", \"predictions\": 8756, \"category\": \"death\"}, {\"date\": \"2020-06-14T00:00:00\", \"predictions\": 171062, \"category\": \"recovered\"}, {\"date\": \"2020-06-15T00:00:00\", \"predictions\": 171108, \"category\": \"recovered\"}, {\"date\": \"2020-06-16T00:00:00\", \"predictions\": 171153, \"category\": \"recovered\"}]}}, {\"mode\": \"vega-lite\"});\n",
       "</script>"
      ],
      "text/plain": [
       "alt.LayerChart(...)"
      ]
     },
     "execution_count": 238,
     "metadata": {},
     "output_type": "execute_result"
    }
   ],
   "source": [
    "import altair as alt\n",
    "_width = 800\n",
    "_height = 300\n",
    "a = alt.Chart(df_ctr_cum[-3*14:])\\\n",
    "            .mark_line(point=True)\\\n",
    "            .encode(x=alt.X('monthdate('+str_date+'):O'),\\\n",
    "                    y=alt.Y('mean(Number):Q'), color='category',\\\n",
    "                            tooltip=['monthdate('+str_date+')',\\\n",
    "                                        'category','Number'])\n",
    "            \n",
    "b = alt.Chart(df_predicted)\\\n",
    "            .mark_point()\\\n",
    "            .encode(x=alt.X('monthdate('+'date'+'):O'),\\\n",
    "                    y=alt.Y('predictions:Q'), color='category',\\\n",
    "                            tooltip=['monthdate('+'date'+')',\\\n",
    "                                        'predictions'])\n",
    "            \n",
    "(a+b).properties(width=_width, height=_height, \\\n",
    "                        title='Log total cases in Germany')"
   ]
  }
 ],
 "metadata": {
  "kernelspec": {
   "display_name": "dsnd",
   "language": "python",
   "name": "dsnd"
  },
  "language_info": {
   "codemirror_mode": {
    "name": "ipython",
    "version": 3
   },
   "file_extension": ".py",
   "mimetype": "text/x-python",
   "name": "python",
   "nbconvert_exporter": "python",
   "pygments_lexer": "ipython3",
   "version": "3.8.2"
  }
 },
 "nbformat": 4,
 "nbformat_minor": 4
}
