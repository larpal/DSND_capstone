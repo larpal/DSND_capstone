{
 "cells": [
  {
   "cell_type": "code",
   "execution_count": 3,
   "metadata": {},
   "outputs": [],
   "source": [
    "import pandas as pd\n",
    "import altair as alt\n",
    "import numpy as np\n",
    "\n",
    "def read_data_fix_date(file_name):\n",
    "    df = pd.read_csv(file_name)\n",
    "    df['Meldedatum'] = pd.to_datetime(df['Meldedatum'], format='%Y/%m/%d')\n",
    "    return df\n",
    "\n",
    "df_cases = read_data_fix_date('data_cases.csv')\n",
    "df_deaths = read_data_fix_date('data_deaths.csv')\n",
    "df_recovered = read_data_fix_date('data_recovered.csv')\n",
    "df_cases_rolling = read_data_fix_date('data_cases_rolling.csv')\n",
    "# country\n",
    "df_ctr = read_data_fix_date('data_ctr_long.csv')\n",
    "df_ctr_cum = read_data_fix_date('data_ctr_cum_long.csv')\n",
    "# states\n",
    "df_sta = read_data_fix_date('data_sta_long.csv')\n",
    "df_sta_cum = read_data_fix_date('data_sta_cum_long.csv')\n",
    "# districts\n",
    "df_lkr = read_data_fix_date('data_lkr_long.csv')\n",
    "df_lkr_cum = read_data_fix_date('data_lkr_cum_long.csv')\n",
    "\n",
    "\n",
    "df_stats = pd.read_csv('data_stats.csv')\n",
    "df_death_stats = pd.read_csv('data_death_stats.csv')\n",
    "df_population = pd.read_csv('data_population.csv')\n"
   ]
  },
  {
   "cell_type": "code",
   "execution_count": 4,
   "metadata": {},
   "outputs": [
    {
     "data": {
      "text/html": [
       "<div>\n",
       "<style scoped>\n",
       "    .dataframe tbody tr th:only-of-type {\n",
       "        vertical-align: middle;\n",
       "    }\n",
       "\n",
       "    .dataframe tbody tr th {\n",
       "        vertical-align: top;\n",
       "    }\n",
       "\n",
       "    .dataframe thead th {\n",
       "        text-align: right;\n",
       "    }\n",
       "</style>\n",
       "<table border=\"1\" class=\"dataframe\">\n",
       "  <thead>\n",
       "    <tr style=\"text-align: right;\">\n",
       "      <th></th>\n",
       "      <th></th>\n",
       "      <th>Cases</th>\n",
       "      <th>Recovered</th>\n",
       "      <th>Deaths</th>\n",
       "      <th>Active</th>\n",
       "    </tr>\n",
       "  </thead>\n",
       "  <tbody>\n",
       "    <tr>\n",
       "      <th>0</th>\n",
       "      <td>Total</td>\n",
       "      <td>173772</td>\n",
       "      <td>152608</td>\n",
       "      <td>7881</td>\n",
       "      <td>13283</td>\n",
       "    </tr>\n",
       "    <tr>\n",
       "      <th>1</th>\n",
       "      <td>Today</td>\n",
       "      <td>620</td>\n",
       "      <td>906</td>\n",
       "      <td>57</td>\n",
       "      <td>-343</td>\n",
       "    </tr>\n",
       "  </tbody>\n",
       "</table>\n",
       "</div>"
      ],
      "text/plain": [
       "           Cases  Recovered  Deaths  Active\n",
       "0  Total  173772     152608    7881   13283\n",
       "1  Today     620        906      57    -343"
      ]
     },
     "execution_count": 4,
     "metadata": {},
     "output_type": "execute_result"
    }
   ],
   "source": [
    "df_stats"
   ]
  },
  {
   "cell_type": "code",
   "execution_count": 17,
   "metadata": {},
   "outputs": [
    {
     "data": {
      "text/html": [
       "\n",
       "<div id=\"altair-viz-a6cd8bfeef7a4bd5bf8c98512947f358\"></div>\n",
       "<script type=\"text/javascript\">\n",
       "  (function(spec, embedOpt){\n",
       "    let outputDiv = document.currentScript.previousElementSibling;\n",
       "    if (outputDiv.id !== \"altair-viz-a6cd8bfeef7a4bd5bf8c98512947f358\") {\n",
       "      outputDiv = document.getElementById(\"altair-viz-a6cd8bfeef7a4bd5bf8c98512947f358\");\n",
       "    }\n",
       "    const paths = {\n",
       "      \"vega\": \"https://cdn.jsdelivr.net/npm//vega@5?noext\",\n",
       "      \"vega-lib\": \"https://cdn.jsdelivr.net/npm//vega-lib?noext\",\n",
       "      \"vega-lite\": \"https://cdn.jsdelivr.net/npm//vega-lite@4.8.1?noext\",\n",
       "      \"vega-embed\": \"https://cdn.jsdelivr.net/npm//vega-embed@6?noext\",\n",
       "    };\n",
       "\n",
       "    function loadScript(lib) {\n",
       "      return new Promise(function(resolve, reject) {\n",
       "        var s = document.createElement('script');\n",
       "        s.src = paths[lib];\n",
       "        s.async = true;\n",
       "        s.onload = () => resolve(paths[lib]);\n",
       "        s.onerror = () => reject(`Error loading script: ${paths[lib]}`);\n",
       "        document.getElementsByTagName(\"head\")[0].appendChild(s);\n",
       "      });\n",
       "    }\n",
       "\n",
       "    function showError(err) {\n",
       "      outputDiv.innerHTML = `<div class=\"error\" style=\"color:red;\">${err}</div>`;\n",
       "      throw err;\n",
       "    }\n",
       "\n",
       "    function displayChart(vegaEmbed) {\n",
       "      vegaEmbed(outputDiv, spec, embedOpt)\n",
       "        .catch(err => showError(`Javascript Error: ${err.message}<br>This usually means there's a typo in your chart specification. See the javascript console for the full traceback.`));\n",
       "    }\n",
       "\n",
       "    if(typeof define === \"function\" && define.amd) {\n",
       "      requirejs.config({paths});\n",
       "      require([\"vega-embed\"], displayChart, err => showError(`Error loading script: ${err.message}`));\n",
       "    } else if (typeof vegaEmbed === \"function\") {\n",
       "      displayChart(vegaEmbed);\n",
       "    } else {\n",
       "      loadScript(\"vega\")\n",
       "        .then(() => loadScript(\"vega-lite\"))\n",
       "        .then(() => loadScript(\"vega-embed\"))\n",
       "        .catch(showError)\n",
       "        .then(() => displayChart(vegaEmbed));\n",
       "    }\n",
       "  })({\"config\": {\"view\": {\"continuousWidth\": 400, \"continuousHeight\": 300}}, \"data\": {\"name\": \"data-67c6bd785ecca6b70163880f9ea67229\"}, \"mark\": \"bar\", \"encoding\": {\"tooltip\": [{\"type\": \"nominal\", \"field\": \"Age\"}, {\"type\": \"quantitative\", \"field\": \"Count\"}], \"x\": {\"type\": \"nominal\", \"field\": \"Age\"}, \"y\": {\"type\": \"quantitative\", \"field\": \"Count\", \"scale\": {\"type\": \"log\"}}}, \"height\": 200.0, \"title\": \"Log Number of Deaths in Different Age Groups\", \"width\": 533.3333333333334, \"$schema\": \"https://vega.github.io/schema/vega-lite/v4.8.1.json\", \"datasets\": {\"data-67c6bd785ecca6b70163880f9ea67229\": [{\"Age\": \"A00-A04\", \"Count\": 1}, {\"Age\": \"A15-A34\", \"Count\": 16}, {\"Age\": \"A35-A59\", \"Count\": 336}, {\"Age\": \"A60-A79\", \"Count\": 2425}, {\"Age\": \"A80+\", \"Count\": 4553}]}}, {\"mode\": \"vega-lite\"});\n",
       "</script>"
      ],
      "text/plain": [
       "alt.Chart(...)"
      ]
     },
     "execution_count": 17,
     "metadata": {},
     "output_type": "execute_result"
    }
   ],
   "source": [
    "_width = 800\n",
    "_height = 400\n",
    "alt.Chart(df_death_stats).mark_bar()\\\n",
    "    .encode(x=alt.X('Age'),\\\n",
    "            y=alt.Y('Count',scale=alt.Scale(type='log')),\\\n",
    "            tooltip = ['Age', 'Count']).\\\n",
    "    properties(width = _width*2/3, height = _height/2, title='Log Number of Deaths in Different Age Groups')"
   ]
  },
  {
   "cell_type": "code",
   "execution_count": 23,
   "metadata": {},
   "outputs": [
    {
     "data": {
      "text/plain": [
       "'May 16, 2020'"
      ]
     },
     "execution_count": 23,
     "metadata": {},
     "output_type": "execute_result"
    }
   ],
   "source": [
    "pd.Timestamp.today().strftime('%B %d, %Y')"
   ]
  },
  {
   "cell_type": "code",
   "execution_count": null,
   "metadata": {},
   "outputs": [],
   "source": []
  },
  {
   "cell_type": "code",
   "execution_count": null,
   "metadata": {},
   "outputs": [],
   "source": []
  },
  {
   "cell_type": "code",
   "execution_count": null,
   "metadata": {},
   "outputs": [],
   "source": []
  },
  {
   "cell_type": "code",
   "execution_count": null,
   "metadata": {},
   "outputs": [],
   "source": []
  },
  {
   "cell_type": "code",
   "execution_count": 19,
   "metadata": {},
   "outputs": [
    {
     "data": {
      "text/html": [
       "<div>\n",
       "<style scoped>\n",
       "    .dataframe tbody tr th:only-of-type {\n",
       "        vertical-align: middle;\n",
       "    }\n",
       "\n",
       "    .dataframe tbody tr th {\n",
       "        vertical-align: top;\n",
       "    }\n",
       "\n",
       "    .dataframe thead th {\n",
       "        text-align: right;\n",
       "    }\n",
       "</style>\n",
       "<table border=\"1\" class=\"dataframe\">\n",
       "  <thead>\n",
       "    <tr style=\"text-align: right;\">\n",
       "      <th></th>\n",
       "      <th>Meldedatum</th>\n",
       "      <th>Bundesland</th>\n",
       "      <th>AnzahlFall</th>\n",
       "    </tr>\n",
       "  </thead>\n",
       "  <tbody>\n",
       "    <tr>\n",
       "      <th>0</th>\n",
       "      <td>2020-01-28</td>\n",
       "      <td>Bayern</td>\n",
       "      <td>2</td>\n",
       "    </tr>\n",
       "    <tr>\n",
       "      <th>1</th>\n",
       "      <td>2020-01-28</td>\n",
       "      <td>Nordrhein-Westfalen</td>\n",
       "      <td>2</td>\n",
       "    </tr>\n",
       "    <tr>\n",
       "      <th>2</th>\n",
       "      <td>2020-01-29</td>\n",
       "      <td>Bayern</td>\n",
       "      <td>2</td>\n",
       "    </tr>\n",
       "    <tr>\n",
       "      <th>3</th>\n",
       "      <td>2020-01-31</td>\n",
       "      <td>Bayern</td>\n",
       "      <td>3</td>\n",
       "    </tr>\n",
       "    <tr>\n",
       "      <th>4</th>\n",
       "      <td>2020-02-03</td>\n",
       "      <td>Bayern</td>\n",
       "      <td>1</td>\n",
       "    </tr>\n",
       "    <tr>\n",
       "      <th>...</th>\n",
       "      <td>...</td>\n",
       "      <td>...</td>\n",
       "      <td>...</td>\n",
       "    </tr>\n",
       "    <tr>\n",
       "      <th>1125</th>\n",
       "      <td>2020-05-11</td>\n",
       "      <td>Saarland</td>\n",
       "      <td>1</td>\n",
       "    </tr>\n",
       "    <tr>\n",
       "      <th>1126</th>\n",
       "      <td>2020-05-11</td>\n",
       "      <td>Sachsen</td>\n",
       "      <td>2</td>\n",
       "    </tr>\n",
       "    <tr>\n",
       "      <th>1127</th>\n",
       "      <td>2020-05-11</td>\n",
       "      <td>Sachsen-Anhalt</td>\n",
       "      <td>2</td>\n",
       "    </tr>\n",
       "    <tr>\n",
       "      <th>1128</th>\n",
       "      <td>2020-05-11</td>\n",
       "      <td>Schleswig-Holstein</td>\n",
       "      <td>4</td>\n",
       "    </tr>\n",
       "    <tr>\n",
       "      <th>1129</th>\n",
       "      <td>2020-05-11</td>\n",
       "      <td>Thüringen</td>\n",
       "      <td>9</td>\n",
       "    </tr>\n",
       "  </tbody>\n",
       "</table>\n",
       "<p>1130 rows × 3 columns</p>\n",
       "</div>"
      ],
      "text/plain": [
       "     Meldedatum           Bundesland  AnzahlFall\n",
       "0    2020-01-28               Bayern           2\n",
       "1    2020-01-28  Nordrhein-Westfalen           2\n",
       "2    2020-01-29               Bayern           2\n",
       "3    2020-01-31               Bayern           3\n",
       "4    2020-02-03               Bayern           1\n",
       "...         ...                  ...         ...\n",
       "1125 2020-05-11             Saarland           1\n",
       "1126 2020-05-11              Sachsen           2\n",
       "1127 2020-05-11       Sachsen-Anhalt           2\n",
       "1128 2020-05-11   Schleswig-Holstein           4\n",
       "1129 2020-05-11            Thüringen           9\n",
       "\n",
       "[1130 rows x 3 columns]"
      ]
     },
     "execution_count": 19,
     "metadata": {},
     "output_type": "execute_result"
    }
   ],
   "source": [
    "df_cases.groupby(['Meldedatum','Bundesland']).sum().reset_index()\\\n",
    "                [['Meldedatum','Bundesland','AnzahlFall']]"
   ]
  },
  {
   "cell_type": "code",
   "execution_count": 18,
   "metadata": {},
   "outputs": [
    {
     "ename": "KeyError",
     "evalue": "\"['AnzahlTodesfall'] not in index\"",
     "output_type": "error",
     "traceback": [
      "\u001b[0;31m---------------------------------------------------------------------------\u001b[0m",
      "\u001b[0;31mKeyError\u001b[0m                                  Traceback (most recent call last)",
      "\u001b[0;32m<ipython-input-18-5770adea8be0>\u001b[0m in \u001b[0;36m<module>\u001b[0;34m\u001b[0m\n\u001b[0;32m----> 1\u001b[0;31m \u001b[0mdf_ctr_cases\u001b[0m \u001b[0;34m=\u001b[0m \u001b[0mdf_cases\u001b[0m\u001b[0;34m.\u001b[0m\u001b[0mgroupby\u001b[0m\u001b[0;34m(\u001b[0m\u001b[0;34m[\u001b[0m\u001b[0;34m'Meldedatum'\u001b[0m\u001b[0;34m]\u001b[0m\u001b[0;34m)\u001b[0m\u001b[0;31m\\\u001b[0m\u001b[0;34m\u001b[0m\u001b[0;34m\u001b[0m\u001b[0m\n\u001b[0m\u001b[1;32m      2\u001b[0m                         \u001b[0;34m.\u001b[0m\u001b[0msum\u001b[0m\u001b[0;34m(\u001b[0m\u001b[0;34m)\u001b[0m\u001b[0;34m[\u001b[0m\u001b[0;34m[\u001b[0m\u001b[0;34m'AnzahlFall'\u001b[0m\u001b[0;34m,\u001b[0m\u001b[0;34m'AnzahlTodesfall'\u001b[0m\u001b[0;34m]\u001b[0m\u001b[0;34m]\u001b[0m\u001b[0;34m\u001b[0m\u001b[0;34m\u001b[0m\u001b[0m\n\u001b[1;32m      3\u001b[0m \u001b[0mdf_ctr_cases_long\u001b[0m \u001b[0;34m=\u001b[0m\u001b[0;31m \u001b[0m\u001b[0;31m\\\u001b[0m\u001b[0;34m\u001b[0m\u001b[0;34m\u001b[0m\u001b[0m\n\u001b[1;32m      4\u001b[0m         pd.melt(df_ctr_cases.reset_index(), id_vars=['Meldedatum'],\\\n\u001b[1;32m      5\u001b[0m                 \u001b[0mvalue_vars\u001b[0m \u001b[0;34m=\u001b[0m \u001b[0;34m[\u001b[0m\u001b[0;34m'AnzahlFall'\u001b[0m\u001b[0;34m,\u001b[0m\u001b[0;34m'AnzahlTodesfall'\u001b[0m\u001b[0;34m]\u001b[0m\u001b[0;34m,\u001b[0m\u001b[0;31m\\\u001b[0m\u001b[0;34m\u001b[0m\u001b[0;34m\u001b[0m\u001b[0m\n",
      "\u001b[0;32m~/anaconda3/envs/dsnd/lib/python3.8/site-packages/pandas/core/frame.py\u001b[0m in \u001b[0;36m__getitem__\u001b[0;34m(self, key)\u001b[0m\n\u001b[1;32m   2804\u001b[0m             \u001b[0;32mif\u001b[0m \u001b[0mis_iterator\u001b[0m\u001b[0;34m(\u001b[0m\u001b[0mkey\u001b[0m\u001b[0;34m)\u001b[0m\u001b[0;34m:\u001b[0m\u001b[0;34m\u001b[0m\u001b[0;34m\u001b[0m\u001b[0m\n\u001b[1;32m   2805\u001b[0m                 \u001b[0mkey\u001b[0m \u001b[0;34m=\u001b[0m \u001b[0mlist\u001b[0m\u001b[0;34m(\u001b[0m\u001b[0mkey\u001b[0m\u001b[0;34m)\u001b[0m\u001b[0;34m\u001b[0m\u001b[0;34m\u001b[0m\u001b[0m\n\u001b[0;32m-> 2806\u001b[0;31m             \u001b[0mindexer\u001b[0m \u001b[0;34m=\u001b[0m \u001b[0mself\u001b[0m\u001b[0;34m.\u001b[0m\u001b[0mloc\u001b[0m\u001b[0;34m.\u001b[0m\u001b[0m_get_listlike_indexer\u001b[0m\u001b[0;34m(\u001b[0m\u001b[0mkey\u001b[0m\u001b[0;34m,\u001b[0m \u001b[0maxis\u001b[0m\u001b[0;34m=\u001b[0m\u001b[0;36m1\u001b[0m\u001b[0;34m,\u001b[0m \u001b[0mraise_missing\u001b[0m\u001b[0;34m=\u001b[0m\u001b[0;32mTrue\u001b[0m\u001b[0;34m)\u001b[0m\u001b[0;34m[\u001b[0m\u001b[0;36m1\u001b[0m\u001b[0;34m]\u001b[0m\u001b[0;34m\u001b[0m\u001b[0;34m\u001b[0m\u001b[0m\n\u001b[0m\u001b[1;32m   2807\u001b[0m \u001b[0;34m\u001b[0m\u001b[0m\n\u001b[1;32m   2808\u001b[0m         \u001b[0;31m# take() does not accept boolean indexers\u001b[0m\u001b[0;34m\u001b[0m\u001b[0;34m\u001b[0m\u001b[0;34m\u001b[0m\u001b[0m\n",
      "\u001b[0;32m~/anaconda3/envs/dsnd/lib/python3.8/site-packages/pandas/core/indexing.py\u001b[0m in \u001b[0;36m_get_listlike_indexer\u001b[0;34m(self, key, axis, raise_missing)\u001b[0m\n\u001b[1;32m   1550\u001b[0m             \u001b[0mkeyarr\u001b[0m\u001b[0;34m,\u001b[0m \u001b[0mindexer\u001b[0m\u001b[0;34m,\u001b[0m \u001b[0mnew_indexer\u001b[0m \u001b[0;34m=\u001b[0m \u001b[0max\u001b[0m\u001b[0;34m.\u001b[0m\u001b[0m_reindex_non_unique\u001b[0m\u001b[0;34m(\u001b[0m\u001b[0mkeyarr\u001b[0m\u001b[0;34m)\u001b[0m\u001b[0;34m\u001b[0m\u001b[0;34m\u001b[0m\u001b[0m\n\u001b[1;32m   1551\u001b[0m \u001b[0;34m\u001b[0m\u001b[0m\n\u001b[0;32m-> 1552\u001b[0;31m         self._validate_read_indexer(\n\u001b[0m\u001b[1;32m   1553\u001b[0m             \u001b[0mkeyarr\u001b[0m\u001b[0;34m,\u001b[0m \u001b[0mindexer\u001b[0m\u001b[0;34m,\u001b[0m \u001b[0mo\u001b[0m\u001b[0;34m.\u001b[0m\u001b[0m_get_axis_number\u001b[0m\u001b[0;34m(\u001b[0m\u001b[0maxis\u001b[0m\u001b[0;34m)\u001b[0m\u001b[0;34m,\u001b[0m \u001b[0mraise_missing\u001b[0m\u001b[0;34m=\u001b[0m\u001b[0mraise_missing\u001b[0m\u001b[0;34m\u001b[0m\u001b[0;34m\u001b[0m\u001b[0m\n\u001b[1;32m   1554\u001b[0m         )\n",
      "\u001b[0;32m~/anaconda3/envs/dsnd/lib/python3.8/site-packages/pandas/core/indexing.py\u001b[0m in \u001b[0;36m_validate_read_indexer\u001b[0;34m(self, key, indexer, axis, raise_missing)\u001b[0m\n\u001b[1;32m   1644\u001b[0m             \u001b[0;32mif\u001b[0m \u001b[0;32mnot\u001b[0m \u001b[0;34m(\u001b[0m\u001b[0mself\u001b[0m\u001b[0;34m.\u001b[0m\u001b[0mname\u001b[0m \u001b[0;34m==\u001b[0m \u001b[0;34m\"loc\"\u001b[0m \u001b[0;32mand\u001b[0m \u001b[0;32mnot\u001b[0m \u001b[0mraise_missing\u001b[0m\u001b[0;34m)\u001b[0m\u001b[0;34m:\u001b[0m\u001b[0;34m\u001b[0m\u001b[0;34m\u001b[0m\u001b[0m\n\u001b[1;32m   1645\u001b[0m                 \u001b[0mnot_found\u001b[0m \u001b[0;34m=\u001b[0m \u001b[0mlist\u001b[0m\u001b[0;34m(\u001b[0m\u001b[0mset\u001b[0m\u001b[0;34m(\u001b[0m\u001b[0mkey\u001b[0m\u001b[0;34m)\u001b[0m \u001b[0;34m-\u001b[0m \u001b[0mset\u001b[0m\u001b[0;34m(\u001b[0m\u001b[0max\u001b[0m\u001b[0;34m)\u001b[0m\u001b[0;34m)\u001b[0m\u001b[0;34m\u001b[0m\u001b[0;34m\u001b[0m\u001b[0m\n\u001b[0;32m-> 1646\u001b[0;31m                 \u001b[0;32mraise\u001b[0m \u001b[0mKeyError\u001b[0m\u001b[0;34m(\u001b[0m\u001b[0;34mf\"{not_found} not in index\"\u001b[0m\u001b[0;34m)\u001b[0m\u001b[0;34m\u001b[0m\u001b[0;34m\u001b[0m\u001b[0m\n\u001b[0m\u001b[1;32m   1647\u001b[0m \u001b[0;34m\u001b[0m\u001b[0m\n\u001b[1;32m   1648\u001b[0m             \u001b[0;31m# we skip the warning on Categorical/Interval\u001b[0m\u001b[0;34m\u001b[0m\u001b[0;34m\u001b[0m\u001b[0;34m\u001b[0m\u001b[0m\n",
      "\u001b[0;31mKeyError\u001b[0m: \"['AnzahlTodesfall'] not in index\""
     ]
    }
   ],
   "source": [
    "df_ctr_cases = df_cases.groupby(['Meldedatum'])\\\n",
    "                        .sum()[['AnzahlFall','AnzahlTodesfall']]\n",
    "df_ctr_cases_long = \\\n",
    "        pd.melt(df_ctr_cases.reset_index(), id_vars=['Meldedatum'],\\\n",
    "                value_vars = ['AnzahlFall','AnzahlTodesfall'],\\\n",
    "                var_name = 'category',\\\n",
    "                value_name = 'Number')\n",
    "\n",
    "# State level data\n",
    "df_sta = df_cases.groupby(['Meldedatum','Bundesland']).sum().reset_index()\\\n",
    "                [['Meldedatum','Bundesland','AnzahlFall','AnzahlTodesfall']]\n",
    "#\n",
    "df_lkr = df_cases.groupby(['Meldedatum','Landkreis']).sum().reset_index()\\\n",
    "                [['Meldedatum','Landkreis','AnzahlFall','AnzahlTodesfall']]                \n"
   ]
  },
  {
   "cell_type": "markdown",
   "metadata": {},
   "source": [
    "# EDA"
   ]
  },
  {
   "cell_type": "code",
   "execution_count": null,
   "metadata": {},
   "outputs": [],
   "source": [
    "n_cases = df_cases.loc[df_cases['NeuerFall'].isin([0,1])]['AnzahlFall'].sum()\n",
    "n_cases_new = df_cases.loc[df_cases['NeuerFall'].isin([-1,1])]['AnzahlFall'].sum()\n",
    "n_deaths = df_cases.loc[df_cases['NeuerTodesfall'].isin([0,1])]['AnzahlTodesfall'].sum()\n",
    "n_deaths_new = df_cases.loc[df_cases['NeuerTodesfall'].isin([-1,1])]['AnzahlTodesfall'].sum()\n",
    "n_recovered = df_cases.loc[df_cases['NeuGenesen'].isin([0,1])]['AnzahlGenesen'].sum()\n",
    "n_recovered_new = df_cases.loc[df_cases['NeuGenesen'].isin([-1,1])]['AnzahlGenesen'].sum()\n",
    "n_active = n_cases - n_deaths - n_recovered\n"
   ]
  },
  {
   "cell_type": "code",
   "execution_count": null,
   "metadata": {},
   "outputs": [],
   "source": [
    "df_stats = pd.DataFrame({' ':['Total','Today'],\\\n",
    "                        'Cases':[n_cases, n_cases_new],\\\n",
    "                        'Recovered':[n_recovered, n_recovered_new],\\\n",
    "                        'Deaths':[n_deaths, n_deaths_new],\\\n",
    "                        'Active':[n_active, ' ']})\n",
    "df_stats.set_index(' ')\n"
   ]
  },
  {
   "cell_type": "code",
   "execution_count": null,
   "metadata": {},
   "outputs": [],
   "source": []
  },
  {
   "cell_type": "markdown",
   "metadata": {},
   "source": [
    "# Plots on country level"
   ]
  },
  {
   "cell_type": "code",
   "execution_count": 44,
   "metadata": {},
   "outputs": [
    {
     "data": {
      "text/html": [
       "\n",
       "<div id=\"altair-viz-01ffb321f25443d89948f02c100beecc\"></div>\n",
       "<script type=\"text/javascript\">\n",
       "  (function(spec, embedOpt){\n",
       "    let outputDiv = document.currentScript.previousElementSibling;\n",
       "    if (outputDiv.id !== \"altair-viz-01ffb321f25443d89948f02c100beecc\") {\n",
       "      outputDiv = document.getElementById(\"altair-viz-01ffb321f25443d89948f02c100beecc\");\n",
       "    }\n",
       "    const paths = {\n",
       "      \"vega\": \"https://cdn.jsdelivr.net/npm//vega@5?noext\",\n",
       "      \"vega-lib\": \"https://cdn.jsdelivr.net/npm//vega-lib?noext\",\n",
       "      \"vega-lite\": \"https://cdn.jsdelivr.net/npm//vega-lite@4.8.1?noext\",\n",
       "      \"vega-embed\": \"https://cdn.jsdelivr.net/npm//vega-embed@6?noext\",\n",
       "    };\n",
       "\n",
       "    function loadScript(lib) {\n",
       "      return new Promise(function(resolve, reject) {\n",
       "        var s = document.createElement('script');\n",
       "        s.src = paths[lib];\n",
       "        s.async = true;\n",
       "        s.onload = () => resolve(paths[lib]);\n",
       "        s.onerror = () => reject(`Error loading script: ${paths[lib]}`);\n",
       "        document.getElementsByTagName(\"head\")[0].appendChild(s);\n",
       "      });\n",
       "    }\n",
       "\n",
       "    function showError(err) {\n",
       "      outputDiv.innerHTML = `<div class=\"error\" style=\"color:red;\">${err}</div>`;\n",
       "      throw err;\n",
       "    }\n",
       "\n",
       "    function displayChart(vegaEmbed) {\n",
       "      vegaEmbed(outputDiv, spec, embedOpt)\n",
       "        .catch(err => showError(`Javascript Error: ${err.message}<br>This usually means there's a typo in your chart specification. See the javascript console for the full traceback.`));\n",
       "    }\n",
       "\n",
       "    if(typeof define === \"function\" && define.amd) {\n",
       "      requirejs.config({paths});\n",
       "      require([\"vega-embed\"], displayChart, err => showError(`Error loading script: ${err.message}`));\n",
       "    } else if (typeof vegaEmbed === \"function\") {\n",
       "      displayChart(vegaEmbed);\n",
       "    } else {\n",
       "      loadScript(\"vega\")\n",
       "        .then(() => loadScript(\"vega-lite\"))\n",
       "        .then(() => loadScript(\"vega-embed\"))\n",
       "        .catch(showError)\n",
       "        .then(() => displayChart(vegaEmbed));\n",
       "    }\n",
       "  })({\"config\": {\"view\": {\"continuousWidth\": 400, \"continuousHeight\": 300}}, \"data\": {\"name\": \"data-0cd363283e5ef76562a55b95a947e743\"}, \"mark\": {\"type\": \"bar\", \"point\": true}, \"encoding\": {\"color\": {\"type\": \"nominal\", \"field\": \"category\"}, \"x\": {\"type\": \"ordinal\", \"field\": \"Meldedatum\", \"timeUnit\": \"monthdate\", \"title\": \"Date\"}, \"y\": {\"type\": \"quantitative\", \"aggregate\": \"mean\", \"field\": \"Number\", \"title\": \"Cumulative Cases\"}}, \"height\": 400, \"title\": \"Number of Cases\", \"width\": 800, \"$schema\": \"https://vega.github.io/schema/vega-lite/v4.8.1.json\", \"datasets\": {\"data-0cd363283e5ef76562a55b95a947e743\": [{\"Meldedatum\": \"2020-01-28T00:00:00\", \"category\": \"case\", \"Number\": 4}, {\"Meldedatum\": \"2020-01-29T00:00:00\", \"category\": \"case\", \"Number\": 2}, {\"Meldedatum\": \"2020-01-31T00:00:00\", \"category\": \"case\", \"Number\": 3}, {\"Meldedatum\": \"2020-02-03T00:00:00\", \"category\": \"case\", \"Number\": 1}, {\"Meldedatum\": \"2020-02-04T00:00:00\", \"category\": \"case\", \"Number\": 4}, {\"Meldedatum\": \"2020-02-06T00:00:00\", \"category\": \"case\", \"Number\": 1}, {\"Meldedatum\": \"2020-02-07T00:00:00\", \"category\": \"case\", \"Number\": 1}, {\"Meldedatum\": \"2020-02-11T00:00:00\", \"category\": \"case\", \"Number\": 2}, {\"Meldedatum\": \"2020-02-12T00:00:00\", \"category\": \"case\", \"Number\": 2}, {\"Meldedatum\": \"2020-02-18T00:00:00\", \"category\": \"case\", \"Number\": 1}, {\"Meldedatum\": \"2020-02-20T00:00:00\", \"category\": \"case\", \"Number\": 1}, {\"Meldedatum\": \"2020-02-22T00:00:00\", \"category\": \"case\", \"Number\": 1}, {\"Meldedatum\": \"2020-02-24T00:00:00\", \"category\": \"case\", \"Number\": 3}, {\"Meldedatum\": \"2020-02-25T00:00:00\", \"category\": \"case\", \"Number\": 2}, {\"Meldedatum\": \"2020-02-26T00:00:00\", \"category\": \"case\", \"Number\": 7}, {\"Meldedatum\": \"2020-02-27T00:00:00\", \"category\": \"case\", \"Number\": 23}, {\"Meldedatum\": \"2020-02-28T00:00:00\", \"category\": \"case\", \"Number\": 48}, {\"Meldedatum\": \"2020-02-29T00:00:00\", \"category\": \"case\", \"Number\": 21}, {\"Meldedatum\": \"2020-03-01T00:00:00\", \"category\": \"case\", \"Number\": 38}, {\"Meldedatum\": \"2020-03-02T00:00:00\", \"category\": \"case\", \"Number\": 41}, {\"Meldedatum\": \"2020-03-03T00:00:00\", \"category\": \"case\", \"Number\": 86}, {\"Meldedatum\": \"2020-03-04T00:00:00\", \"category\": \"case\", \"Number\": 158}, {\"Meldedatum\": \"2020-03-05T00:00:00\", \"category\": \"case\", \"Number\": 191}, {\"Meldedatum\": \"2020-03-06T00:00:00\", \"category\": \"case\", \"Number\": 185}, {\"Meldedatum\": \"2020-03-07T00:00:00\", \"category\": \"case\", \"Number\": 140}, {\"Meldedatum\": \"2020-03-08T00:00:00\", \"category\": \"case\", \"Number\": 99}, {\"Meldedatum\": \"2020-03-09T00:00:00\", \"category\": \"case\", \"Number\": 343}, {\"Meldedatum\": \"2020-03-10T00:00:00\", \"category\": \"case\", \"Number\": 590}, {\"Meldedatum\": \"2020-03-11T00:00:00\", \"category\": \"case\", \"Number\": 748}, {\"Meldedatum\": \"2020-03-12T00:00:00\", \"category\": \"case\", \"Number\": 987}, {\"Meldedatum\": \"2020-03-13T00:00:00\", \"category\": \"case\", \"Number\": 1435}, {\"Meldedatum\": \"2020-03-14T00:00:00\", \"category\": \"case\", \"Number\": 1305}, {\"Meldedatum\": \"2020-03-15T00:00:00\", \"category\": \"case\", \"Number\": 963}, {\"Meldedatum\": \"2020-03-16T00:00:00\", \"category\": \"case\", \"Number\": 2044}, {\"Meldedatum\": \"2020-03-17T00:00:00\", \"category\": \"case\", \"Number\": 3023}, {\"Meldedatum\": \"2020-03-18T00:00:00\", \"category\": \"case\", \"Number\": 3566}, {\"Meldedatum\": \"2020-03-19T00:00:00\", \"category\": \"case\", \"Number\": 4033}, {\"Meldedatum\": \"2020-03-20T00:00:00\", \"category\": \"case\", \"Number\": 4087}, {\"Meldedatum\": \"2020-03-21T00:00:00\", \"category\": \"case\", \"Number\": 3316}, {\"Meldedatum\": \"2020-03-22T00:00:00\", \"category\": \"case\", \"Number\": 2311}, {\"Meldedatum\": \"2020-03-23T00:00:00\", \"category\": \"case\", \"Number\": 3706}, {\"Meldedatum\": \"2020-03-24T00:00:00\", \"category\": \"case\", \"Number\": 4800}, {\"Meldedatum\": \"2020-03-25T00:00:00\", \"category\": \"case\", \"Number\": 5626}, {\"Meldedatum\": \"2020-03-26T00:00:00\", \"category\": \"case\", \"Number\": 5844}, {\"Meldedatum\": \"2020-03-27T00:00:00\", \"category\": \"case\", \"Number\": 6119}, {\"Meldedatum\": \"2020-03-28T00:00:00\", \"category\": \"case\", \"Number\": 4800}, {\"Meldedatum\": \"2020-03-29T00:00:00\", \"category\": \"case\", \"Number\": 3104}, {\"Meldedatum\": \"2020-03-30T00:00:00\", \"category\": \"case\", \"Number\": 4079}, {\"Meldedatum\": \"2020-03-31T00:00:00\", \"category\": \"case\", \"Number\": 5990}, {\"Meldedatum\": \"2020-04-01T00:00:00\", \"category\": \"case\", \"Number\": 6258}, {\"Meldedatum\": \"2020-04-02T00:00:00\", \"category\": \"case\", \"Number\": 6574}, {\"Meldedatum\": \"2020-04-03T00:00:00\", \"category\": \"case\", \"Number\": 6322}, {\"Meldedatum\": \"2020-04-04T00:00:00\", \"category\": \"case\", \"Number\": 4269}, {\"Meldedatum\": \"2020-04-05T00:00:00\", \"category\": \"case\", \"Number\": 2530}, {\"Meldedatum\": \"2020-04-06T00:00:00\", \"category\": \"case\", \"Number\": 3682}, {\"Meldedatum\": \"2020-04-07T00:00:00\", \"category\": \"case\", \"Number\": 5185}, {\"Meldedatum\": \"2020-04-08T00:00:00\", \"category\": \"case\", \"Number\": 5286}, {\"Meldedatum\": \"2020-04-09T00:00:00\", \"category\": \"case\", \"Number\": 4929}, {\"Meldedatum\": \"2020-04-10T00:00:00\", \"category\": \"case\", \"Number\": 3331}, {\"Meldedatum\": \"2020-04-11T00:00:00\", \"category\": \"case\", \"Number\": 2932}, {\"Meldedatum\": \"2020-04-12T00:00:00\", \"category\": \"case\", \"Number\": 1837}, {\"Meldedatum\": \"2020-04-13T00:00:00\", \"category\": \"case\", \"Number\": 1595}, {\"Meldedatum\": \"2020-04-14T00:00:00\", \"category\": \"case\", \"Number\": 2458}, {\"Meldedatum\": \"2020-04-15T00:00:00\", \"category\": \"case\", \"Number\": 3279}, {\"Meldedatum\": \"2020-04-16T00:00:00\", \"category\": \"case\", \"Number\": 3413}, {\"Meldedatum\": \"2020-04-17T00:00:00\", \"category\": \"case\", \"Number\": 3081}, {\"Meldedatum\": \"2020-04-18T00:00:00\", \"category\": \"case\", \"Number\": 2062}, {\"Meldedatum\": \"2020-04-19T00:00:00\", \"category\": \"case\", \"Number\": 1388}, {\"Meldedatum\": \"2020-04-20T00:00:00\", \"category\": \"case\", \"Number\": 1754}, {\"Meldedatum\": \"2020-04-21T00:00:00\", \"category\": \"case\", \"Number\": 2204}, {\"Meldedatum\": \"2020-04-22T00:00:00\", \"category\": \"case\", \"Number\": 2465}, {\"Meldedatum\": \"2020-04-23T00:00:00\", \"category\": \"case\", \"Number\": 2090}, {\"Meldedatum\": \"2020-04-24T00:00:00\", \"category\": \"case\", \"Number\": 1891}, {\"Meldedatum\": \"2020-04-25T00:00:00\", \"category\": \"case\", \"Number\": 1299}, {\"Meldedatum\": \"2020-04-26T00:00:00\", \"category\": \"case\", \"Number\": 688}, {\"Meldedatum\": \"2020-04-27T00:00:00\", \"category\": \"case\", \"Number\": 1131}, {\"Meldedatum\": \"2020-04-28T00:00:00\", \"category\": \"case\", \"Number\": 1440}, {\"Meldedatum\": \"2020-04-29T00:00:00\", \"category\": \"case\", \"Number\": 1398}, {\"Meldedatum\": \"2020-04-30T00:00:00\", \"category\": \"case\", \"Number\": 1465}, {\"Meldedatum\": \"2020-05-01T00:00:00\", \"category\": \"case\", \"Number\": 885}, {\"Meldedatum\": \"2020-05-02T00:00:00\", \"category\": \"case\", \"Number\": 631}, {\"Meldedatum\": \"2020-05-03T00:00:00\", \"category\": \"case\", \"Number\": 425}, {\"Meldedatum\": \"2020-05-04T00:00:00\", \"category\": \"case\", \"Number\": 717}, {\"Meldedatum\": \"2020-05-05T00:00:00\", \"category\": \"case\", \"Number\": 1082}, {\"Meldedatum\": \"2020-05-06T00:00:00\", \"category\": \"case\", \"Number\": 1191}, {\"Meldedatum\": \"2020-05-07T00:00:00\", \"category\": \"case\", \"Number\": 1165}, {\"Meldedatum\": \"2020-05-08T00:00:00\", \"category\": \"case\", \"Number\": 952}, {\"Meldedatum\": \"2020-05-09T00:00:00\", \"category\": \"case\", \"Number\": 651}, {\"Meldedatum\": \"2020-05-10T00:00:00\", \"category\": \"case\", \"Number\": 303}, {\"Meldedatum\": \"2020-05-11T00:00:00\", \"category\": \"case\", \"Number\": 386}, {\"Meldedatum\": \"2020-03-04T00:00:00\", \"category\": \"death\", \"Number\": 2}, {\"Meldedatum\": \"2020-03-05T00:00:00\", \"category\": \"death\", \"Number\": 1}, {\"Meldedatum\": \"2020-03-06T00:00:00\", \"category\": \"death\", \"Number\": 4}, {\"Meldedatum\": \"2020-03-07T00:00:00\", \"category\": \"death\", \"Number\": 4}, {\"Meldedatum\": \"2020-03-09T00:00:00\", \"category\": \"death\", \"Number\": 5}, {\"Meldedatum\": \"2020-03-10T00:00:00\", \"category\": \"death\", \"Number\": 4}, {\"Meldedatum\": \"2020-03-11T00:00:00\", \"category\": \"death\", \"Number\": 7}, {\"Meldedatum\": \"2020-03-12T00:00:00\", \"category\": \"death\", \"Number\": 11}, {\"Meldedatum\": \"2020-03-13T00:00:00\", \"category\": \"death\", \"Number\": 14}, {\"Meldedatum\": \"2020-03-14T00:00:00\", \"category\": \"death\", \"Number\": 20}, {\"Meldedatum\": \"2020-03-15T00:00:00\", \"category\": \"death\", \"Number\": 12}, {\"Meldedatum\": \"2020-03-16T00:00:00\", \"category\": \"death\", \"Number\": 35}, {\"Meldedatum\": \"2020-03-17T00:00:00\", \"category\": \"death\", \"Number\": 40}, {\"Meldedatum\": \"2020-03-18T00:00:00\", \"category\": \"death\", \"Number\": 63}, {\"Meldedatum\": \"2020-03-19T00:00:00\", \"category\": \"death\", \"Number\": 60}, {\"Meldedatum\": \"2020-03-20T00:00:00\", \"category\": \"death\", \"Number\": 95}, {\"Meldedatum\": \"2020-03-21T00:00:00\", \"category\": \"death\", \"Number\": 88}, {\"Meldedatum\": \"2020-03-22T00:00:00\", \"category\": \"death\", \"Number\": 75}, {\"Meldedatum\": \"2020-03-23T00:00:00\", \"category\": \"death\", \"Number\": 117}, {\"Meldedatum\": \"2020-03-24T00:00:00\", \"category\": \"death\", \"Number\": 161}, {\"Meldedatum\": \"2020-03-25T00:00:00\", \"category\": \"death\", \"Number\": 191}, {\"Meldedatum\": \"2020-03-26T00:00:00\", \"category\": \"death\", \"Number\": 250}, {\"Meldedatum\": \"2020-03-27T00:00:00\", \"category\": \"death\", \"Number\": 265}, {\"Meldedatum\": \"2020-03-28T00:00:00\", \"category\": \"death\", \"Number\": 236}, {\"Meldedatum\": \"2020-03-29T00:00:00\", \"category\": \"death\", \"Number\": 156}, {\"Meldedatum\": \"2020-03-30T00:00:00\", \"category\": \"death\", \"Number\": 252}, {\"Meldedatum\": \"2020-03-31T00:00:00\", \"category\": \"death\", \"Number\": 329}, {\"Meldedatum\": \"2020-04-01T00:00:00\", \"category\": \"death\", \"Number\": 357}, {\"Meldedatum\": \"2020-04-02T00:00:00\", \"category\": \"death\", \"Number\": 377}, {\"Meldedatum\": \"2020-04-03T00:00:00\", \"category\": \"death\", \"Number\": 368}, {\"Meldedatum\": \"2020-04-04T00:00:00\", \"category\": \"death\", \"Number\": 220}, {\"Meldedatum\": \"2020-04-05T00:00:00\", \"category\": \"death\", \"Number\": 164}, {\"Meldedatum\": \"2020-04-06T00:00:00\", \"category\": \"death\", \"Number\": 274}, {\"Meldedatum\": \"2020-04-07T00:00:00\", \"category\": \"death\", \"Number\": 294}, {\"Meldedatum\": \"2020-04-08T00:00:00\", \"category\": \"death\", \"Number\": 306}, {\"Meldedatum\": \"2020-04-09T00:00:00\", \"category\": \"death\", \"Number\": 291}, {\"Meldedatum\": \"2020-04-10T00:00:00\", \"category\": \"death\", \"Number\": 174}, {\"Meldedatum\": \"2020-04-11T00:00:00\", \"category\": \"death\", \"Number\": 174}, {\"Meldedatum\": \"2020-04-12T00:00:00\", \"category\": \"death\", \"Number\": 149}, {\"Meldedatum\": \"2020-04-13T00:00:00\", \"category\": \"death\", \"Number\": 143}, {\"Meldedatum\": \"2020-04-14T00:00:00\", \"category\": \"death\", \"Number\": 191}, {\"Meldedatum\": \"2020-04-15T00:00:00\", \"category\": \"death\", \"Number\": 191}, {\"Meldedatum\": \"2020-04-16T00:00:00\", \"category\": \"death\", \"Number\": 167}, {\"Meldedatum\": \"2020-04-17T00:00:00\", \"category\": \"death\", \"Number\": 148}, {\"Meldedatum\": \"2020-04-18T00:00:00\", \"category\": \"death\", \"Number\": 98}, {\"Meldedatum\": \"2020-04-19T00:00:00\", \"category\": \"death\", \"Number\": 96}, {\"Meldedatum\": \"2020-04-20T00:00:00\", \"category\": \"death\", \"Number\": 117}, {\"Meldedatum\": \"2020-04-21T00:00:00\", \"category\": \"death\", \"Number\": 115}, {\"Meldedatum\": \"2020-04-22T00:00:00\", \"category\": \"death\", \"Number\": 105}, {\"Meldedatum\": \"2020-04-23T00:00:00\", \"category\": \"death\", \"Number\": 89}, {\"Meldedatum\": \"2020-04-24T00:00:00\", \"category\": \"death\", \"Number\": 68}, {\"Meldedatum\": \"2020-04-25T00:00:00\", \"category\": \"death\", \"Number\": 56}, {\"Meldedatum\": \"2020-04-26T00:00:00\", \"category\": \"death\", \"Number\": 24}, {\"Meldedatum\": \"2020-04-27T00:00:00\", \"category\": \"death\", \"Number\": 52}, {\"Meldedatum\": \"2020-04-28T00:00:00\", \"category\": \"death\", \"Number\": 47}, {\"Meldedatum\": \"2020-04-29T00:00:00\", \"category\": \"death\", \"Number\": 30}, {\"Meldedatum\": \"2020-04-30T00:00:00\", \"category\": \"death\", \"Number\": 40}, {\"Meldedatum\": \"2020-05-01T00:00:00\", \"category\": \"death\", \"Number\": 23}, {\"Meldedatum\": \"2020-05-02T00:00:00\", \"category\": \"death\", \"Number\": 14}, {\"Meldedatum\": \"2020-05-03T00:00:00\", \"category\": \"death\", \"Number\": 7}, {\"Meldedatum\": \"2020-05-04T00:00:00\", \"category\": \"death\", \"Number\": 21}, {\"Meldedatum\": \"2020-05-05T00:00:00\", \"category\": \"death\", \"Number\": 16}, {\"Meldedatum\": \"2020-05-06T00:00:00\", \"category\": \"death\", \"Number\": 13}, {\"Meldedatum\": \"2020-05-07T00:00:00\", \"category\": \"death\", \"Number\": 7}, {\"Meldedatum\": \"2020-05-08T00:00:00\", \"category\": \"death\", \"Number\": 4}, {\"Meldedatum\": \"2020-05-09T00:00:00\", \"category\": \"death\", \"Number\": 3}, {\"Meldedatum\": \"2020-05-10T00:00:00\", \"category\": \"death\", \"Number\": 2}, {\"Meldedatum\": \"2020-05-11T00:00:00\", \"category\": \"death\", \"Number\": 1}]}}, {\"mode\": \"vega-lite\"});\n",
       "</script>"
      ],
      "text/plain": [
       "alt.Chart(...)"
      ]
     },
     "execution_count": 44,
     "metadata": {},
     "output_type": "execute_result"
    }
   ],
   "source": [
    "alt.Chart(df_ctr)\\\n",
    "        .mark_bar(point=True)\\\n",
    "        .encode(x=alt.X('monthdate(Meldedatum):O', title='Date'),\\\n",
    "                y=alt.Y('mean(Number):Q', title='Cumulative Cases'),\\\n",
    "                color='category')\\\n",
    "        .properties(width=800, height=400, title='Number of Cases')"
   ]
  },
  {
   "cell_type": "code",
   "execution_count": 50,
   "metadata": {},
   "outputs": [
    {
     "data": {
      "text/html": [
       "<div>\n",
       "<style scoped>\n",
       "    .dataframe tbody tr th:only-of-type {\n",
       "        vertical-align: middle;\n",
       "    }\n",
       "\n",
       "    .dataframe tbody tr th {\n",
       "        vertical-align: top;\n",
       "    }\n",
       "\n",
       "    .dataframe thead th {\n",
       "        text-align: right;\n",
       "    }\n",
       "</style>\n",
       "<table border=\"1\" class=\"dataframe\">\n",
       "  <thead>\n",
       "    <tr style=\"text-align: right;\">\n",
       "      <th></th>\n",
       "      <th></th>\n",
       "      <th>Number</th>\n",
       "    </tr>\n",
       "    <tr>\n",
       "      <th>Meldedatum</th>\n",
       "      <th>category</th>\n",
       "      <th></th>\n",
       "    </tr>\n",
       "  </thead>\n",
       "  <tbody>\n",
       "    <tr>\n",
       "      <th>2020-01-28</th>\n",
       "      <th>case</th>\n",
       "      <td>4</td>\n",
       "    </tr>\n",
       "    <tr>\n",
       "      <th>2020-01-29</th>\n",
       "      <th>case</th>\n",
       "      <td>6</td>\n",
       "    </tr>\n",
       "    <tr>\n",
       "      <th>2020-01-31</th>\n",
       "      <th>case</th>\n",
       "      <td>9</td>\n",
       "    </tr>\n",
       "    <tr>\n",
       "      <th>2020-02-03</th>\n",
       "      <th>case</th>\n",
       "      <td>10</td>\n",
       "    </tr>\n",
       "    <tr>\n",
       "      <th>2020-02-04</th>\n",
       "      <th>case</th>\n",
       "      <td>14</td>\n",
       "    </tr>\n",
       "    <tr>\n",
       "      <th>...</th>\n",
       "      <th>...</th>\n",
       "      <td>...</td>\n",
       "    </tr>\n",
       "    <tr>\n",
       "      <th>2020-05-09</th>\n",
       "      <th>death</th>\n",
       "      <td>177349</td>\n",
       "    </tr>\n",
       "    <tr>\n",
       "      <th rowspan=\"2\" valign=\"top\">2020-05-10</th>\n",
       "      <th>case</th>\n",
       "      <td>177652</td>\n",
       "    </tr>\n",
       "    <tr>\n",
       "      <th>death</th>\n",
       "      <td>177654</td>\n",
       "    </tr>\n",
       "    <tr>\n",
       "      <th rowspan=\"2\" valign=\"top\">2020-05-11</th>\n",
       "      <th>case</th>\n",
       "      <td>178040</td>\n",
       "    </tr>\n",
       "    <tr>\n",
       "      <th>death</th>\n",
       "      <td>178041</td>\n",
       "    </tr>\n",
       "  </tbody>\n",
       "</table>\n",
       "<p>158 rows × 1 columns</p>\n",
       "</div>"
      ],
      "text/plain": [
       "                     Number\n",
       "Meldedatum category        \n",
       "2020-01-28 case           4\n",
       "2020-01-29 case           6\n",
       "2020-01-31 case           9\n",
       "2020-02-03 case          10\n",
       "2020-02-04 case          14\n",
       "...                     ...\n",
       "2020-05-09 death     177349\n",
       "2020-05-10 case      177652\n",
       "           death     177654\n",
       "2020-05-11 case      178040\n",
       "           death     178041\n",
       "\n",
       "[158 rows x 1 columns]"
      ]
     },
     "execution_count": 50,
     "metadata": {},
     "output_type": "execute_result"
    }
   ],
   "source": [
    "df_ctr.groupby(['Meldedatum','category']).sum()"
   ]
  },
  {
   "cell_type": "code",
   "execution_count": null,
   "metadata": {},
   "outputs": [],
   "source": [
    "df_cumulative = \\\n",
    "    pd.melt(cases_cumulative.reset_index(), id_vars=['Meldedatum'],\\\n",
    "            value_vars = ['AnzahlFall','AnzahlTodesfall'],\\\n",
    "            var_name = 'category',\\\n",
    "            value_name = 'Number')\n",
    "df_cumulative.Meldedatum = pd.to_datetime(df_cumulative.Meldedatum, format='%Y/%m/%d')\n",
    "df_cumulative.tail()"
   ]
  },
  {
   "cell_type": "code",
   "execution_count": null,
   "metadata": {},
   "outputs": [],
   "source": [
    "# take care of log problems\n",
    "df_cumulative.loc[df_cumulative['Number']<1,'Number'] = np.nan"
   ]
  },
  {
   "cell_type": "code",
   "execution_count": null,
   "metadata": {},
   "outputs": [],
   "source": [
    "alt.Chart(df_cumulative)\\\n",
    "        .mark_line(point=True)\\\n",
    "        .encode(x=alt.X('monthdate(Meldedatum):O', title='Date'),\\\n",
    "                y=alt.Y('mean(Number):Q', title='Cumulative Cases'),\\\n",
    "                color='category')\\\n",
    "        .properties(width=800, height=400, title='Number of Cases')"
   ]
  },
  {
   "cell_type": "code",
   "execution_count": null,
   "metadata": {},
   "outputs": [],
   "source": [
    "alt.Chart(df_cumulative)\\\n",
    "        .mark_line(point=True)\\\n",
    "        .encode(x=alt.X('monthdate(Meldedatum):O', title='Date'),\\\n",
    "                y=alt.Y('mean(Number):Q', title='Cumulative Cases',\\\n",
    "                        scale=alt.Scale(type='log')), color='category')\\\n",
    "        .properties(width=800, height=400, title='Number of Cases')"
   ]
  },
  {
   "cell_type": "code",
   "execution_count": null,
   "metadata": {},
   "outputs": [],
   "source": [
    "df_daily_tmp = df_cases.groupby(['Meldedatum']).sum()[['AnzahlFall','AnzahlTodesfall']]\n",
    "df_daily = \\\n",
    "    pd.melt(df_daily_tmp.reset_index(), id_vars=['Meldedatum'],\\\n",
    "            value_vars = ['AnzahlFall','AnzahlTodesfall'],\\\n",
    "            var_name = 'category',\\\n",
    "            value_name = 'Number')\n",
    "df_daily.head()"
   ]
  },
  {
   "cell_type": "code",
   "execution_count": null,
   "metadata": {},
   "outputs": [],
   "source": [
    "alt.Chart(df_daily)\\\n",
    "        .mark_bar(point=True)\\\n",
    "        .encode(x=alt.X('monthdate(Meldedatum):O', title='Date'),\\\n",
    "                y=alt.Y('mean(Number):Q', title='Cumulative Cases'),\\\n",
    "                color='category')\\\n",
    "        .properties(width=800, height=400, title='Number of Cases')"
   ]
  },
  {
   "cell_type": "code",
   "execution_count": null,
   "metadata": {},
   "outputs": [],
   "source": [
    "df_daily.loc[df_daily['Number']>0].Number.unique()"
   ]
  },
  {
   "cell_type": "code",
   "execution_count": null,
   "metadata": {},
   "outputs": [],
   "source": [
    "alt.Chart(df_daily.loc[df_daily['Number']>0])\\\n",
    "        .mark_line(point=True)\\\n",
    "        .encode(x=alt.X('monthdate(Meldedatum):O', title='Date'),\\\n",
    "                y=alt.Y('mean(Number):Q', title='Cumulative Cases',\\\n",
    "                       scale=alt.Scale(type='log')),\\\n",
    "                color='category')\\\n",
    "        .properties(width=800, height=400, title='Number of Cases')"
   ]
  },
  {
   "cell_type": "markdown",
   "metadata": {},
   "source": [
    "# State level plots"
   ]
  },
  {
   "cell_type": "code",
   "execution_count": null,
   "metadata": {},
   "outputs": [],
   "source": []
  },
  {
   "cell_type": "code",
   "execution_count": null,
   "metadata": {},
   "outputs": [],
   "source": [
    "df_cases.groupby(['Meldedatum','Bundesland']).sum()\n"
   ]
  },
  {
   "cell_type": "code",
   "execution_count": null,
   "metadata": {},
   "outputs": [],
   "source": [
    "df = df_cases.groupby(['Meldedatum','Bundesland']).sum().reset_index()[['Meldedatum','Bundesland','AnzahlFall']]\n",
    "df"
   ]
  },
  {
   "cell_type": "code",
   "execution_count": null,
   "metadata": {},
   "outputs": [],
   "source": [
    "df.loc[df.AnzahlFall <1,'AnzahlFall'] = np.nan"
   ]
  },
  {
   "cell_type": "code",
   "execution_count": null,
   "metadata": {},
   "outputs": [],
   "source": [
    "tuple(sorted(list(df['Bundesland'].unique())))"
   ]
  },
  {
   "cell_type": "code",
   "execution_count": null,
   "metadata": {},
   "outputs": [],
   "source": [
    "alt.Chart(df.loc[df['Bundesland'].isin(['Niedersachsen','Bayern'])]).mark_line(point=True).encode(x='Meldedatum',y='AnzahlFall', color='Bundesland')"
   ]
  },
  {
   "cell_type": "code",
   "execution_count": null,
   "metadata": {},
   "outputs": [],
   "source": [
    "df.loc[df['Bundesland'].isin(['Bremen'])]"
   ]
  },
  {
   "cell_type": "code",
   "execution_count": null,
   "metadata": {},
   "outputs": [],
   "source": [
    "alt.Chart(df.loc[df['Bundesland'].isin(['Niedersachsen','Bremen'])])\\\n",
    "        .mark_bar(point=True)\\\n",
    "        .encode(x=alt.X('monthdate(Meldedatum):O', title='Date'),\\\n",
    "                y=alt.Y('mean(AnzahlFall):Q', title='Cumulative Cases'),\\\n",
    "                color='Bundesland')\\\n",
    "        .properties(width=800, height=400, title='Number of Cases')"
   ]
  },
  {
   "cell_type": "code",
   "execution_count": null,
   "metadata": {},
   "outputs": [],
   "source": [
    "alt.Chart(df).mark_line(point=True)\\\n",
    "    .encode(x='Meldedatum',y = alt.Y('AnzahlFall',scale=alt.Scale(type='log')), color='Bundesland')"
   ]
  },
  {
   "cell_type": "code",
   "execution_count": null,
   "metadata": {},
   "outputs": [],
   "source": [
    "state = 'Bayern'"
   ]
  },
  {
   "cell_type": "code",
   "execution_count": null,
   "metadata": {},
   "outputs": [],
   "source": [
    "df_plot = df.loc[df['Bundesland']==state]"
   ]
  },
  {
   "cell_type": "code",
   "execution_count": null,
   "metadata": {},
   "outputs": [],
   "source": [
    "alt.Chart(df_plot).mark_bar(point=True).encode(x='Meldedatum',y='AnzahlFall', color='Bundesland')"
   ]
  },
  {
   "cell_type": "code",
   "execution_count": 66,
   "metadata": {},
   "outputs": [
    {
     "data": {
      "text/html": [
       "<div>\n",
       "<style scoped>\n",
       "    .dataframe tbody tr th:only-of-type {\n",
       "        vertical-align: middle;\n",
       "    }\n",
       "\n",
       "    .dataframe tbody tr th {\n",
       "        vertical-align: top;\n",
       "    }\n",
       "\n",
       "    .dataframe thead th {\n",
       "        text-align: right;\n",
       "    }\n",
       "</style>\n",
       "<table border=\"1\" class=\"dataframe\">\n",
       "  <thead>\n",
       "    <tr style=\"text-align: right;\">\n",
       "      <th></th>\n",
       "      <th>Meldedatum</th>\n",
       "      <th>Bundesland</th>\n",
       "      <th>AnzahlFall</th>\n",
       "      <th>AnzahlTodesfall</th>\n",
       "      <th>AnzahlGenesen</th>\n",
       "    </tr>\n",
       "  </thead>\n",
       "  <tbody>\n",
       "    <tr>\n",
       "      <th>0</th>\n",
       "      <td>2020-01-28</td>\n",
       "      <td>Bayern</td>\n",
       "      <td>2</td>\n",
       "      <td>0</td>\n",
       "      <td>2</td>\n",
       "    </tr>\n",
       "    <tr>\n",
       "      <th>1</th>\n",
       "      <td>2020-01-28</td>\n",
       "      <td>Nordrhein-Westfalen</td>\n",
       "      <td>2</td>\n",
       "      <td>0</td>\n",
       "      <td>2</td>\n",
       "    </tr>\n",
       "    <tr>\n",
       "      <th>2</th>\n",
       "      <td>2020-01-29</td>\n",
       "      <td>Bayern</td>\n",
       "      <td>4</td>\n",
       "      <td>0</td>\n",
       "      <td>4</td>\n",
       "    </tr>\n",
       "    <tr>\n",
       "      <th>3</th>\n",
       "      <td>2020-01-31</td>\n",
       "      <td>Bayern</td>\n",
       "      <td>7</td>\n",
       "      <td>0</td>\n",
       "      <td>7</td>\n",
       "    </tr>\n",
       "    <tr>\n",
       "      <th>4</th>\n",
       "      <td>2020-02-03</td>\n",
       "      <td>Bayern</td>\n",
       "      <td>8</td>\n",
       "      <td>0</td>\n",
       "      <td>8</td>\n",
       "    </tr>\n",
       "    <tr>\n",
       "      <th>...</th>\n",
       "      <td>...</td>\n",
       "      <td>...</td>\n",
       "      <td>...</td>\n",
       "      <td>...</td>\n",
       "      <td>...</td>\n",
       "    </tr>\n",
       "    <tr>\n",
       "      <th>1125</th>\n",
       "      <td>2020-05-11</td>\n",
       "      <td>Saarland</td>\n",
       "      <td>2665</td>\n",
       "      <td>144</td>\n",
       "      <td>2363</td>\n",
       "    </tr>\n",
       "    <tr>\n",
       "      <th>1126</th>\n",
       "      <td>2020-05-11</td>\n",
       "      <td>Sachsen</td>\n",
       "      <td>4947</td>\n",
       "      <td>190</td>\n",
       "      <td>4287</td>\n",
       "    </tr>\n",
       "    <tr>\n",
       "      <th>1127</th>\n",
       "      <td>2020-05-11</td>\n",
       "      <td>Sachsen-Anhalt</td>\n",
       "      <td>1648</td>\n",
       "      <td>50</td>\n",
       "      <td>1453</td>\n",
       "    </tr>\n",
       "    <tr>\n",
       "      <th>1128</th>\n",
       "      <td>2020-05-11</td>\n",
       "      <td>Schleswig-Holstein</td>\n",
       "      <td>2956</td>\n",
       "      <td>125</td>\n",
       "      <td>2526</td>\n",
       "    </tr>\n",
       "    <tr>\n",
       "      <th>1129</th>\n",
       "      <td>2020-05-11</td>\n",
       "      <td>Thüringen</td>\n",
       "      <td>2594</td>\n",
       "      <td>118</td>\n",
       "      <td>2099</td>\n",
       "    </tr>\n",
       "  </tbody>\n",
       "</table>\n",
       "<p>1130 rows × 5 columns</p>\n",
       "</div>"
      ],
      "text/plain": [
       "     Meldedatum           Bundesland  AnzahlFall  AnzahlTodesfall  \\\n",
       "0    2020-01-28               Bayern           2                0   \n",
       "1    2020-01-28  Nordrhein-Westfalen           2                0   \n",
       "2    2020-01-29               Bayern           4                0   \n",
       "3    2020-01-31               Bayern           7                0   \n",
       "4    2020-02-03               Bayern           8                0   \n",
       "...         ...                  ...         ...              ...   \n",
       "1125 2020-05-11             Saarland        2665              144   \n",
       "1126 2020-05-11              Sachsen        4947              190   \n",
       "1127 2020-05-11       Sachsen-Anhalt        1648               50   \n",
       "1128 2020-05-11   Schleswig-Holstein        2956              125   \n",
       "1129 2020-05-11            Thüringen        2594              118   \n",
       "\n",
       "      AnzahlGenesen  \n",
       "0                 2  \n",
       "1                 2  \n",
       "2                 4  \n",
       "3                 7  \n",
       "4                 8  \n",
       "...             ...  \n",
       "1125           2363  \n",
       "1126           4287  \n",
       "1127           1453  \n",
       "1128           2526  \n",
       "1129           2099  \n",
       "\n",
       "[1130 rows x 5 columns]"
      ]
     },
     "execution_count": 66,
     "metadata": {},
     "output_type": "execute_result"
    }
   ],
   "source": [
    "df_sta_cum"
   ]
  },
  {
   "cell_type": "code",
   "execution_count": 67,
   "metadata": {},
   "outputs": [
    {
     "data": {
      "text/html": [
       "\n",
       "<div id=\"altair-viz-0200945a5d1c4c3b9422eb4899cf9a69\"></div>\n",
       "<script type=\"text/javascript\">\n",
       "  (function(spec, embedOpt){\n",
       "    let outputDiv = document.currentScript.previousElementSibling;\n",
       "    if (outputDiv.id !== \"altair-viz-0200945a5d1c4c3b9422eb4899cf9a69\") {\n",
       "      outputDiv = document.getElementById(\"altair-viz-0200945a5d1c4c3b9422eb4899cf9a69\");\n",
       "    }\n",
       "    const paths = {\n",
       "      \"vega\": \"https://cdn.jsdelivr.net/npm//vega@5?noext\",\n",
       "      \"vega-lib\": \"https://cdn.jsdelivr.net/npm//vega-lib?noext\",\n",
       "      \"vega-lite\": \"https://cdn.jsdelivr.net/npm//vega-lite@4.8.1?noext\",\n",
       "      \"vega-embed\": \"https://cdn.jsdelivr.net/npm//vega-embed@6?noext\",\n",
       "    };\n",
       "\n",
       "    function loadScript(lib) {\n",
       "      return new Promise(function(resolve, reject) {\n",
       "        var s = document.createElement('script');\n",
       "        s.src = paths[lib];\n",
       "        s.async = true;\n",
       "        s.onload = () => resolve(paths[lib]);\n",
       "        s.onerror = () => reject(`Error loading script: ${paths[lib]}`);\n",
       "        document.getElementsByTagName(\"head\")[0].appendChild(s);\n",
       "      });\n",
       "    }\n",
       "\n",
       "    function showError(err) {\n",
       "      outputDiv.innerHTML = `<div class=\"error\" style=\"color:red;\">${err}</div>`;\n",
       "      throw err;\n",
       "    }\n",
       "\n",
       "    function displayChart(vegaEmbed) {\n",
       "      vegaEmbed(outputDiv, spec, embedOpt)\n",
       "        .catch(err => showError(`Javascript Error: ${err.message}<br>This usually means there's a typo in your chart specification. See the javascript console for the full traceback.`));\n",
       "    }\n",
       "\n",
       "    if(typeof define === \"function\" && define.amd) {\n",
       "      requirejs.config({paths});\n",
       "      require([\"vega-embed\"], displayChart, err => showError(`Error loading script: ${err.message}`));\n",
       "    } else if (typeof vegaEmbed === \"function\") {\n",
       "      displayChart(vegaEmbed);\n",
       "    } else {\n",
       "      loadScript(\"vega\")\n",
       "        .then(() => loadScript(\"vega-lite\"))\n",
       "        .then(() => loadScript(\"vega-embed\"))\n",
       "        .catch(showError)\n",
       "        .then(() => displayChart(vegaEmbed));\n",
       "    }\n",
       "  })({\"config\": {\"view\": {\"continuousWidth\": 400, \"continuousHeight\": 300}}, \"data\": {\"name\": \"data-ea74cc334639bded713a0de8b29331e9\"}, \"mark\": {\"type\": \"line\", \"point\": true}, \"encoding\": {\"color\": {\"type\": \"nominal\", \"field\": \"Bundesland\"}, \"tooltip\": [{\"type\": \"nominal\", \"field\": \"Bundesland\"}, {\"type\": \"quantitative\", \"field\": \"AnzahlFall\"}], \"x\": {\"type\": \"ordinal\", \"field\": \"Meldedatum\", \"timeUnit\": \"monthdate\", \"title\": \"Date\"}, \"y\": {\"type\": \"quantitative\", \"aggregate\": \"mean\", \"field\": \"AnzahlTodesfall\", \"title\": \"Cumulative Cases\"}}, \"height\": 400, \"selection\": {\"selector005\": {\"type\": \"interval\", \"bind\": \"scales\", \"encodings\": [\"x\", \"y\"]}}, \"title\": \"Number of Cases\", \"width\": 800, \"$schema\": \"https://vega.github.io/schema/vega-lite/v4.8.1.json\", \"datasets\": {\"data-ea74cc334639bded713a0de8b29331e9\": [{\"Meldedatum\": \"2020-01-28T00:00:00\", \"Bundesland\": \"Bayern\", \"AnzahlFall\": 2, \"AnzahlTodesfall\": 0, \"AnzahlGenesen\": 2}, {\"Meldedatum\": \"2020-01-29T00:00:00\", \"Bundesland\": \"Bayern\", \"AnzahlFall\": 4, \"AnzahlTodesfall\": 0, \"AnzahlGenesen\": 4}, {\"Meldedatum\": \"2020-01-31T00:00:00\", \"Bundesland\": \"Bayern\", \"AnzahlFall\": 7, \"AnzahlTodesfall\": 0, \"AnzahlGenesen\": 7}, {\"Meldedatum\": \"2020-02-03T00:00:00\", \"Bundesland\": \"Bayern\", \"AnzahlFall\": 8, \"AnzahlTodesfall\": 0, \"AnzahlGenesen\": 8}, {\"Meldedatum\": \"2020-02-04T00:00:00\", \"Bundesland\": \"Bayern\", \"AnzahlFall\": 11, \"AnzahlTodesfall\": 0, \"AnzahlGenesen\": 11}, {\"Meldedatum\": \"2020-02-04T00:00:00\", \"Bundesland\": \"Niedersachsen\", \"AnzahlFall\": 1, \"AnzahlTodesfall\": 0, \"AnzahlGenesen\": 1}, {\"Meldedatum\": \"2020-02-06T00:00:00\", \"Bundesland\": \"Bayern\", \"AnzahlFall\": 12, \"AnzahlTodesfall\": 0, \"AnzahlGenesen\": 12}, {\"Meldedatum\": \"2020-02-07T00:00:00\", \"Bundesland\": \"Bayern\", \"AnzahlFall\": 13, \"AnzahlTodesfall\": 0, \"AnzahlGenesen\": 13}, {\"Meldedatum\": \"2020-02-11T00:00:00\", \"Bundesland\": \"Bayern\", \"AnzahlFall\": 15, \"AnzahlTodesfall\": 0, \"AnzahlGenesen\": 15}, {\"Meldedatum\": \"2020-02-12T00:00:00\", \"Bundesland\": \"Bayern\", \"AnzahlFall\": 16, \"AnzahlTodesfall\": 0, \"AnzahlGenesen\": 16}, {\"Meldedatum\": \"2020-02-27T00:00:00\", \"Bundesland\": \"Bayern\", \"AnzahlFall\": 17, \"AnzahlTodesfall\": 0, \"AnzahlGenesen\": 17}, {\"Meldedatum\": \"2020-02-28T00:00:00\", \"Bundesland\": \"Bayern\", \"AnzahlFall\": 20, \"AnzahlTodesfall\": 0, \"AnzahlGenesen\": 20}, {\"Meldedatum\": \"2020-02-29T00:00:00\", \"Bundesland\": \"Bayern\", \"AnzahlFall\": 21, \"AnzahlTodesfall\": 0, \"AnzahlGenesen\": 21}, {\"Meldedatum\": \"2020-03-01T00:00:00\", \"Bundesland\": \"Bayern\", \"AnzahlFall\": 25, \"AnzahlTodesfall\": 0, \"AnzahlGenesen\": 25}, {\"Meldedatum\": \"2020-03-01T00:00:00\", \"Bundesland\": \"Niedersachsen\", \"AnzahlFall\": 2, \"AnzahlTodesfall\": 0, \"AnzahlGenesen\": 2}, {\"Meldedatum\": \"2020-03-02T00:00:00\", \"Bundesland\": \"Bayern\", \"AnzahlFall\": 31, \"AnzahlTodesfall\": 0, \"AnzahlGenesen\": 31}, {\"Meldedatum\": \"2020-03-02T00:00:00\", \"Bundesland\": \"Niedersachsen\", \"AnzahlFall\": 4, \"AnzahlTodesfall\": 0, \"AnzahlGenesen\": 4}, {\"Meldedatum\": \"2020-03-03T00:00:00\", \"Bundesland\": \"Bayern\", \"AnzahlFall\": 38, \"AnzahlTodesfall\": 0, \"AnzahlGenesen\": 38}, {\"Meldedatum\": \"2020-03-03T00:00:00\", \"Bundesland\": \"Niedersachsen\", \"AnzahlFall\": 10, \"AnzahlTodesfall\": 0, \"AnzahlGenesen\": 10}, {\"Meldedatum\": \"2020-03-04T00:00:00\", \"Bundesland\": \"Bayern\", \"AnzahlFall\": 48, \"AnzahlTodesfall\": 0, \"AnzahlGenesen\": 48}, {\"Meldedatum\": \"2020-03-04T00:00:00\", \"Bundesland\": \"Niedersachsen\", \"AnzahlFall\": 14, \"AnzahlTodesfall\": 0, \"AnzahlGenesen\": 14}, {\"Meldedatum\": \"2020-03-05T00:00:00\", \"Bundesland\": \"Bayern\", \"AnzahlFall\": 70, \"AnzahlTodesfall\": 1, \"AnzahlGenesen\": 69}, {\"Meldedatum\": \"2020-03-05T00:00:00\", \"Bundesland\": \"Niedersachsen\", \"AnzahlFall\": 20, \"AnzahlTodesfall\": 0, \"AnzahlGenesen\": 20}, {\"Meldedatum\": \"2020-03-06T00:00:00\", \"Bundesland\": \"Bayern\", \"AnzahlFall\": 119, \"AnzahlTodesfall\": 1, \"AnzahlGenesen\": 117}, {\"Meldedatum\": \"2020-03-06T00:00:00\", \"Bundesland\": \"Niedersachsen\", \"AnzahlFall\": 27, \"AnzahlTodesfall\": 0, \"AnzahlGenesen\": 27}, {\"Meldedatum\": \"2020-03-07T00:00:00\", \"Bundesland\": \"Bayern\", \"AnzahlFall\": 137, \"AnzahlTodesfall\": 1, \"AnzahlGenesen\": 135}, {\"Meldedatum\": \"2020-03-07T00:00:00\", \"Bundesland\": \"Niedersachsen\", \"AnzahlFall\": 35, \"AnzahlTodesfall\": 0, \"AnzahlGenesen\": 35}, {\"Meldedatum\": \"2020-03-08T00:00:00\", \"Bundesland\": \"Bayern\", \"AnzahlFall\": 156, \"AnzahlTodesfall\": 1, \"AnzahlGenesen\": 154}, {\"Meldedatum\": \"2020-03-08T00:00:00\", \"Bundesland\": \"Niedersachsen\", \"AnzahlFall\": 39, \"AnzahlTodesfall\": 0, \"AnzahlGenesen\": 39}, {\"Meldedatum\": \"2020-03-09T00:00:00\", \"Bundesland\": \"Bayern\", \"AnzahlFall\": 239, \"AnzahlTodesfall\": 1, \"AnzahlGenesen\": 237}, {\"Meldedatum\": \"2020-03-09T00:00:00\", \"Bundesland\": \"Niedersachsen\", \"AnzahlFall\": 55, \"AnzahlTodesfall\": 0, \"AnzahlGenesen\": 55}, {\"Meldedatum\": \"2020-03-10T00:00:00\", \"Bundesland\": \"Bayern\", \"AnzahlFall\": 340, \"AnzahlTodesfall\": 4, \"AnzahlGenesen\": 335}, {\"Meldedatum\": \"2020-03-10T00:00:00\", \"Bundesland\": \"Niedersachsen\", \"AnzahlFall\": 90, \"AnzahlTodesfall\": 1, \"AnzahlGenesen\": 89}, {\"Meldedatum\": \"2020-03-11T00:00:00\", \"Bundesland\": \"Bayern\", \"AnzahlFall\": 452, \"AnzahlTodesfall\": 5, \"AnzahlGenesen\": 446}, {\"Meldedatum\": \"2020-03-11T00:00:00\", \"Bundesland\": \"Niedersachsen\", \"AnzahlFall\": 152, \"AnzahlTodesfall\": 1, \"AnzahlGenesen\": 151}, {\"Meldedatum\": \"2020-03-12T00:00:00\", \"Bundesland\": \"Bayern\", \"AnzahlFall\": 583, \"AnzahlTodesfall\": 7, \"AnzahlGenesen\": 575}, {\"Meldedatum\": \"2020-03-12T00:00:00\", \"Bundesland\": \"Niedersachsen\", \"AnzahlFall\": 221, \"AnzahlTodesfall\": 2, \"AnzahlGenesen\": 219}, {\"Meldedatum\": \"2020-03-13T00:00:00\", \"Bundesland\": \"Bayern\", \"AnzahlFall\": 831, \"AnzahlTodesfall\": 10, \"AnzahlGenesen\": 820}, {\"Meldedatum\": \"2020-03-13T00:00:00\", \"Bundesland\": \"Niedersachsen\", \"AnzahlFall\": 305, \"AnzahlTodesfall\": 2, \"AnzahlGenesen\": 303}, {\"Meldedatum\": \"2020-03-14T00:00:00\", \"Bundesland\": \"Bayern\", \"AnzahlFall\": 1063, \"AnzahlTodesfall\": 15, \"AnzahlGenesen\": 1047}, {\"Meldedatum\": \"2020-03-14T00:00:00\", \"Bundesland\": \"Niedersachsen\", \"AnzahlFall\": 377, \"AnzahlTodesfall\": 2, \"AnzahlGenesen\": 375}, {\"Meldedatum\": \"2020-03-15T00:00:00\", \"Bundesland\": \"Bayern\", \"AnzahlFall\": 1221, \"AnzahlTodesfall\": 18, \"AnzahlGenesen\": 1202}, {\"Meldedatum\": \"2020-03-15T00:00:00\", \"Bundesland\": \"Niedersachsen\", \"AnzahlFall\": 442, \"AnzahlTodesfall\": 2, \"AnzahlGenesen\": 440}, {\"Meldedatum\": \"2020-03-16T00:00:00\", \"Bundesland\": \"Bayern\", \"AnzahlFall\": 1484, \"AnzahlTodesfall\": 26, \"AnzahlGenesen\": 1457}, {\"Meldedatum\": \"2020-03-16T00:00:00\", \"Bundesland\": \"Niedersachsen\", \"AnzahlFall\": 596, \"AnzahlTodesfall\": 2, \"AnzahlGenesen\": 594}, {\"Meldedatum\": \"2020-03-17T00:00:00\", \"Bundesland\": \"Bayern\", \"AnzahlFall\": 1942, \"AnzahlTodesfall\": 35, \"AnzahlGenesen\": 1906}, {\"Meldedatum\": \"2020-03-17T00:00:00\", \"Bundesland\": \"Niedersachsen\", \"AnzahlFall\": 771, \"AnzahlTodesfall\": 3, \"AnzahlGenesen\": 768}, {\"Meldedatum\": \"2020-03-18T00:00:00\", \"Bundesland\": \"Bayern\", \"AnzahlFall\": 2657, \"AnzahlTodesfall\": 47, \"AnzahlGenesen\": 2609}, {\"Meldedatum\": \"2020-03-18T00:00:00\", \"Bundesland\": \"Niedersachsen\", \"AnzahlFall\": 1045, \"AnzahlTodesfall\": 8, \"AnzahlGenesen\": 1037}, {\"Meldedatum\": \"2020-03-19T00:00:00\", \"Bundesland\": \"Bayern\", \"AnzahlFall\": 3433, \"AnzahlTodesfall\": 57, \"AnzahlGenesen\": 3375}, {\"Meldedatum\": \"2020-03-19T00:00:00\", \"Bundesland\": \"Niedersachsen\", \"AnzahlFall\": 1312, \"AnzahlTodesfall\": 10, \"AnzahlGenesen\": 1302}, {\"Meldedatum\": \"2020-03-20T00:00:00\", \"Bundesland\": \"Bayern\", \"AnzahlFall\": 4337, \"AnzahlTodesfall\": 84, \"AnzahlGenesen\": 4252}, {\"Meldedatum\": \"2020-03-20T00:00:00\", \"Bundesland\": \"Niedersachsen\", \"AnzahlFall\": 1580, \"AnzahlTodesfall\": 17, \"AnzahlGenesen\": 1563}, {\"Meldedatum\": \"2020-03-21T00:00:00\", \"Bundesland\": \"Bayern\", \"AnzahlFall\": 5398, \"AnzahlTodesfall\": 121, \"AnzahlGenesen\": 5276}, {\"Meldedatum\": \"2020-03-21T00:00:00\", \"Bundesland\": \"Niedersachsen\", \"AnzahlFall\": 1760, \"AnzahlTodesfall\": 21, \"AnzahlGenesen\": 1739}, {\"Meldedatum\": \"2020-03-22T00:00:00\", \"Bundesland\": \"Bayern\", \"AnzahlFall\": 6005, \"AnzahlTodesfall\": 143, \"AnzahlGenesen\": 5861}, {\"Meldedatum\": \"2020-03-22T00:00:00\", \"Bundesland\": \"Niedersachsen\", \"AnzahlFall\": 1868, \"AnzahlTodesfall\": 21, \"AnzahlGenesen\": 1847}, {\"Meldedatum\": \"2020-03-23T00:00:00\", \"Bundesland\": \"Bayern\", \"AnzahlFall\": 6701, \"AnzahlTodesfall\": 187, \"AnzahlGenesen\": 6513}, {\"Meldedatum\": \"2020-03-23T00:00:00\", \"Bundesland\": \"Niedersachsen\", \"AnzahlFall\": 2110, \"AnzahlTodesfall\": 24, \"AnzahlGenesen\": 2086}, {\"Meldedatum\": \"2020-03-24T00:00:00\", \"Bundesland\": \"Bayern\", \"AnzahlFall\": 7835, \"AnzahlTodesfall\": 233, \"AnzahlGenesen\": 7600}, {\"Meldedatum\": \"2020-03-24T00:00:00\", \"Bundesland\": \"Niedersachsen\", \"AnzahlFall\": 2409, \"AnzahlTodesfall\": 28, \"AnzahlGenesen\": 2380}, {\"Meldedatum\": \"2020-03-25T00:00:00\", \"Bundesland\": \"Bayern\", \"AnzahlFall\": 9464, \"AnzahlTodesfall\": 284, \"AnzahlGenesen\": 9178}, {\"Meldedatum\": \"2020-03-25T00:00:00\", \"Bundesland\": \"Niedersachsen\", \"AnzahlFall\": 2787, \"AnzahlTodesfall\": 45, \"AnzahlGenesen\": 2741}, {\"Meldedatum\": \"2020-03-26T00:00:00\", \"Bundesland\": \"Bayern\", \"AnzahlFall\": 11108, \"AnzahlTodesfall\": 371, \"AnzahlGenesen\": 10734}, {\"Meldedatum\": \"2020-03-26T00:00:00\", \"Bundesland\": \"Niedersachsen\", \"AnzahlFall\": 3160, \"AnzahlTodesfall\": 56, \"AnzahlGenesen\": 3103}, {\"Meldedatum\": \"2020-03-27T00:00:00\", \"Bundesland\": \"Bayern\", \"AnzahlFall\": 12884, \"AnzahlTodesfall\": 451, \"AnzahlGenesen\": 12429}, {\"Meldedatum\": \"2020-03-27T00:00:00\", \"Bundesland\": \"Niedersachsen\", \"AnzahlFall\": 3569, \"AnzahlTodesfall\": 92, \"AnzahlGenesen\": 3476}, {\"Meldedatum\": \"2020-03-28T00:00:00\", \"Bundesland\": \"Bayern\", \"AnzahlFall\": 14345, \"AnzahlTodesfall\": 536, \"AnzahlGenesen\": 13804}, {\"Meldedatum\": \"2020-03-28T00:00:00\", \"Bundesland\": \"Niedersachsen\", \"AnzahlFall\": 3919, \"AnzahlTodesfall\": 119, \"AnzahlGenesen\": 3799}, {\"Meldedatum\": \"2020-03-29T00:00:00\", \"Bundesland\": \"Bayern\", \"AnzahlFall\": 15214, \"AnzahlTodesfall\": 581, \"AnzahlGenesen\": 14626}, {\"Meldedatum\": \"2020-03-29T00:00:00\", \"Bundesland\": \"Niedersachsen\", \"AnzahlFall\": 4095, \"AnzahlTodesfall\": 134, \"AnzahlGenesen\": 3960}, {\"Meldedatum\": \"2020-03-30T00:00:00\", \"Bundesland\": \"Bayern\", \"AnzahlFall\": 16226, \"AnzahlTodesfall\": 650, \"AnzahlGenesen\": 15566}, {\"Meldedatum\": \"2020-03-30T00:00:00\", \"Bundesland\": \"Niedersachsen\", \"AnzahlFall\": 4406, \"AnzahlTodesfall\": 152, \"AnzahlGenesen\": 4253}, {\"Meldedatum\": \"2020-03-31T00:00:00\", \"Bundesland\": \"Bayern\", \"AnzahlFall\": 18005, \"AnzahlTodesfall\": 752, \"AnzahlGenesen\": 17237}, {\"Meldedatum\": \"2020-03-31T00:00:00\", \"Bundesland\": \"Niedersachsen\", \"AnzahlFall\": 4766, \"AnzahlTodesfall\": 166, \"AnzahlGenesen\": 4599}, {\"Meldedatum\": \"2020-04-01T00:00:00\", \"Bundesland\": \"Bayern\", \"AnzahlFall\": 19962, \"AnzahlTodesfall\": 851, \"AnzahlGenesen\": 19092}, {\"Meldedatum\": \"2020-04-01T00:00:00\", \"Bundesland\": \"Niedersachsen\", \"AnzahlFall\": 5133, \"AnzahlTodesfall\": 186, \"AnzahlGenesen\": 4946}, {\"Meldedatum\": \"2020-04-02T00:00:00\", \"Bundesland\": \"Bayern\", \"AnzahlFall\": 21916, \"AnzahlTodesfall\": 966, \"AnzahlGenesen\": 20928}, {\"Meldedatum\": \"2020-04-02T00:00:00\", \"Bundesland\": \"Niedersachsen\", \"AnzahlFall\": 5465, \"AnzahlTodesfall\": 205, \"AnzahlGenesen\": 5259}, {\"Meldedatum\": \"2020-04-03T00:00:00\", \"Bundesland\": \"Bayern\", \"AnzahlFall\": 23907, \"AnzahlTodesfall\": 1063, \"AnzahlGenesen\": 22820}, {\"Meldedatum\": \"2020-04-03T00:00:00\", \"Bundesland\": \"Niedersachsen\", \"AnzahlFall\": 5854, \"AnzahlTodesfall\": 235, \"AnzahlGenesen\": 5617}, {\"Meldedatum\": \"2020-04-04T00:00:00\", \"Bundesland\": \"Bayern\", \"AnzahlFall\": 25343, \"AnzahlTodesfall\": 1127, \"AnzahlGenesen\": 24190}, {\"Meldedatum\": \"2020-04-04T00:00:00\", \"Bundesland\": \"Niedersachsen\", \"AnzahlFall\": 6080, \"AnzahlTodesfall\": 255, \"AnzahlGenesen\": 5823}, {\"Meldedatum\": \"2020-04-05T00:00:00\", \"Bundesland\": \"Bayern\", \"AnzahlFall\": 26039, \"AnzahlTodesfall\": 1169, \"AnzahlGenesen\": 24844}, {\"Meldedatum\": \"2020-04-05T00:00:00\", \"Bundesland\": \"Niedersachsen\", \"AnzahlFall\": 6222, \"AnzahlTodesfall\": 263, \"AnzahlGenesen\": 5956}, {\"Meldedatum\": \"2020-04-06T00:00:00\", \"Bundesland\": \"Bayern\", \"AnzahlFall\": 27177, \"AnzahlTodesfall\": 1237, \"AnzahlGenesen\": 25912}, {\"Meldedatum\": \"2020-04-06T00:00:00\", \"Bundesland\": \"Niedersachsen\", \"AnzahlFall\": 6451, \"AnzahlTodesfall\": 289, \"AnzahlGenesen\": 6157}, {\"Meldedatum\": \"2020-04-07T00:00:00\", \"Bundesland\": \"Bayern\", \"AnzahlFall\": 28700, \"AnzahlTodesfall\": 1316, \"AnzahlGenesen\": 27355}, {\"Meldedatum\": \"2020-04-07T00:00:00\", \"Bundesland\": \"Niedersachsen\", \"AnzahlFall\": 6827, \"AnzahlTodesfall\": 307, \"AnzahlGenesen\": 6514}, {\"Meldedatum\": \"2020-04-08T00:00:00\", \"Bundesland\": \"Bayern\", \"AnzahlFall\": 30266, \"AnzahlTodesfall\": 1399, \"AnzahlGenesen\": 28838}, {\"Meldedatum\": \"2020-04-08T00:00:00\", \"Bundesland\": \"Niedersachsen\", \"AnzahlFall\": 7162, \"AnzahlTodesfall\": 330, \"AnzahlGenesen\": 6825}, {\"Meldedatum\": \"2020-04-09T00:00:00\", \"Bundesland\": \"Bayern\", \"AnzahlFall\": 31554, \"AnzahlTodesfall\": 1483, \"AnzahlGenesen\": 30041}, {\"Meldedatum\": \"2020-04-09T00:00:00\", \"Bundesland\": \"Niedersachsen\", \"AnzahlFall\": 7474, \"AnzahlTodesfall\": 346, \"AnzahlGenesen\": 7121}, {\"Meldedatum\": \"2020-04-10T00:00:00\", \"Bundesland\": \"Bayern\", \"AnzahlFall\": 32477, \"AnzahlTodesfall\": 1531, \"AnzahlGenesen\": 30914}, {\"Meldedatum\": \"2020-04-10T00:00:00\", \"Bundesland\": \"Niedersachsen\", \"AnzahlFall\": 7736, \"AnzahlTodesfall\": 359, \"AnzahlGenesen\": 7370}, {\"Meldedatum\": \"2020-04-11T00:00:00\", \"Bundesland\": \"Bayern\", \"AnzahlFall\": 33266, \"AnzahlTodesfall\": 1591, \"AnzahlGenesen\": 31639}, {\"Meldedatum\": \"2020-04-11T00:00:00\", \"Bundesland\": \"Niedersachsen\", \"AnzahlFall\": 7864, \"AnzahlTodesfall\": 366, \"AnzahlGenesen\": 7490}, {\"Meldedatum\": \"2020-04-12T00:00:00\", \"Bundesland\": \"Bayern\", \"AnzahlFall\": 33676, \"AnzahlTodesfall\": 1628, \"AnzahlGenesen\": 32011}, {\"Meldedatum\": \"2020-04-12T00:00:00\", \"Bundesland\": \"Niedersachsen\", \"AnzahlFall\": 8014, \"AnzahlTodesfall\": 378, \"AnzahlGenesen\": 7628}, {\"Meldedatum\": \"2020-04-13T00:00:00\", \"Bundesland\": \"Bayern\", \"AnzahlFall\": 34137, \"AnzahlTodesfall\": 1671, \"AnzahlGenesen\": 32428}, {\"Meldedatum\": \"2020-04-13T00:00:00\", \"Bundesland\": \"Niedersachsen\", \"AnzahlFall\": 8091, \"AnzahlTodesfall\": 386, \"AnzahlGenesen\": 7696}, {\"Meldedatum\": \"2020-04-14T00:00:00\", \"Bundesland\": \"Bayern\", \"AnzahlFall\": 34880, \"AnzahlTodesfall\": 1735, \"AnzahlGenesen\": 33106}, {\"Meldedatum\": \"2020-04-14T00:00:00\", \"Bundesland\": \"Niedersachsen\", \"AnzahlFall\": 8259, \"AnzahlTodesfall\": 403, \"AnzahlGenesen\": 7844}, {\"Meldedatum\": \"2020-04-15T00:00:00\", \"Bundesland\": \"Bayern\", \"AnzahlFall\": 35797, \"AnzahlTodesfall\": 1785, \"AnzahlGenesen\": 33802}, {\"Meldedatum\": \"2020-04-15T00:00:00\", \"Bundesland\": \"Niedersachsen\", \"AnzahlFall\": 8486, \"AnzahlTodesfall\": 419, \"AnzahlGenesen\": 8040}, {\"Meldedatum\": \"2020-04-16T00:00:00\", \"Bundesland\": \"Bayern\", \"AnzahlFall\": 36669, \"AnzahlTodesfall\": 1839, \"AnzahlGenesen\": 34441}, {\"Meldedatum\": \"2020-04-16T00:00:00\", \"Bundesland\": \"Niedersachsen\", \"AnzahlFall\": 8729, \"AnzahlTodesfall\": 429, \"AnzahlGenesen\": 8251}, {\"Meldedatum\": \"2020-04-17T00:00:00\", \"Bundesland\": \"Bayern\", \"AnzahlFall\": 37488, \"AnzahlTodesfall\": 1889, \"AnzahlGenesen\": 35002}, {\"Meldedatum\": \"2020-04-17T00:00:00\", \"Bundesland\": \"Niedersachsen\", \"AnzahlFall\": 8924, \"AnzahlTodesfall\": 437, \"AnzahlGenesen\": 8406}, {\"Meldedatum\": \"2020-04-18T00:00:00\", \"Bundesland\": \"Bayern\", \"AnzahlFall\": 37964, \"AnzahlTodesfall\": 1916, \"AnzahlGenesen\": 35369}, {\"Meldedatum\": \"2020-04-18T00:00:00\", \"Bundesland\": \"Niedersachsen\", \"AnzahlFall\": 9066, \"AnzahlTodesfall\": 441, \"AnzahlGenesen\": 8513}, {\"Meldedatum\": \"2020-04-19T00:00:00\", \"Bundesland\": \"Bayern\", \"AnzahlFall\": 38361, \"AnzahlTodesfall\": 1943, \"AnzahlGenesen\": 35605}, {\"Meldedatum\": \"2020-04-19T00:00:00\", \"Bundesland\": \"Niedersachsen\", \"AnzahlFall\": 9163, \"AnzahlTodesfall\": 448, \"AnzahlGenesen\": 8565}, {\"Meldedatum\": \"2020-04-20T00:00:00\", \"Bundesland\": \"Bayern\", \"AnzahlFall\": 38766, \"AnzahlTodesfall\": 1974, \"AnzahlGenesen\": 35823}, {\"Meldedatum\": \"2020-04-20T00:00:00\", \"Bundesland\": \"Niedersachsen\", \"AnzahlFall\": 9290, \"AnzahlTodesfall\": 458, \"AnzahlGenesen\": 8665}, {\"Meldedatum\": \"2020-04-21T00:00:00\", \"Bundesland\": \"Bayern\", \"AnzahlFall\": 39281, \"AnzahlTodesfall\": 2006, \"AnzahlGenesen\": 36183}, {\"Meldedatum\": \"2020-04-21T00:00:00\", \"Bundesland\": \"Niedersachsen\", \"AnzahlFall\": 9453, \"AnzahlTodesfall\": 466, \"AnzahlGenesen\": 8785}, {\"Meldedatum\": \"2020-04-22T00:00:00\", \"Bundesland\": \"Bayern\", \"AnzahlFall\": 39879, \"AnzahlTodesfall\": 2036, \"AnzahlGenesen\": 36579}, {\"Meldedatum\": \"2020-04-22T00:00:00\", \"Bundesland\": \"Niedersachsen\", \"AnzahlFall\": 9616, \"AnzahlTodesfall\": 471, \"AnzahlGenesen\": 8895}, {\"Meldedatum\": \"2020-04-23T00:00:00\", \"Bundesland\": \"Bayern\", \"AnzahlFall\": 40463, \"AnzahlTodesfall\": 2066, \"AnzahlGenesen\": 36947}, {\"Meldedatum\": \"2020-04-23T00:00:00\", \"Bundesland\": \"Niedersachsen\", \"AnzahlFall\": 9756, \"AnzahlTodesfall\": 479, \"AnzahlGenesen\": 8975}, {\"Meldedatum\": \"2020-04-24T00:00:00\", \"Bundesland\": \"Bayern\", \"AnzahlFall\": 40978, \"AnzahlTodesfall\": 2087, \"AnzahlGenesen\": 37320}, {\"Meldedatum\": \"2020-04-24T00:00:00\", \"Bundesland\": \"Niedersachsen\", \"AnzahlFall\": 9877, \"AnzahlTodesfall\": 483, \"AnzahlGenesen\": 9053}, {\"Meldedatum\": \"2020-04-25T00:00:00\", \"Bundesland\": \"Bayern\", \"AnzahlFall\": 41312, \"AnzahlTodesfall\": 2099, \"AnzahlGenesen\": 37504}, {\"Meldedatum\": \"2020-04-25T00:00:00\", \"Bundesland\": \"Niedersachsen\", \"AnzahlFall\": 9941, \"AnzahlTodesfall\": 485, \"AnzahlGenesen\": 9086}, {\"Meldedatum\": \"2020-04-26T00:00:00\", \"Bundesland\": \"Bayern\", \"AnzahlFall\": 41485, \"AnzahlTodesfall\": 2108, \"AnzahlGenesen\": 37608}, {\"Meldedatum\": \"2020-04-26T00:00:00\", \"Bundesland\": \"Niedersachsen\", \"AnzahlFall\": 9992, \"AnzahlTodesfall\": 486, \"AnzahlGenesen\": 9105}, {\"Meldedatum\": \"2020-04-27T00:00:00\", \"Bundesland\": \"Bayern\", \"AnzahlFall\": 41837, \"AnzahlTodesfall\": 2125, \"AnzahlGenesen\": 37808}, {\"Meldedatum\": \"2020-04-27T00:00:00\", \"Bundesland\": \"Niedersachsen\", \"AnzahlFall\": 10069, \"AnzahlTodesfall\": 490, \"AnzahlGenesen\": 9166}, {\"Meldedatum\": \"2020-04-28T00:00:00\", \"Bundesland\": \"Bayern\", \"AnzahlFall\": 42184, \"AnzahlTodesfall\": 2133, \"AnzahlGenesen\": 38022}, {\"Meldedatum\": \"2020-04-28T00:00:00\", \"Bundesland\": \"Niedersachsen\", \"AnzahlFall\": 10168, \"AnzahlTodesfall\": 494, \"AnzahlGenesen\": 9226}, {\"Meldedatum\": \"2020-04-29T00:00:00\", \"Bundesland\": \"Bayern\", \"AnzahlFall\": 42484, \"AnzahlTodesfall\": 2142, \"AnzahlGenesen\": 38106}, {\"Meldedatum\": \"2020-04-29T00:00:00\", \"Bundesland\": \"Niedersachsen\", \"AnzahlFall\": 10254, \"AnzahlTodesfall\": 499, \"AnzahlGenesen\": 9263}, {\"Meldedatum\": \"2020-04-30T00:00:00\", \"Bundesland\": \"Bayern\", \"AnzahlFall\": 42783, \"AnzahlTodesfall\": 2149, \"AnzahlGenesen\": 38194}, {\"Meldedatum\": \"2020-04-30T00:00:00\", \"Bundesland\": \"Niedersachsen\", \"AnzahlFall\": 10336, \"AnzahlTodesfall\": 502, \"AnzahlGenesen\": 9286}, {\"Meldedatum\": \"2020-05-01T00:00:00\", \"Bundesland\": \"Bayern\", \"AnzahlFall\": 42988, \"AnzahlTodesfall\": 2159, \"AnzahlGenesen\": 38235}, {\"Meldedatum\": \"2020-05-01T00:00:00\", \"Bundesland\": \"Niedersachsen\", \"AnzahlFall\": 10375, \"AnzahlTodesfall\": 502, \"AnzahlGenesen\": 9294}, {\"Meldedatum\": \"2020-05-02T00:00:00\", \"Bundesland\": \"Bayern\", \"AnzahlFall\": 43138, \"AnzahlTodesfall\": 2162, \"AnzahlGenesen\": 38261}, {\"Meldedatum\": \"2020-05-02T00:00:00\", \"Bundesland\": \"Niedersachsen\", \"AnzahlFall\": 10411, \"AnzahlTodesfall\": 502, \"AnzahlGenesen\": 9304}, {\"Meldedatum\": \"2020-05-03T00:00:00\", \"Bundesland\": \"Bayern\", \"AnzahlFall\": 43225, \"AnzahlTodesfall\": 2165, \"AnzahlGenesen\": 38277}, {\"Meldedatum\": \"2020-05-03T00:00:00\", \"Bundesland\": \"Niedersachsen\", \"AnzahlFall\": 10426, \"AnzahlTodesfall\": 502, \"AnzahlGenesen\": 9309}, {\"Meldedatum\": \"2020-05-04T00:00:00\", \"Bundesland\": \"Bayern\", \"AnzahlFall\": 43395, \"AnzahlTodesfall\": 2170, \"AnzahlGenesen\": 38298}, {\"Meldedatum\": \"2020-05-04T00:00:00\", \"Bundesland\": \"Niedersachsen\", \"AnzahlFall\": 10519, \"AnzahlTodesfall\": 503, \"AnzahlGenesen\": 9326}, {\"Meldedatum\": \"2020-05-05T00:00:00\", \"Bundesland\": \"Bayern\", \"AnzahlFall\": 43600, \"AnzahlTodesfall\": 2173, \"AnzahlGenesen\": 38334}, {\"Meldedatum\": \"2020-05-05T00:00:00\", \"Bundesland\": \"Niedersachsen\", \"AnzahlFall\": 10598, \"AnzahlTodesfall\": 504, \"AnzahlGenesen\": 9341}, {\"Meldedatum\": \"2020-05-06T00:00:00\", \"Bundesland\": \"Bayern\", \"AnzahlFall\": 43861, \"AnzahlTodesfall\": 2177, \"AnzahlGenesen\": 38360}, {\"Meldedatum\": \"2020-05-06T00:00:00\", \"Bundesland\": \"Niedersachsen\", \"AnzahlFall\": 10684, \"AnzahlTodesfall\": 506, \"AnzahlGenesen\": 9351}, {\"Meldedatum\": \"2020-05-07T00:00:00\", \"Bundesland\": \"Bayern\", \"AnzahlFall\": 44091, \"AnzahlTodesfall\": 2179, \"AnzahlGenesen\": 38382}, {\"Meldedatum\": \"2020-05-07T00:00:00\", \"Bundesland\": \"Niedersachsen\", \"AnzahlFall\": 10764, \"AnzahlTodesfall\": 506, \"AnzahlGenesen\": 9359}, {\"Meldedatum\": \"2020-05-08T00:00:00\", \"Bundesland\": \"Bayern\", \"AnzahlFall\": 44292, \"AnzahlTodesfall\": 2180, \"AnzahlGenesen\": 38394}, {\"Meldedatum\": \"2020-05-08T00:00:00\", \"Bundesland\": \"Niedersachsen\", \"AnzahlFall\": 10833, \"AnzahlTodesfall\": 506, \"AnzahlGenesen\": 9363}, {\"Meldedatum\": \"2020-05-09T00:00:00\", \"Bundesland\": \"Bayern\", \"AnzahlFall\": 44407, \"AnzahlTodesfall\": 2181, \"AnzahlGenesen\": 38395}, {\"Meldedatum\": \"2020-05-09T00:00:00\", \"Bundesland\": \"Niedersachsen\", \"AnzahlFall\": 10862, \"AnzahlTodesfall\": 506, \"AnzahlGenesen\": 9364}, {\"Meldedatum\": \"2020-05-10T00:00:00\", \"Bundesland\": \"Bayern\", \"AnzahlFall\": 44481, \"AnzahlTodesfall\": 2182, \"AnzahlGenesen\": 38396}, {\"Meldedatum\": \"2020-05-10T00:00:00\", \"Bundesland\": \"Niedersachsen\", \"AnzahlFall\": 10871, \"AnzahlTodesfall\": 506, \"AnzahlGenesen\": 9364}, {\"Meldedatum\": \"2020-05-11T00:00:00\", \"Bundesland\": \"Bayern\", \"AnzahlFall\": 44593, \"AnzahlTodesfall\": 2182, \"AnzahlGenesen\": 38399}, {\"Meldedatum\": \"2020-05-11T00:00:00\", \"Bundesland\": \"Niedersachsen\", \"AnzahlFall\": 10895, \"AnzahlTodesfall\": 507, \"AnzahlGenesen\": 9366}]}}, {\"mode\": \"vega-lite\"});\n",
       "</script>"
      ],
      "text/plain": [
       "alt.Chart(...)"
      ]
     },
     "execution_count": 67,
     "metadata": {},
     "output_type": "execute_result"
    }
   ],
   "source": [
    "states_sel = ['Niedersachsen','Bayern']\n",
    "alt.Chart(df_sta_cum.loc[df_sta_cum['Bundesland'].isin(states_sel)])\\\n",
    "            .mark_line(point=True)\\\n",
    "            .encode(x=alt.X('monthdate(Meldedatum):O', title='Date'),\\\n",
    "                    y=alt.Y('mean(AnzahlTodesfall):Q', title='Cumulative Cases'),\\\n",
    "                    color='Bundesland',\\\n",
    "                    tooltip=['Bundesland','AnzahlFall'])\\\n",
    "            .properties(width=800, height=400, title='Number of Cases')\\\n",
    "            .interactive()"
   ]
  },
  {
   "cell_type": "code",
   "execution_count": 38,
   "metadata": {},
   "outputs": [],
   "source": [
    "def longify_df_cum(df_cum,cat,sel):\n",
    "    tmp = df_cum.loc[df_cum[cat]==sel].drop(columns=[cat])\n",
    "    tmp = pd.melt(tmp, id_vars = ['Meldedatum'], var_name= 'category',\\\n",
    "        value_vars = ['AnzahlFall','AnzahlTodesfall','AnzahlGenesen'],\\\n",
    "       value_name = 'Number')\n",
    "    return tmp\n",
    "    "
   ]
  },
  {
   "cell_type": "code",
   "execution_count": 24,
   "metadata": {},
   "outputs": [],
   "source": [
    "tmp = df_sta_cum.loc[df_sta_cum['Bundesland']==state_sel_cum].drop(columns=['Bundesland'])\n",
    "tmp"
   ]
  },
  {
   "cell_type": "code",
   "execution_count": 32,
   "metadata": {},
   "outputs": [],
   "source": [
    "tmp = pd.melt(tmp, id_vars = ['Meldedatum'], var_name= 'category',\\\n",
    "        value_vars = ['AnzahlFall','AnzahlTodesfall','AnzahlGenesen'],\\\n",
    "       value_name = 'Number')"
   ]
  },
  {
   "cell_type": "code",
   "execution_count": 42,
   "metadata": {},
   "outputs": [
    {
     "data": {
      "text/html": [
       "\n",
       "<div id=\"altair-viz-3878d6a5cb0a4180a93b8db7df70e167\"></div>\n",
       "<script type=\"text/javascript\">\n",
       "  (function(spec, embedOpt){\n",
       "    let outputDiv = document.currentScript.previousElementSibling;\n",
       "    if (outputDiv.id !== \"altair-viz-3878d6a5cb0a4180a93b8db7df70e167\") {\n",
       "      outputDiv = document.getElementById(\"altair-viz-3878d6a5cb0a4180a93b8db7df70e167\");\n",
       "    }\n",
       "    const paths = {\n",
       "      \"vega\": \"https://cdn.jsdelivr.net/npm//vega@5?noext\",\n",
       "      \"vega-lib\": \"https://cdn.jsdelivr.net/npm//vega-lib?noext\",\n",
       "      \"vega-lite\": \"https://cdn.jsdelivr.net/npm//vega-lite@4.8.1?noext\",\n",
       "      \"vega-embed\": \"https://cdn.jsdelivr.net/npm//vega-embed@6?noext\",\n",
       "    };\n",
       "\n",
       "    function loadScript(lib) {\n",
       "      return new Promise(function(resolve, reject) {\n",
       "        var s = document.createElement('script');\n",
       "        s.src = paths[lib];\n",
       "        s.async = true;\n",
       "        s.onload = () => resolve(paths[lib]);\n",
       "        s.onerror = () => reject(`Error loading script: ${paths[lib]}`);\n",
       "        document.getElementsByTagName(\"head\")[0].appendChild(s);\n",
       "      });\n",
       "    }\n",
       "\n",
       "    function showError(err) {\n",
       "      outputDiv.innerHTML = `<div class=\"error\" style=\"color:red;\">${err}</div>`;\n",
       "      throw err;\n",
       "    }\n",
       "\n",
       "    function displayChart(vegaEmbed) {\n",
       "      vegaEmbed(outputDiv, spec, embedOpt)\n",
       "        .catch(err => showError(`Javascript Error: ${err.message}<br>This usually means there's a typo in your chart specification. See the javascript console for the full traceback.`));\n",
       "    }\n",
       "\n",
       "    if(typeof define === \"function\" && define.amd) {\n",
       "      requirejs.config({paths});\n",
       "      require([\"vega-embed\"], displayChart, err => showError(`Error loading script: ${err.message}`));\n",
       "    } else if (typeof vegaEmbed === \"function\") {\n",
       "      displayChart(vegaEmbed);\n",
       "    } else {\n",
       "      loadScript(\"vega\")\n",
       "        .then(() => loadScript(\"vega-lite\"))\n",
       "        .then(() => loadScript(\"vega-embed\"))\n",
       "        .catch(showError)\n",
       "        .then(() => displayChart(vegaEmbed));\n",
       "    }\n",
       "  })({\"config\": {\"view\": {\"continuousWidth\": 400, \"continuousHeight\": 300}}, \"data\": {\"name\": \"data-b4bc48b2e827d7c4a5dcfb2c17e01e23\"}, \"mark\": {\"type\": \"area\", \"opacity\": 0.5, \"point\": true}, \"encoding\": {\"color\": {\"type\": \"nominal\", \"field\": \"category\"}, \"tooltip\": [{\"type\": \"temporal\", \"field\": \"Meldedatum\", \"timeUnit\": \"monthdate\"}, {\"type\": \"nominal\", \"field\": \"category\"}, {\"type\": \"quantitative\", \"field\": \"Number\"}], \"x\": {\"type\": \"ordinal\", \"field\": \"Meldedatum\", \"timeUnit\": \"monthdate\", \"title\": \"Date\"}, \"y\": {\"type\": \"quantitative\", \"aggregate\": \"mean\", \"field\": \"Number\", \"stack\": null, \"title\": \"Cumulative Cases\"}}, \"height\": 400, \"title\": \"Number of Cases in Niedersachsen\", \"width\": 800, \"$schema\": \"https://vega.github.io/schema/vega-lite/v4.8.1.json\", \"datasets\": {\"data-b4bc48b2e827d7c4a5dcfb2c17e01e23\": [{\"Meldedatum\": \"2020-02-04T00:00:00\", \"category\": \"AnzahlFall\", \"Number\": 1}, {\"Meldedatum\": \"2020-03-01T00:00:00\", \"category\": \"AnzahlFall\", \"Number\": 2}, {\"Meldedatum\": \"2020-03-02T00:00:00\", \"category\": \"AnzahlFall\", \"Number\": 4}, {\"Meldedatum\": \"2020-03-03T00:00:00\", \"category\": \"AnzahlFall\", \"Number\": 10}, {\"Meldedatum\": \"2020-03-04T00:00:00\", \"category\": \"AnzahlFall\", \"Number\": 14}, {\"Meldedatum\": \"2020-03-05T00:00:00\", \"category\": \"AnzahlFall\", \"Number\": 20}, {\"Meldedatum\": \"2020-03-06T00:00:00\", \"category\": \"AnzahlFall\", \"Number\": 27}, {\"Meldedatum\": \"2020-03-07T00:00:00\", \"category\": \"AnzahlFall\", \"Number\": 35}, {\"Meldedatum\": \"2020-03-08T00:00:00\", \"category\": \"AnzahlFall\", \"Number\": 39}, {\"Meldedatum\": \"2020-03-09T00:00:00\", \"category\": \"AnzahlFall\", \"Number\": 55}, {\"Meldedatum\": \"2020-03-10T00:00:00\", \"category\": \"AnzahlFall\", \"Number\": 90}, {\"Meldedatum\": \"2020-03-11T00:00:00\", \"category\": \"AnzahlFall\", \"Number\": 152}, {\"Meldedatum\": \"2020-03-12T00:00:00\", \"category\": \"AnzahlFall\", \"Number\": 221}, {\"Meldedatum\": \"2020-03-13T00:00:00\", \"category\": \"AnzahlFall\", \"Number\": 305}, {\"Meldedatum\": \"2020-03-14T00:00:00\", \"category\": \"AnzahlFall\", \"Number\": 377}, {\"Meldedatum\": \"2020-03-15T00:00:00\", \"category\": \"AnzahlFall\", \"Number\": 442}, {\"Meldedatum\": \"2020-03-16T00:00:00\", \"category\": \"AnzahlFall\", \"Number\": 596}, {\"Meldedatum\": \"2020-03-17T00:00:00\", \"category\": \"AnzahlFall\", \"Number\": 771}, {\"Meldedatum\": \"2020-03-18T00:00:00\", \"category\": \"AnzahlFall\", \"Number\": 1045}, {\"Meldedatum\": \"2020-03-19T00:00:00\", \"category\": \"AnzahlFall\", \"Number\": 1312}, {\"Meldedatum\": \"2020-03-20T00:00:00\", \"category\": \"AnzahlFall\", \"Number\": 1580}, {\"Meldedatum\": \"2020-03-21T00:00:00\", \"category\": \"AnzahlFall\", \"Number\": 1760}, {\"Meldedatum\": \"2020-03-22T00:00:00\", \"category\": \"AnzahlFall\", \"Number\": 1868}, {\"Meldedatum\": \"2020-03-23T00:00:00\", \"category\": \"AnzahlFall\", \"Number\": 2110}, {\"Meldedatum\": \"2020-03-24T00:00:00\", \"category\": \"AnzahlFall\", \"Number\": 2409}, {\"Meldedatum\": \"2020-03-25T00:00:00\", \"category\": \"AnzahlFall\", \"Number\": 2787}, {\"Meldedatum\": \"2020-03-26T00:00:00\", \"category\": \"AnzahlFall\", \"Number\": 3160}, {\"Meldedatum\": \"2020-03-27T00:00:00\", \"category\": \"AnzahlFall\", \"Number\": 3569}, {\"Meldedatum\": \"2020-03-28T00:00:00\", \"category\": \"AnzahlFall\", \"Number\": 3919}, {\"Meldedatum\": \"2020-03-29T00:00:00\", \"category\": \"AnzahlFall\", \"Number\": 4095}, {\"Meldedatum\": \"2020-03-30T00:00:00\", \"category\": \"AnzahlFall\", \"Number\": 4406}, {\"Meldedatum\": \"2020-03-31T00:00:00\", \"category\": \"AnzahlFall\", \"Number\": 4766}, {\"Meldedatum\": \"2020-04-01T00:00:00\", \"category\": \"AnzahlFall\", \"Number\": 5133}, {\"Meldedatum\": \"2020-04-02T00:00:00\", \"category\": \"AnzahlFall\", \"Number\": 5465}, {\"Meldedatum\": \"2020-04-03T00:00:00\", \"category\": \"AnzahlFall\", \"Number\": 5854}, {\"Meldedatum\": \"2020-04-04T00:00:00\", \"category\": \"AnzahlFall\", \"Number\": 6080}, {\"Meldedatum\": \"2020-04-05T00:00:00\", \"category\": \"AnzahlFall\", \"Number\": 6222}, {\"Meldedatum\": \"2020-04-06T00:00:00\", \"category\": \"AnzahlFall\", \"Number\": 6451}, {\"Meldedatum\": \"2020-04-07T00:00:00\", \"category\": \"AnzahlFall\", \"Number\": 6827}, {\"Meldedatum\": \"2020-04-08T00:00:00\", \"category\": \"AnzahlFall\", \"Number\": 7162}, {\"Meldedatum\": \"2020-04-09T00:00:00\", \"category\": \"AnzahlFall\", \"Number\": 7474}, {\"Meldedatum\": \"2020-04-10T00:00:00\", \"category\": \"AnzahlFall\", \"Number\": 7736}, {\"Meldedatum\": \"2020-04-11T00:00:00\", \"category\": \"AnzahlFall\", \"Number\": 7864}, {\"Meldedatum\": \"2020-04-12T00:00:00\", \"category\": \"AnzahlFall\", \"Number\": 8014}, {\"Meldedatum\": \"2020-04-13T00:00:00\", \"category\": \"AnzahlFall\", \"Number\": 8091}, {\"Meldedatum\": \"2020-04-14T00:00:00\", \"category\": \"AnzahlFall\", \"Number\": 8259}, {\"Meldedatum\": \"2020-04-15T00:00:00\", \"category\": \"AnzahlFall\", \"Number\": 8486}, {\"Meldedatum\": \"2020-04-16T00:00:00\", \"category\": \"AnzahlFall\", \"Number\": 8729}, {\"Meldedatum\": \"2020-04-17T00:00:00\", \"category\": \"AnzahlFall\", \"Number\": 8924}, {\"Meldedatum\": \"2020-04-18T00:00:00\", \"category\": \"AnzahlFall\", \"Number\": 9066}, {\"Meldedatum\": \"2020-04-19T00:00:00\", \"category\": \"AnzahlFall\", \"Number\": 9163}, {\"Meldedatum\": \"2020-04-20T00:00:00\", \"category\": \"AnzahlFall\", \"Number\": 9290}, {\"Meldedatum\": \"2020-04-21T00:00:00\", \"category\": \"AnzahlFall\", \"Number\": 9453}, {\"Meldedatum\": \"2020-04-22T00:00:00\", \"category\": \"AnzahlFall\", \"Number\": 9616}, {\"Meldedatum\": \"2020-04-23T00:00:00\", \"category\": \"AnzahlFall\", \"Number\": 9756}, {\"Meldedatum\": \"2020-04-24T00:00:00\", \"category\": \"AnzahlFall\", \"Number\": 9877}, {\"Meldedatum\": \"2020-04-25T00:00:00\", \"category\": \"AnzahlFall\", \"Number\": 9941}, {\"Meldedatum\": \"2020-04-26T00:00:00\", \"category\": \"AnzahlFall\", \"Number\": 9992}, {\"Meldedatum\": \"2020-04-27T00:00:00\", \"category\": \"AnzahlFall\", \"Number\": 10069}, {\"Meldedatum\": \"2020-04-28T00:00:00\", \"category\": \"AnzahlFall\", \"Number\": 10168}, {\"Meldedatum\": \"2020-04-29T00:00:00\", \"category\": \"AnzahlFall\", \"Number\": 10254}, {\"Meldedatum\": \"2020-04-30T00:00:00\", \"category\": \"AnzahlFall\", \"Number\": 10336}, {\"Meldedatum\": \"2020-05-01T00:00:00\", \"category\": \"AnzahlFall\", \"Number\": 10375}, {\"Meldedatum\": \"2020-05-02T00:00:00\", \"category\": \"AnzahlFall\", \"Number\": 10411}, {\"Meldedatum\": \"2020-05-03T00:00:00\", \"category\": \"AnzahlFall\", \"Number\": 10426}, {\"Meldedatum\": \"2020-05-04T00:00:00\", \"category\": \"AnzahlFall\", \"Number\": 10519}, {\"Meldedatum\": \"2020-05-05T00:00:00\", \"category\": \"AnzahlFall\", \"Number\": 10598}, {\"Meldedatum\": \"2020-05-06T00:00:00\", \"category\": \"AnzahlFall\", \"Number\": 10684}, {\"Meldedatum\": \"2020-05-07T00:00:00\", \"category\": \"AnzahlFall\", \"Number\": 10764}, {\"Meldedatum\": \"2020-05-08T00:00:00\", \"category\": \"AnzahlFall\", \"Number\": 10833}, {\"Meldedatum\": \"2020-05-09T00:00:00\", \"category\": \"AnzahlFall\", \"Number\": 10862}, {\"Meldedatum\": \"2020-05-10T00:00:00\", \"category\": \"AnzahlFall\", \"Number\": 10871}, {\"Meldedatum\": \"2020-05-11T00:00:00\", \"category\": \"AnzahlFall\", \"Number\": 10895}, {\"Meldedatum\": \"2020-02-04T00:00:00\", \"category\": \"AnzahlTodesfall\", \"Number\": 0}, {\"Meldedatum\": \"2020-03-01T00:00:00\", \"category\": \"AnzahlTodesfall\", \"Number\": 0}, {\"Meldedatum\": \"2020-03-02T00:00:00\", \"category\": \"AnzahlTodesfall\", \"Number\": 0}, {\"Meldedatum\": \"2020-03-03T00:00:00\", \"category\": \"AnzahlTodesfall\", \"Number\": 0}, {\"Meldedatum\": \"2020-03-04T00:00:00\", \"category\": \"AnzahlTodesfall\", \"Number\": 0}, {\"Meldedatum\": \"2020-03-05T00:00:00\", \"category\": \"AnzahlTodesfall\", \"Number\": 0}, {\"Meldedatum\": \"2020-03-06T00:00:00\", \"category\": \"AnzahlTodesfall\", \"Number\": 0}, {\"Meldedatum\": \"2020-03-07T00:00:00\", \"category\": \"AnzahlTodesfall\", \"Number\": 0}, {\"Meldedatum\": \"2020-03-08T00:00:00\", \"category\": \"AnzahlTodesfall\", \"Number\": 0}, {\"Meldedatum\": \"2020-03-09T00:00:00\", \"category\": \"AnzahlTodesfall\", \"Number\": 0}, {\"Meldedatum\": \"2020-03-10T00:00:00\", \"category\": \"AnzahlTodesfall\", \"Number\": 1}, {\"Meldedatum\": \"2020-03-11T00:00:00\", \"category\": \"AnzahlTodesfall\", \"Number\": 1}, {\"Meldedatum\": \"2020-03-12T00:00:00\", \"category\": \"AnzahlTodesfall\", \"Number\": 2}, {\"Meldedatum\": \"2020-03-13T00:00:00\", \"category\": \"AnzahlTodesfall\", \"Number\": 2}, {\"Meldedatum\": \"2020-03-14T00:00:00\", \"category\": \"AnzahlTodesfall\", \"Number\": 2}, {\"Meldedatum\": \"2020-03-15T00:00:00\", \"category\": \"AnzahlTodesfall\", \"Number\": 2}, {\"Meldedatum\": \"2020-03-16T00:00:00\", \"category\": \"AnzahlTodesfall\", \"Number\": 2}, {\"Meldedatum\": \"2020-03-17T00:00:00\", \"category\": \"AnzahlTodesfall\", \"Number\": 3}, {\"Meldedatum\": \"2020-03-18T00:00:00\", \"category\": \"AnzahlTodesfall\", \"Number\": 8}, {\"Meldedatum\": \"2020-03-19T00:00:00\", \"category\": \"AnzahlTodesfall\", \"Number\": 10}, {\"Meldedatum\": \"2020-03-20T00:00:00\", \"category\": \"AnzahlTodesfall\", \"Number\": 17}, {\"Meldedatum\": \"2020-03-21T00:00:00\", \"category\": \"AnzahlTodesfall\", \"Number\": 21}, {\"Meldedatum\": \"2020-03-22T00:00:00\", \"category\": \"AnzahlTodesfall\", \"Number\": 21}, {\"Meldedatum\": \"2020-03-23T00:00:00\", \"category\": \"AnzahlTodesfall\", \"Number\": 24}, {\"Meldedatum\": \"2020-03-24T00:00:00\", \"category\": \"AnzahlTodesfall\", \"Number\": 28}, {\"Meldedatum\": \"2020-03-25T00:00:00\", \"category\": \"AnzahlTodesfall\", \"Number\": 45}, {\"Meldedatum\": \"2020-03-26T00:00:00\", \"category\": \"AnzahlTodesfall\", \"Number\": 56}, {\"Meldedatum\": \"2020-03-27T00:00:00\", \"category\": \"AnzahlTodesfall\", \"Number\": 92}, {\"Meldedatum\": \"2020-03-28T00:00:00\", \"category\": \"AnzahlTodesfall\", \"Number\": 119}, {\"Meldedatum\": \"2020-03-29T00:00:00\", \"category\": \"AnzahlTodesfall\", \"Number\": 134}, {\"Meldedatum\": \"2020-03-30T00:00:00\", \"category\": \"AnzahlTodesfall\", \"Number\": 152}, {\"Meldedatum\": \"2020-03-31T00:00:00\", \"category\": \"AnzahlTodesfall\", \"Number\": 166}, {\"Meldedatum\": \"2020-04-01T00:00:00\", \"category\": \"AnzahlTodesfall\", \"Number\": 186}, {\"Meldedatum\": \"2020-04-02T00:00:00\", \"category\": \"AnzahlTodesfall\", \"Number\": 205}, {\"Meldedatum\": \"2020-04-03T00:00:00\", \"category\": \"AnzahlTodesfall\", \"Number\": 235}, {\"Meldedatum\": \"2020-04-04T00:00:00\", \"category\": \"AnzahlTodesfall\", \"Number\": 255}, {\"Meldedatum\": \"2020-04-05T00:00:00\", \"category\": \"AnzahlTodesfall\", \"Number\": 263}, {\"Meldedatum\": \"2020-04-06T00:00:00\", \"category\": \"AnzahlTodesfall\", \"Number\": 289}, {\"Meldedatum\": \"2020-04-07T00:00:00\", \"category\": \"AnzahlTodesfall\", \"Number\": 307}, {\"Meldedatum\": \"2020-04-08T00:00:00\", \"category\": \"AnzahlTodesfall\", \"Number\": 330}, {\"Meldedatum\": \"2020-04-09T00:00:00\", \"category\": \"AnzahlTodesfall\", \"Number\": 346}, {\"Meldedatum\": \"2020-04-10T00:00:00\", \"category\": \"AnzahlTodesfall\", \"Number\": 359}, {\"Meldedatum\": \"2020-04-11T00:00:00\", \"category\": \"AnzahlTodesfall\", \"Number\": 366}, {\"Meldedatum\": \"2020-04-12T00:00:00\", \"category\": \"AnzahlTodesfall\", \"Number\": 378}, {\"Meldedatum\": \"2020-04-13T00:00:00\", \"category\": \"AnzahlTodesfall\", \"Number\": 386}, {\"Meldedatum\": \"2020-04-14T00:00:00\", \"category\": \"AnzahlTodesfall\", \"Number\": 403}, {\"Meldedatum\": \"2020-04-15T00:00:00\", \"category\": \"AnzahlTodesfall\", \"Number\": 419}, {\"Meldedatum\": \"2020-04-16T00:00:00\", \"category\": \"AnzahlTodesfall\", \"Number\": 429}, {\"Meldedatum\": \"2020-04-17T00:00:00\", \"category\": \"AnzahlTodesfall\", \"Number\": 437}, {\"Meldedatum\": \"2020-04-18T00:00:00\", \"category\": \"AnzahlTodesfall\", \"Number\": 441}, {\"Meldedatum\": \"2020-04-19T00:00:00\", \"category\": \"AnzahlTodesfall\", \"Number\": 448}, {\"Meldedatum\": \"2020-04-20T00:00:00\", \"category\": \"AnzahlTodesfall\", \"Number\": 458}, {\"Meldedatum\": \"2020-04-21T00:00:00\", \"category\": \"AnzahlTodesfall\", \"Number\": 466}, {\"Meldedatum\": \"2020-04-22T00:00:00\", \"category\": \"AnzahlTodesfall\", \"Number\": 471}, {\"Meldedatum\": \"2020-04-23T00:00:00\", \"category\": \"AnzahlTodesfall\", \"Number\": 479}, {\"Meldedatum\": \"2020-04-24T00:00:00\", \"category\": \"AnzahlTodesfall\", \"Number\": 483}, {\"Meldedatum\": \"2020-04-25T00:00:00\", \"category\": \"AnzahlTodesfall\", \"Number\": 485}, {\"Meldedatum\": \"2020-04-26T00:00:00\", \"category\": \"AnzahlTodesfall\", \"Number\": 486}, {\"Meldedatum\": \"2020-04-27T00:00:00\", \"category\": \"AnzahlTodesfall\", \"Number\": 490}, {\"Meldedatum\": \"2020-04-28T00:00:00\", \"category\": \"AnzahlTodesfall\", \"Number\": 494}, {\"Meldedatum\": \"2020-04-29T00:00:00\", \"category\": \"AnzahlTodesfall\", \"Number\": 499}, {\"Meldedatum\": \"2020-04-30T00:00:00\", \"category\": \"AnzahlTodesfall\", \"Number\": 502}, {\"Meldedatum\": \"2020-05-01T00:00:00\", \"category\": \"AnzahlTodesfall\", \"Number\": 502}, {\"Meldedatum\": \"2020-05-02T00:00:00\", \"category\": \"AnzahlTodesfall\", \"Number\": 502}, {\"Meldedatum\": \"2020-05-03T00:00:00\", \"category\": \"AnzahlTodesfall\", \"Number\": 502}, {\"Meldedatum\": \"2020-05-04T00:00:00\", \"category\": \"AnzahlTodesfall\", \"Number\": 503}, {\"Meldedatum\": \"2020-05-05T00:00:00\", \"category\": \"AnzahlTodesfall\", \"Number\": 504}, {\"Meldedatum\": \"2020-05-06T00:00:00\", \"category\": \"AnzahlTodesfall\", \"Number\": 506}, {\"Meldedatum\": \"2020-05-07T00:00:00\", \"category\": \"AnzahlTodesfall\", \"Number\": 506}, {\"Meldedatum\": \"2020-05-08T00:00:00\", \"category\": \"AnzahlTodesfall\", \"Number\": 506}, {\"Meldedatum\": \"2020-05-09T00:00:00\", \"category\": \"AnzahlTodesfall\", \"Number\": 506}, {\"Meldedatum\": \"2020-05-10T00:00:00\", \"category\": \"AnzahlTodesfall\", \"Number\": 506}, {\"Meldedatum\": \"2020-05-11T00:00:00\", \"category\": \"AnzahlTodesfall\", \"Number\": 507}, {\"Meldedatum\": \"2020-02-04T00:00:00\", \"category\": \"AnzahlGenesen\", \"Number\": 1}, {\"Meldedatum\": \"2020-03-01T00:00:00\", \"category\": \"AnzahlGenesen\", \"Number\": 2}, {\"Meldedatum\": \"2020-03-02T00:00:00\", \"category\": \"AnzahlGenesen\", \"Number\": 4}, {\"Meldedatum\": \"2020-03-03T00:00:00\", \"category\": \"AnzahlGenesen\", \"Number\": 10}, {\"Meldedatum\": \"2020-03-04T00:00:00\", \"category\": \"AnzahlGenesen\", \"Number\": 14}, {\"Meldedatum\": \"2020-03-05T00:00:00\", \"category\": \"AnzahlGenesen\", \"Number\": 20}, {\"Meldedatum\": \"2020-03-06T00:00:00\", \"category\": \"AnzahlGenesen\", \"Number\": 27}, {\"Meldedatum\": \"2020-03-07T00:00:00\", \"category\": \"AnzahlGenesen\", \"Number\": 35}, {\"Meldedatum\": \"2020-03-08T00:00:00\", \"category\": \"AnzahlGenesen\", \"Number\": 39}, {\"Meldedatum\": \"2020-03-09T00:00:00\", \"category\": \"AnzahlGenesen\", \"Number\": 55}, {\"Meldedatum\": \"2020-03-10T00:00:00\", \"category\": \"AnzahlGenesen\", \"Number\": 89}, {\"Meldedatum\": \"2020-03-11T00:00:00\", \"category\": \"AnzahlGenesen\", \"Number\": 151}, {\"Meldedatum\": \"2020-03-12T00:00:00\", \"category\": \"AnzahlGenesen\", \"Number\": 219}, {\"Meldedatum\": \"2020-03-13T00:00:00\", \"category\": \"AnzahlGenesen\", \"Number\": 303}, {\"Meldedatum\": \"2020-03-14T00:00:00\", \"category\": \"AnzahlGenesen\", \"Number\": 375}, {\"Meldedatum\": \"2020-03-15T00:00:00\", \"category\": \"AnzahlGenesen\", \"Number\": 440}, {\"Meldedatum\": \"2020-03-16T00:00:00\", \"category\": \"AnzahlGenesen\", \"Number\": 594}, {\"Meldedatum\": \"2020-03-17T00:00:00\", \"category\": \"AnzahlGenesen\", \"Number\": 768}, {\"Meldedatum\": \"2020-03-18T00:00:00\", \"category\": \"AnzahlGenesen\", \"Number\": 1037}, {\"Meldedatum\": \"2020-03-19T00:00:00\", \"category\": \"AnzahlGenesen\", \"Number\": 1302}, {\"Meldedatum\": \"2020-03-20T00:00:00\", \"category\": \"AnzahlGenesen\", \"Number\": 1563}, {\"Meldedatum\": \"2020-03-21T00:00:00\", \"category\": \"AnzahlGenesen\", \"Number\": 1739}, {\"Meldedatum\": \"2020-03-22T00:00:00\", \"category\": \"AnzahlGenesen\", \"Number\": 1847}, {\"Meldedatum\": \"2020-03-23T00:00:00\", \"category\": \"AnzahlGenesen\", \"Number\": 2086}, {\"Meldedatum\": \"2020-03-24T00:00:00\", \"category\": \"AnzahlGenesen\", \"Number\": 2380}, {\"Meldedatum\": \"2020-03-25T00:00:00\", \"category\": \"AnzahlGenesen\", \"Number\": 2741}, {\"Meldedatum\": \"2020-03-26T00:00:00\", \"category\": \"AnzahlGenesen\", \"Number\": 3103}, {\"Meldedatum\": \"2020-03-27T00:00:00\", \"category\": \"AnzahlGenesen\", \"Number\": 3476}, {\"Meldedatum\": \"2020-03-28T00:00:00\", \"category\": \"AnzahlGenesen\", \"Number\": 3799}, {\"Meldedatum\": \"2020-03-29T00:00:00\", \"category\": \"AnzahlGenesen\", \"Number\": 3960}, {\"Meldedatum\": \"2020-03-30T00:00:00\", \"category\": \"AnzahlGenesen\", \"Number\": 4253}, {\"Meldedatum\": \"2020-03-31T00:00:00\", \"category\": \"AnzahlGenesen\", \"Number\": 4599}, {\"Meldedatum\": \"2020-04-01T00:00:00\", \"category\": \"AnzahlGenesen\", \"Number\": 4946}, {\"Meldedatum\": \"2020-04-02T00:00:00\", \"category\": \"AnzahlGenesen\", \"Number\": 5259}, {\"Meldedatum\": \"2020-04-03T00:00:00\", \"category\": \"AnzahlGenesen\", \"Number\": 5617}, {\"Meldedatum\": \"2020-04-04T00:00:00\", \"category\": \"AnzahlGenesen\", \"Number\": 5823}, {\"Meldedatum\": \"2020-04-05T00:00:00\", \"category\": \"AnzahlGenesen\", \"Number\": 5956}, {\"Meldedatum\": \"2020-04-06T00:00:00\", \"category\": \"AnzahlGenesen\", \"Number\": 6157}, {\"Meldedatum\": \"2020-04-07T00:00:00\", \"category\": \"AnzahlGenesen\", \"Number\": 6514}, {\"Meldedatum\": \"2020-04-08T00:00:00\", \"category\": \"AnzahlGenesen\", \"Number\": 6825}, {\"Meldedatum\": \"2020-04-09T00:00:00\", \"category\": \"AnzahlGenesen\", \"Number\": 7121}, {\"Meldedatum\": \"2020-04-10T00:00:00\", \"category\": \"AnzahlGenesen\", \"Number\": 7370}, {\"Meldedatum\": \"2020-04-11T00:00:00\", \"category\": \"AnzahlGenesen\", \"Number\": 7490}, {\"Meldedatum\": \"2020-04-12T00:00:00\", \"category\": \"AnzahlGenesen\", \"Number\": 7628}, {\"Meldedatum\": \"2020-04-13T00:00:00\", \"category\": \"AnzahlGenesen\", \"Number\": 7696}, {\"Meldedatum\": \"2020-04-14T00:00:00\", \"category\": \"AnzahlGenesen\", \"Number\": 7844}, {\"Meldedatum\": \"2020-04-15T00:00:00\", \"category\": \"AnzahlGenesen\", \"Number\": 8040}, {\"Meldedatum\": \"2020-04-16T00:00:00\", \"category\": \"AnzahlGenesen\", \"Number\": 8251}, {\"Meldedatum\": \"2020-04-17T00:00:00\", \"category\": \"AnzahlGenesen\", \"Number\": 8406}, {\"Meldedatum\": \"2020-04-18T00:00:00\", \"category\": \"AnzahlGenesen\", \"Number\": 8513}, {\"Meldedatum\": \"2020-04-19T00:00:00\", \"category\": \"AnzahlGenesen\", \"Number\": 8565}, {\"Meldedatum\": \"2020-04-20T00:00:00\", \"category\": \"AnzahlGenesen\", \"Number\": 8665}, {\"Meldedatum\": \"2020-04-21T00:00:00\", \"category\": \"AnzahlGenesen\", \"Number\": 8785}, {\"Meldedatum\": \"2020-04-22T00:00:00\", \"category\": \"AnzahlGenesen\", \"Number\": 8895}, {\"Meldedatum\": \"2020-04-23T00:00:00\", \"category\": \"AnzahlGenesen\", \"Number\": 8975}, {\"Meldedatum\": \"2020-04-24T00:00:00\", \"category\": \"AnzahlGenesen\", \"Number\": 9053}, {\"Meldedatum\": \"2020-04-25T00:00:00\", \"category\": \"AnzahlGenesen\", \"Number\": 9086}, {\"Meldedatum\": \"2020-04-26T00:00:00\", \"category\": \"AnzahlGenesen\", \"Number\": 9105}, {\"Meldedatum\": \"2020-04-27T00:00:00\", \"category\": \"AnzahlGenesen\", \"Number\": 9166}, {\"Meldedatum\": \"2020-04-28T00:00:00\", \"category\": \"AnzahlGenesen\", \"Number\": 9226}, {\"Meldedatum\": \"2020-04-29T00:00:00\", \"category\": \"AnzahlGenesen\", \"Number\": 9263}, {\"Meldedatum\": \"2020-04-30T00:00:00\", \"category\": \"AnzahlGenesen\", \"Number\": 9286}, {\"Meldedatum\": \"2020-05-01T00:00:00\", \"category\": \"AnzahlGenesen\", \"Number\": 9294}, {\"Meldedatum\": \"2020-05-02T00:00:00\", \"category\": \"AnzahlGenesen\", \"Number\": 9304}, {\"Meldedatum\": \"2020-05-03T00:00:00\", \"category\": \"AnzahlGenesen\", \"Number\": 9309}, {\"Meldedatum\": \"2020-05-04T00:00:00\", \"category\": \"AnzahlGenesen\", \"Number\": 9326}, {\"Meldedatum\": \"2020-05-05T00:00:00\", \"category\": \"AnzahlGenesen\", \"Number\": 9341}, {\"Meldedatum\": \"2020-05-06T00:00:00\", \"category\": \"AnzahlGenesen\", \"Number\": 9351}, {\"Meldedatum\": \"2020-05-07T00:00:00\", \"category\": \"AnzahlGenesen\", \"Number\": 9359}, {\"Meldedatum\": \"2020-05-08T00:00:00\", \"category\": \"AnzahlGenesen\", \"Number\": 9363}, {\"Meldedatum\": \"2020-05-09T00:00:00\", \"category\": \"AnzahlGenesen\", \"Number\": 9364}, {\"Meldedatum\": \"2020-05-10T00:00:00\", \"category\": \"AnzahlGenesen\", \"Number\": 9364}, {\"Meldedatum\": \"2020-05-11T00:00:00\", \"category\": \"AnzahlGenesen\", \"Number\": 9366}]}}, {\"mode\": \"vega-lite\"});\n",
       "</script>"
      ],
      "text/plain": [
       "alt.Chart(...)"
      ]
     },
     "execution_count": 42,
     "metadata": {},
     "output_type": "execute_result"
    }
   ],
   "source": [
    "state_sel_cum = 'Niedersachsen'\n",
    "alt.Chart(longify_df_cum(df_sta_cum, 'Bundesland',state_sel_cum))\\\n",
    "            .mark_area(point=True, opacity=0.5)\\\n",
    "            .encode(x=alt.X('monthdate(Meldedatum):O', title='Date'),\\\n",
    "                    y=alt.Y('mean(Number):Q',\\\n",
    "                            title='Cumulative Cases',\\\n",
    "                            stack=None),\\\n",
    "                    color='category',\\\n",
    "                    tooltip=['monthdate(Meldedatum)','category','Number'])\\\n",
    "            .properties(width=800, height=400, title='Number of Cases in '+state_sel_cum)"
   ]
  },
  {
   "cell_type": "markdown",
   "metadata": {},
   "source": [
    "# Landkreise"
   ]
  },
  {
   "cell_type": "code",
   "execution_count": null,
   "metadata": {},
   "outputs": [],
   "source": [
    "df_lkr = df_cases.groupby(['Meldedatum','Landkreis']).sum().reset_index()[['Meldedatum','Landkreis','AnzahlFall']]\n",
    "df_lkr"
   ]
  },
  {
   "cell_type": "code",
   "execution_count": null,
   "metadata": {},
   "outputs": [],
   "source": [
    "lkr = ['LK Celle','SK Flensburg']\n",
    "df_plot = df_lkr.loc[df_lkr['Landkreis'].isin(lkr)]"
   ]
  },
  {
   "cell_type": "code",
   "execution_count": null,
   "metadata": {},
   "outputs": [],
   "source": [
    "df_cumulative['Meldedatum'].iloc[0]"
   ]
  },
  {
   "cell_type": "code",
   "execution_count": null,
   "metadata": {},
   "outputs": [],
   "source": []
  },
  {
   "cell_type": "code",
   "execution_count": null,
   "metadata": {},
   "outputs": [],
   "source": [
    "alt.Chart(df_cumulative).mark_line().encode(\n",
    "    alt.X('month:T', axis=alt.Axis(format='%b')),\n",
    "    y='mean(Number):Q',\n",
    "    color='category'\n",
    ").transform_timeunit(\n",
    "    month='month(Meldedatum)'\n",
    ")"
   ]
  },
  {
   "cell_type": "code",
   "execution_count": null,
   "metadata": {},
   "outputs": [],
   "source": [
    "alt.Chart(df_cumulative).mark_bar().encode(\n",
    "    x='monthdate(Meldedatum):O',\n",
    "    y='mean(Number):Q',\n",
    "    color = 'category'\n",
    ")"
   ]
  },
  {
   "cell_type": "markdown",
   "metadata": {},
   "source": [
    "Display Total cases by state"
   ]
  },
  {
   "cell_type": "code",
   "execution_count": null,
   "metadata": {},
   "outputs": [],
   "source": [
    "df_cases.groupby('Bundesland').sum()[['AnzahlFall','AnzahlTodesfall']]"
   ]
  },
  {
   "cell_type": "code",
   "execution_count": null,
   "metadata": {},
   "outputs": [],
   "source": [
    "df"
   ]
  },
  {
   "cell_type": "code",
   "execution_count": 9,
   "metadata": {},
   "outputs": [
    {
     "data": {
      "text/html": [
       "\n",
       "<div id=\"altair-viz-0967935126084c7296ad2e012fdd407c\"></div>\n",
       "<script type=\"text/javascript\">\n",
       "  (function(spec, embedOpt){\n",
       "    let outputDiv = document.currentScript.previousElementSibling;\n",
       "    if (outputDiv.id !== \"altair-viz-0967935126084c7296ad2e012fdd407c\") {\n",
       "      outputDiv = document.getElementById(\"altair-viz-0967935126084c7296ad2e012fdd407c\");\n",
       "    }\n",
       "    const paths = {\n",
       "      \"vega\": \"https://cdn.jsdelivr.net/npm//vega@5?noext\",\n",
       "      \"vega-lib\": \"https://cdn.jsdelivr.net/npm//vega-lib?noext\",\n",
       "      \"vega-lite\": \"https://cdn.jsdelivr.net/npm//vega-lite@4.8.1?noext\",\n",
       "      \"vega-embed\": \"https://cdn.jsdelivr.net/npm//vega-embed@6?noext\",\n",
       "    };\n",
       "\n",
       "    function loadScript(lib) {\n",
       "      return new Promise(function(resolve, reject) {\n",
       "        var s = document.createElement('script');\n",
       "        s.src = paths[lib];\n",
       "        s.async = true;\n",
       "        s.onload = () => resolve(paths[lib]);\n",
       "        s.onerror = () => reject(`Error loading script: ${paths[lib]}`);\n",
       "        document.getElementsByTagName(\"head\")[0].appendChild(s);\n",
       "      });\n",
       "    }\n",
       "\n",
       "    function showError(err) {\n",
       "      outputDiv.innerHTML = `<div class=\"error\" style=\"color:red;\">${err}</div>`;\n",
       "      throw err;\n",
       "    }\n",
       "\n",
       "    function displayChart(vegaEmbed) {\n",
       "      vegaEmbed(outputDiv, spec, embedOpt)\n",
       "        .catch(err => showError(`Javascript Error: ${err.message}<br>This usually means there's a typo in your chart specification. See the javascript console for the full traceback.`));\n",
       "    }\n",
       "\n",
       "    if(typeof define === \"function\" && define.amd) {\n",
       "      requirejs.config({paths});\n",
       "      require([\"vega-embed\"], displayChart, err => showError(`Error loading script: ${err.message}`));\n",
       "    } else if (typeof vegaEmbed === \"function\") {\n",
       "      displayChart(vegaEmbed);\n",
       "    } else {\n",
       "      loadScript(\"vega\")\n",
       "        .then(() => loadScript(\"vega-lite\"))\n",
       "        .then(() => loadScript(\"vega-embed\"))\n",
       "        .catch(showError)\n",
       "        .then(() => displayChart(vegaEmbed));\n",
       "    }\n",
       "  })({\"config\": {\"view\": {\"continuousWidth\": 400, \"continuousHeight\": 300}}, \"data\": {\"name\": \"data-d11f0fb0febe8fad7d4113fc5e185cc5\"}, \"mark\": {\"type\": \"bar\", \"point\": true}, \"encoding\": {\"color\": {\"type\": \"nominal\", \"field\": \"Landkreis\"}, \"x\": {\"type\": \"ordinal\", \"field\": \"Meldedatum\", \"timeUnit\": \"monthdate\", \"title\": \"Date\"}, \"y\": {\"type\": \"quantitative\", \"aggregate\": \"mean\", \"field\": \"AnzahlFall\", \"title\": \"Cumulative Cases\"}}, \"height\": 400, \"title\": \"Number of Cases\", \"width\": 800, \"$schema\": \"https://vega.github.io/schema/vega-lite/v4.8.1.json\", \"datasets\": {\"data-d11f0fb0febe8fad7d4113fc5e185cc5\": [{\"Meldedatum\": \"2020-03-01T00:00:00\", \"Landkreis\": \"Region Hannover\", \"AnzahlFall\": 1, \"AnzahlTodesfall\": 0, \"AnzahlGenesen\": 1}, {\"Meldedatum\": \"2020-03-03T00:00:00\", \"Landkreis\": \"Region Hannover\", \"AnzahlFall\": 2, \"AnzahlTodesfall\": 0, \"AnzahlGenesen\": 2}, {\"Meldedatum\": \"2020-03-04T00:00:00\", \"Landkreis\": \"Region Hannover\", \"AnzahlFall\": 3, \"AnzahlTodesfall\": 0, \"AnzahlGenesen\": 3}, {\"Meldedatum\": \"2020-03-05T00:00:00\", \"Landkreis\": \"LK Celle\", \"AnzahlFall\": 3, \"AnzahlTodesfall\": 0, \"AnzahlGenesen\": 3}, {\"Meldedatum\": \"2020-03-06T00:00:00\", \"Landkreis\": \"Region Hannover\", \"AnzahlFall\": 5, \"AnzahlTodesfall\": 0, \"AnzahlGenesen\": 5}, {\"Meldedatum\": \"2020-03-07T00:00:00\", \"Landkreis\": \"Region Hannover\", \"AnzahlFall\": 6, \"AnzahlTodesfall\": 0, \"AnzahlGenesen\": 6}, {\"Meldedatum\": \"2020-03-08T00:00:00\", \"Landkreis\": \"Region Hannover\", \"AnzahlFall\": 8, \"AnzahlTodesfall\": 0, \"AnzahlGenesen\": 8}, {\"Meldedatum\": \"2020-03-09T00:00:00\", \"Landkreis\": \"LK Celle\", \"AnzahlFall\": 4, \"AnzahlTodesfall\": 0, \"AnzahlGenesen\": 4}, {\"Meldedatum\": \"2020-03-09T00:00:00\", \"Landkreis\": \"Region Hannover\", \"AnzahlFall\": 10, \"AnzahlTodesfall\": 0, \"AnzahlGenesen\": 10}, {\"Meldedatum\": \"2020-03-10T00:00:00\", \"Landkreis\": \"LK Celle\", \"AnzahlFall\": 5, \"AnzahlTodesfall\": 0, \"AnzahlGenesen\": 5}, {\"Meldedatum\": \"2020-03-10T00:00:00\", \"Landkreis\": \"Region Hannover\", \"AnzahlFall\": 16, \"AnzahlTodesfall\": 0, \"AnzahlGenesen\": 16}, {\"Meldedatum\": \"2020-03-11T00:00:00\", \"Landkreis\": \"LK Celle\", \"AnzahlFall\": 6, \"AnzahlTodesfall\": 0, \"AnzahlGenesen\": 6}, {\"Meldedatum\": \"2020-03-11T00:00:00\", \"Landkreis\": \"Region Hannover\", \"AnzahlFall\": 27, \"AnzahlTodesfall\": 0, \"AnzahlGenesen\": 27}, {\"Meldedatum\": \"2020-03-12T00:00:00\", \"Landkreis\": \"Region Hannover\", \"AnzahlFall\": 51, \"AnzahlTodesfall\": 0, \"AnzahlGenesen\": 51}, {\"Meldedatum\": \"2020-03-13T00:00:00\", \"Landkreis\": \"LK Celle\", \"AnzahlFall\": 8, \"AnzahlTodesfall\": 0, \"AnzahlGenesen\": 8}, {\"Meldedatum\": \"2020-03-13T00:00:00\", \"Landkreis\": \"Region Hannover\", \"AnzahlFall\": 61, \"AnzahlTodesfall\": 0, \"AnzahlGenesen\": 61}, {\"Meldedatum\": \"2020-03-14T00:00:00\", \"Landkreis\": \"Region Hannover\", \"AnzahlFall\": 78, \"AnzahlTodesfall\": 0, \"AnzahlGenesen\": 78}, {\"Meldedatum\": \"2020-03-15T00:00:00\", \"Landkreis\": \"Region Hannover\", \"AnzahlFall\": 98, \"AnzahlTodesfall\": 0, \"AnzahlGenesen\": 98}, {\"Meldedatum\": \"2020-03-16T00:00:00\", \"Landkreis\": \"LK Celle\", \"AnzahlFall\": 13, \"AnzahlTodesfall\": 0, \"AnzahlGenesen\": 13}, {\"Meldedatum\": \"2020-03-16T00:00:00\", \"Landkreis\": \"Region Hannover\", \"AnzahlFall\": 123, \"AnzahlTodesfall\": 0, \"AnzahlGenesen\": 123}, {\"Meldedatum\": \"2020-03-17T00:00:00\", \"Landkreis\": \"LK Celle\", \"AnzahlFall\": 19, \"AnzahlTodesfall\": 0, \"AnzahlGenesen\": 19}, {\"Meldedatum\": \"2020-03-17T00:00:00\", \"Landkreis\": \"Region Hannover\", \"AnzahlFall\": 156, \"AnzahlTodesfall\": 0, \"AnzahlGenesen\": 156}, {\"Meldedatum\": \"2020-03-18T00:00:00\", \"Landkreis\": \"LK Celle\", \"AnzahlFall\": 23, \"AnzahlTodesfall\": 0, \"AnzahlGenesen\": 23}, {\"Meldedatum\": \"2020-03-18T00:00:00\", \"Landkreis\": \"Region Hannover\", \"AnzahlFall\": 228, \"AnzahlTodesfall\": 0, \"AnzahlGenesen\": 228}, {\"Meldedatum\": \"2020-03-19T00:00:00\", \"Landkreis\": \"LK Celle\", \"AnzahlFall\": 24, \"AnzahlTodesfall\": 0, \"AnzahlGenesen\": 24}, {\"Meldedatum\": \"2020-03-19T00:00:00\", \"Landkreis\": \"Region Hannover\", \"AnzahlFall\": 286, \"AnzahlTodesfall\": 0, \"AnzahlGenesen\": 286}, {\"Meldedatum\": \"2020-03-20T00:00:00\", \"Landkreis\": \"LK Celle\", \"AnzahlFall\": 28, \"AnzahlTodesfall\": 0, \"AnzahlGenesen\": 28}, {\"Meldedatum\": \"2020-03-20T00:00:00\", \"Landkreis\": \"Region Hannover\", \"AnzahlFall\": 347, \"AnzahlTodesfall\": 4, \"AnzahlGenesen\": 343}, {\"Meldedatum\": \"2020-03-21T00:00:00\", \"Landkreis\": \"LK Celle\", \"AnzahlFall\": 29, \"AnzahlTodesfall\": 0, \"AnzahlGenesen\": 29}, {\"Meldedatum\": \"2020-03-21T00:00:00\", \"Landkreis\": \"Region Hannover\", \"AnzahlFall\": 377, \"AnzahlTodesfall\": 6, \"AnzahlGenesen\": 371}, {\"Meldedatum\": \"2020-03-22T00:00:00\", \"Landkreis\": \"Region Hannover\", \"AnzahlFall\": 382, \"AnzahlTodesfall\": 6, \"AnzahlGenesen\": 376}, {\"Meldedatum\": \"2020-03-23T00:00:00\", \"Landkreis\": \"LK Celle\", \"AnzahlFall\": 37, \"AnzahlTodesfall\": 0, \"AnzahlGenesen\": 37}, {\"Meldedatum\": \"2020-03-23T00:00:00\", \"Landkreis\": \"Region Hannover\", \"AnzahlFall\": 423, \"AnzahlTodesfall\": 8, \"AnzahlGenesen\": 415}, {\"Meldedatum\": \"2020-03-24T00:00:00\", \"Landkreis\": \"LK Celle\", \"AnzahlFall\": 43, \"AnzahlTodesfall\": 0, \"AnzahlGenesen\": 43}, {\"Meldedatum\": \"2020-03-24T00:00:00\", \"Landkreis\": \"Region Hannover\", \"AnzahlFall\": 493, \"AnzahlTodesfall\": 9, \"AnzahlGenesen\": 483}, {\"Meldedatum\": \"2020-03-25T00:00:00\", \"Landkreis\": \"LK Celle\", \"AnzahlFall\": 51, \"AnzahlTodesfall\": 0, \"AnzahlGenesen\": 51}, {\"Meldedatum\": \"2020-03-25T00:00:00\", \"Landkreis\": \"Region Hannover\", \"AnzahlFall\": 595, \"AnzahlTodesfall\": 11, \"AnzahlGenesen\": 583}, {\"Meldedatum\": \"2020-03-26T00:00:00\", \"Landkreis\": \"LK Celle\", \"AnzahlFall\": 60, \"AnzahlTodesfall\": 0, \"AnzahlGenesen\": 60}, {\"Meldedatum\": \"2020-03-26T00:00:00\", \"Landkreis\": \"Region Hannover\", \"AnzahlFall\": 679, \"AnzahlTodesfall\": 12, \"AnzahlGenesen\": 666}, {\"Meldedatum\": \"2020-03-27T00:00:00\", \"Landkreis\": \"LK Celle\", \"AnzahlFall\": 68, \"AnzahlTodesfall\": 2, \"AnzahlGenesen\": 66}, {\"Meldedatum\": \"2020-03-27T00:00:00\", \"Landkreis\": \"Region Hannover\", \"AnzahlFall\": 732, \"AnzahlTodesfall\": 13, \"AnzahlGenesen\": 718}, {\"Meldedatum\": \"2020-03-28T00:00:00\", \"Landkreis\": \"LK Celle\", \"AnzahlFall\": 70, \"AnzahlTodesfall\": 3, \"AnzahlGenesen\": 67}, {\"Meldedatum\": \"2020-03-28T00:00:00\", \"Landkreis\": \"Region Hannover\", \"AnzahlFall\": 779, \"AnzahlTodesfall\": 14, \"AnzahlGenesen\": 764}, {\"Meldedatum\": \"2020-03-29T00:00:00\", \"Landkreis\": \"LK Celle\", \"AnzahlFall\": 71, \"AnzahlTodesfall\": 3, \"AnzahlGenesen\": 68}, {\"Meldedatum\": \"2020-03-29T00:00:00\", \"Landkreis\": \"Region Hannover\", \"AnzahlFall\": 828, \"AnzahlTodesfall\": 16, \"AnzahlGenesen\": 811}, {\"Meldedatum\": \"2020-03-30T00:00:00\", \"Landkreis\": \"LK Celle\", \"AnzahlFall\": 83, \"AnzahlTodesfall\": 5, \"AnzahlGenesen\": 78}, {\"Meldedatum\": \"2020-03-30T00:00:00\", \"Landkreis\": \"Region Hannover\", \"AnzahlFall\": 889, \"AnzahlTodesfall\": 17, \"AnzahlGenesen\": 871}, {\"Meldedatum\": \"2020-03-31T00:00:00\", \"Landkreis\": \"LK Celle\", \"AnzahlFall\": 91, \"AnzahlTodesfall\": 5, \"AnzahlGenesen\": 86}, {\"Meldedatum\": \"2020-03-31T00:00:00\", \"Landkreis\": \"Region Hannover\", \"AnzahlFall\": 934, \"AnzahlTodesfall\": 22, \"AnzahlGenesen\": 911}, {\"Meldedatum\": \"2020-04-01T00:00:00\", \"Landkreis\": \"LK Celle\", \"AnzahlFall\": 95, \"AnzahlTodesfall\": 5, \"AnzahlGenesen\": 90}, {\"Meldedatum\": \"2020-04-01T00:00:00\", \"Landkreis\": \"Region Hannover\", \"AnzahlFall\": 1014, \"AnzahlTodesfall\": 26, \"AnzahlGenesen\": 987}, {\"Meldedatum\": \"2020-04-02T00:00:00\", \"Landkreis\": \"LK Celle\", \"AnzahlFall\": 97, \"AnzahlTodesfall\": 5, \"AnzahlGenesen\": 92}, {\"Meldedatum\": \"2020-04-02T00:00:00\", \"Landkreis\": \"Region Hannover\", \"AnzahlFall\": 1065, \"AnzahlTodesfall\": 29, \"AnzahlGenesen\": 1035}, {\"Meldedatum\": \"2020-04-03T00:00:00\", \"Landkreis\": \"LK Celle\", \"AnzahlFall\": 100, \"AnzahlTodesfall\": 6, \"AnzahlGenesen\": 94}, {\"Meldedatum\": \"2020-04-03T00:00:00\", \"Landkreis\": \"Region Hannover\", \"AnzahlFall\": 1124, \"AnzahlTodesfall\": 34, \"AnzahlGenesen\": 1089}, {\"Meldedatum\": \"2020-04-04T00:00:00\", \"Landkreis\": \"LK Celle\", \"AnzahlFall\": 104, \"AnzahlTodesfall\": 7, \"AnzahlGenesen\": 97}, {\"Meldedatum\": \"2020-04-04T00:00:00\", \"Landkreis\": \"Region Hannover\", \"AnzahlFall\": 1154, \"AnzahlTodesfall\": 37, \"AnzahlGenesen\": 1116}, {\"Meldedatum\": \"2020-04-05T00:00:00\", \"Landkreis\": \"Region Hannover\", \"AnzahlFall\": 1176, \"AnzahlTodesfall\": 37, \"AnzahlGenesen\": 1138}, {\"Meldedatum\": \"2020-04-06T00:00:00\", \"Landkreis\": \"LK Celle\", \"AnzahlFall\": 108, \"AnzahlTodesfall\": 7, \"AnzahlGenesen\": 101}, {\"Meldedatum\": \"2020-04-06T00:00:00\", \"Landkreis\": \"Region Hannover\", \"AnzahlFall\": 1214, \"AnzahlTodesfall\": 43, \"AnzahlGenesen\": 1169}, {\"Meldedatum\": \"2020-04-07T00:00:00\", \"Landkreis\": \"LK Celle\", \"AnzahlFall\": 109, \"AnzahlTodesfall\": 7, \"AnzahlGenesen\": 102}, {\"Meldedatum\": \"2020-04-07T00:00:00\", \"Landkreis\": \"Region Hannover\", \"AnzahlFall\": 1291, \"AnzahlTodesfall\": 44, \"AnzahlGenesen\": 1245}, {\"Meldedatum\": \"2020-04-08T00:00:00\", \"Landkreis\": \"LK Celle\", \"AnzahlFall\": 115, \"AnzahlTodesfall\": 7, \"AnzahlGenesen\": 108}, {\"Meldedatum\": \"2020-04-08T00:00:00\", \"Landkreis\": \"Region Hannover\", \"AnzahlFall\": 1370, \"AnzahlTodesfall\": 47, \"AnzahlGenesen\": 1321}, {\"Meldedatum\": \"2020-04-09T00:00:00\", \"Landkreis\": \"LK Celle\", \"AnzahlFall\": 119, \"AnzahlTodesfall\": 7, \"AnzahlGenesen\": 112}, {\"Meldedatum\": \"2020-04-09T00:00:00\", \"Landkreis\": \"Region Hannover\", \"AnzahlFall\": 1446, \"AnzahlTodesfall\": 53, \"AnzahlGenesen\": 1391}, {\"Meldedatum\": \"2020-04-10T00:00:00\", \"Landkreis\": \"LK Celle\", \"AnzahlFall\": 123, \"AnzahlTodesfall\": 7, \"AnzahlGenesen\": 116}, {\"Meldedatum\": \"2020-04-10T00:00:00\", \"Landkreis\": \"Region Hannover\", \"AnzahlFall\": 1470, \"AnzahlTodesfall\": 53, \"AnzahlGenesen\": 1415}, {\"Meldedatum\": \"2020-04-11T00:00:00\", \"Landkreis\": \"LK Celle\", \"AnzahlFall\": 124, \"AnzahlTodesfall\": 7, \"AnzahlGenesen\": 117}, {\"Meldedatum\": \"2020-04-11T00:00:00\", \"Landkreis\": \"Region Hannover\", \"AnzahlFall\": 1490, \"AnzahlTodesfall\": 54, \"AnzahlGenesen\": 1434}, {\"Meldedatum\": \"2020-04-12T00:00:00\", \"Landkreis\": \"LK Celle\", \"AnzahlFall\": 128, \"AnzahlTodesfall\": 8, \"AnzahlGenesen\": 120}, {\"Meldedatum\": \"2020-04-12T00:00:00\", \"Landkreis\": \"Region Hannover\", \"AnzahlFall\": 1513, \"AnzahlTodesfall\": 57, \"AnzahlGenesen\": 1454}, {\"Meldedatum\": \"2020-04-13T00:00:00\", \"Landkreis\": \"LK Celle\", \"AnzahlFall\": 129, \"AnzahlTodesfall\": 9, \"AnzahlGenesen\": 120}, {\"Meldedatum\": \"2020-04-13T00:00:00\", \"Landkreis\": \"Region Hannover\", \"AnzahlFall\": 1522, \"AnzahlTodesfall\": 58, \"AnzahlGenesen\": 1462}, {\"Meldedatum\": \"2020-04-14T00:00:00\", \"Landkreis\": \"LK Celle\", \"AnzahlFall\": 134, \"AnzahlTodesfall\": 9, \"AnzahlGenesen\": 125}, {\"Meldedatum\": \"2020-04-14T00:00:00\", \"Landkreis\": \"Region Hannover\", \"AnzahlFall\": 1564, \"AnzahlTodesfall\": 64, \"AnzahlGenesen\": 1497}, {\"Meldedatum\": \"2020-04-15T00:00:00\", \"Landkreis\": \"LK Celle\", \"AnzahlFall\": 141, \"AnzahlTodesfall\": 9, \"AnzahlGenesen\": 132}, {\"Meldedatum\": \"2020-04-15T00:00:00\", \"Landkreis\": \"Region Hannover\", \"AnzahlFall\": 1589, \"AnzahlTodesfall\": 66, \"AnzahlGenesen\": 1519}, {\"Meldedatum\": \"2020-04-16T00:00:00\", \"Landkreis\": \"LK Celle\", \"AnzahlFall\": 143, \"AnzahlTodesfall\": 9, \"AnzahlGenesen\": 134}, {\"Meldedatum\": \"2020-04-16T00:00:00\", \"Landkreis\": \"Region Hannover\", \"AnzahlFall\": 1638, \"AnzahlTodesfall\": 69, \"AnzahlGenesen\": 1550}, {\"Meldedatum\": \"2020-04-17T00:00:00\", \"Landkreis\": \"LK Celle\", \"AnzahlFall\": 144, \"AnzahlTodesfall\": 9, \"AnzahlGenesen\": 135}, {\"Meldedatum\": \"2020-04-17T00:00:00\", \"Landkreis\": \"Region Hannover\", \"AnzahlFall\": 1689, \"AnzahlTodesfall\": 71, \"AnzahlGenesen\": 1579}, {\"Meldedatum\": \"2020-04-18T00:00:00\", \"Landkreis\": \"LK Celle\", \"AnzahlFall\": 145, \"AnzahlTodesfall\": 9, \"AnzahlGenesen\": 136}, {\"Meldedatum\": \"2020-04-18T00:00:00\", \"Landkreis\": \"Region Hannover\", \"AnzahlFall\": 1720, \"AnzahlTodesfall\": 73, \"AnzahlGenesen\": 1592}, {\"Meldedatum\": \"2020-04-19T00:00:00\", \"Landkreis\": \"Region Hannover\", \"AnzahlFall\": 1733, \"AnzahlTodesfall\": 74, \"AnzahlGenesen\": 1595}, {\"Meldedatum\": \"2020-04-20T00:00:00\", \"Landkreis\": \"Region Hannover\", \"AnzahlFall\": 1745, \"AnzahlTodesfall\": 75, \"AnzahlGenesen\": 1600}, {\"Meldedatum\": \"2020-04-21T00:00:00\", \"Landkreis\": \"LK Celle\", \"AnzahlFall\": 146, \"AnzahlTodesfall\": 10, \"AnzahlGenesen\": 136}, {\"Meldedatum\": \"2020-04-21T00:00:00\", \"Landkreis\": \"Region Hannover\", \"AnzahlFall\": 1782, \"AnzahlTodesfall\": 79, \"AnzahlGenesen\": 1613}, {\"Meldedatum\": \"2020-04-22T00:00:00\", \"Landkreis\": \"LK Celle\", \"AnzahlFall\": 149, \"AnzahlTodesfall\": 10, \"AnzahlGenesen\": 137}, {\"Meldedatum\": \"2020-04-22T00:00:00\", \"Landkreis\": \"Region Hannover\", \"AnzahlFall\": 1812, \"AnzahlTodesfall\": 80, \"AnzahlGenesen\": 1620}, {\"Meldedatum\": \"2020-04-23T00:00:00\", \"Landkreis\": \"LK Celle\", \"AnzahlFall\": 151, \"AnzahlTodesfall\": 11, \"AnzahlGenesen\": 138}, {\"Meldedatum\": \"2020-04-23T00:00:00\", \"Landkreis\": \"Region Hannover\", \"AnzahlFall\": 1844, \"AnzahlTodesfall\": 81, \"AnzahlGenesen\": 1628}, {\"Meldedatum\": \"2020-04-24T00:00:00\", \"Landkreis\": \"LK Celle\", \"AnzahlFall\": 154, \"AnzahlTodesfall\": 11, \"AnzahlGenesen\": 140}, {\"Meldedatum\": \"2020-04-24T00:00:00\", \"Landkreis\": \"Region Hannover\", \"AnzahlFall\": 1871, \"AnzahlTodesfall\": 81, \"AnzahlGenesen\": 1632}, {\"Meldedatum\": \"2020-04-25T00:00:00\", \"Landkreis\": \"LK Celle\", \"AnzahlFall\": 157, \"AnzahlTodesfall\": 11, \"AnzahlGenesen\": 143}, {\"Meldedatum\": \"2020-04-25T00:00:00\", \"Landkreis\": \"Region Hannover\", \"AnzahlFall\": 1897, \"AnzahlTodesfall\": 82, \"AnzahlGenesen\": 1637}, {\"Meldedatum\": \"2020-04-26T00:00:00\", \"Landkreis\": \"LK Celle\", \"AnzahlFall\": 160, \"AnzahlTodesfall\": 11, \"AnzahlGenesen\": 143}, {\"Meldedatum\": \"2020-04-26T00:00:00\", \"Landkreis\": \"Region Hannover\", \"AnzahlFall\": 1923, \"AnzahlTodesfall\": 82, \"AnzahlGenesen\": 1639}, {\"Meldedatum\": \"2020-04-27T00:00:00\", \"Landkreis\": \"LK Celle\", \"AnzahlFall\": 162, \"AnzahlTodesfall\": 11, \"AnzahlGenesen\": 145}, {\"Meldedatum\": \"2020-04-27T00:00:00\", \"Landkreis\": \"Region Hannover\", \"AnzahlFall\": 1925, \"AnzahlTodesfall\": 82, \"AnzahlGenesen\": 1639}, {\"Meldedatum\": \"2020-04-28T00:00:00\", \"Landkreis\": \"LK Celle\", \"AnzahlFall\": 166, \"AnzahlTodesfall\": 12, \"AnzahlGenesen\": 146}, {\"Meldedatum\": \"2020-04-28T00:00:00\", \"Landkreis\": \"Region Hannover\", \"AnzahlFall\": 1952, \"AnzahlTodesfall\": 83, \"AnzahlGenesen\": 1647}, {\"Meldedatum\": \"2020-04-29T00:00:00\", \"Landkreis\": \"LK Celle\", \"AnzahlFall\": 175, \"AnzahlTodesfall\": 12, \"AnzahlGenesen\": 153}, {\"Meldedatum\": \"2020-04-29T00:00:00\", \"Landkreis\": \"Region Hannover\", \"AnzahlFall\": 1971, \"AnzahlTodesfall\": 84, \"AnzahlGenesen\": 1648}, {\"Meldedatum\": \"2020-04-30T00:00:00\", \"Landkreis\": \"LK Celle\", \"AnzahlFall\": 177, \"AnzahlTodesfall\": 12, \"AnzahlGenesen\": 154}, {\"Meldedatum\": \"2020-04-30T00:00:00\", \"Landkreis\": \"Region Hannover\", \"AnzahlFall\": 2004, \"AnzahlTodesfall\": 84, \"AnzahlGenesen\": 1652}, {\"Meldedatum\": \"2020-05-01T00:00:00\", \"Landkreis\": \"LK Celle\", \"AnzahlFall\": 178, \"AnzahlTodesfall\": 12, \"AnzahlGenesen\": 154}, {\"Meldedatum\": \"2020-05-01T00:00:00\", \"Landkreis\": \"Region Hannover\", \"AnzahlFall\": 2016, \"AnzahlTodesfall\": 84, \"AnzahlGenesen\": 1653}, {\"Meldedatum\": \"2020-05-02T00:00:00\", \"Landkreis\": \"Region Hannover\", \"AnzahlFall\": 2029, \"AnzahlTodesfall\": 84, \"AnzahlGenesen\": 1654}, {\"Meldedatum\": \"2020-05-03T00:00:00\", \"Landkreis\": \"Region Hannover\", \"AnzahlFall\": 2040, \"AnzahlTodesfall\": 84, \"AnzahlGenesen\": 1657}, {\"Meldedatum\": \"2020-05-04T00:00:00\", \"Landkreis\": \"Region Hannover\", \"AnzahlFall\": 2049, \"AnzahlTodesfall\": 84, \"AnzahlGenesen\": 1657}, {\"Meldedatum\": \"2020-05-05T00:00:00\", \"Landkreis\": \"LK Celle\", \"AnzahlFall\": 180, \"AnzahlTodesfall\": 12, \"AnzahlGenesen\": 154}, {\"Meldedatum\": \"2020-05-05T00:00:00\", \"Landkreis\": \"Region Hannover\", \"AnzahlFall\": 2068, \"AnzahlTodesfall\": 85, \"AnzahlGenesen\": 1657}, {\"Meldedatum\": \"2020-05-06T00:00:00\", \"Landkreis\": \"LK Celle\", \"AnzahlFall\": 182, \"AnzahlTodesfall\": 12, \"AnzahlGenesen\": 154}, {\"Meldedatum\": \"2020-05-06T00:00:00\", \"Landkreis\": \"Region Hannover\", \"AnzahlFall\": 2086, \"AnzahlTodesfall\": 85, \"AnzahlGenesen\": 1658}, {\"Meldedatum\": \"2020-05-07T00:00:00\", \"Landkreis\": \"Region Hannover\", \"AnzahlFall\": 2118, \"AnzahlTodesfall\": 85, \"AnzahlGenesen\": 1661}, {\"Meldedatum\": \"2020-05-08T00:00:00\", \"Landkreis\": \"LK Celle\", \"AnzahlFall\": 183, \"AnzahlTodesfall\": 12, \"AnzahlGenesen\": 154}, {\"Meldedatum\": \"2020-05-08T00:00:00\", \"Landkreis\": \"Region Hannover\", \"AnzahlFall\": 2128, \"AnzahlTodesfall\": 85, \"AnzahlGenesen\": 1662}, {\"Meldedatum\": \"2020-05-09T00:00:00\", \"Landkreis\": \"Region Hannover\", \"AnzahlFall\": 2137, \"AnzahlTodesfall\": 85, \"AnzahlGenesen\": 1662}, {\"Meldedatum\": \"2020-05-10T00:00:00\", \"Landkreis\": \"Region Hannover\", \"AnzahlFall\": 2144, \"AnzahlTodesfall\": 85, \"AnzahlGenesen\": 1662}]}}, {\"mode\": \"vega-lite\"});\n",
       "</script>"
      ],
      "text/plain": [
       "alt.Chart(...)"
      ]
     },
     "metadata": {},
     "output_type": "display_data"
    }
   ],
   "source": [
    "def plot_cases(cat = 'Bundesland', el_list = ['Bayern']):\n",
    "    if cat == 'Bundesland':\n",
    "        df = df_sta\n",
    "    elif cat == 'Landkreis':\n",
    "        df = df_lkr\n",
    "    else: \n",
    "        print('Please choose either Bundesland or Landkreis')\n",
    "    c = alt.Chart(df.loc[df[cat].isin(el_list)])\\\n",
    "            .mark_bar(point=True)\\\n",
    "            .encode(x=alt.X('monthdate(Meldedatum):O', title='Date'),\\\n",
    "                    y=alt.Y('mean(AnzahlFall):Q', title='Cumulative Cases'),\\\n",
    "                    color=cat)\\\n",
    "            .properties(width=800, height=400, title='Number of Cases')\n",
    "    c.display()\n",
    "plot_cases('Landkreis',['LK Celle','Region Hannover']) "
   ]
  },
  {
   "cell_type": "code",
   "execution_count": 12,
   "metadata": {},
   "outputs": [
    {
     "ename": "KeyError",
     "evalue": "'Bundesland'",
     "output_type": "error",
     "traceback": [
      "\u001b[0;31m---------------------------------------------------------------------------\u001b[0m",
      "\u001b[0;31mKeyError\u001b[0m                                  Traceback (most recent call last)",
      "\u001b[0;32m~/anaconda3/envs/dsnd/lib/python3.8/site-packages/pandas/core/indexes/base.py\u001b[0m in \u001b[0;36mget_loc\u001b[0;34m(self, key, method, tolerance)\u001b[0m\n\u001b[1;32m   2645\u001b[0m             \u001b[0;32mtry\u001b[0m\u001b[0;34m:\u001b[0m\u001b[0;34m\u001b[0m\u001b[0;34m\u001b[0m\u001b[0m\n\u001b[0;32m-> 2646\u001b[0;31m                 \u001b[0;32mreturn\u001b[0m \u001b[0mself\u001b[0m\u001b[0;34m.\u001b[0m\u001b[0m_engine\u001b[0m\u001b[0;34m.\u001b[0m\u001b[0mget_loc\u001b[0m\u001b[0;34m(\u001b[0m\u001b[0mkey\u001b[0m\u001b[0;34m)\u001b[0m\u001b[0;34m\u001b[0m\u001b[0;34m\u001b[0m\u001b[0m\n\u001b[0m\u001b[1;32m   2647\u001b[0m             \u001b[0;32mexcept\u001b[0m \u001b[0mKeyError\u001b[0m\u001b[0;34m:\u001b[0m\u001b[0;34m\u001b[0m\u001b[0;34m\u001b[0m\u001b[0m\n",
      "\u001b[0;32mpandas/_libs/index.pyx\u001b[0m in \u001b[0;36mpandas._libs.index.IndexEngine.get_loc\u001b[0;34m()\u001b[0m\n",
      "\u001b[0;32mpandas/_libs/index.pyx\u001b[0m in \u001b[0;36mpandas._libs.index.IndexEngine.get_loc\u001b[0;34m()\u001b[0m\n",
      "\u001b[0;32mpandas/_libs/hashtable_class_helper.pxi\u001b[0m in \u001b[0;36mpandas._libs.hashtable.PyObjectHashTable.get_item\u001b[0;34m()\u001b[0m\n",
      "\u001b[0;32mpandas/_libs/hashtable_class_helper.pxi\u001b[0m in \u001b[0;36mpandas._libs.hashtable.PyObjectHashTable.get_item\u001b[0;34m()\u001b[0m\n",
      "\u001b[0;31mKeyError\u001b[0m: 'Bundesland'",
      "\nDuring handling of the above exception, another exception occurred:\n",
      "\u001b[0;31mKeyError\u001b[0m                                  Traceback (most recent call last)",
      "\u001b[0;32m<ipython-input-12-709394554984>\u001b[0m in \u001b[0;36m<module>\u001b[0;34m\u001b[0m\n\u001b[0;32m----> 1\u001b[0;31m \u001b[0mdf_lkr_cum\u001b[0m\u001b[0;34m.\u001b[0m\u001b[0mloc\u001b[0m\u001b[0;34m[\u001b[0m\u001b[0mdf_lkr_cum\u001b[0m\u001b[0;34m[\u001b[0m\u001b[0;34m'Bundesland'\u001b[0m\u001b[0;34m]\u001b[0m\u001b[0;34m==\u001b[0m\u001b[0mstate_sel_cum\u001b[0m\u001b[0;34m]\u001b[0m\u001b[0;34m\u001b[0m\u001b[0;34m\u001b[0m\u001b[0m\n\u001b[0m",
      "\u001b[0;32m~/anaconda3/envs/dsnd/lib/python3.8/site-packages/pandas/core/frame.py\u001b[0m in \u001b[0;36m__getitem__\u001b[0;34m(self, key)\u001b[0m\n\u001b[1;32m   2798\u001b[0m             \u001b[0;32mif\u001b[0m \u001b[0mself\u001b[0m\u001b[0;34m.\u001b[0m\u001b[0mcolumns\u001b[0m\u001b[0;34m.\u001b[0m\u001b[0mnlevels\u001b[0m \u001b[0;34m>\u001b[0m \u001b[0;36m1\u001b[0m\u001b[0;34m:\u001b[0m\u001b[0;34m\u001b[0m\u001b[0;34m\u001b[0m\u001b[0m\n\u001b[1;32m   2799\u001b[0m                 \u001b[0;32mreturn\u001b[0m \u001b[0mself\u001b[0m\u001b[0;34m.\u001b[0m\u001b[0m_getitem_multilevel\u001b[0m\u001b[0;34m(\u001b[0m\u001b[0mkey\u001b[0m\u001b[0;34m)\u001b[0m\u001b[0;34m\u001b[0m\u001b[0;34m\u001b[0m\u001b[0m\n\u001b[0;32m-> 2800\u001b[0;31m             \u001b[0mindexer\u001b[0m \u001b[0;34m=\u001b[0m \u001b[0mself\u001b[0m\u001b[0;34m.\u001b[0m\u001b[0mcolumns\u001b[0m\u001b[0;34m.\u001b[0m\u001b[0mget_loc\u001b[0m\u001b[0;34m(\u001b[0m\u001b[0mkey\u001b[0m\u001b[0;34m)\u001b[0m\u001b[0;34m\u001b[0m\u001b[0;34m\u001b[0m\u001b[0m\n\u001b[0m\u001b[1;32m   2801\u001b[0m             \u001b[0;32mif\u001b[0m \u001b[0mis_integer\u001b[0m\u001b[0;34m(\u001b[0m\u001b[0mindexer\u001b[0m\u001b[0;34m)\u001b[0m\u001b[0;34m:\u001b[0m\u001b[0;34m\u001b[0m\u001b[0;34m\u001b[0m\u001b[0m\n\u001b[1;32m   2802\u001b[0m                 \u001b[0mindexer\u001b[0m \u001b[0;34m=\u001b[0m \u001b[0;34m[\u001b[0m\u001b[0mindexer\u001b[0m\u001b[0;34m]\u001b[0m\u001b[0;34m\u001b[0m\u001b[0;34m\u001b[0m\u001b[0m\n",
      "\u001b[0;32m~/anaconda3/envs/dsnd/lib/python3.8/site-packages/pandas/core/indexes/base.py\u001b[0m in \u001b[0;36mget_loc\u001b[0;34m(self, key, method, tolerance)\u001b[0m\n\u001b[1;32m   2646\u001b[0m                 \u001b[0;32mreturn\u001b[0m \u001b[0mself\u001b[0m\u001b[0;34m.\u001b[0m\u001b[0m_engine\u001b[0m\u001b[0;34m.\u001b[0m\u001b[0mget_loc\u001b[0m\u001b[0;34m(\u001b[0m\u001b[0mkey\u001b[0m\u001b[0;34m)\u001b[0m\u001b[0;34m\u001b[0m\u001b[0;34m\u001b[0m\u001b[0m\n\u001b[1;32m   2647\u001b[0m             \u001b[0;32mexcept\u001b[0m \u001b[0mKeyError\u001b[0m\u001b[0;34m:\u001b[0m\u001b[0;34m\u001b[0m\u001b[0;34m\u001b[0m\u001b[0m\n\u001b[0;32m-> 2648\u001b[0;31m                 \u001b[0;32mreturn\u001b[0m \u001b[0mself\u001b[0m\u001b[0;34m.\u001b[0m\u001b[0m_engine\u001b[0m\u001b[0;34m.\u001b[0m\u001b[0mget_loc\u001b[0m\u001b[0;34m(\u001b[0m\u001b[0mself\u001b[0m\u001b[0;34m.\u001b[0m\u001b[0m_maybe_cast_indexer\u001b[0m\u001b[0;34m(\u001b[0m\u001b[0mkey\u001b[0m\u001b[0;34m)\u001b[0m\u001b[0;34m)\u001b[0m\u001b[0;34m\u001b[0m\u001b[0;34m\u001b[0m\u001b[0m\n\u001b[0m\u001b[1;32m   2649\u001b[0m         \u001b[0mindexer\u001b[0m \u001b[0;34m=\u001b[0m \u001b[0mself\u001b[0m\u001b[0;34m.\u001b[0m\u001b[0mget_indexer\u001b[0m\u001b[0;34m(\u001b[0m\u001b[0;34m[\u001b[0m\u001b[0mkey\u001b[0m\u001b[0;34m]\u001b[0m\u001b[0;34m,\u001b[0m \u001b[0mmethod\u001b[0m\u001b[0;34m=\u001b[0m\u001b[0mmethod\u001b[0m\u001b[0;34m,\u001b[0m \u001b[0mtolerance\u001b[0m\u001b[0;34m=\u001b[0m\u001b[0mtolerance\u001b[0m\u001b[0;34m)\u001b[0m\u001b[0;34m\u001b[0m\u001b[0;34m\u001b[0m\u001b[0m\n\u001b[1;32m   2650\u001b[0m         \u001b[0;32mif\u001b[0m \u001b[0mindexer\u001b[0m\u001b[0;34m.\u001b[0m\u001b[0mndim\u001b[0m \u001b[0;34m>\u001b[0m \u001b[0;36m1\u001b[0m \u001b[0;32mor\u001b[0m \u001b[0mindexer\u001b[0m\u001b[0;34m.\u001b[0m\u001b[0msize\u001b[0m \u001b[0;34m>\u001b[0m \u001b[0;36m1\u001b[0m\u001b[0;34m:\u001b[0m\u001b[0;34m\u001b[0m\u001b[0;34m\u001b[0m\u001b[0m\n",
      "\u001b[0;32mpandas/_libs/index.pyx\u001b[0m in \u001b[0;36mpandas._libs.index.IndexEngine.get_loc\u001b[0;34m()\u001b[0m\n",
      "\u001b[0;32mpandas/_libs/index.pyx\u001b[0m in \u001b[0;36mpandas._libs.index.IndexEngine.get_loc\u001b[0;34m()\u001b[0m\n",
      "\u001b[0;32mpandas/_libs/hashtable_class_helper.pxi\u001b[0m in \u001b[0;36mpandas._libs.hashtable.PyObjectHashTable.get_item\u001b[0;34m()\u001b[0m\n",
      "\u001b[0;32mpandas/_libs/hashtable_class_helper.pxi\u001b[0m in \u001b[0;36mpandas._libs.hashtable.PyObjectHashTable.get_item\u001b[0;34m()\u001b[0m\n",
      "\u001b[0;31mKeyError\u001b[0m: 'Bundesland'"
     ]
    }
   ],
   "source": [
    "df_lkr_cum.loc[df_lkr_cum['Bundesland']==state_sel_cum]"
   ]
  },
  {
   "cell_type": "code",
   "execution_count": 11,
   "metadata": {},
   "outputs": [
    {
     "ename": "KeyError",
     "evalue": "'Bundesland'",
     "output_type": "error",
     "traceback": [
      "\u001b[0;31m---------------------------------------------------------------------------\u001b[0m",
      "\u001b[0;31mKeyError\u001b[0m                                  Traceback (most recent call last)",
      "\u001b[0;32m~/anaconda3/envs/dsnd/lib/python3.8/site-packages/pandas/core/indexes/base.py\u001b[0m in \u001b[0;36mget_loc\u001b[0;34m(self, key, method, tolerance)\u001b[0m\n\u001b[1;32m   2645\u001b[0m             \u001b[0;32mtry\u001b[0m\u001b[0;34m:\u001b[0m\u001b[0;34m\u001b[0m\u001b[0;34m\u001b[0m\u001b[0m\n\u001b[0;32m-> 2646\u001b[0;31m                 \u001b[0;32mreturn\u001b[0m \u001b[0mself\u001b[0m\u001b[0;34m.\u001b[0m\u001b[0m_engine\u001b[0m\u001b[0;34m.\u001b[0m\u001b[0mget_loc\u001b[0m\u001b[0;34m(\u001b[0m\u001b[0mkey\u001b[0m\u001b[0;34m)\u001b[0m\u001b[0;34m\u001b[0m\u001b[0;34m\u001b[0m\u001b[0m\n\u001b[0m\u001b[1;32m   2647\u001b[0m             \u001b[0;32mexcept\u001b[0m \u001b[0mKeyError\u001b[0m\u001b[0;34m:\u001b[0m\u001b[0;34m\u001b[0m\u001b[0;34m\u001b[0m\u001b[0m\n",
      "\u001b[0;32mpandas/_libs/index.pyx\u001b[0m in \u001b[0;36mpandas._libs.index.IndexEngine.get_loc\u001b[0;34m()\u001b[0m\n",
      "\u001b[0;32mpandas/_libs/index.pyx\u001b[0m in \u001b[0;36mpandas._libs.index.IndexEngine.get_loc\u001b[0;34m()\u001b[0m\n",
      "\u001b[0;32mpandas/_libs/hashtable_class_helper.pxi\u001b[0m in \u001b[0;36mpandas._libs.hashtable.PyObjectHashTable.get_item\u001b[0;34m()\u001b[0m\n",
      "\u001b[0;32mpandas/_libs/hashtable_class_helper.pxi\u001b[0m in \u001b[0;36mpandas._libs.hashtable.PyObjectHashTable.get_item\u001b[0;34m()\u001b[0m\n",
      "\u001b[0;31mKeyError\u001b[0m: 'Bundesland'",
      "\nDuring handling of the above exception, another exception occurred:\n",
      "\u001b[0;31mKeyError\u001b[0m                                  Traceback (most recent call last)",
      "\u001b[0;32m<ipython-input-11-a581875722bd>\u001b[0m in \u001b[0;36m<module>\u001b[0;34m\u001b[0m\n\u001b[1;32m      1\u001b[0m \u001b[0mstate_sel_cum\u001b[0m \u001b[0;34m=\u001b[0m \u001b[0;34m'Bayern'\u001b[0m\u001b[0;34m\u001b[0m\u001b[0;34m\u001b[0m\u001b[0m\n\u001b[0;32m----> 2\u001b[0;31m \u001b[0malt\u001b[0m\u001b[0;34m.\u001b[0m\u001b[0mChart\u001b[0m\u001b[0;34m(\u001b[0m\u001b[0mdf_lkr_cum\u001b[0m\u001b[0;34m.\u001b[0m\u001b[0mloc\u001b[0m\u001b[0;34m[\u001b[0m\u001b[0mdf_lkr_cum\u001b[0m\u001b[0;34m[\u001b[0m\u001b[0;34m'Bundesland'\u001b[0m\u001b[0;34m]\u001b[0m\u001b[0;34m==\u001b[0m\u001b[0mstate_sel_cum\u001b[0m\u001b[0;34m]\u001b[0m\u001b[0;34m)\u001b[0m\u001b[0;31m\\\u001b[0m\u001b[0;34m\u001b[0m\u001b[0;34m\u001b[0m\u001b[0m\n\u001b[0m\u001b[1;32m      3\u001b[0m             \u001b[0;34m.\u001b[0m\u001b[0mmark_area\u001b[0m\u001b[0;34m(\u001b[0m\u001b[0mpoint\u001b[0m\u001b[0;34m=\u001b[0m\u001b[0;32mFalse\u001b[0m\u001b[0;34m,\u001b[0m \u001b[0mopacity\u001b[0m\u001b[0;34m=\u001b[0m\u001b[0;36m0.6\u001b[0m\u001b[0;34m)\u001b[0m\u001b[0;31m\\\u001b[0m\u001b[0;34m\u001b[0m\u001b[0;34m\u001b[0m\u001b[0m\n\u001b[1;32m      4\u001b[0m             .encode(x=alt.X('monthdate(Meldedatum):O', title='Date'),\\\n\u001b[1;32m      5\u001b[0m                     y=alt.Y('mean(Number):Q',\\\n",
      "\u001b[0;32m~/anaconda3/envs/dsnd/lib/python3.8/site-packages/pandas/core/frame.py\u001b[0m in \u001b[0;36m__getitem__\u001b[0;34m(self, key)\u001b[0m\n\u001b[1;32m   2798\u001b[0m             \u001b[0;32mif\u001b[0m \u001b[0mself\u001b[0m\u001b[0;34m.\u001b[0m\u001b[0mcolumns\u001b[0m\u001b[0;34m.\u001b[0m\u001b[0mnlevels\u001b[0m \u001b[0;34m>\u001b[0m \u001b[0;36m1\u001b[0m\u001b[0;34m:\u001b[0m\u001b[0;34m\u001b[0m\u001b[0;34m\u001b[0m\u001b[0m\n\u001b[1;32m   2799\u001b[0m                 \u001b[0;32mreturn\u001b[0m \u001b[0mself\u001b[0m\u001b[0;34m.\u001b[0m\u001b[0m_getitem_multilevel\u001b[0m\u001b[0;34m(\u001b[0m\u001b[0mkey\u001b[0m\u001b[0;34m)\u001b[0m\u001b[0;34m\u001b[0m\u001b[0;34m\u001b[0m\u001b[0m\n\u001b[0;32m-> 2800\u001b[0;31m             \u001b[0mindexer\u001b[0m \u001b[0;34m=\u001b[0m \u001b[0mself\u001b[0m\u001b[0;34m.\u001b[0m\u001b[0mcolumns\u001b[0m\u001b[0;34m.\u001b[0m\u001b[0mget_loc\u001b[0m\u001b[0;34m(\u001b[0m\u001b[0mkey\u001b[0m\u001b[0;34m)\u001b[0m\u001b[0;34m\u001b[0m\u001b[0;34m\u001b[0m\u001b[0m\n\u001b[0m\u001b[1;32m   2801\u001b[0m             \u001b[0;32mif\u001b[0m \u001b[0mis_integer\u001b[0m\u001b[0;34m(\u001b[0m\u001b[0mindexer\u001b[0m\u001b[0;34m)\u001b[0m\u001b[0;34m:\u001b[0m\u001b[0;34m\u001b[0m\u001b[0;34m\u001b[0m\u001b[0m\n\u001b[1;32m   2802\u001b[0m                 \u001b[0mindexer\u001b[0m \u001b[0;34m=\u001b[0m \u001b[0;34m[\u001b[0m\u001b[0mindexer\u001b[0m\u001b[0;34m]\u001b[0m\u001b[0;34m\u001b[0m\u001b[0;34m\u001b[0m\u001b[0m\n",
      "\u001b[0;32m~/anaconda3/envs/dsnd/lib/python3.8/site-packages/pandas/core/indexes/base.py\u001b[0m in \u001b[0;36mget_loc\u001b[0;34m(self, key, method, tolerance)\u001b[0m\n\u001b[1;32m   2646\u001b[0m                 \u001b[0;32mreturn\u001b[0m \u001b[0mself\u001b[0m\u001b[0;34m.\u001b[0m\u001b[0m_engine\u001b[0m\u001b[0;34m.\u001b[0m\u001b[0mget_loc\u001b[0m\u001b[0;34m(\u001b[0m\u001b[0mkey\u001b[0m\u001b[0;34m)\u001b[0m\u001b[0;34m\u001b[0m\u001b[0;34m\u001b[0m\u001b[0m\n\u001b[1;32m   2647\u001b[0m             \u001b[0;32mexcept\u001b[0m \u001b[0mKeyError\u001b[0m\u001b[0;34m:\u001b[0m\u001b[0;34m\u001b[0m\u001b[0;34m\u001b[0m\u001b[0m\n\u001b[0;32m-> 2648\u001b[0;31m                 \u001b[0;32mreturn\u001b[0m \u001b[0mself\u001b[0m\u001b[0;34m.\u001b[0m\u001b[0m_engine\u001b[0m\u001b[0;34m.\u001b[0m\u001b[0mget_loc\u001b[0m\u001b[0;34m(\u001b[0m\u001b[0mself\u001b[0m\u001b[0;34m.\u001b[0m\u001b[0m_maybe_cast_indexer\u001b[0m\u001b[0;34m(\u001b[0m\u001b[0mkey\u001b[0m\u001b[0;34m)\u001b[0m\u001b[0;34m)\u001b[0m\u001b[0;34m\u001b[0m\u001b[0;34m\u001b[0m\u001b[0m\n\u001b[0m\u001b[1;32m   2649\u001b[0m         \u001b[0mindexer\u001b[0m \u001b[0;34m=\u001b[0m \u001b[0mself\u001b[0m\u001b[0;34m.\u001b[0m\u001b[0mget_indexer\u001b[0m\u001b[0;34m(\u001b[0m\u001b[0;34m[\u001b[0m\u001b[0mkey\u001b[0m\u001b[0;34m]\u001b[0m\u001b[0;34m,\u001b[0m \u001b[0mmethod\u001b[0m\u001b[0;34m=\u001b[0m\u001b[0mmethod\u001b[0m\u001b[0;34m,\u001b[0m \u001b[0mtolerance\u001b[0m\u001b[0;34m=\u001b[0m\u001b[0mtolerance\u001b[0m\u001b[0;34m)\u001b[0m\u001b[0;34m\u001b[0m\u001b[0;34m\u001b[0m\u001b[0m\n\u001b[1;32m   2650\u001b[0m         \u001b[0;32mif\u001b[0m \u001b[0mindexer\u001b[0m\u001b[0;34m.\u001b[0m\u001b[0mndim\u001b[0m \u001b[0;34m>\u001b[0m \u001b[0;36m1\u001b[0m \u001b[0;32mor\u001b[0m \u001b[0mindexer\u001b[0m\u001b[0;34m.\u001b[0m\u001b[0msize\u001b[0m \u001b[0;34m>\u001b[0m \u001b[0;36m1\u001b[0m\u001b[0;34m:\u001b[0m\u001b[0;34m\u001b[0m\u001b[0;34m\u001b[0m\u001b[0m\n",
      "\u001b[0;32mpandas/_libs/index.pyx\u001b[0m in \u001b[0;36mpandas._libs.index.IndexEngine.get_loc\u001b[0;34m()\u001b[0m\n",
      "\u001b[0;32mpandas/_libs/index.pyx\u001b[0m in \u001b[0;36mpandas._libs.index.IndexEngine.get_loc\u001b[0;34m()\u001b[0m\n",
      "\u001b[0;32mpandas/_libs/hashtable_class_helper.pxi\u001b[0m in \u001b[0;36mpandas._libs.hashtable.PyObjectHashTable.get_item\u001b[0;34m()\u001b[0m\n",
      "\u001b[0;32mpandas/_libs/hashtable_class_helper.pxi\u001b[0m in \u001b[0;36mpandas._libs.hashtable.PyObjectHashTable.get_item\u001b[0;34m()\u001b[0m\n",
      "\u001b[0;31mKeyError\u001b[0m: 'Bundesland'"
     ]
    }
   ],
   "source": [
    "state_sel_cum = 'Bayern'\n",
    "alt.Chart(df_lkr_cum.loc[df_lkr_cum['Bundesland']==state_sel_cum])\\\n",
    "            .mark_area(point=False, opacity=0.6)\\\n",
    "            .encode(x=alt.X('monthdate(Meldedatum):O', title='Date'),\\\n",
    "                    y=alt.Y('mean(Number):Q',\\\n",
    "                            title='Cumulative Cases',\\\n",
    "                            stack=None),\\\n",
    "                    color='category',\\\n",
    "                    tooltip=['monthdate(Meldedatum)','category','Number'])\\\n",
    "            .properties(width=800, height=400, title='Number of Cases')"
   ]
  },
  {
   "cell_type": "code",
   "execution_count": 3,
   "metadata": {},
   "outputs": [
    {
     "ename": "NameError",
     "evalue": "name 'df' is not defined",
     "output_type": "error",
     "traceback": [
      "\u001b[0;31m---------------------------------------------------------------------------\u001b[0m",
      "\u001b[0;31mNameError\u001b[0m                                 Traceback (most recent call last)",
      "\u001b[0;32m<ipython-input-3-d0d9504a1f84>\u001b[0m in \u001b[0;36m<module>\u001b[0;34m\u001b[0m\n\u001b[1;32m      2\u001b[0m \u001b[0mel_list\u001b[0m \u001b[0;34m=\u001b[0m \u001b[0;34m[\u001b[0m\u001b[0;34m'Niedersachsen'\u001b[0m\u001b[0;34m,\u001b[0m\u001b[0;34m'Bayern'\u001b[0m\u001b[0;34m]\u001b[0m\u001b[0;34m\u001b[0m\u001b[0;34m\u001b[0m\u001b[0m\n\u001b[1;32m      3\u001b[0m \u001b[0;34m\u001b[0m\u001b[0m\n\u001b[0;32m----> 4\u001b[0;31m \u001b[0malt\u001b[0m\u001b[0;34m.\u001b[0m\u001b[0mChart\u001b[0m\u001b[0;34m(\u001b[0m\u001b[0mdf\u001b[0m\u001b[0;34m.\u001b[0m\u001b[0mloc\u001b[0m\u001b[0;34m[\u001b[0m\u001b[0mdf\u001b[0m\u001b[0;34m[\u001b[0m\u001b[0mcat\u001b[0m\u001b[0;34m]\u001b[0m\u001b[0;34m.\u001b[0m\u001b[0misin\u001b[0m\u001b[0;34m(\u001b[0m\u001b[0mel_list\u001b[0m\u001b[0;34m)\u001b[0m\u001b[0;34m]\u001b[0m\u001b[0;34m)\u001b[0m\u001b[0;31m\\\u001b[0m\u001b[0;34m\u001b[0m\u001b[0;34m\u001b[0m\u001b[0m\n\u001b[0m\u001b[1;32m      5\u001b[0m         \u001b[0;34m.\u001b[0m\u001b[0mmark_bar\u001b[0m\u001b[0;34m(\u001b[0m\u001b[0mpoint\u001b[0m\u001b[0;34m=\u001b[0m\u001b[0;32mTrue\u001b[0m\u001b[0;34m)\u001b[0m\u001b[0;31m\\\u001b[0m\u001b[0;34m\u001b[0m\u001b[0;34m\u001b[0m\u001b[0m\n\u001b[1;32m      6\u001b[0m         .encode(x=alt.X('monthdate(Meldedatum):O', title='Date'),\\\n",
      "\u001b[0;31mNameError\u001b[0m: name 'df' is not defined"
     ]
    }
   ],
   "source": [
    "cat = 'Bundesland'\n",
    "el_list = ['Niedersachsen','Bayern']\n",
    "\n",
    "alt.Chart(df.loc[df[cat].isin(el_list)])\\\n",
    "        .mark_bar(point=True)\\\n",
    "        .encode(x=alt.X('monthdate(Meldedatum):O', title='Date'),\\\n",
    "                y=alt.Y('mean(AnzahlFall):Q', title='Cumulative Cases'),\\\n",
    "                color=cat)\\\n",
    "        .properties(width=800, height=400, title='Number of Cases')"
   ]
  },
  {
   "cell_type": "markdown",
   "metadata": {},
   "source": [
    "# State wise cases per 100k inhabitants"
   ]
  },
  {
   "cell_type": "code",
   "execution_count": null,
   "metadata": {},
   "outputs": [],
   "source": [
    "df_cases_rolling.head()"
   ]
  },
  {
   "cell_type": "code",
   "execution_count": 44,
   "metadata": {},
   "outputs": [
    {
     "data": {
      "text/html": [
       "<div>\n",
       "<style scoped>\n",
       "    .dataframe tbody tr th:only-of-type {\n",
       "        vertical-align: middle;\n",
       "    }\n",
       "\n",
       "    .dataframe tbody tr th {\n",
       "        vertical-align: top;\n",
       "    }\n",
       "\n",
       "    .dataframe thead th {\n",
       "        text-align: right;\n",
       "    }\n",
       "</style>\n",
       "<table border=\"1\" class=\"dataframe\">\n",
       "  <thead>\n",
       "    <tr style=\"text-align: right;\">\n",
       "      <th></th>\n",
       "      <th>Meldedatum</th>\n",
       "      <th>Landkreis</th>\n",
       "      <th>category</th>\n",
       "      <th>Number</th>\n",
       "    </tr>\n",
       "  </thead>\n",
       "  <tbody>\n",
       "    <tr>\n",
       "      <th>0</th>\n",
       "      <td>2020-01-28</td>\n",
       "      <td>SK Flensburg</td>\n",
       "      <td>AnzahlFall100k</td>\n",
       "      <td>0.000000</td>\n",
       "    </tr>\n",
       "    <tr>\n",
       "      <th>1</th>\n",
       "      <td>2020-01-29</td>\n",
       "      <td>SK Flensburg</td>\n",
       "      <td>AnzahlFall100k</td>\n",
       "      <td>0.000000</td>\n",
       "    </tr>\n",
       "    <tr>\n",
       "      <th>2</th>\n",
       "      <td>2020-01-30</td>\n",
       "      <td>SK Flensburg</td>\n",
       "      <td>AnzahlFall100k</td>\n",
       "      <td>0.000000</td>\n",
       "    </tr>\n",
       "    <tr>\n",
       "      <th>3</th>\n",
       "      <td>2020-01-31</td>\n",
       "      <td>SK Flensburg</td>\n",
       "      <td>AnzahlFall100k</td>\n",
       "      <td>0.000000</td>\n",
       "    </tr>\n",
       "    <tr>\n",
       "      <th>4</th>\n",
       "      <td>2020-02-01</td>\n",
       "      <td>SK Flensburg</td>\n",
       "      <td>AnzahlFall100k</td>\n",
       "      <td>0.000000</td>\n",
       "    </tr>\n",
       "    <tr>\n",
       "      <th>...</th>\n",
       "      <td>...</td>\n",
       "      <td>...</td>\n",
       "      <td>...</td>\n",
       "      <td>...</td>\n",
       "    </tr>\n",
       "    <tr>\n",
       "      <th>42501</th>\n",
       "      <td>2020-05-08</td>\n",
       "      <td>LK Altenburger Land</td>\n",
       "      <td>AnzahlFall100k</td>\n",
       "      <td>2.219312</td>\n",
       "    </tr>\n",
       "    <tr>\n",
       "      <th>42502</th>\n",
       "      <td>2020-05-09</td>\n",
       "      <td>LK Altenburger Land</td>\n",
       "      <td>AnzahlFall100k</td>\n",
       "      <td>2.219312</td>\n",
       "    </tr>\n",
       "    <tr>\n",
       "      <th>42503</th>\n",
       "      <td>2020-05-10</td>\n",
       "      <td>LK Altenburger Land</td>\n",
       "      <td>AnzahlFall100k</td>\n",
       "      <td>2.219312</td>\n",
       "    </tr>\n",
       "    <tr>\n",
       "      <th>42504</th>\n",
       "      <td>2020-05-11</td>\n",
       "      <td>LK Altenburger Land</td>\n",
       "      <td>AnzahlFall100k</td>\n",
       "      <td>7.767594</td>\n",
       "    </tr>\n",
       "    <tr>\n",
       "      <th>42505</th>\n",
       "      <td>2020-05-12</td>\n",
       "      <td>LK Altenburger Land</td>\n",
       "      <td>AnzahlFall100k</td>\n",
       "      <td>7.767594</td>\n",
       "    </tr>\n",
       "  </tbody>\n",
       "</table>\n",
       "<p>42506 rows × 4 columns</p>\n",
       "</div>"
      ],
      "text/plain": [
       "      Meldedatum            Landkreis        category    Number\n",
       "0     2020-01-28         SK Flensburg  AnzahlFall100k  0.000000\n",
       "1     2020-01-29         SK Flensburg  AnzahlFall100k  0.000000\n",
       "2     2020-01-30         SK Flensburg  AnzahlFall100k  0.000000\n",
       "3     2020-01-31         SK Flensburg  AnzahlFall100k  0.000000\n",
       "4     2020-02-01         SK Flensburg  AnzahlFall100k  0.000000\n",
       "...          ...                  ...             ...       ...\n",
       "42501 2020-05-08  LK Altenburger Land  AnzahlFall100k  2.219312\n",
       "42502 2020-05-09  LK Altenburger Land  AnzahlFall100k  2.219312\n",
       "42503 2020-05-10  LK Altenburger Land  AnzahlFall100k  2.219312\n",
       "42504 2020-05-11  LK Altenburger Land  AnzahlFall100k  7.767594\n",
       "42505 2020-05-12  LK Altenburger Land  AnzahlFall100k  7.767594\n",
       "\n",
       "[42506 rows x 4 columns]"
      ]
     },
     "execution_count": 44,
     "metadata": {},
     "output_type": "execute_result"
    }
   ],
   "source": [
    "df_lkr_roll = \\\n",
    "        pd.melt(df_cases_rolling, id_vars=['Meldedatum', 'Landkreis'],\\\n",
    "                value_vars = ['AnzahlFall100k'],\\\n",
    "                var_name = 'category',\\\n",
    "                value_name = 'Number')\n",
    "df_lkr_roll"
   ]
  },
  {
   "cell_type": "code",
   "execution_count": 45,
   "metadata": {},
   "outputs": [
    {
     "data": {
      "text/html": [
       "<div>\n",
       "<style scoped>\n",
       "    .dataframe tbody tr th:only-of-type {\n",
       "        vertical-align: middle;\n",
       "    }\n",
       "\n",
       "    .dataframe tbody tr th {\n",
       "        vertical-align: top;\n",
       "    }\n",
       "\n",
       "    .dataframe thead th {\n",
       "        text-align: right;\n",
       "    }\n",
       "</style>\n",
       "<table border=\"1\" class=\"dataframe\">\n",
       "  <thead>\n",
       "    <tr style=\"text-align: right;\">\n",
       "      <th></th>\n",
       "      <th>Meldedatum</th>\n",
       "      <th>Landkreis</th>\n",
       "      <th>AnzahlFall</th>\n",
       "      <th>AnzahlTodesfall</th>\n",
       "      <th>AnzahlGenesen</th>\n",
       "    </tr>\n",
       "  </thead>\n",
       "  <tbody>\n",
       "    <tr>\n",
       "      <th>151</th>\n",
       "      <td>2020-03-04</td>\n",
       "      <td>LK Coesfeld</td>\n",
       "      <td>10</td>\n",
       "      <td>0</td>\n",
       "      <td>10</td>\n",
       "    </tr>\n",
       "    <tr>\n",
       "      <th>204</th>\n",
       "      <td>2020-03-05</td>\n",
       "      <td>LK Coesfeld</td>\n",
       "      <td>1</td>\n",
       "      <td>0</td>\n",
       "      <td>1</td>\n",
       "    </tr>\n",
       "    <tr>\n",
       "      <th>266</th>\n",
       "      <td>2020-03-06</td>\n",
       "      <td>LK Coesfeld</td>\n",
       "      <td>1</td>\n",
       "      <td>0</td>\n",
       "      <td>1</td>\n",
       "    </tr>\n",
       "    <tr>\n",
       "      <th>375</th>\n",
       "      <td>2020-03-08</td>\n",
       "      <td>LK Coesfeld</td>\n",
       "      <td>3</td>\n",
       "      <td>0</td>\n",
       "      <td>3</td>\n",
       "    </tr>\n",
       "    <tr>\n",
       "      <th>425</th>\n",
       "      <td>2020-03-09</td>\n",
       "      <td>LK Coesfeld</td>\n",
       "      <td>2</td>\n",
       "      <td>0</td>\n",
       "      <td>2</td>\n",
       "    </tr>\n",
       "    <tr>\n",
       "      <th>...</th>\n",
       "      <td>...</td>\n",
       "      <td>...</td>\n",
       "      <td>...</td>\n",
       "      <td>...</td>\n",
       "      <td>...</td>\n",
       "    </tr>\n",
       "    <tr>\n",
       "      <th>18755</th>\n",
       "      <td>2020-05-08</td>\n",
       "      <td>LK Coesfeld</td>\n",
       "      <td>21</td>\n",
       "      <td>0</td>\n",
       "      <td>0</td>\n",
       "    </tr>\n",
       "    <tr>\n",
       "      <th>18986</th>\n",
       "      <td>2020-05-09</td>\n",
       "      <td>LK Coesfeld</td>\n",
       "      <td>37</td>\n",
       "      <td>0</td>\n",
       "      <td>0</td>\n",
       "    </tr>\n",
       "    <tr>\n",
       "      <th>19164</th>\n",
       "      <td>2020-05-10</td>\n",
       "      <td>LK Coesfeld</td>\n",
       "      <td>31</td>\n",
       "      <td>0</td>\n",
       "      <td>1</td>\n",
       "    </tr>\n",
       "    <tr>\n",
       "      <th>19299</th>\n",
       "      <td>2020-05-11</td>\n",
       "      <td>LK Coesfeld</td>\n",
       "      <td>27</td>\n",
       "      <td>0</td>\n",
       "      <td>1</td>\n",
       "    </tr>\n",
       "    <tr>\n",
       "      <th>19468</th>\n",
       "      <td>2020-05-12</td>\n",
       "      <td>LK Coesfeld</td>\n",
       "      <td>24</td>\n",
       "      <td>0</td>\n",
       "      <td>0</td>\n",
       "    </tr>\n",
       "  </tbody>\n",
       "</table>\n",
       "<p>62 rows × 5 columns</p>\n",
       "</div>"
      ],
      "text/plain": [
       "      Meldedatum    Landkreis  AnzahlFall  AnzahlTodesfall  AnzahlGenesen\n",
       "151   2020-03-04  LK Coesfeld          10                0             10\n",
       "204   2020-03-05  LK Coesfeld           1                0              1\n",
       "266   2020-03-06  LK Coesfeld           1                0              1\n",
       "375   2020-03-08  LK Coesfeld           3                0              3\n",
       "425   2020-03-09  LK Coesfeld           2                0              2\n",
       "...          ...          ...         ...              ...            ...\n",
       "18755 2020-05-08  LK Coesfeld          21                0              0\n",
       "18986 2020-05-09  LK Coesfeld          37                0              0\n",
       "19164 2020-05-10  LK Coesfeld          31                0              1\n",
       "19299 2020-05-11  LK Coesfeld          27                0              1\n",
       "19468 2020-05-12  LK Coesfeld          24                0              0\n",
       "\n",
       "[62 rows x 5 columns]"
      ]
     },
     "execution_count": 45,
     "metadata": {},
     "output_type": "execute_result"
    }
   ],
   "source": [
    "df_lkr.loc[df_lkr['Landkreis']=='LK Coesfeld']"
   ]
  },
  {
   "cell_type": "code",
   "execution_count": 46,
   "metadata": {},
   "outputs": [
    {
     "data": {
      "text/html": [
       "\n",
       "<div id=\"altair-viz-ffe5d899b07b4b8bbe2309ce905fce41\"></div>\n",
       "<script type=\"text/javascript\">\n",
       "  (function(spec, embedOpt){\n",
       "    let outputDiv = document.currentScript.previousElementSibling;\n",
       "    if (outputDiv.id !== \"altair-viz-ffe5d899b07b4b8bbe2309ce905fce41\") {\n",
       "      outputDiv = document.getElementById(\"altair-viz-ffe5d899b07b4b8bbe2309ce905fce41\");\n",
       "    }\n",
       "    const paths = {\n",
       "      \"vega\": \"https://cdn.jsdelivr.net/npm//vega@5?noext\",\n",
       "      \"vega-lib\": \"https://cdn.jsdelivr.net/npm//vega-lib?noext\",\n",
       "      \"vega-lite\": \"https://cdn.jsdelivr.net/npm//vega-lite@4.8.1?noext\",\n",
       "      \"vega-embed\": \"https://cdn.jsdelivr.net/npm//vega-embed@6?noext\",\n",
       "    };\n",
       "\n",
       "    function loadScript(lib) {\n",
       "      return new Promise(function(resolve, reject) {\n",
       "        var s = document.createElement('script');\n",
       "        s.src = paths[lib];\n",
       "        s.async = true;\n",
       "        s.onload = () => resolve(paths[lib]);\n",
       "        s.onerror = () => reject(`Error loading script: ${paths[lib]}`);\n",
       "        document.getElementsByTagName(\"head\")[0].appendChild(s);\n",
       "      });\n",
       "    }\n",
       "\n",
       "    function showError(err) {\n",
       "      outputDiv.innerHTML = `<div class=\"error\" style=\"color:red;\">${err}</div>`;\n",
       "      throw err;\n",
       "    }\n",
       "\n",
       "    function displayChart(vegaEmbed) {\n",
       "      vegaEmbed(outputDiv, spec, embedOpt)\n",
       "        .catch(err => showError(`Javascript Error: ${err.message}<br>This usually means there's a typo in your chart specification. See the javascript console for the full traceback.`));\n",
       "    }\n",
       "\n",
       "    if(typeof define === \"function\" && define.amd) {\n",
       "      requirejs.config({paths});\n",
       "      require([\"vega-embed\"], displayChart, err => showError(`Error loading script: ${err.message}`));\n",
       "    } else if (typeof vegaEmbed === \"function\") {\n",
       "      displayChart(vegaEmbed);\n",
       "    } else {\n",
       "      loadScript(\"vega\")\n",
       "        .then(() => loadScript(\"vega-lite\"))\n",
       "        .then(() => loadScript(\"vega-embed\"))\n",
       "        .catch(showError)\n",
       "        .then(() => displayChart(vegaEmbed));\n",
       "    }\n",
       "  })({\"config\": {\"view\": {\"continuousWidth\": 400, \"continuousHeight\": 300}}, \"data\": {\"name\": \"data-d7a4be09b80a6d0d5ad4966107adb34f\"}, \"mark\": {\"type\": \"bar\", \"point\": true}, \"encoding\": {\"color\": {\"type\": \"nominal\", \"field\": \"Landkreis\"}, \"x\": {\"type\": \"ordinal\", \"field\": \"Meldedatum\", \"timeUnit\": \"monthdate\", \"title\": \"Date\"}, \"y\": {\"type\": \"quantitative\", \"aggregate\": \"mean\", \"field\": \"Number\", \"title\": \"Cumulative Cases\"}}, \"height\": 400, \"title\": \"Number of Cases\", \"width\": 800, \"$schema\": \"https://vega.github.io/schema/vega-lite/v4.8.1.json\", \"datasets\": {\"data-d7a4be09b80a6d0d5ad4966107adb34f\": [{\"Meldedatum\": \"2020-01-28T00:00:00\", \"Landkreis\": \"Region Hannover\", \"category\": \"AnzahlFall100k\", \"Number\": 0.0}, {\"Meldedatum\": \"2020-01-29T00:00:00\", \"Landkreis\": \"Region Hannover\", \"category\": \"AnzahlFall100k\", \"Number\": 0.0}, {\"Meldedatum\": \"2020-01-30T00:00:00\", \"Landkreis\": \"Region Hannover\", \"category\": \"AnzahlFall100k\", \"Number\": 0.0}, {\"Meldedatum\": \"2020-01-31T00:00:00\", \"Landkreis\": \"Region Hannover\", \"category\": \"AnzahlFall100k\", \"Number\": 0.0}, {\"Meldedatum\": \"2020-02-01T00:00:00\", \"Landkreis\": \"Region Hannover\", \"category\": \"AnzahlFall100k\", \"Number\": 0.0}, {\"Meldedatum\": \"2020-02-02T00:00:00\", \"Landkreis\": \"Region Hannover\", \"category\": \"AnzahlFall100k\", \"Number\": 0.0}, {\"Meldedatum\": \"2020-02-03T00:00:00\", \"Landkreis\": \"Region Hannover\", \"category\": \"AnzahlFall100k\", \"Number\": 0.0}, {\"Meldedatum\": \"2020-02-04T00:00:00\", \"Landkreis\": \"Region Hannover\", \"category\": \"AnzahlFall100k\", \"Number\": 0.0}, {\"Meldedatum\": \"2020-02-05T00:00:00\", \"Landkreis\": \"Region Hannover\", \"category\": \"AnzahlFall100k\", \"Number\": 0.0}, {\"Meldedatum\": \"2020-02-06T00:00:00\", \"Landkreis\": \"Region Hannover\", \"category\": \"AnzahlFall100k\", \"Number\": 0.0}, {\"Meldedatum\": \"2020-02-07T00:00:00\", \"Landkreis\": \"Region Hannover\", \"category\": \"AnzahlFall100k\", \"Number\": 0.0}, {\"Meldedatum\": \"2020-02-08T00:00:00\", \"Landkreis\": \"Region Hannover\", \"category\": \"AnzahlFall100k\", \"Number\": 0.0}, {\"Meldedatum\": \"2020-02-09T00:00:00\", \"Landkreis\": \"Region Hannover\", \"category\": \"AnzahlFall100k\", \"Number\": 0.0}, {\"Meldedatum\": \"2020-02-10T00:00:00\", \"Landkreis\": \"Region Hannover\", \"category\": \"AnzahlFall100k\", \"Number\": 0.0}, {\"Meldedatum\": \"2020-02-11T00:00:00\", \"Landkreis\": \"Region Hannover\", \"category\": \"AnzahlFall100k\", \"Number\": 0.0}, {\"Meldedatum\": \"2020-02-12T00:00:00\", \"Landkreis\": \"Region Hannover\", \"category\": \"AnzahlFall100k\", \"Number\": 0.0}, {\"Meldedatum\": \"2020-02-13T00:00:00\", \"Landkreis\": \"Region Hannover\", \"category\": \"AnzahlFall100k\", \"Number\": 0.0}, {\"Meldedatum\": \"2020-02-14T00:00:00\", \"Landkreis\": \"Region Hannover\", \"category\": \"AnzahlFall100k\", \"Number\": 0.0}, {\"Meldedatum\": \"2020-02-15T00:00:00\", \"Landkreis\": \"Region Hannover\", \"category\": \"AnzahlFall100k\", \"Number\": 0.0}, {\"Meldedatum\": \"2020-02-16T00:00:00\", \"Landkreis\": \"Region Hannover\", \"category\": \"AnzahlFall100k\", \"Number\": 0.0}, {\"Meldedatum\": \"2020-02-17T00:00:00\", \"Landkreis\": \"Region Hannover\", \"category\": \"AnzahlFall100k\", \"Number\": 0.0}, {\"Meldedatum\": \"2020-02-18T00:00:00\", \"Landkreis\": \"Region Hannover\", \"category\": \"AnzahlFall100k\", \"Number\": 0.0}, {\"Meldedatum\": \"2020-02-19T00:00:00\", \"Landkreis\": \"Region Hannover\", \"category\": \"AnzahlFall100k\", \"Number\": 0.0}, {\"Meldedatum\": \"2020-02-20T00:00:00\", \"Landkreis\": \"Region Hannover\", \"category\": \"AnzahlFall100k\", \"Number\": 0.0}, {\"Meldedatum\": \"2020-02-21T00:00:00\", \"Landkreis\": \"Region Hannover\", \"category\": \"AnzahlFall100k\", \"Number\": 0.0}, {\"Meldedatum\": \"2020-02-22T00:00:00\", \"Landkreis\": \"Region Hannover\", \"category\": \"AnzahlFall100k\", \"Number\": 0.0}, {\"Meldedatum\": \"2020-02-23T00:00:00\", \"Landkreis\": \"Region Hannover\", \"category\": \"AnzahlFall100k\", \"Number\": 0.0}, {\"Meldedatum\": \"2020-02-24T00:00:00\", \"Landkreis\": \"Region Hannover\", \"category\": \"AnzahlFall100k\", \"Number\": 0.0}, {\"Meldedatum\": \"2020-02-25T00:00:00\", \"Landkreis\": \"Region Hannover\", \"category\": \"AnzahlFall100k\", \"Number\": 0.0}, {\"Meldedatum\": \"2020-02-26T00:00:00\", \"Landkreis\": \"Region Hannover\", \"category\": \"AnzahlFall100k\", \"Number\": 0.0}, {\"Meldedatum\": \"2020-02-27T00:00:00\", \"Landkreis\": \"Region Hannover\", \"category\": \"AnzahlFall100k\", \"Number\": 0.0}, {\"Meldedatum\": \"2020-02-28T00:00:00\", \"Landkreis\": \"Region Hannover\", \"category\": \"AnzahlFall100k\", \"Number\": 0.0}, {\"Meldedatum\": \"2020-02-29T00:00:00\", \"Landkreis\": \"Region Hannover\", \"category\": \"AnzahlFall100k\", \"Number\": 0.0}, {\"Meldedatum\": \"2020-03-01T00:00:00\", \"Landkreis\": \"Region Hannover\", \"category\": \"AnzahlFall100k\", \"Number\": 0.08638383447475173}, {\"Meldedatum\": \"2020-03-02T00:00:00\", \"Landkreis\": \"Region Hannover\", \"category\": \"AnzahlFall100k\", \"Number\": 0.08638383447475173}, {\"Meldedatum\": \"2020-03-03T00:00:00\", \"Landkreis\": \"Region Hannover\", \"category\": \"AnzahlFall100k\", \"Number\": 0.17276766894950346}, {\"Meldedatum\": \"2020-03-04T00:00:00\", \"Landkreis\": \"Region Hannover\", \"category\": \"AnzahlFall100k\", \"Number\": 0.2591515034242552}, {\"Meldedatum\": \"2020-03-05T00:00:00\", \"Landkreis\": \"Region Hannover\", \"category\": \"AnzahlFall100k\", \"Number\": 0.2591515034242552}, {\"Meldedatum\": \"2020-03-06T00:00:00\", \"Landkreis\": \"Region Hannover\", \"category\": \"AnzahlFall100k\", \"Number\": 0.43191917237375865}, {\"Meldedatum\": \"2020-03-07T00:00:00\", \"Landkreis\": \"Region Hannover\", \"category\": \"AnzahlFall100k\", \"Number\": 0.5183030068485104}, {\"Meldedatum\": \"2020-03-08T00:00:00\", \"Landkreis\": \"Region Hannover\", \"category\": \"AnzahlFall100k\", \"Number\": 0.6046868413232621}, {\"Meldedatum\": \"2020-03-09T00:00:00\", \"Landkreis\": \"Region Hannover\", \"category\": \"AnzahlFall100k\", \"Number\": 0.7774545102727656}, {\"Meldedatum\": \"2020-03-10T00:00:00\", \"Landkreis\": \"Region Hannover\", \"category\": \"AnzahlFall100k\", \"Number\": 1.2093736826465242}, {\"Meldedatum\": \"2020-03-11T00:00:00\", \"Landkreis\": \"Region Hannover\", \"category\": \"AnzahlFall100k\", \"Number\": 2.073212027394041}, {\"Meldedatum\": \"2020-03-12T00:00:00\", \"Landkreis\": \"Region Hannover\", \"category\": \"AnzahlFall100k\", \"Number\": 4.146424054788083}, {\"Meldedatum\": \"2020-03-13T00:00:00\", \"Landkreis\": \"Region Hannover\", \"category\": \"AnzahlFall100k\", \"Number\": 4.837494730586097}, {\"Meldedatum\": \"2020-03-14T00:00:00\", \"Landkreis\": \"Region Hannover\", \"category\": \"AnzahlFall100k\", \"Number\": 6.219636082182125}, {\"Meldedatum\": \"2020-03-15T00:00:00\", \"Landkreis\": \"Region Hannover\", \"category\": \"AnzahlFall100k\", \"Number\": 7.774545102727655}, {\"Meldedatum\": \"2020-03-16T00:00:00\", \"Landkreis\": \"Region Hannover\", \"category\": \"AnzahlFall100k\", \"Number\": 9.761373295646946}, {\"Meldedatum\": \"2020-03-17T00:00:00\", \"Landkreis\": \"Region Hannover\", \"category\": \"AnzahlFall100k\", \"Number\": 12.093736826465245}, {\"Meldedatum\": \"2020-03-18T00:00:00\", \"Landkreis\": \"Region Hannover\", \"category\": \"AnzahlFall100k\", \"Number\": 17.363150729425097}, {\"Meldedatum\": \"2020-03-19T00:00:00\", \"Landkreis\": \"Region Hannover\", \"category\": \"AnzahlFall100k\", \"Number\": 20.300201101566657}, {\"Meldedatum\": \"2020-03-20T00:00:00\", \"Landkreis\": \"Region Hannover\", \"category\": \"AnzahlFall100k\", \"Number\": 24.705776659778994}, {\"Meldedatum\": \"2020-03-21T00:00:00\", \"Landkreis\": \"Region Hannover\", \"category\": \"AnzahlFall100k\", \"Number\": 25.828766507950768}, {\"Meldedatum\": \"2020-03-22T00:00:00\", \"Landkreis\": \"Region Hannover\", \"category\": \"AnzahlFall100k\", \"Number\": 24.533008990829487}, {\"Meldedatum\": \"2020-03-23T00:00:00\", \"Landkreis\": \"Region Hannover\", \"category\": \"AnzahlFall100k\", \"Number\": 25.91515034242552}, {\"Meldedatum\": \"2020-03-24T00:00:00\", \"Landkreis\": \"Region Hannover\", \"category\": \"AnzahlFall100k\", \"Number\": 29.111352217991328}, {\"Meldedatum\": \"2020-03-25T00:00:00\", \"Landkreis\": \"Region Hannover\", \"category\": \"AnzahlFall100k\", \"Number\": 31.70286725223389}, {\"Meldedatum\": \"2020-03-26T00:00:00\", \"Landkreis\": \"Region Hannover\", \"category\": \"AnzahlFall100k\", \"Number\": 33.948846948577426}, {\"Meldedatum\": \"2020-03-27T00:00:00\", \"Landkreis\": \"Region Hannover\", \"category\": \"AnzahlFall100k\", \"Number\": 33.257776272779424}, {\"Meldedatum\": \"2020-03-28T00:00:00\", \"Landkreis\": \"Region Hannover\", \"category\": \"AnzahlFall100k\", \"Number\": 34.726301458850195}, {\"Meldedatum\": \"2020-03-29T00:00:00\", \"Landkreis\": \"Region Hannover\", \"category\": \"AnzahlFall100k\", \"Number\": 38.52719017573927}, {\"Meldedatum\": \"2020-03-30T00:00:00\", \"Landkreis\": \"Region Hannover\", \"category\": \"AnzahlFall100k\", \"Number\": 40.25486686523431}, {\"Meldedatum\": \"2020-03-31T00:00:00\", \"Landkreis\": \"Region Hannover\", \"category\": \"AnzahlFall100k\", \"Number\": 38.095271003365504}, {\"Meldedatum\": \"2020-04-01T00:00:00\", \"Landkreis\": \"Region Hannover\", \"category\": \"AnzahlFall100k\", \"Number\": 36.19482664492098}, {\"Meldedatum\": \"2020-04-02T00:00:00\", \"Landkreis\": \"Region Hannover\", \"category\": \"AnzahlFall100k\", \"Number\": 33.34416010725417}, {\"Meldedatum\": \"2020-04-03T00:00:00\", \"Landkreis\": \"Region Hannover\", \"category\": \"AnzahlFall100k\", \"Number\": 33.86246311410268}, {\"Meldedatum\": \"2020-04-04T00:00:00\", \"Landkreis\": \"Region Hannover\", \"category\": \"AnzahlFall100k\", \"Number\": 32.393937928031896}, {\"Meldedatum\": \"2020-04-05T00:00:00\", \"Landkreis\": \"Region Hannover\", \"category\": \"AnzahlFall100k\", \"Number\": 30.0615743972136}, {\"Meldedatum\": \"2020-04-06T00:00:00\", \"Landkreis\": \"Region Hannover\", \"category\": \"AnzahlFall100k\", \"Number\": 28.074746204294314}, {\"Meldedatum\": \"2020-04-07T00:00:00\", \"Landkreis\": \"Region Hannover\", \"category\": \"AnzahlFall100k\", \"Number\": 30.839028907486373}, {\"Meldedatum\": \"2020-04-08T00:00:00\", \"Landkreis\": \"Region Hannover\", \"category\": \"AnzahlFall100k\", \"Number\": 30.752645073011614}, {\"Meldedatum\": \"2020-04-09T00:00:00\", \"Landkreis\": \"Region Hannover\", \"category\": \"AnzahlFall100k\", \"Number\": 32.91224093488041}, {\"Meldedatum\": \"2020-04-10T00:00:00\", \"Landkreis\": \"Region Hannover\", \"category\": \"AnzahlFall100k\", \"Number\": 29.888806728264107}, {\"Meldedatum\": \"2020-04-11T00:00:00\", \"Landkreis\": \"Region Hannover\", \"category\": \"AnzahlFall100k\", \"Number\": 29.02496838351658}, {\"Meldedatum\": \"2020-04-12T00:00:00\", \"Landkreis\": \"Region Hannover\", \"category\": \"AnzahlFall100k\", \"Number\": 29.111352217991328}, {\"Meldedatum\": \"2020-04-13T00:00:00\", \"Landkreis\": \"Region Hannover\", \"category\": \"AnzahlFall100k\", \"Number\": 26.606221018223533}, {\"Meldedatum\": \"2020-04-14T00:00:00\", \"Landkreis\": \"Region Hannover\", \"category\": \"AnzahlFall100k\", \"Number\": 23.582786811607217}, {\"Meldedatum\": \"2020-04-15T00:00:00\", \"Landkreis\": \"Region Hannover\", \"category\": \"AnzahlFall100k\", \"Number\": 18.91805974997063}, {\"Meldedatum\": \"2020-04-16T00:00:00\", \"Landkreis\": \"Region Hannover\", \"category\": \"AnzahlFall100k\", \"Number\": 16.585696219152332}, {\"Meldedatum\": \"2020-04-17T00:00:00\", \"Landkreis\": \"Region Hannover\", \"category\": \"AnzahlFall100k\", \"Number\": 18.91805974997063}, {\"Meldedatum\": \"2020-04-18T00:00:00\", \"Landkreis\": \"Region Hannover\", \"category\": \"AnzahlFall100k\", \"Number\": 19.8682819291929}, {\"Meldedatum\": \"2020-04-19T00:00:00\", \"Landkreis\": \"Region Hannover\", \"category\": \"AnzahlFall100k\", \"Number\": 19.004443584445387}, {\"Meldedatum\": \"2020-04-20T00:00:00\", \"Landkreis\": \"Region Hannover\", \"category\": \"AnzahlFall100k\", \"Number\": 19.263595087869643}, {\"Meldedatum\": \"2020-04-21T00:00:00\", \"Landkreis\": \"Region Hannover\", \"category\": \"AnzahlFall100k\", \"Number\": 18.83167591549588}, {\"Meldedatum\": \"2020-04-22T00:00:00\", \"Landkreis\": \"Region Hannover\", \"category\": \"AnzahlFall100k\", \"Number\": 19.263595087869643}, {\"Meldedatum\": \"2020-04-23T00:00:00\", \"Landkreis\": \"Region Hannover\", \"category\": \"AnzahlFall100k\", \"Number\": 17.795069901798858}, {\"Meldedatum\": \"2020-04-24T00:00:00\", \"Landkreis\": \"Region Hannover\", \"category\": \"AnzahlFall100k\", \"Number\": 15.721857874404813}, {\"Meldedatum\": \"2020-04-25T00:00:00\", \"Landkreis\": \"Region Hannover\", \"category\": \"AnzahlFall100k\", \"Number\": 15.289938702031055}, {\"Meldedatum\": \"2020-04-26T00:00:00\", \"Landkreis\": \"Region Hannover\", \"category\": \"AnzahlFall100k\", \"Number\": 16.412928550202828}, {\"Meldedatum\": \"2020-04-27T00:00:00\", \"Landkreis\": \"Region Hannover\", \"category\": \"AnzahlFall100k\", \"Number\": 15.549090205455313}, {\"Meldedatum\": \"2020-04-28T00:00:00\", \"Landkreis\": \"Region Hannover\", \"category\": \"AnzahlFall100k\", \"Number\": 14.685251860707796}, {\"Meldedatum\": \"2020-04-29T00:00:00\", \"Landkreis\": \"Region Hannover\", \"category\": \"AnzahlFall100k\", \"Number\": 13.735029681485527}, {\"Meldedatum\": \"2020-04-30T00:00:00\", \"Landkreis\": \"Region Hannover\", \"category\": \"AnzahlFall100k\", \"Number\": 13.821413515960277}, {\"Meldedatum\": \"2020-05-01T00:00:00\", \"Landkreis\": \"Region Hannover\", \"category\": \"AnzahlFall100k\", \"Number\": 12.525655998839}, {\"Meldedatum\": \"2020-05-02T00:00:00\", \"Landkreis\": \"Region Hannover\", \"category\": \"AnzahlFall100k\", \"Number\": 11.402666150667226}, {\"Meldedatum\": \"2020-05-03T00:00:00\", \"Landkreis\": \"Region Hannover\", \"category\": \"AnzahlFall100k\", \"Number\": 10.106908633545952}, {\"Meldedatum\": \"2020-05-04T00:00:00\", \"Landkreis\": \"Region Hannover\", \"category\": \"AnzahlFall100k\", \"Number\": 10.711595474869217}, {\"Meldedatum\": \"2020-05-05T00:00:00\", \"Landkreis\": \"Region Hannover\", \"category\": \"AnzahlFall100k\", \"Number\": 10.020524799071199}, {\"Meldedatum\": \"2020-05-06T00:00:00\", \"Landkreis\": \"Region Hannover\", \"category\": \"AnzahlFall100k\", \"Number\": 9.93414096459645}, {\"Meldedatum\": \"2020-05-07T00:00:00\", \"Landkreis\": \"Region Hannover\", \"category\": \"AnzahlFall100k\", \"Number\": 9.847757130121698}, {\"Meldedatum\": \"2020-05-08T00:00:00\", \"Landkreis\": \"Region Hannover\", \"category\": \"AnzahlFall100k\", \"Number\": 9.674989461172194}, {\"Meldedatum\": \"2020-05-09T00:00:00\", \"Landkreis\": \"Region Hannover\", \"category\": \"AnzahlFall100k\", \"Number\": 9.329454123273187}, {\"Meldedatum\": \"2020-05-10T00:00:00\", \"Landkreis\": \"Region Hannover\", \"category\": \"AnzahlFall100k\", \"Number\": 8.98391878537418}, {\"Meldedatum\": \"2020-05-11T00:00:00\", \"Landkreis\": \"Region Hannover\", \"category\": \"AnzahlFall100k\", \"Number\": 8.206464275101414}, {\"Meldedatum\": \"2020-05-12T00:00:00\", \"Landkreis\": \"Region Hannover\", \"category\": \"AnzahlFall100k\", \"Number\": 6.56517142008113}, {\"Meldedatum\": \"2020-01-28T00:00:00\", \"Landkreis\": \"LK Coesfeld\", \"category\": \"AnzahlFall100k\", \"Number\": 0.0}, {\"Meldedatum\": \"2020-01-29T00:00:00\", \"Landkreis\": \"LK Coesfeld\", \"category\": \"AnzahlFall100k\", \"Number\": 0.0}, {\"Meldedatum\": \"2020-01-30T00:00:00\", \"Landkreis\": \"LK Coesfeld\", \"category\": \"AnzahlFall100k\", \"Number\": 0.0}, {\"Meldedatum\": \"2020-01-31T00:00:00\", \"Landkreis\": \"LK Coesfeld\", \"category\": \"AnzahlFall100k\", \"Number\": 0.0}, {\"Meldedatum\": \"2020-02-01T00:00:00\", \"Landkreis\": \"LK Coesfeld\", \"category\": \"AnzahlFall100k\", \"Number\": 0.0}, {\"Meldedatum\": \"2020-02-02T00:00:00\", \"Landkreis\": \"LK Coesfeld\", \"category\": \"AnzahlFall100k\", \"Number\": 0.0}, {\"Meldedatum\": \"2020-02-03T00:00:00\", \"Landkreis\": \"LK Coesfeld\", \"category\": \"AnzahlFall100k\", \"Number\": 0.0}, {\"Meldedatum\": \"2020-02-04T00:00:00\", \"Landkreis\": \"LK Coesfeld\", \"category\": \"AnzahlFall100k\", \"Number\": 0.0}, {\"Meldedatum\": \"2020-02-05T00:00:00\", \"Landkreis\": \"LK Coesfeld\", \"category\": \"AnzahlFall100k\", \"Number\": 0.0}, {\"Meldedatum\": \"2020-02-06T00:00:00\", \"Landkreis\": \"LK Coesfeld\", \"category\": \"AnzahlFall100k\", \"Number\": 0.0}, {\"Meldedatum\": \"2020-02-07T00:00:00\", \"Landkreis\": \"LK Coesfeld\", \"category\": \"AnzahlFall100k\", \"Number\": 0.0}, {\"Meldedatum\": \"2020-02-08T00:00:00\", \"Landkreis\": \"LK Coesfeld\", \"category\": \"AnzahlFall100k\", \"Number\": 0.0}, {\"Meldedatum\": \"2020-02-09T00:00:00\", \"Landkreis\": \"LK Coesfeld\", \"category\": \"AnzahlFall100k\", \"Number\": 0.0}, {\"Meldedatum\": \"2020-02-10T00:00:00\", \"Landkreis\": \"LK Coesfeld\", \"category\": \"AnzahlFall100k\", \"Number\": 0.0}, {\"Meldedatum\": \"2020-02-11T00:00:00\", \"Landkreis\": \"LK Coesfeld\", \"category\": \"AnzahlFall100k\", \"Number\": 0.0}, {\"Meldedatum\": \"2020-02-12T00:00:00\", \"Landkreis\": \"LK Coesfeld\", \"category\": \"AnzahlFall100k\", \"Number\": 0.0}, {\"Meldedatum\": \"2020-02-13T00:00:00\", \"Landkreis\": \"LK Coesfeld\", \"category\": \"AnzahlFall100k\", \"Number\": 0.0}, {\"Meldedatum\": \"2020-02-14T00:00:00\", \"Landkreis\": \"LK Coesfeld\", \"category\": \"AnzahlFall100k\", \"Number\": 0.0}, {\"Meldedatum\": \"2020-02-15T00:00:00\", \"Landkreis\": \"LK Coesfeld\", \"category\": \"AnzahlFall100k\", \"Number\": 0.0}, {\"Meldedatum\": \"2020-02-16T00:00:00\", \"Landkreis\": \"LK Coesfeld\", \"category\": \"AnzahlFall100k\", \"Number\": 0.0}, {\"Meldedatum\": \"2020-02-17T00:00:00\", \"Landkreis\": \"LK Coesfeld\", \"category\": \"AnzahlFall100k\", \"Number\": 0.0}, {\"Meldedatum\": \"2020-02-18T00:00:00\", \"Landkreis\": \"LK Coesfeld\", \"category\": \"AnzahlFall100k\", \"Number\": 0.0}, {\"Meldedatum\": \"2020-02-19T00:00:00\", \"Landkreis\": \"LK Coesfeld\", \"category\": \"AnzahlFall100k\", \"Number\": 0.0}, {\"Meldedatum\": \"2020-02-20T00:00:00\", \"Landkreis\": \"LK Coesfeld\", \"category\": \"AnzahlFall100k\", \"Number\": 0.0}, {\"Meldedatum\": \"2020-02-21T00:00:00\", \"Landkreis\": \"LK Coesfeld\", \"category\": \"AnzahlFall100k\", \"Number\": 0.0}, {\"Meldedatum\": \"2020-02-22T00:00:00\", \"Landkreis\": \"LK Coesfeld\", \"category\": \"AnzahlFall100k\", \"Number\": 0.0}, {\"Meldedatum\": \"2020-02-23T00:00:00\", \"Landkreis\": \"LK Coesfeld\", \"category\": \"AnzahlFall100k\", \"Number\": 0.0}, {\"Meldedatum\": \"2020-02-24T00:00:00\", \"Landkreis\": \"LK Coesfeld\", \"category\": \"AnzahlFall100k\", \"Number\": 0.0}, {\"Meldedatum\": \"2020-02-25T00:00:00\", \"Landkreis\": \"LK Coesfeld\", \"category\": \"AnzahlFall100k\", \"Number\": 0.0}, {\"Meldedatum\": \"2020-02-26T00:00:00\", \"Landkreis\": \"LK Coesfeld\", \"category\": \"AnzahlFall100k\", \"Number\": 0.0}, {\"Meldedatum\": \"2020-02-27T00:00:00\", \"Landkreis\": \"LK Coesfeld\", \"category\": \"AnzahlFall100k\", \"Number\": 0.0}, {\"Meldedatum\": \"2020-02-28T00:00:00\", \"Landkreis\": \"LK Coesfeld\", \"category\": \"AnzahlFall100k\", \"Number\": 0.0}, {\"Meldedatum\": \"2020-02-29T00:00:00\", \"Landkreis\": \"LK Coesfeld\", \"category\": \"AnzahlFall100k\", \"Number\": 0.0}, {\"Meldedatum\": \"2020-03-01T00:00:00\", \"Landkreis\": \"LK Coesfeld\", \"category\": \"AnzahlFall100k\", \"Number\": 0.0}, {\"Meldedatum\": \"2020-03-02T00:00:00\", \"Landkreis\": \"LK Coesfeld\", \"category\": \"AnzahlFall100k\", \"Number\": 0.0}, {\"Meldedatum\": \"2020-03-03T00:00:00\", \"Landkreis\": \"LK Coesfeld\", \"category\": \"AnzahlFall100k\", \"Number\": 0.0}, {\"Meldedatum\": \"2020-03-04T00:00:00\", \"Landkreis\": \"LK Coesfeld\", \"category\": \"AnzahlFall100k\", \"Number\": 4.546921961178381}, {\"Meldedatum\": \"2020-03-05T00:00:00\", \"Landkreis\": \"LK Coesfeld\", \"category\": \"AnzahlFall100k\", \"Number\": 5.001614157296219}, {\"Meldedatum\": \"2020-03-06T00:00:00\", \"Landkreis\": \"LK Coesfeld\", \"category\": \"AnzahlFall100k\", \"Number\": 5.456306353414056}, {\"Meldedatum\": \"2020-03-07T00:00:00\", \"Landkreis\": \"LK Coesfeld\", \"category\": \"AnzahlFall100k\", \"Number\": 5.456306353414056}, {\"Meldedatum\": \"2020-03-08T00:00:00\", \"Landkreis\": \"LK Coesfeld\", \"category\": \"AnzahlFall100k\", \"Number\": 6.820382941767571}, {\"Meldedatum\": \"2020-03-09T00:00:00\", \"Landkreis\": \"LK Coesfeld\", \"category\": \"AnzahlFall100k\", \"Number\": 7.729767334003247}, {\"Meldedatum\": \"2020-03-10T00:00:00\", \"Landkreis\": \"LK Coesfeld\", \"category\": \"AnzahlFall100k\", \"Number\": 10.003228314592436}, {\"Meldedatum\": \"2020-03-11T00:00:00\", \"Landkreis\": \"LK Coesfeld\", \"category\": \"AnzahlFall100k\", \"Number\": 6.365690745649732}, {\"Meldedatum\": \"2020-03-12T00:00:00\", \"Landkreis\": \"LK Coesfeld\", \"category\": \"AnzahlFall100k\", \"Number\": 8.639151726238921}, {\"Meldedatum\": \"2020-03-13T00:00:00\", \"Landkreis\": \"LK Coesfeld\", \"category\": \"AnzahlFall100k\", \"Number\": 12.276689295181624}, {\"Meldedatum\": \"2020-03-14T00:00:00\", \"Landkreis\": \"LK Coesfeld\", \"category\": \"AnzahlFall100k\", \"Number\": 15.004842471888654}, {\"Meldedatum\": \"2020-03-15T00:00:00\", \"Landkreis\": \"LK Coesfeld\", \"category\": \"AnzahlFall100k\", \"Number\": 14.095458079652976}, {\"Meldedatum\": \"2020-03-16T00:00:00\", \"Landkreis\": \"LK Coesfeld\", \"category\": \"AnzahlFall100k\", \"Number\": 15.459534668006494}, {\"Meldedatum\": \"2020-03-17T00:00:00\", \"Landkreis\": \"LK Coesfeld\", \"category\": \"AnzahlFall100k\", \"Number\": 19.551764433067035}, {\"Meldedatum\": \"2020-03-18T00:00:00\", \"Landkreis\": \"LK Coesfeld\", \"category\": \"AnzahlFall100k\", \"Number\": 25.00807078648109}, {\"Meldedatum\": \"2020-03-19T00:00:00\", \"Landkreis\": \"LK Coesfeld\", \"category\": \"AnzahlFall100k\", \"Number\": 28.19091615930596}, {\"Meldedatum\": \"2020-03-20T00:00:00\", \"Landkreis\": \"LK Coesfeld\", \"category\": \"AnzahlFall100k\", \"Number\": 32.73783812048434}, {\"Meldedatum\": \"2020-03-21T00:00:00\", \"Landkreis\": \"LK Coesfeld\", \"category\": \"AnzahlFall100k\", \"Number\": 30.00968494377731}, {\"Meldedatum\": \"2020-03-22T00:00:00\", \"Landkreis\": \"LK Coesfeld\", \"category\": \"AnzahlFall100k\", \"Number\": 31.373761532130825}, {\"Meldedatum\": \"2020-03-23T00:00:00\", \"Landkreis\": \"LK Coesfeld\", \"category\": \"AnzahlFall100k\", \"Number\": 45.46921961178381}, {\"Meldedatum\": \"2020-03-24T00:00:00\", \"Landkreis\": \"LK Coesfeld\", \"category\": \"AnzahlFall100k\", \"Number\": 42.741066435076775}, {\"Meldedatum\": \"2020-03-25T00:00:00\", \"Landkreis\": \"LK Coesfeld\", \"category\": \"AnzahlFall100k\", \"Number\": 44.10514302343029}, {\"Meldedatum\": \"2020-03-26T00:00:00\", \"Landkreis\": \"LK Coesfeld\", \"category\": \"AnzahlFall100k\", \"Number\": 47.28798839625515}, {\"Meldedatum\": \"2020-03-27T00:00:00\", \"Landkreis\": \"LK Coesfeld\", \"category\": \"AnzahlFall100k\", \"Number\": 53.65367914190489}, {\"Meldedatum\": \"2020-03-28T00:00:00\", \"Landkreis\": \"LK Coesfeld\", \"category\": \"AnzahlFall100k\", \"Number\": 53.65367914190489}, {\"Meldedatum\": \"2020-03-29T00:00:00\", \"Landkreis\": \"LK Coesfeld\", \"category\": \"AnzahlFall100k\", \"Number\": 75.93359675167895}, {\"Meldedatum\": \"2020-03-30T00:00:00\", \"Landkreis\": \"LK Coesfeld\", \"category\": \"AnzahlFall100k\", \"Number\": 66.38506063320436}, {\"Meldedatum\": \"2020-03-31T00:00:00\", \"Landkreis\": \"LK Coesfeld\", \"category\": \"AnzahlFall100k\", \"Number\": 70.93198259438273}, {\"Meldedatum\": \"2020-04-01T00:00:00\", \"Landkreis\": \"LK Coesfeld\", \"category\": \"AnzahlFall100k\", \"Number\": 72.75075137885409}, {\"Meldedatum\": \"2020-04-02T00:00:00\", \"Landkreis\": \"LK Coesfeld\", \"category\": \"AnzahlFall100k\", \"Number\": 75.02421235944328}, {\"Meldedatum\": \"2020-04-03T00:00:00\", \"Landkreis\": \"LK Coesfeld\", \"category\": \"AnzahlFall100k\", \"Number\": 68.2038294176757}, {\"Meldedatum\": \"2020-04-04T00:00:00\", \"Landkreis\": \"LK Coesfeld\", \"category\": \"AnzahlFall100k\", \"Number\": 68.65852161379354}, {\"Meldedatum\": \"2020-04-05T00:00:00\", \"Landkreis\": \"LK Coesfeld\", \"category\": \"AnzahlFall100k\", \"Number\": 44.55983521954813}, {\"Meldedatum\": \"2020-04-06T00:00:00\", \"Landkreis\": \"LK Coesfeld\", \"category\": \"AnzahlFall100k\", \"Number\": 47.28798839625515}, {\"Meldedatum\": \"2020-04-07T00:00:00\", \"Landkreis\": \"LK Coesfeld\", \"category\": \"AnzahlFall100k\", \"Number\": 43.19575863119461}, {\"Meldedatum\": \"2020-04-08T00:00:00\", \"Landkreis\": \"LK Coesfeld\", \"category\": \"AnzahlFall100k\", \"Number\": 39.10352886613407}, {\"Meldedatum\": \"2020-04-09T00:00:00\", \"Landkreis\": \"LK Coesfeld\", \"category\": \"AnzahlFall100k\", \"Number\": 28.6456083554238}, {\"Meldedatum\": \"2020-04-10T00:00:00\", \"Landkreis\": \"LK Coesfeld\", \"category\": \"AnzahlFall100k\", \"Number\": 25.00807078648109}, {\"Meldedatum\": \"2020-04-11T00:00:00\", \"Landkreis\": \"LK Coesfeld\", \"category\": \"AnzahlFall100k\", \"Number\": 30.00968494377731}, {\"Meldedatum\": \"2020-04-12T00:00:00\", \"Landkreis\": \"LK Coesfeld\", \"category\": \"AnzahlFall100k\", \"Number\": 33.19253031660217}, {\"Meldedatum\": \"2020-04-13T00:00:00\", \"Landkreis\": \"LK Coesfeld\", \"category\": \"AnzahlFall100k\", \"Number\": 23.643994198127576}, {\"Meldedatum\": \"2020-04-14T00:00:00\", \"Landkreis\": \"LK Coesfeld\", \"category\": \"AnzahlFall100k\", \"Number\": 20.46114882530271}, {\"Meldedatum\": \"2020-04-15T00:00:00\", \"Landkreis\": \"LK Coesfeld\", \"category\": \"AnzahlFall100k\", \"Number\": 16.36891906024217}, {\"Meldedatum\": \"2020-04-16T00:00:00\", \"Landkreis\": \"LK Coesfeld\", \"category\": \"AnzahlFall100k\", \"Number\": 15.459534668006494}, {\"Meldedatum\": \"2020-04-17T00:00:00\", \"Landkreis\": \"LK Coesfeld\", \"category\": \"AnzahlFall100k\", \"Number\": 15.459534668006494}, {\"Meldedatum\": \"2020-04-18T00:00:00\", \"Landkreis\": \"LK Coesfeld\", \"category\": \"AnzahlFall100k\", \"Number\": 12.731381491299464}, {\"Meldedatum\": \"2020-04-19T00:00:00\", \"Landkreis\": \"LK Coesfeld\", \"category\": \"AnzahlFall100k\", \"Number\": 10.457920510710274}, {\"Meldedatum\": \"2020-04-20T00:00:00\", \"Landkreis\": \"LK Coesfeld\", \"category\": \"AnzahlFall100k\", \"Number\": 12.276689295181624}, {\"Meldedatum\": \"2020-04-21T00:00:00\", \"Landkreis\": \"LK Coesfeld\", \"category\": \"AnzahlFall100k\", \"Number\": 11.367304902945952}, {\"Meldedatum\": \"2020-04-22T00:00:00\", \"Landkreis\": \"LK Coesfeld\", \"category\": \"AnzahlFall100k\", \"Number\": 10.912612706828112}, {\"Meldedatum\": \"2020-04-23T00:00:00\", \"Landkreis\": \"LK Coesfeld\", \"category\": \"AnzahlFall100k\", \"Number\": 12.276689295181624}, {\"Meldedatum\": \"2020-04-24T00:00:00\", \"Landkreis\": \"LK Coesfeld\", \"category\": \"AnzahlFall100k\", \"Number\": 10.003228314592436}, {\"Meldedatum\": \"2020-04-25T00:00:00\", \"Landkreis\": \"LK Coesfeld\", \"category\": \"AnzahlFall100k\", \"Number\": 7.275075137885407}, {\"Meldedatum\": \"2020-04-26T00:00:00\", \"Landkreis\": \"LK Coesfeld\", \"category\": \"AnzahlFall100k\", \"Number\": 8.639151726238921}, {\"Meldedatum\": \"2020-04-27T00:00:00\", \"Landkreis\": \"LK Coesfeld\", \"category\": \"AnzahlFall100k\", \"Number\": 8.184459530121085}, {\"Meldedatum\": \"2020-04-28T00:00:00\", \"Landkreis\": \"LK Coesfeld\", \"category\": \"AnzahlFall100k\", \"Number\": 9.548536118474598}, {\"Meldedatum\": \"2020-04-29T00:00:00\", \"Landkreis\": \"LK Coesfeld\", \"category\": \"AnzahlFall100k\", \"Number\": 10.003228314592436}, {\"Meldedatum\": \"2020-04-30T00:00:00\", \"Landkreis\": \"LK Coesfeld\", \"category\": \"AnzahlFall100k\", \"Number\": 13.640765883535142}, {\"Meldedatum\": \"2020-05-01T00:00:00\", \"Landkreis\": \"LK Coesfeld\", \"category\": \"AnzahlFall100k\", \"Number\": 12.276689295181624}, {\"Meldedatum\": \"2020-05-02T00:00:00\", \"Landkreis\": \"LK Coesfeld\", \"category\": \"AnzahlFall100k\", \"Number\": 16.82361125636001}, {\"Meldedatum\": \"2020-05-03T00:00:00\", \"Landkreis\": \"LK Coesfeld\", \"category\": \"AnzahlFall100k\", \"Number\": 20.915841021420547}, {\"Meldedatum\": \"2020-05-04T00:00:00\", \"Landkreis\": \"LK Coesfeld\", \"category\": \"AnzahlFall100k\", \"Number\": 24.55337859036325}, {\"Meldedatum\": \"2020-05-05T00:00:00\", \"Landkreis\": \"LK Coesfeld\", \"category\": \"AnzahlFall100k\", \"Number\": 36.830067885544885}, {\"Meldedatum\": \"2020-05-06T00:00:00\", \"Landkreis\": \"LK Coesfeld\", \"category\": \"AnzahlFall100k\", \"Number\": 38.19414447389839}, {\"Meldedatum\": \"2020-05-07T00:00:00\", \"Landkreis\": \"LK Coesfeld\", \"category\": \"AnzahlFall100k\", \"Number\": 67.29444502544004}, {\"Meldedatum\": \"2020-05-08T00:00:00\", \"Landkreis\": \"LK Coesfeld\", \"category\": \"AnzahlFall100k\", \"Number\": 75.93359675167895}, {\"Meldedatum\": \"2020-05-09T00:00:00\", \"Landkreis\": \"LK Coesfeld\", \"category\": \"AnzahlFall100k\", \"Number\": 88.2102860468606}, {\"Meldedatum\": \"2020-05-10T00:00:00\", \"Landkreis\": \"LK Coesfeld\", \"category\": \"AnzahlFall100k\", \"Number\": 95.94005338086384}, {\"Meldedatum\": \"2020-05-11T00:00:00\", \"Landkreis\": \"LK Coesfeld\", \"category\": \"AnzahlFall100k\", \"Number\": 103.21512851874924}, {\"Meldedatum\": \"2020-05-12T00:00:00\", \"Landkreis\": \"LK Coesfeld\", \"category\": \"AnzahlFall100k\", \"Number\": 100.4869753420422}]}}, {\"mode\": \"vega-lite\"});\n",
       "</script>"
      ],
      "text/plain": [
       "alt.Chart(...)"
      ]
     },
     "metadata": {},
     "output_type": "display_data"
    }
   ],
   "source": [
    "df = df_lkr_roll\n",
    "cat = 'Landkreis'\n",
    "el_list = ['LK Coesfeld','Region Hannover']\n",
    "\n",
    "c = alt.Chart(df.loc[df[cat].isin(el_list)])\\\n",
    "        .mark_bar(point=True)\\\n",
    "        .encode(x=alt.X('monthdate(Meldedatum):O', title='Date'),\\\n",
    "                y=alt.Y('mean(Number):Q', title='Cumulative Cases'),\\\n",
    "                color=cat)\\\n",
    "        .properties(width=800, height=400, title='Number of Cases')\n",
    "c.display()\n",
    "#df[cat]\n",
    "#plot_cases(df_lkr_roll, 'Landkreis',['LK Celle','Region Hannover'], 'mean(AnzahlFall100k):Q') "
   ]
  },
  {
   "cell_type": "code",
   "execution_count": 47,
   "metadata": {},
   "outputs": [
    {
     "data": {
      "text/html": [
       "<div>\n",
       "<style scoped>\n",
       "    .dataframe tbody tr th:only-of-type {\n",
       "        vertical-align: middle;\n",
       "    }\n",
       "\n",
       "    .dataframe tbody tr th {\n",
       "        vertical-align: top;\n",
       "    }\n",
       "\n",
       "    .dataframe thead th {\n",
       "        text-align: right;\n",
       "    }\n",
       "</style>\n",
       "<table border=\"1\" class=\"dataframe\">\n",
       "  <thead>\n",
       "    <tr style=\"text-align: right;\">\n",
       "      <th></th>\n",
       "      <th>Meldedatum</th>\n",
       "      <th>Landkreis</th>\n",
       "      <th>category</th>\n",
       "      <th>Number</th>\n",
       "    </tr>\n",
       "  </thead>\n",
       "  <tbody>\n",
       "    <tr>\n",
       "      <th>0</th>\n",
       "      <td>2020-01-28</td>\n",
       "      <td>SK Flensburg</td>\n",
       "      <td>AnzahlFall100k</td>\n",
       "      <td>0.000000</td>\n",
       "    </tr>\n",
       "    <tr>\n",
       "      <th>1</th>\n",
       "      <td>2020-01-29</td>\n",
       "      <td>SK Flensburg</td>\n",
       "      <td>AnzahlFall100k</td>\n",
       "      <td>0.000000</td>\n",
       "    </tr>\n",
       "    <tr>\n",
       "      <th>2</th>\n",
       "      <td>2020-01-30</td>\n",
       "      <td>SK Flensburg</td>\n",
       "      <td>AnzahlFall100k</td>\n",
       "      <td>0.000000</td>\n",
       "    </tr>\n",
       "    <tr>\n",
       "      <th>3</th>\n",
       "      <td>2020-01-31</td>\n",
       "      <td>SK Flensburg</td>\n",
       "      <td>AnzahlFall100k</td>\n",
       "      <td>0.000000</td>\n",
       "    </tr>\n",
       "    <tr>\n",
       "      <th>4</th>\n",
       "      <td>2020-02-01</td>\n",
       "      <td>SK Flensburg</td>\n",
       "      <td>AnzahlFall100k</td>\n",
       "      <td>0.000000</td>\n",
       "    </tr>\n",
       "    <tr>\n",
       "      <th>...</th>\n",
       "      <td>...</td>\n",
       "      <td>...</td>\n",
       "      <td>...</td>\n",
       "      <td>...</td>\n",
       "    </tr>\n",
       "    <tr>\n",
       "      <th>42501</th>\n",
       "      <td>2020-05-08</td>\n",
       "      <td>LK Altenburger Land</td>\n",
       "      <td>AnzahlFall100k</td>\n",
       "      <td>2.219312</td>\n",
       "    </tr>\n",
       "    <tr>\n",
       "      <th>42502</th>\n",
       "      <td>2020-05-09</td>\n",
       "      <td>LK Altenburger Land</td>\n",
       "      <td>AnzahlFall100k</td>\n",
       "      <td>2.219312</td>\n",
       "    </tr>\n",
       "    <tr>\n",
       "      <th>42503</th>\n",
       "      <td>2020-05-10</td>\n",
       "      <td>LK Altenburger Land</td>\n",
       "      <td>AnzahlFall100k</td>\n",
       "      <td>2.219312</td>\n",
       "    </tr>\n",
       "    <tr>\n",
       "      <th>42504</th>\n",
       "      <td>2020-05-11</td>\n",
       "      <td>LK Altenburger Land</td>\n",
       "      <td>AnzahlFall100k</td>\n",
       "      <td>7.767594</td>\n",
       "    </tr>\n",
       "    <tr>\n",
       "      <th>42505</th>\n",
       "      <td>2020-05-12</td>\n",
       "      <td>LK Altenburger Land</td>\n",
       "      <td>AnzahlFall100k</td>\n",
       "      <td>7.767594</td>\n",
       "    </tr>\n",
       "  </tbody>\n",
       "</table>\n",
       "<p>42506 rows × 4 columns</p>\n",
       "</div>"
      ],
      "text/plain": [
       "      Meldedatum            Landkreis        category    Number\n",
       "0     2020-01-28         SK Flensburg  AnzahlFall100k  0.000000\n",
       "1     2020-01-29         SK Flensburg  AnzahlFall100k  0.000000\n",
       "2     2020-01-30         SK Flensburg  AnzahlFall100k  0.000000\n",
       "3     2020-01-31         SK Flensburg  AnzahlFall100k  0.000000\n",
       "4     2020-02-01         SK Flensburg  AnzahlFall100k  0.000000\n",
       "...          ...                  ...             ...       ...\n",
       "42501 2020-05-08  LK Altenburger Land  AnzahlFall100k  2.219312\n",
       "42502 2020-05-09  LK Altenburger Land  AnzahlFall100k  2.219312\n",
       "42503 2020-05-10  LK Altenburger Land  AnzahlFall100k  2.219312\n",
       "42504 2020-05-11  LK Altenburger Land  AnzahlFall100k  7.767594\n",
       "42505 2020-05-12  LK Altenburger Land  AnzahlFall100k  7.767594\n",
       "\n",
       "[42506 rows x 4 columns]"
      ]
     },
     "execution_count": 47,
     "metadata": {},
     "output_type": "execute_result"
    }
   ],
   "source": [
    "df_lkr_roll"
   ]
  },
  {
   "cell_type": "code",
   "execution_count": 48,
   "metadata": {},
   "outputs": [
    {
     "data": {
      "text/html": [
       "\n",
       "<div id=\"altair-viz-fe662e56ef474af5a10f957388d3cf28\"></div>\n",
       "<script type=\"text/javascript\">\n",
       "  (function(spec, embedOpt){\n",
       "    let outputDiv = document.currentScript.previousElementSibling;\n",
       "    if (outputDiv.id !== \"altair-viz-fe662e56ef474af5a10f957388d3cf28\") {\n",
       "      outputDiv = document.getElementById(\"altair-viz-fe662e56ef474af5a10f957388d3cf28\");\n",
       "    }\n",
       "    const paths = {\n",
       "      \"vega\": \"https://cdn.jsdelivr.net/npm//vega@5?noext\",\n",
       "      \"vega-lib\": \"https://cdn.jsdelivr.net/npm//vega-lib?noext\",\n",
       "      \"vega-lite\": \"https://cdn.jsdelivr.net/npm//vega-lite@4.8.1?noext\",\n",
       "      \"vega-embed\": \"https://cdn.jsdelivr.net/npm//vega-embed@6?noext\",\n",
       "    };\n",
       "\n",
       "    function loadScript(lib) {\n",
       "      return new Promise(function(resolve, reject) {\n",
       "        var s = document.createElement('script');\n",
       "        s.src = paths[lib];\n",
       "        s.async = true;\n",
       "        s.onload = () => resolve(paths[lib]);\n",
       "        s.onerror = () => reject(`Error loading script: ${paths[lib]}`);\n",
       "        document.getElementsByTagName(\"head\")[0].appendChild(s);\n",
       "      });\n",
       "    }\n",
       "\n",
       "    function showError(err) {\n",
       "      outputDiv.innerHTML = `<div class=\"error\" style=\"color:red;\">${err}</div>`;\n",
       "      throw err;\n",
       "    }\n",
       "\n",
       "    function displayChart(vegaEmbed) {\n",
       "      vegaEmbed(outputDiv, spec, embedOpt)\n",
       "        .catch(err => showError(`Javascript Error: ${err.message}<br>This usually means there's a typo in your chart specification. See the javascript console for the full traceback.`));\n",
       "    }\n",
       "\n",
       "    if(typeof define === \"function\" && define.amd) {\n",
       "      requirejs.config({paths});\n",
       "      require([\"vega-embed\"], displayChart, err => showError(`Error loading script: ${err.message}`));\n",
       "    } else if (typeof vegaEmbed === \"function\") {\n",
       "      displayChart(vegaEmbed);\n",
       "    } else {\n",
       "      loadScript(\"vega\")\n",
       "        .then(() => loadScript(\"vega-lite\"))\n",
       "        .then(() => loadScript(\"vega-embed\"))\n",
       "        .catch(showError)\n",
       "        .then(() => displayChart(vegaEmbed));\n",
       "    }\n",
       "  })({\"config\": {\"view\": {\"continuousWidth\": 400, \"continuousHeight\": 300}}, \"data\": {\"name\": \"data-315dcbaee29f19d9d5c2b9361308a1ed\"}, \"mark\": {\"type\": \"bar\", \"point\": false}, \"encoding\": {\"color\": {\"type\": \"nominal\", \"field\": \"Landkreis\"}, \"tooltip\": [{\"type\": \"nominal\", \"field\": \"Landkreis\"}, {\"type\": \"temporal\", \"field\": \"Meldedatum\"}, {\"type\": \"quantitative\", \"field\": \"Number\"}], \"x\": {\"type\": \"ordinal\", \"field\": \"Meldedatum\", \"timeUnit\": \"monthdate\", \"title\": \"Date\"}, \"y\": {\"type\": \"quantitative\", \"aggregate\": \"mean\", \"field\": \"Number\", \"title\": \"Cases\"}}, \"height\": 400, \"title\": \"Rolling 7-day sum of cases per 100k\", \"width\": 800, \"$schema\": \"https://vega.github.io/schema/vega-lite/v4.8.1.json\", \"datasets\": {\"data-315dcbaee29f19d9d5c2b9361308a1ed\": [{\"Meldedatum\": \"2020-01-28T00:00:00\", \"Landkreis\": \"Region Hannover\", \"category\": \"AnzahlFall100k\", \"Number\": 0.0}, {\"Meldedatum\": \"2020-01-29T00:00:00\", \"Landkreis\": \"Region Hannover\", \"category\": \"AnzahlFall100k\", \"Number\": 0.0}, {\"Meldedatum\": \"2020-01-30T00:00:00\", \"Landkreis\": \"Region Hannover\", \"category\": \"AnzahlFall100k\", \"Number\": 0.0}, {\"Meldedatum\": \"2020-01-31T00:00:00\", \"Landkreis\": \"Region Hannover\", \"category\": \"AnzahlFall100k\", \"Number\": 0.0}, {\"Meldedatum\": \"2020-02-01T00:00:00\", \"Landkreis\": \"Region Hannover\", \"category\": \"AnzahlFall100k\", \"Number\": 0.0}, {\"Meldedatum\": \"2020-02-02T00:00:00\", \"Landkreis\": \"Region Hannover\", \"category\": \"AnzahlFall100k\", \"Number\": 0.0}, {\"Meldedatum\": \"2020-02-03T00:00:00\", \"Landkreis\": \"Region Hannover\", \"category\": \"AnzahlFall100k\", \"Number\": 0.0}, {\"Meldedatum\": \"2020-02-04T00:00:00\", \"Landkreis\": \"Region Hannover\", \"category\": \"AnzahlFall100k\", \"Number\": 0.0}, {\"Meldedatum\": \"2020-02-05T00:00:00\", \"Landkreis\": \"Region Hannover\", \"category\": \"AnzahlFall100k\", \"Number\": 0.0}, {\"Meldedatum\": \"2020-02-06T00:00:00\", \"Landkreis\": \"Region Hannover\", \"category\": \"AnzahlFall100k\", \"Number\": 0.0}, {\"Meldedatum\": \"2020-02-07T00:00:00\", \"Landkreis\": \"Region Hannover\", \"category\": \"AnzahlFall100k\", \"Number\": 0.0}, {\"Meldedatum\": \"2020-02-08T00:00:00\", \"Landkreis\": \"Region Hannover\", \"category\": \"AnzahlFall100k\", \"Number\": 0.0}, {\"Meldedatum\": \"2020-02-09T00:00:00\", \"Landkreis\": \"Region Hannover\", \"category\": \"AnzahlFall100k\", \"Number\": 0.0}, {\"Meldedatum\": \"2020-02-10T00:00:00\", \"Landkreis\": \"Region Hannover\", \"category\": \"AnzahlFall100k\", \"Number\": 0.0}, {\"Meldedatum\": \"2020-02-11T00:00:00\", \"Landkreis\": \"Region Hannover\", \"category\": \"AnzahlFall100k\", \"Number\": 0.0}, {\"Meldedatum\": \"2020-02-12T00:00:00\", \"Landkreis\": \"Region Hannover\", \"category\": \"AnzahlFall100k\", \"Number\": 0.0}, {\"Meldedatum\": \"2020-02-13T00:00:00\", \"Landkreis\": \"Region Hannover\", \"category\": \"AnzahlFall100k\", \"Number\": 0.0}, {\"Meldedatum\": \"2020-02-14T00:00:00\", \"Landkreis\": \"Region Hannover\", \"category\": \"AnzahlFall100k\", \"Number\": 0.0}, {\"Meldedatum\": \"2020-02-15T00:00:00\", \"Landkreis\": \"Region Hannover\", \"category\": \"AnzahlFall100k\", \"Number\": 0.0}, {\"Meldedatum\": \"2020-02-16T00:00:00\", \"Landkreis\": \"Region Hannover\", \"category\": \"AnzahlFall100k\", \"Number\": 0.0}, {\"Meldedatum\": \"2020-02-17T00:00:00\", \"Landkreis\": \"Region Hannover\", \"category\": \"AnzahlFall100k\", \"Number\": 0.0}, {\"Meldedatum\": \"2020-02-18T00:00:00\", \"Landkreis\": \"Region Hannover\", \"category\": \"AnzahlFall100k\", \"Number\": 0.0}, {\"Meldedatum\": \"2020-02-19T00:00:00\", \"Landkreis\": \"Region Hannover\", \"category\": \"AnzahlFall100k\", \"Number\": 0.0}, {\"Meldedatum\": \"2020-02-20T00:00:00\", \"Landkreis\": \"Region Hannover\", \"category\": \"AnzahlFall100k\", \"Number\": 0.0}, {\"Meldedatum\": \"2020-02-21T00:00:00\", \"Landkreis\": \"Region Hannover\", \"category\": \"AnzahlFall100k\", \"Number\": 0.0}, {\"Meldedatum\": \"2020-02-22T00:00:00\", \"Landkreis\": \"Region Hannover\", \"category\": \"AnzahlFall100k\", \"Number\": 0.0}, {\"Meldedatum\": \"2020-02-23T00:00:00\", \"Landkreis\": \"Region Hannover\", \"category\": \"AnzahlFall100k\", \"Number\": 0.0}, {\"Meldedatum\": \"2020-02-24T00:00:00\", \"Landkreis\": \"Region Hannover\", \"category\": \"AnzahlFall100k\", \"Number\": 0.0}, {\"Meldedatum\": \"2020-02-25T00:00:00\", \"Landkreis\": \"Region Hannover\", \"category\": \"AnzahlFall100k\", \"Number\": 0.0}, {\"Meldedatum\": \"2020-02-26T00:00:00\", \"Landkreis\": \"Region Hannover\", \"category\": \"AnzahlFall100k\", \"Number\": 0.0}, {\"Meldedatum\": \"2020-02-27T00:00:00\", \"Landkreis\": \"Region Hannover\", \"category\": \"AnzahlFall100k\", \"Number\": 0.0}, {\"Meldedatum\": \"2020-02-28T00:00:00\", \"Landkreis\": \"Region Hannover\", \"category\": \"AnzahlFall100k\", \"Number\": 0.0}, {\"Meldedatum\": \"2020-02-29T00:00:00\", \"Landkreis\": \"Region Hannover\", \"category\": \"AnzahlFall100k\", \"Number\": 0.0}, {\"Meldedatum\": \"2020-03-01T00:00:00\", \"Landkreis\": \"Region Hannover\", \"category\": \"AnzahlFall100k\", \"Number\": 0.08638383447475173}, {\"Meldedatum\": \"2020-03-02T00:00:00\", \"Landkreis\": \"Region Hannover\", \"category\": \"AnzahlFall100k\", \"Number\": 0.08638383447475173}, {\"Meldedatum\": \"2020-03-03T00:00:00\", \"Landkreis\": \"Region Hannover\", \"category\": \"AnzahlFall100k\", \"Number\": 0.17276766894950346}, {\"Meldedatum\": \"2020-03-04T00:00:00\", \"Landkreis\": \"Region Hannover\", \"category\": \"AnzahlFall100k\", \"Number\": 0.2591515034242552}, {\"Meldedatum\": \"2020-03-05T00:00:00\", \"Landkreis\": \"Region Hannover\", \"category\": \"AnzahlFall100k\", \"Number\": 0.2591515034242552}, {\"Meldedatum\": \"2020-03-06T00:00:00\", \"Landkreis\": \"Region Hannover\", \"category\": \"AnzahlFall100k\", \"Number\": 0.43191917237375865}, {\"Meldedatum\": \"2020-03-07T00:00:00\", \"Landkreis\": \"Region Hannover\", \"category\": \"AnzahlFall100k\", \"Number\": 0.5183030068485104}, {\"Meldedatum\": \"2020-03-08T00:00:00\", \"Landkreis\": \"Region Hannover\", \"category\": \"AnzahlFall100k\", \"Number\": 0.6046868413232621}, {\"Meldedatum\": \"2020-03-09T00:00:00\", \"Landkreis\": \"Region Hannover\", \"category\": \"AnzahlFall100k\", \"Number\": 0.7774545102727656}, {\"Meldedatum\": \"2020-03-10T00:00:00\", \"Landkreis\": \"Region Hannover\", \"category\": \"AnzahlFall100k\", \"Number\": 1.2093736826465242}, {\"Meldedatum\": \"2020-03-11T00:00:00\", \"Landkreis\": \"Region Hannover\", \"category\": \"AnzahlFall100k\", \"Number\": 2.073212027394041}, {\"Meldedatum\": \"2020-03-12T00:00:00\", \"Landkreis\": \"Region Hannover\", \"category\": \"AnzahlFall100k\", \"Number\": 4.146424054788083}, {\"Meldedatum\": \"2020-03-13T00:00:00\", \"Landkreis\": \"Region Hannover\", \"category\": \"AnzahlFall100k\", \"Number\": 4.837494730586097}, {\"Meldedatum\": \"2020-03-14T00:00:00\", \"Landkreis\": \"Region Hannover\", \"category\": \"AnzahlFall100k\", \"Number\": 6.219636082182125}, {\"Meldedatum\": \"2020-03-15T00:00:00\", \"Landkreis\": \"Region Hannover\", \"category\": \"AnzahlFall100k\", \"Number\": 7.774545102727655}, {\"Meldedatum\": \"2020-03-16T00:00:00\", \"Landkreis\": \"Region Hannover\", \"category\": \"AnzahlFall100k\", \"Number\": 9.761373295646946}, {\"Meldedatum\": \"2020-03-17T00:00:00\", \"Landkreis\": \"Region Hannover\", \"category\": \"AnzahlFall100k\", \"Number\": 12.093736826465245}, {\"Meldedatum\": \"2020-03-18T00:00:00\", \"Landkreis\": \"Region Hannover\", \"category\": \"AnzahlFall100k\", \"Number\": 17.363150729425097}, {\"Meldedatum\": \"2020-03-19T00:00:00\", \"Landkreis\": \"Region Hannover\", \"category\": \"AnzahlFall100k\", \"Number\": 20.300201101566657}, {\"Meldedatum\": \"2020-03-20T00:00:00\", \"Landkreis\": \"Region Hannover\", \"category\": \"AnzahlFall100k\", \"Number\": 24.705776659778994}, {\"Meldedatum\": \"2020-03-21T00:00:00\", \"Landkreis\": \"Region Hannover\", \"category\": \"AnzahlFall100k\", \"Number\": 25.828766507950768}, {\"Meldedatum\": \"2020-03-22T00:00:00\", \"Landkreis\": \"Region Hannover\", \"category\": \"AnzahlFall100k\", \"Number\": 24.533008990829487}, {\"Meldedatum\": \"2020-03-23T00:00:00\", \"Landkreis\": \"Region Hannover\", \"category\": \"AnzahlFall100k\", \"Number\": 25.91515034242552}, {\"Meldedatum\": \"2020-03-24T00:00:00\", \"Landkreis\": \"Region Hannover\", \"category\": \"AnzahlFall100k\", \"Number\": 29.111352217991328}, {\"Meldedatum\": \"2020-03-25T00:00:00\", \"Landkreis\": \"Region Hannover\", \"category\": \"AnzahlFall100k\", \"Number\": 31.70286725223389}, {\"Meldedatum\": \"2020-03-26T00:00:00\", \"Landkreis\": \"Region Hannover\", \"category\": \"AnzahlFall100k\", \"Number\": 33.948846948577426}, {\"Meldedatum\": \"2020-03-27T00:00:00\", \"Landkreis\": \"Region Hannover\", \"category\": \"AnzahlFall100k\", \"Number\": 33.257776272779424}, {\"Meldedatum\": \"2020-03-28T00:00:00\", \"Landkreis\": \"Region Hannover\", \"category\": \"AnzahlFall100k\", \"Number\": 34.726301458850195}, {\"Meldedatum\": \"2020-03-29T00:00:00\", \"Landkreis\": \"Region Hannover\", \"category\": \"AnzahlFall100k\", \"Number\": 38.52719017573927}, {\"Meldedatum\": \"2020-03-30T00:00:00\", \"Landkreis\": \"Region Hannover\", \"category\": \"AnzahlFall100k\", \"Number\": 40.25486686523431}, {\"Meldedatum\": \"2020-03-31T00:00:00\", \"Landkreis\": \"Region Hannover\", \"category\": \"AnzahlFall100k\", \"Number\": 38.095271003365504}, {\"Meldedatum\": \"2020-04-01T00:00:00\", \"Landkreis\": \"Region Hannover\", \"category\": \"AnzahlFall100k\", \"Number\": 36.19482664492098}, {\"Meldedatum\": \"2020-04-02T00:00:00\", \"Landkreis\": \"Region Hannover\", \"category\": \"AnzahlFall100k\", \"Number\": 33.34416010725417}, {\"Meldedatum\": \"2020-04-03T00:00:00\", \"Landkreis\": \"Region Hannover\", \"category\": \"AnzahlFall100k\", \"Number\": 33.86246311410268}, {\"Meldedatum\": \"2020-04-04T00:00:00\", \"Landkreis\": \"Region Hannover\", \"category\": \"AnzahlFall100k\", \"Number\": 32.393937928031896}, {\"Meldedatum\": \"2020-04-05T00:00:00\", \"Landkreis\": \"Region Hannover\", \"category\": \"AnzahlFall100k\", \"Number\": 30.0615743972136}, {\"Meldedatum\": \"2020-04-06T00:00:00\", \"Landkreis\": \"Region Hannover\", \"category\": \"AnzahlFall100k\", \"Number\": 28.074746204294314}, {\"Meldedatum\": \"2020-04-07T00:00:00\", \"Landkreis\": \"Region Hannover\", \"category\": \"AnzahlFall100k\", \"Number\": 30.839028907486373}, {\"Meldedatum\": \"2020-04-08T00:00:00\", \"Landkreis\": \"Region Hannover\", \"category\": \"AnzahlFall100k\", \"Number\": 30.752645073011614}, {\"Meldedatum\": \"2020-04-09T00:00:00\", \"Landkreis\": \"Region Hannover\", \"category\": \"AnzahlFall100k\", \"Number\": 32.91224093488041}, {\"Meldedatum\": \"2020-04-10T00:00:00\", \"Landkreis\": \"Region Hannover\", \"category\": \"AnzahlFall100k\", \"Number\": 29.888806728264107}, {\"Meldedatum\": \"2020-04-11T00:00:00\", \"Landkreis\": \"Region Hannover\", \"category\": \"AnzahlFall100k\", \"Number\": 29.02496838351658}, {\"Meldedatum\": \"2020-04-12T00:00:00\", \"Landkreis\": \"Region Hannover\", \"category\": \"AnzahlFall100k\", \"Number\": 29.111352217991328}, {\"Meldedatum\": \"2020-04-13T00:00:00\", \"Landkreis\": \"Region Hannover\", \"category\": \"AnzahlFall100k\", \"Number\": 26.606221018223533}, {\"Meldedatum\": \"2020-04-14T00:00:00\", \"Landkreis\": \"Region Hannover\", \"category\": \"AnzahlFall100k\", \"Number\": 23.582786811607217}, {\"Meldedatum\": \"2020-04-15T00:00:00\", \"Landkreis\": \"Region Hannover\", \"category\": \"AnzahlFall100k\", \"Number\": 18.91805974997063}, {\"Meldedatum\": \"2020-04-16T00:00:00\", \"Landkreis\": \"Region Hannover\", \"category\": \"AnzahlFall100k\", \"Number\": 16.585696219152332}, {\"Meldedatum\": \"2020-04-17T00:00:00\", \"Landkreis\": \"Region Hannover\", \"category\": \"AnzahlFall100k\", \"Number\": 18.91805974997063}, {\"Meldedatum\": \"2020-04-18T00:00:00\", \"Landkreis\": \"Region Hannover\", \"category\": \"AnzahlFall100k\", \"Number\": 19.8682819291929}, {\"Meldedatum\": \"2020-04-19T00:00:00\", \"Landkreis\": \"Region Hannover\", \"category\": \"AnzahlFall100k\", \"Number\": 19.004443584445387}, {\"Meldedatum\": \"2020-04-20T00:00:00\", \"Landkreis\": \"Region Hannover\", \"category\": \"AnzahlFall100k\", \"Number\": 19.263595087869643}, {\"Meldedatum\": \"2020-04-21T00:00:00\", \"Landkreis\": \"Region Hannover\", \"category\": \"AnzahlFall100k\", \"Number\": 18.83167591549588}, {\"Meldedatum\": \"2020-04-22T00:00:00\", \"Landkreis\": \"Region Hannover\", \"category\": \"AnzahlFall100k\", \"Number\": 19.263595087869643}, {\"Meldedatum\": \"2020-04-23T00:00:00\", \"Landkreis\": \"Region Hannover\", \"category\": \"AnzahlFall100k\", \"Number\": 17.795069901798858}, {\"Meldedatum\": \"2020-04-24T00:00:00\", \"Landkreis\": \"Region Hannover\", \"category\": \"AnzahlFall100k\", \"Number\": 15.721857874404813}, {\"Meldedatum\": \"2020-04-25T00:00:00\", \"Landkreis\": \"Region Hannover\", \"category\": \"AnzahlFall100k\", \"Number\": 15.289938702031055}, {\"Meldedatum\": \"2020-04-26T00:00:00\", \"Landkreis\": \"Region Hannover\", \"category\": \"AnzahlFall100k\", \"Number\": 16.412928550202828}, {\"Meldedatum\": \"2020-04-27T00:00:00\", \"Landkreis\": \"Region Hannover\", \"category\": \"AnzahlFall100k\", \"Number\": 15.549090205455313}, {\"Meldedatum\": \"2020-04-28T00:00:00\", \"Landkreis\": \"Region Hannover\", \"category\": \"AnzahlFall100k\", \"Number\": 14.685251860707796}, {\"Meldedatum\": \"2020-04-29T00:00:00\", \"Landkreis\": \"Region Hannover\", \"category\": \"AnzahlFall100k\", \"Number\": 13.735029681485527}, {\"Meldedatum\": \"2020-04-30T00:00:00\", \"Landkreis\": \"Region Hannover\", \"category\": \"AnzahlFall100k\", \"Number\": 13.821413515960277}, {\"Meldedatum\": \"2020-05-01T00:00:00\", \"Landkreis\": \"Region Hannover\", \"category\": \"AnzahlFall100k\", \"Number\": 12.525655998839}, {\"Meldedatum\": \"2020-05-02T00:00:00\", \"Landkreis\": \"Region Hannover\", \"category\": \"AnzahlFall100k\", \"Number\": 11.402666150667226}, {\"Meldedatum\": \"2020-05-03T00:00:00\", \"Landkreis\": \"Region Hannover\", \"category\": \"AnzahlFall100k\", \"Number\": 10.106908633545952}, {\"Meldedatum\": \"2020-05-04T00:00:00\", \"Landkreis\": \"Region Hannover\", \"category\": \"AnzahlFall100k\", \"Number\": 10.711595474869217}, {\"Meldedatum\": \"2020-05-05T00:00:00\", \"Landkreis\": \"Region Hannover\", \"category\": \"AnzahlFall100k\", \"Number\": 10.020524799071199}, {\"Meldedatum\": \"2020-05-06T00:00:00\", \"Landkreis\": \"Region Hannover\", \"category\": \"AnzahlFall100k\", \"Number\": 9.93414096459645}, {\"Meldedatum\": \"2020-05-07T00:00:00\", \"Landkreis\": \"Region Hannover\", \"category\": \"AnzahlFall100k\", \"Number\": 9.847757130121698}, {\"Meldedatum\": \"2020-05-08T00:00:00\", \"Landkreis\": \"Region Hannover\", \"category\": \"AnzahlFall100k\", \"Number\": 9.674989461172194}, {\"Meldedatum\": \"2020-05-09T00:00:00\", \"Landkreis\": \"Region Hannover\", \"category\": \"AnzahlFall100k\", \"Number\": 9.329454123273187}, {\"Meldedatum\": \"2020-05-10T00:00:00\", \"Landkreis\": \"Region Hannover\", \"category\": \"AnzahlFall100k\", \"Number\": 8.98391878537418}, {\"Meldedatum\": \"2020-05-11T00:00:00\", \"Landkreis\": \"Region Hannover\", \"category\": \"AnzahlFall100k\", \"Number\": 8.206464275101414}, {\"Meldedatum\": \"2020-05-12T00:00:00\", \"Landkreis\": \"Region Hannover\", \"category\": \"AnzahlFall100k\", \"Number\": 6.56517142008113}, {\"Meldedatum\": \"2020-01-28T00:00:00\", \"Landkreis\": \"LK Celle\", \"category\": \"AnzahlFall100k\", \"Number\": 0.0}, {\"Meldedatum\": \"2020-01-29T00:00:00\", \"Landkreis\": \"LK Celle\", \"category\": \"AnzahlFall100k\", \"Number\": 0.0}, {\"Meldedatum\": \"2020-01-30T00:00:00\", \"Landkreis\": \"LK Celle\", \"category\": \"AnzahlFall100k\", \"Number\": 0.0}, {\"Meldedatum\": \"2020-01-31T00:00:00\", \"Landkreis\": \"LK Celle\", \"category\": \"AnzahlFall100k\", \"Number\": 0.0}, {\"Meldedatum\": \"2020-02-01T00:00:00\", \"Landkreis\": \"LK Celle\", \"category\": \"AnzahlFall100k\", \"Number\": 0.0}, {\"Meldedatum\": \"2020-02-02T00:00:00\", \"Landkreis\": \"LK Celle\", \"category\": \"AnzahlFall100k\", \"Number\": 0.0}, {\"Meldedatum\": \"2020-02-03T00:00:00\", \"Landkreis\": \"LK Celle\", \"category\": \"AnzahlFall100k\", \"Number\": 0.0}, {\"Meldedatum\": \"2020-02-04T00:00:00\", \"Landkreis\": \"LK Celle\", \"category\": \"AnzahlFall100k\", \"Number\": 0.0}, {\"Meldedatum\": \"2020-02-05T00:00:00\", \"Landkreis\": \"LK Celle\", \"category\": \"AnzahlFall100k\", \"Number\": 0.0}, {\"Meldedatum\": \"2020-02-06T00:00:00\", \"Landkreis\": \"LK Celle\", \"category\": \"AnzahlFall100k\", \"Number\": 0.0}, {\"Meldedatum\": \"2020-02-07T00:00:00\", \"Landkreis\": \"LK Celle\", \"category\": \"AnzahlFall100k\", \"Number\": 0.0}, {\"Meldedatum\": \"2020-02-08T00:00:00\", \"Landkreis\": \"LK Celle\", \"category\": \"AnzahlFall100k\", \"Number\": 0.0}, {\"Meldedatum\": \"2020-02-09T00:00:00\", \"Landkreis\": \"LK Celle\", \"category\": \"AnzahlFall100k\", \"Number\": 0.0}, {\"Meldedatum\": \"2020-02-10T00:00:00\", \"Landkreis\": \"LK Celle\", \"category\": \"AnzahlFall100k\", \"Number\": 0.0}, {\"Meldedatum\": \"2020-02-11T00:00:00\", \"Landkreis\": \"LK Celle\", \"category\": \"AnzahlFall100k\", \"Number\": 0.0}, {\"Meldedatum\": \"2020-02-12T00:00:00\", \"Landkreis\": \"LK Celle\", \"category\": \"AnzahlFall100k\", \"Number\": 0.0}, {\"Meldedatum\": \"2020-02-13T00:00:00\", \"Landkreis\": \"LK Celle\", \"category\": \"AnzahlFall100k\", \"Number\": 0.0}, {\"Meldedatum\": \"2020-02-14T00:00:00\", \"Landkreis\": \"LK Celle\", \"category\": \"AnzahlFall100k\", \"Number\": 0.0}, {\"Meldedatum\": \"2020-02-15T00:00:00\", \"Landkreis\": \"LK Celle\", \"category\": \"AnzahlFall100k\", \"Number\": 0.0}, {\"Meldedatum\": \"2020-02-16T00:00:00\", \"Landkreis\": \"LK Celle\", \"category\": \"AnzahlFall100k\", \"Number\": 0.0}, {\"Meldedatum\": \"2020-02-17T00:00:00\", \"Landkreis\": \"LK Celle\", \"category\": \"AnzahlFall100k\", \"Number\": 0.0}, {\"Meldedatum\": \"2020-02-18T00:00:00\", \"Landkreis\": \"LK Celle\", \"category\": \"AnzahlFall100k\", \"Number\": 0.0}, {\"Meldedatum\": \"2020-02-19T00:00:00\", \"Landkreis\": \"LK Celle\", \"category\": \"AnzahlFall100k\", \"Number\": 0.0}, {\"Meldedatum\": \"2020-02-20T00:00:00\", \"Landkreis\": \"LK Celle\", \"category\": \"AnzahlFall100k\", \"Number\": 0.0}, {\"Meldedatum\": \"2020-02-21T00:00:00\", \"Landkreis\": \"LK Celle\", \"category\": \"AnzahlFall100k\", \"Number\": 0.0}, {\"Meldedatum\": \"2020-02-22T00:00:00\", \"Landkreis\": \"LK Celle\", \"category\": \"AnzahlFall100k\", \"Number\": 0.0}, {\"Meldedatum\": \"2020-02-23T00:00:00\", \"Landkreis\": \"LK Celle\", \"category\": \"AnzahlFall100k\", \"Number\": 0.0}, {\"Meldedatum\": \"2020-02-24T00:00:00\", \"Landkreis\": \"LK Celle\", \"category\": \"AnzahlFall100k\", \"Number\": 0.0}, {\"Meldedatum\": \"2020-02-25T00:00:00\", \"Landkreis\": \"LK Celle\", \"category\": \"AnzahlFall100k\", \"Number\": 0.0}, {\"Meldedatum\": \"2020-02-26T00:00:00\", \"Landkreis\": \"LK Celle\", \"category\": \"AnzahlFall100k\", \"Number\": 0.0}, {\"Meldedatum\": \"2020-02-27T00:00:00\", \"Landkreis\": \"LK Celle\", \"category\": \"AnzahlFall100k\", \"Number\": 0.0}, {\"Meldedatum\": \"2020-02-28T00:00:00\", \"Landkreis\": \"LK Celle\", \"category\": \"AnzahlFall100k\", \"Number\": 0.0}, {\"Meldedatum\": \"2020-02-29T00:00:00\", \"Landkreis\": \"LK Celle\", \"category\": \"AnzahlFall100k\", \"Number\": 0.0}, {\"Meldedatum\": \"2020-03-01T00:00:00\", \"Landkreis\": \"LK Celle\", \"category\": \"AnzahlFall100k\", \"Number\": 0.0}, {\"Meldedatum\": \"2020-03-02T00:00:00\", \"Landkreis\": \"LK Celle\", \"category\": \"AnzahlFall100k\", \"Number\": 0.0}, {\"Meldedatum\": \"2020-03-03T00:00:00\", \"Landkreis\": \"LK Celle\", \"category\": \"AnzahlFall100k\", \"Number\": 0.0}, {\"Meldedatum\": \"2020-03-04T00:00:00\", \"Landkreis\": \"LK Celle\", \"category\": \"AnzahlFall100k\", \"Number\": 0.0}, {\"Meldedatum\": \"2020-03-05T00:00:00\", \"Landkreis\": \"LK Celle\", \"category\": \"AnzahlFall100k\", \"Number\": 1.6765771001922476}, {\"Meldedatum\": \"2020-03-06T00:00:00\", \"Landkreis\": \"LK Celle\", \"category\": \"AnzahlFall100k\", \"Number\": 1.6765771001922476}, {\"Meldedatum\": \"2020-03-07T00:00:00\", \"Landkreis\": \"LK Celle\", \"category\": \"AnzahlFall100k\", \"Number\": 1.6765771001922476}, {\"Meldedatum\": \"2020-03-08T00:00:00\", \"Landkreis\": \"LK Celle\", \"category\": \"AnzahlFall100k\", \"Number\": 1.6765771001922476}, {\"Meldedatum\": \"2020-03-09T00:00:00\", \"Landkreis\": \"LK Celle\", \"category\": \"AnzahlFall100k\", \"Number\": 2.2354361335896638}, {\"Meldedatum\": \"2020-03-10T00:00:00\", \"Landkreis\": \"LK Celle\", \"category\": \"AnzahlFall100k\", \"Number\": 2.7942951669870792}, {\"Meldedatum\": \"2020-03-11T00:00:00\", \"Landkreis\": \"LK Celle\", \"category\": \"AnzahlFall100k\", \"Number\": 3.353154200384495}, {\"Meldedatum\": \"2020-03-12T00:00:00\", \"Landkreis\": \"LK Celle\", \"category\": \"AnzahlFall100k\", \"Number\": 1.6765771001922476}, {\"Meldedatum\": \"2020-03-13T00:00:00\", \"Landkreis\": \"LK Celle\", \"category\": \"AnzahlFall100k\", \"Number\": 2.7942951669870792}, {\"Meldedatum\": \"2020-03-14T00:00:00\", \"Landkreis\": \"LK Celle\", \"category\": \"AnzahlFall100k\", \"Number\": 2.7942951669870792}, {\"Meldedatum\": \"2020-03-15T00:00:00\", \"Landkreis\": \"LK Celle\", \"category\": \"AnzahlFall100k\", \"Number\": 2.7942951669870792}, {\"Meldedatum\": \"2020-03-16T00:00:00\", \"Landkreis\": \"LK Celle\", \"category\": \"AnzahlFall100k\", \"Number\": 5.029731300576743}, {\"Meldedatum\": \"2020-03-17T00:00:00\", \"Landkreis\": \"LK Celle\", \"category\": \"AnzahlFall100k\", \"Number\": 7.824026467563821}, {\"Meldedatum\": \"2020-03-18T00:00:00\", \"Landkreis\": \"LK Celle\", \"category\": \"AnzahlFall100k\", \"Number\": 9.50060356775607}, {\"Meldedatum\": \"2020-03-19T00:00:00\", \"Landkreis\": \"LK Celle\", \"category\": \"AnzahlFall100k\", \"Number\": 10.059462601153486}, {\"Meldedatum\": \"2020-03-20T00:00:00\", \"Landkreis\": \"LK Celle\", \"category\": \"AnzahlFall100k\", \"Number\": 11.177180667948317}, {\"Meldedatum\": \"2020-03-21T00:00:00\", \"Landkreis\": \"LK Celle\", \"category\": \"AnzahlFall100k\", \"Number\": 11.736039701345732}, {\"Meldedatum\": \"2020-03-22T00:00:00\", \"Landkreis\": \"LK Celle\", \"category\": \"AnzahlFall100k\", \"Number\": 11.736039701345732}, {\"Meldedatum\": \"2020-03-23T00:00:00\", \"Landkreis\": \"LK Celle\", \"category\": \"AnzahlFall100k\", \"Number\": 13.41261680153798}, {\"Meldedatum\": \"2020-03-24T00:00:00\", \"Landkreis\": \"LK Celle\", \"category\": \"AnzahlFall100k\", \"Number\": 13.41261680153798}, {\"Meldedatum\": \"2020-03-25T00:00:00\", \"Landkreis\": \"LK Celle\", \"category\": \"AnzahlFall100k\", \"Number\": 15.648052935127645}, {\"Meldedatum\": \"2020-03-26T00:00:00\", \"Landkreis\": \"LK Celle\", \"category\": \"AnzahlFall100k\", \"Number\": 20.11892520230697}, {\"Meldedatum\": \"2020-03-27T00:00:00\", \"Landkreis\": \"LK Celle\", \"category\": \"AnzahlFall100k\", \"Number\": 22.354361335896634}, {\"Meldedatum\": \"2020-03-28T00:00:00\", \"Landkreis\": \"LK Celle\", \"category\": \"AnzahlFall100k\", \"Number\": 22.913220369294052}, {\"Meldedatum\": \"2020-03-29T00:00:00\", \"Landkreis\": \"LK Celle\", \"category\": \"AnzahlFall100k\", \"Number\": 23.472079402691463}, {\"Meldedatum\": \"2020-03-30T00:00:00\", \"Landkreis\": \"LK Celle\", \"category\": \"AnzahlFall100k\", \"Number\": 25.70751553628112}, {\"Meldedatum\": \"2020-03-31T00:00:00\", \"Landkreis\": \"LK Celle\", \"category\": \"AnzahlFall100k\", \"Number\": 26.82523360307596}, {\"Meldedatum\": \"2020-04-01T00:00:00\", \"Landkreis\": \"LK Celle\", \"category\": \"AnzahlFall100k\", \"Number\": 24.5897974694863}, {\"Meldedatum\": \"2020-04-02T00:00:00\", \"Landkreis\": \"LK Celle\", \"category\": \"AnzahlFall100k\", \"Number\": 20.677784235704387}, {\"Meldedatum\": \"2020-04-03T00:00:00\", \"Landkreis\": \"LK Celle\", \"category\": \"AnzahlFall100k\", \"Number\": 17.883489068717306}, {\"Meldedatum\": \"2020-04-04T00:00:00\", \"Landkreis\": \"LK Celle\", \"category\": \"AnzahlFall100k\", \"Number\": 19.00120713551214}, {\"Meldedatum\": \"2020-04-05T00:00:00\", \"Landkreis\": \"LK Celle\", \"category\": \"AnzahlFall100k\", \"Number\": 18.442348102114718}, {\"Meldedatum\": \"2020-04-06T00:00:00\", \"Landkreis\": \"LK Celle\", \"category\": \"AnzahlFall100k\", \"Number\": 13.971475834935395}, {\"Meldedatum\": \"2020-04-07T00:00:00\", \"Landkreis\": \"LK Celle\", \"category\": \"AnzahlFall100k\", \"Number\": 10.059462601153486}, {\"Meldedatum\": \"2020-04-08T00:00:00\", \"Landkreis\": \"LK Celle\", \"category\": \"AnzahlFall100k\", \"Number\": 11.177180667948317}, {\"Meldedatum\": \"2020-04-09T00:00:00\", \"Landkreis\": \"LK Celle\", \"category\": \"AnzahlFall100k\", \"Number\": 12.29489873474315}, {\"Meldedatum\": \"2020-04-10T00:00:00\", \"Landkreis\": \"LK Celle\", \"category\": \"AnzahlFall100k\", \"Number\": 12.853757768140564}, {\"Meldedatum\": \"2020-04-11T00:00:00\", \"Landkreis\": \"LK Celle\", \"category\": \"AnzahlFall100k\", \"Number\": 11.177180667948317}, {\"Meldedatum\": \"2020-04-12T00:00:00\", \"Landkreis\": \"LK Celle\", \"category\": \"AnzahlFall100k\", \"Number\": 13.41261680153798}, {\"Meldedatum\": \"2020-04-13T00:00:00\", \"Landkreis\": \"LK Celle\", \"category\": \"AnzahlFall100k\", \"Number\": 11.736039701345732}, {\"Meldedatum\": \"2020-04-14T00:00:00\", \"Landkreis\": \"LK Celle\", \"category\": \"AnzahlFall100k\", \"Number\": 13.971475834935395}, {\"Meldedatum\": \"2020-04-15T00:00:00\", \"Landkreis\": \"LK Celle\", \"category\": \"AnzahlFall100k\", \"Number\": 14.530334868332814}, {\"Meldedatum\": \"2020-04-16T00:00:00\", \"Landkreis\": \"LK Celle\", \"category\": \"AnzahlFall100k\", \"Number\": 13.41261680153798}, {\"Meldedatum\": \"2020-04-17T00:00:00\", \"Landkreis\": \"LK Celle\", \"category\": \"AnzahlFall100k\", \"Number\": 11.736039701345732}, {\"Meldedatum\": \"2020-04-18T00:00:00\", \"Landkreis\": \"LK Celle\", \"category\": \"AnzahlFall100k\", \"Number\": 11.736039701345732}, {\"Meldedatum\": \"2020-04-19T00:00:00\", \"Landkreis\": \"LK Celle\", \"category\": \"AnzahlFall100k\", \"Number\": 9.50060356775607}, {\"Meldedatum\": \"2020-04-20T00:00:00\", \"Landkreis\": \"LK Celle\", \"category\": \"AnzahlFall100k\", \"Number\": 8.941744534358653}, {\"Meldedatum\": \"2020-04-21T00:00:00\", \"Landkreis\": \"LK Celle\", \"category\": \"AnzahlFall100k\", \"Number\": 6.70630840076899}, {\"Meldedatum\": \"2020-04-22T00:00:00\", \"Landkreis\": \"LK Celle\", \"category\": \"AnzahlFall100k\", \"Number\": 4.470872267179327}, {\"Meldedatum\": \"2020-04-23T00:00:00\", \"Landkreis\": \"LK Celle\", \"category\": \"AnzahlFall100k\", \"Number\": 4.470872267179327}, {\"Meldedatum\": \"2020-04-24T00:00:00\", \"Landkreis\": \"LK Celle\", \"category\": \"AnzahlFall100k\", \"Number\": 5.588590333974159}, {\"Meldedatum\": \"2020-04-25T00:00:00\", \"Landkreis\": \"LK Celle\", \"category\": \"AnzahlFall100k\", \"Number\": 6.70630840076899}, {\"Meldedatum\": \"2020-04-26T00:00:00\", \"Landkreis\": \"LK Celle\", \"category\": \"AnzahlFall100k\", \"Number\": 8.382885500961237}, {\"Meldedatum\": \"2020-04-27T00:00:00\", \"Landkreis\": \"LK Celle\", \"category\": \"AnzahlFall100k\", \"Number\": 9.50060356775607}, {\"Meldedatum\": \"2020-04-28T00:00:00\", \"Landkreis\": \"LK Celle\", \"category\": \"AnzahlFall100k\", \"Number\": 11.177180667948317}, {\"Meldedatum\": \"2020-04-29T00:00:00\", \"Landkreis\": \"LK Celle\", \"category\": \"AnzahlFall100k\", \"Number\": 14.530334868332814}, {\"Meldedatum\": \"2020-04-30T00:00:00\", \"Landkreis\": \"LK Celle\", \"category\": \"AnzahlFall100k\", \"Number\": 14.530334868332814}, {\"Meldedatum\": \"2020-05-01T00:00:00\", \"Landkreis\": \"LK Celle\", \"category\": \"AnzahlFall100k\", \"Number\": 13.41261680153798}, {\"Meldedatum\": \"2020-05-02T00:00:00\", \"Landkreis\": \"LK Celle\", \"category\": \"AnzahlFall100k\", \"Number\": 11.736039701345732}, {\"Meldedatum\": \"2020-05-03T00:00:00\", \"Landkreis\": \"LK Celle\", \"category\": \"AnzahlFall100k\", \"Number\": 10.059462601153486}, {\"Meldedatum\": \"2020-05-04T00:00:00\", \"Landkreis\": \"LK Celle\", \"category\": \"AnzahlFall100k\", \"Number\": 8.941744534358653}, {\"Meldedatum\": \"2020-05-05T00:00:00\", \"Landkreis\": \"LK Celle\", \"category\": \"AnzahlFall100k\", \"Number\": 7.824026467563821}, {\"Meldedatum\": \"2020-05-06T00:00:00\", \"Landkreis\": \"LK Celle\", \"category\": \"AnzahlFall100k\", \"Number\": 3.912013233781911}, {\"Meldedatum\": \"2020-05-07T00:00:00\", \"Landkreis\": \"LK Celle\", \"category\": \"AnzahlFall100k\", \"Number\": 2.7942951669870792}, {\"Meldedatum\": \"2020-05-08T00:00:00\", \"Landkreis\": \"LK Celle\", \"category\": \"AnzahlFall100k\", \"Number\": 2.7942951669870792}, {\"Meldedatum\": \"2020-05-09T00:00:00\", \"Landkreis\": \"LK Celle\", \"category\": \"AnzahlFall100k\", \"Number\": 2.7942951669870792}, {\"Meldedatum\": \"2020-05-10T00:00:00\", \"Landkreis\": \"LK Celle\", \"category\": \"AnzahlFall100k\", \"Number\": 2.7942951669870792}, {\"Meldedatum\": \"2020-05-11T00:00:00\", \"Landkreis\": \"LK Celle\", \"category\": \"AnzahlFall100k\", \"Number\": 2.7942951669870792}, {\"Meldedatum\": \"2020-05-12T00:00:00\", \"Landkreis\": \"LK Celle\", \"category\": \"AnzahlFall100k\", \"Number\": 1.6765771001922476}]}}, {\"mode\": \"vega-lite\"});\n",
       "</script>"
      ],
      "text/plain": [
       "alt.Chart(...)"
      ]
     },
     "metadata": {},
     "output_type": "display_data"
    }
   ],
   "source": [
    "def plot_cases_bar(df, cat , el_list, numeric_col, title_str):\n",
    "    c = alt.Chart(df.loc[df[cat].isin(el_list)])\\\n",
    "            .mark_bar(point=False)\\\n",
    "            .encode(x=alt.X('monthdate(Meldedatum):O', title='Date'),\\\n",
    "                    y=alt.Y(numeric_col, title='Cases'),\\\n",
    "                    color=cat,\\\n",
    "                   tooltip = ['Landkreis','Meldedatum','Number'])\\\n",
    "            .properties(width=800, height=400, title=title_str)\n",
    "    c.display()\n",
    "plot_cases_bar(df_lkr_roll, 'Landkreis',['LK Celle','Region Hannover'],'mean(Number):Q','Rolling 7-day sum of cases per 100k' ) "
   ]
  },
  {
   "cell_type": "code",
   "execution_count": 49,
   "metadata": {},
   "outputs": [
    {
     "data": {
      "text/html": [
       "\n",
       "<div id=\"altair-viz-841e9f93e7da4737935816e5bf67372a\"></div>\n",
       "<script type=\"text/javascript\">\n",
       "  (function(spec, embedOpt){\n",
       "    let outputDiv = document.currentScript.previousElementSibling;\n",
       "    if (outputDiv.id !== \"altair-viz-841e9f93e7da4737935816e5bf67372a\") {\n",
       "      outputDiv = document.getElementById(\"altair-viz-841e9f93e7da4737935816e5bf67372a\");\n",
       "    }\n",
       "    const paths = {\n",
       "      \"vega\": \"https://cdn.jsdelivr.net/npm//vega@5?noext\",\n",
       "      \"vega-lib\": \"https://cdn.jsdelivr.net/npm//vega-lib?noext\",\n",
       "      \"vega-lite\": \"https://cdn.jsdelivr.net/npm//vega-lite@4.8.1?noext\",\n",
       "      \"vega-embed\": \"https://cdn.jsdelivr.net/npm//vega-embed@6?noext\",\n",
       "    };\n",
       "\n",
       "    function loadScript(lib) {\n",
       "      return new Promise(function(resolve, reject) {\n",
       "        var s = document.createElement('script');\n",
       "        s.src = paths[lib];\n",
       "        s.async = true;\n",
       "        s.onload = () => resolve(paths[lib]);\n",
       "        s.onerror = () => reject(`Error loading script: ${paths[lib]}`);\n",
       "        document.getElementsByTagName(\"head\")[0].appendChild(s);\n",
       "      });\n",
       "    }\n",
       "\n",
       "    function showError(err) {\n",
       "      outputDiv.innerHTML = `<div class=\"error\" style=\"color:red;\">${err}</div>`;\n",
       "      throw err;\n",
       "    }\n",
       "\n",
       "    function displayChart(vegaEmbed) {\n",
       "      vegaEmbed(outputDiv, spec, embedOpt)\n",
       "        .catch(err => showError(`Javascript Error: ${err.message}<br>This usually means there's a typo in your chart specification. See the javascript console for the full traceback.`));\n",
       "    }\n",
       "\n",
       "    if(typeof define === \"function\" && define.amd) {\n",
       "      requirejs.config({paths});\n",
       "      require([\"vega-embed\"], displayChart, err => showError(`Error loading script: ${err.message}`));\n",
       "    } else if (typeof vegaEmbed === \"function\") {\n",
       "      displayChart(vegaEmbed);\n",
       "    } else {\n",
       "      loadScript(\"vega\")\n",
       "        .then(() => loadScript(\"vega-lite\"))\n",
       "        .then(() => loadScript(\"vega-embed\"))\n",
       "        .catch(showError)\n",
       "        .then(() => displayChart(vegaEmbed));\n",
       "    }\n",
       "  })({\"config\": {\"view\": {\"continuousWidth\": 400, \"continuousHeight\": 300}}, \"layer\": [{\"data\": {\"name\": \"data-aa875f4d581649da63601de280de131e\"}, \"mark\": {\"type\": \"line\", \"point\": true}, \"encoding\": {\"color\": {\"type\": \"nominal\", \"field\": \"Landkreis\"}, \"tooltip\": [{\"type\": \"nominal\", \"field\": \"Landkreis\"}, {\"type\": \"temporal\", \"field\": \"Meldedatum\"}, {\"type\": \"quantitative\", \"field\": \"Number\"}], \"x\": {\"type\": \"ordinal\", \"field\": \"Meldedatum\", \"timeUnit\": \"monthdate\", \"title\": \"Date\"}, \"y\": {\"type\": \"quantitative\", \"aggregate\": \"mean\", \"field\": \"Number\", \"title\": \"Cases\"}}}, {\"data\": {\"name\": \"data-255f3578bb6219ebdc07cc7aae4ba463\"}, \"mark\": {\"type\": \"rule\", \"strokeWidth\": 10}, \"encoding\": {\"color\": {\"value\": \"red\"}, \"opacity\": {\"value\": 0.2}, \"y\": {\"type\": \"quantitative\", \"field\": \"a\"}}}], \"height\": 400, \"title\": \"Rolling 7-day sum of cases per 100k\", \"width\": 800, \"$schema\": \"https://vega.github.io/schema/vega-lite/v4.8.1.json\", \"datasets\": {\"data-aa875f4d581649da63601de280de131e\": [{\"Meldedatum\": \"2020-01-28T00:00:00\", \"Landkreis\": \"Region Hannover\", \"category\": \"AnzahlFall100k\", \"Number\": 0.0}, {\"Meldedatum\": \"2020-01-29T00:00:00\", \"Landkreis\": \"Region Hannover\", \"category\": \"AnzahlFall100k\", \"Number\": 0.0}, {\"Meldedatum\": \"2020-01-30T00:00:00\", \"Landkreis\": \"Region Hannover\", \"category\": \"AnzahlFall100k\", \"Number\": 0.0}, {\"Meldedatum\": \"2020-01-31T00:00:00\", \"Landkreis\": \"Region Hannover\", \"category\": \"AnzahlFall100k\", \"Number\": 0.0}, {\"Meldedatum\": \"2020-02-01T00:00:00\", \"Landkreis\": \"Region Hannover\", \"category\": \"AnzahlFall100k\", \"Number\": 0.0}, {\"Meldedatum\": \"2020-02-02T00:00:00\", \"Landkreis\": \"Region Hannover\", \"category\": \"AnzahlFall100k\", \"Number\": 0.0}, {\"Meldedatum\": \"2020-02-03T00:00:00\", \"Landkreis\": \"Region Hannover\", \"category\": \"AnzahlFall100k\", \"Number\": 0.0}, {\"Meldedatum\": \"2020-02-04T00:00:00\", \"Landkreis\": \"Region Hannover\", \"category\": \"AnzahlFall100k\", \"Number\": 0.0}, {\"Meldedatum\": \"2020-02-05T00:00:00\", \"Landkreis\": \"Region Hannover\", \"category\": \"AnzahlFall100k\", \"Number\": 0.0}, {\"Meldedatum\": \"2020-02-06T00:00:00\", \"Landkreis\": \"Region Hannover\", \"category\": \"AnzahlFall100k\", \"Number\": 0.0}, {\"Meldedatum\": \"2020-02-07T00:00:00\", \"Landkreis\": \"Region Hannover\", \"category\": \"AnzahlFall100k\", \"Number\": 0.0}, {\"Meldedatum\": \"2020-02-08T00:00:00\", \"Landkreis\": \"Region Hannover\", \"category\": \"AnzahlFall100k\", \"Number\": 0.0}, {\"Meldedatum\": \"2020-02-09T00:00:00\", \"Landkreis\": \"Region Hannover\", \"category\": \"AnzahlFall100k\", \"Number\": 0.0}, {\"Meldedatum\": \"2020-02-10T00:00:00\", \"Landkreis\": \"Region Hannover\", \"category\": \"AnzahlFall100k\", \"Number\": 0.0}, {\"Meldedatum\": \"2020-02-11T00:00:00\", \"Landkreis\": \"Region Hannover\", \"category\": \"AnzahlFall100k\", \"Number\": 0.0}, {\"Meldedatum\": \"2020-02-12T00:00:00\", \"Landkreis\": \"Region Hannover\", \"category\": \"AnzahlFall100k\", \"Number\": 0.0}, {\"Meldedatum\": \"2020-02-13T00:00:00\", \"Landkreis\": \"Region Hannover\", \"category\": \"AnzahlFall100k\", \"Number\": 0.0}, {\"Meldedatum\": \"2020-02-14T00:00:00\", \"Landkreis\": \"Region Hannover\", \"category\": \"AnzahlFall100k\", \"Number\": 0.0}, {\"Meldedatum\": \"2020-02-15T00:00:00\", \"Landkreis\": \"Region Hannover\", \"category\": \"AnzahlFall100k\", \"Number\": 0.0}, {\"Meldedatum\": \"2020-02-16T00:00:00\", \"Landkreis\": \"Region Hannover\", \"category\": \"AnzahlFall100k\", \"Number\": 0.0}, {\"Meldedatum\": \"2020-02-17T00:00:00\", \"Landkreis\": \"Region Hannover\", \"category\": \"AnzahlFall100k\", \"Number\": 0.0}, {\"Meldedatum\": \"2020-02-18T00:00:00\", \"Landkreis\": \"Region Hannover\", \"category\": \"AnzahlFall100k\", \"Number\": 0.0}, {\"Meldedatum\": \"2020-02-19T00:00:00\", \"Landkreis\": \"Region Hannover\", \"category\": \"AnzahlFall100k\", \"Number\": 0.0}, {\"Meldedatum\": \"2020-02-20T00:00:00\", \"Landkreis\": \"Region Hannover\", \"category\": \"AnzahlFall100k\", \"Number\": 0.0}, {\"Meldedatum\": \"2020-02-21T00:00:00\", \"Landkreis\": \"Region Hannover\", \"category\": \"AnzahlFall100k\", \"Number\": 0.0}, {\"Meldedatum\": \"2020-02-22T00:00:00\", \"Landkreis\": \"Region Hannover\", \"category\": \"AnzahlFall100k\", \"Number\": 0.0}, {\"Meldedatum\": \"2020-02-23T00:00:00\", \"Landkreis\": \"Region Hannover\", \"category\": \"AnzahlFall100k\", \"Number\": 0.0}, {\"Meldedatum\": \"2020-02-24T00:00:00\", \"Landkreis\": \"Region Hannover\", \"category\": \"AnzahlFall100k\", \"Number\": 0.0}, {\"Meldedatum\": \"2020-02-25T00:00:00\", \"Landkreis\": \"Region Hannover\", \"category\": \"AnzahlFall100k\", \"Number\": 0.0}, {\"Meldedatum\": \"2020-02-26T00:00:00\", \"Landkreis\": \"Region Hannover\", \"category\": \"AnzahlFall100k\", \"Number\": 0.0}, {\"Meldedatum\": \"2020-02-27T00:00:00\", \"Landkreis\": \"Region Hannover\", \"category\": \"AnzahlFall100k\", \"Number\": 0.0}, {\"Meldedatum\": \"2020-02-28T00:00:00\", \"Landkreis\": \"Region Hannover\", \"category\": \"AnzahlFall100k\", \"Number\": 0.0}, {\"Meldedatum\": \"2020-02-29T00:00:00\", \"Landkreis\": \"Region Hannover\", \"category\": \"AnzahlFall100k\", \"Number\": 0.0}, {\"Meldedatum\": \"2020-03-01T00:00:00\", \"Landkreis\": \"Region Hannover\", \"category\": \"AnzahlFall100k\", \"Number\": 0.08638383447475173}, {\"Meldedatum\": \"2020-03-02T00:00:00\", \"Landkreis\": \"Region Hannover\", \"category\": \"AnzahlFall100k\", \"Number\": 0.08638383447475173}, {\"Meldedatum\": \"2020-03-03T00:00:00\", \"Landkreis\": \"Region Hannover\", \"category\": \"AnzahlFall100k\", \"Number\": 0.17276766894950346}, {\"Meldedatum\": \"2020-03-04T00:00:00\", \"Landkreis\": \"Region Hannover\", \"category\": \"AnzahlFall100k\", \"Number\": 0.2591515034242552}, {\"Meldedatum\": \"2020-03-05T00:00:00\", \"Landkreis\": \"Region Hannover\", \"category\": \"AnzahlFall100k\", \"Number\": 0.2591515034242552}, {\"Meldedatum\": \"2020-03-06T00:00:00\", \"Landkreis\": \"Region Hannover\", \"category\": \"AnzahlFall100k\", \"Number\": 0.43191917237375865}, {\"Meldedatum\": \"2020-03-07T00:00:00\", \"Landkreis\": \"Region Hannover\", \"category\": \"AnzahlFall100k\", \"Number\": 0.5183030068485104}, {\"Meldedatum\": \"2020-03-08T00:00:00\", \"Landkreis\": \"Region Hannover\", \"category\": \"AnzahlFall100k\", \"Number\": 0.6046868413232621}, {\"Meldedatum\": \"2020-03-09T00:00:00\", \"Landkreis\": \"Region Hannover\", \"category\": \"AnzahlFall100k\", \"Number\": 0.7774545102727656}, {\"Meldedatum\": \"2020-03-10T00:00:00\", \"Landkreis\": \"Region Hannover\", \"category\": \"AnzahlFall100k\", \"Number\": 1.2093736826465242}, {\"Meldedatum\": \"2020-03-11T00:00:00\", \"Landkreis\": \"Region Hannover\", \"category\": \"AnzahlFall100k\", \"Number\": 2.073212027394041}, {\"Meldedatum\": \"2020-03-12T00:00:00\", \"Landkreis\": \"Region Hannover\", \"category\": \"AnzahlFall100k\", \"Number\": 4.146424054788083}, {\"Meldedatum\": \"2020-03-13T00:00:00\", \"Landkreis\": \"Region Hannover\", \"category\": \"AnzahlFall100k\", \"Number\": 4.837494730586097}, {\"Meldedatum\": \"2020-03-14T00:00:00\", \"Landkreis\": \"Region Hannover\", \"category\": \"AnzahlFall100k\", \"Number\": 6.219636082182125}, {\"Meldedatum\": \"2020-03-15T00:00:00\", \"Landkreis\": \"Region Hannover\", \"category\": \"AnzahlFall100k\", \"Number\": 7.774545102727655}, {\"Meldedatum\": \"2020-03-16T00:00:00\", \"Landkreis\": \"Region Hannover\", \"category\": \"AnzahlFall100k\", \"Number\": 9.761373295646946}, {\"Meldedatum\": \"2020-03-17T00:00:00\", \"Landkreis\": \"Region Hannover\", \"category\": \"AnzahlFall100k\", \"Number\": 12.093736826465245}, {\"Meldedatum\": \"2020-03-18T00:00:00\", \"Landkreis\": \"Region Hannover\", \"category\": \"AnzahlFall100k\", \"Number\": 17.363150729425097}, {\"Meldedatum\": \"2020-03-19T00:00:00\", \"Landkreis\": \"Region Hannover\", \"category\": \"AnzahlFall100k\", \"Number\": 20.300201101566657}, {\"Meldedatum\": \"2020-03-20T00:00:00\", \"Landkreis\": \"Region Hannover\", \"category\": \"AnzahlFall100k\", \"Number\": 24.705776659778994}, {\"Meldedatum\": \"2020-03-21T00:00:00\", \"Landkreis\": \"Region Hannover\", \"category\": \"AnzahlFall100k\", \"Number\": 25.828766507950768}, {\"Meldedatum\": \"2020-03-22T00:00:00\", \"Landkreis\": \"Region Hannover\", \"category\": \"AnzahlFall100k\", \"Number\": 24.533008990829487}, {\"Meldedatum\": \"2020-03-23T00:00:00\", \"Landkreis\": \"Region Hannover\", \"category\": \"AnzahlFall100k\", \"Number\": 25.91515034242552}, {\"Meldedatum\": \"2020-03-24T00:00:00\", \"Landkreis\": \"Region Hannover\", \"category\": \"AnzahlFall100k\", \"Number\": 29.111352217991328}, {\"Meldedatum\": \"2020-03-25T00:00:00\", \"Landkreis\": \"Region Hannover\", \"category\": \"AnzahlFall100k\", \"Number\": 31.70286725223389}, {\"Meldedatum\": \"2020-03-26T00:00:00\", \"Landkreis\": \"Region Hannover\", \"category\": \"AnzahlFall100k\", \"Number\": 33.948846948577426}, {\"Meldedatum\": \"2020-03-27T00:00:00\", \"Landkreis\": \"Region Hannover\", \"category\": \"AnzahlFall100k\", \"Number\": 33.257776272779424}, {\"Meldedatum\": \"2020-03-28T00:00:00\", \"Landkreis\": \"Region Hannover\", \"category\": \"AnzahlFall100k\", \"Number\": 34.726301458850195}, {\"Meldedatum\": \"2020-03-29T00:00:00\", \"Landkreis\": \"Region Hannover\", \"category\": \"AnzahlFall100k\", \"Number\": 38.52719017573927}, {\"Meldedatum\": \"2020-03-30T00:00:00\", \"Landkreis\": \"Region Hannover\", \"category\": \"AnzahlFall100k\", \"Number\": 40.25486686523431}, {\"Meldedatum\": \"2020-03-31T00:00:00\", \"Landkreis\": \"Region Hannover\", \"category\": \"AnzahlFall100k\", \"Number\": 38.095271003365504}, {\"Meldedatum\": \"2020-04-01T00:00:00\", \"Landkreis\": \"Region Hannover\", \"category\": \"AnzahlFall100k\", \"Number\": 36.19482664492098}, {\"Meldedatum\": \"2020-04-02T00:00:00\", \"Landkreis\": \"Region Hannover\", \"category\": \"AnzahlFall100k\", \"Number\": 33.34416010725417}, {\"Meldedatum\": \"2020-04-03T00:00:00\", \"Landkreis\": \"Region Hannover\", \"category\": \"AnzahlFall100k\", \"Number\": 33.86246311410268}, {\"Meldedatum\": \"2020-04-04T00:00:00\", \"Landkreis\": \"Region Hannover\", \"category\": \"AnzahlFall100k\", \"Number\": 32.393937928031896}, {\"Meldedatum\": \"2020-04-05T00:00:00\", \"Landkreis\": \"Region Hannover\", \"category\": \"AnzahlFall100k\", \"Number\": 30.0615743972136}, {\"Meldedatum\": \"2020-04-06T00:00:00\", \"Landkreis\": \"Region Hannover\", \"category\": \"AnzahlFall100k\", \"Number\": 28.074746204294314}, {\"Meldedatum\": \"2020-04-07T00:00:00\", \"Landkreis\": \"Region Hannover\", \"category\": \"AnzahlFall100k\", \"Number\": 30.839028907486373}, {\"Meldedatum\": \"2020-04-08T00:00:00\", \"Landkreis\": \"Region Hannover\", \"category\": \"AnzahlFall100k\", \"Number\": 30.752645073011614}, {\"Meldedatum\": \"2020-04-09T00:00:00\", \"Landkreis\": \"Region Hannover\", \"category\": \"AnzahlFall100k\", \"Number\": 32.91224093488041}, {\"Meldedatum\": \"2020-04-10T00:00:00\", \"Landkreis\": \"Region Hannover\", \"category\": \"AnzahlFall100k\", \"Number\": 29.888806728264107}, {\"Meldedatum\": \"2020-04-11T00:00:00\", \"Landkreis\": \"Region Hannover\", \"category\": \"AnzahlFall100k\", \"Number\": 29.02496838351658}, {\"Meldedatum\": \"2020-04-12T00:00:00\", \"Landkreis\": \"Region Hannover\", \"category\": \"AnzahlFall100k\", \"Number\": 29.111352217991328}, {\"Meldedatum\": \"2020-04-13T00:00:00\", \"Landkreis\": \"Region Hannover\", \"category\": \"AnzahlFall100k\", \"Number\": 26.606221018223533}, {\"Meldedatum\": \"2020-04-14T00:00:00\", \"Landkreis\": \"Region Hannover\", \"category\": \"AnzahlFall100k\", \"Number\": 23.582786811607217}, {\"Meldedatum\": \"2020-04-15T00:00:00\", \"Landkreis\": \"Region Hannover\", \"category\": \"AnzahlFall100k\", \"Number\": 18.91805974997063}, {\"Meldedatum\": \"2020-04-16T00:00:00\", \"Landkreis\": \"Region Hannover\", \"category\": \"AnzahlFall100k\", \"Number\": 16.585696219152332}, {\"Meldedatum\": \"2020-04-17T00:00:00\", \"Landkreis\": \"Region Hannover\", \"category\": \"AnzahlFall100k\", \"Number\": 18.91805974997063}, {\"Meldedatum\": \"2020-04-18T00:00:00\", \"Landkreis\": \"Region Hannover\", \"category\": \"AnzahlFall100k\", \"Number\": 19.8682819291929}, {\"Meldedatum\": \"2020-04-19T00:00:00\", \"Landkreis\": \"Region Hannover\", \"category\": \"AnzahlFall100k\", \"Number\": 19.004443584445387}, {\"Meldedatum\": \"2020-04-20T00:00:00\", \"Landkreis\": \"Region Hannover\", \"category\": \"AnzahlFall100k\", \"Number\": 19.263595087869643}, {\"Meldedatum\": \"2020-04-21T00:00:00\", \"Landkreis\": \"Region Hannover\", \"category\": \"AnzahlFall100k\", \"Number\": 18.83167591549588}, {\"Meldedatum\": \"2020-04-22T00:00:00\", \"Landkreis\": \"Region Hannover\", \"category\": \"AnzahlFall100k\", \"Number\": 19.263595087869643}, {\"Meldedatum\": \"2020-04-23T00:00:00\", \"Landkreis\": \"Region Hannover\", \"category\": \"AnzahlFall100k\", \"Number\": 17.795069901798858}, {\"Meldedatum\": \"2020-04-24T00:00:00\", \"Landkreis\": \"Region Hannover\", \"category\": \"AnzahlFall100k\", \"Number\": 15.721857874404813}, {\"Meldedatum\": \"2020-04-25T00:00:00\", \"Landkreis\": \"Region Hannover\", \"category\": \"AnzahlFall100k\", \"Number\": 15.289938702031055}, {\"Meldedatum\": \"2020-04-26T00:00:00\", \"Landkreis\": \"Region Hannover\", \"category\": \"AnzahlFall100k\", \"Number\": 16.412928550202828}, {\"Meldedatum\": \"2020-04-27T00:00:00\", \"Landkreis\": \"Region Hannover\", \"category\": \"AnzahlFall100k\", \"Number\": 15.549090205455313}, {\"Meldedatum\": \"2020-04-28T00:00:00\", \"Landkreis\": \"Region Hannover\", \"category\": \"AnzahlFall100k\", \"Number\": 14.685251860707796}, {\"Meldedatum\": \"2020-04-29T00:00:00\", \"Landkreis\": \"Region Hannover\", \"category\": \"AnzahlFall100k\", \"Number\": 13.735029681485527}, {\"Meldedatum\": \"2020-04-30T00:00:00\", \"Landkreis\": \"Region Hannover\", \"category\": \"AnzahlFall100k\", \"Number\": 13.821413515960277}, {\"Meldedatum\": \"2020-05-01T00:00:00\", \"Landkreis\": \"Region Hannover\", \"category\": \"AnzahlFall100k\", \"Number\": 12.525655998839}, {\"Meldedatum\": \"2020-05-02T00:00:00\", \"Landkreis\": \"Region Hannover\", \"category\": \"AnzahlFall100k\", \"Number\": 11.402666150667226}, {\"Meldedatum\": \"2020-05-03T00:00:00\", \"Landkreis\": \"Region Hannover\", \"category\": \"AnzahlFall100k\", \"Number\": 10.106908633545952}, {\"Meldedatum\": \"2020-05-04T00:00:00\", \"Landkreis\": \"Region Hannover\", \"category\": \"AnzahlFall100k\", \"Number\": 10.711595474869217}, {\"Meldedatum\": \"2020-05-05T00:00:00\", \"Landkreis\": \"Region Hannover\", \"category\": \"AnzahlFall100k\", \"Number\": 10.020524799071199}, {\"Meldedatum\": \"2020-05-06T00:00:00\", \"Landkreis\": \"Region Hannover\", \"category\": \"AnzahlFall100k\", \"Number\": 9.93414096459645}, {\"Meldedatum\": \"2020-05-07T00:00:00\", \"Landkreis\": \"Region Hannover\", \"category\": \"AnzahlFall100k\", \"Number\": 9.847757130121698}, {\"Meldedatum\": \"2020-05-08T00:00:00\", \"Landkreis\": \"Region Hannover\", \"category\": \"AnzahlFall100k\", \"Number\": 9.674989461172194}, {\"Meldedatum\": \"2020-05-09T00:00:00\", \"Landkreis\": \"Region Hannover\", \"category\": \"AnzahlFall100k\", \"Number\": 9.329454123273187}, {\"Meldedatum\": \"2020-05-10T00:00:00\", \"Landkreis\": \"Region Hannover\", \"category\": \"AnzahlFall100k\", \"Number\": 8.98391878537418}, {\"Meldedatum\": \"2020-05-11T00:00:00\", \"Landkreis\": \"Region Hannover\", \"category\": \"AnzahlFall100k\", \"Number\": 8.206464275101414}, {\"Meldedatum\": \"2020-05-12T00:00:00\", \"Landkreis\": \"Region Hannover\", \"category\": \"AnzahlFall100k\", \"Number\": 6.56517142008113}, {\"Meldedatum\": \"2020-01-28T00:00:00\", \"Landkreis\": \"LK Celle\", \"category\": \"AnzahlFall100k\", \"Number\": 0.0}, {\"Meldedatum\": \"2020-01-29T00:00:00\", \"Landkreis\": \"LK Celle\", \"category\": \"AnzahlFall100k\", \"Number\": 0.0}, {\"Meldedatum\": \"2020-01-30T00:00:00\", \"Landkreis\": \"LK Celle\", \"category\": \"AnzahlFall100k\", \"Number\": 0.0}, {\"Meldedatum\": \"2020-01-31T00:00:00\", \"Landkreis\": \"LK Celle\", \"category\": \"AnzahlFall100k\", \"Number\": 0.0}, {\"Meldedatum\": \"2020-02-01T00:00:00\", \"Landkreis\": \"LK Celle\", \"category\": \"AnzahlFall100k\", \"Number\": 0.0}, {\"Meldedatum\": \"2020-02-02T00:00:00\", \"Landkreis\": \"LK Celle\", \"category\": \"AnzahlFall100k\", \"Number\": 0.0}, {\"Meldedatum\": \"2020-02-03T00:00:00\", \"Landkreis\": \"LK Celle\", \"category\": \"AnzahlFall100k\", \"Number\": 0.0}, {\"Meldedatum\": \"2020-02-04T00:00:00\", \"Landkreis\": \"LK Celle\", \"category\": \"AnzahlFall100k\", \"Number\": 0.0}, {\"Meldedatum\": \"2020-02-05T00:00:00\", \"Landkreis\": \"LK Celle\", \"category\": \"AnzahlFall100k\", \"Number\": 0.0}, {\"Meldedatum\": \"2020-02-06T00:00:00\", \"Landkreis\": \"LK Celle\", \"category\": \"AnzahlFall100k\", \"Number\": 0.0}, {\"Meldedatum\": \"2020-02-07T00:00:00\", \"Landkreis\": \"LK Celle\", \"category\": \"AnzahlFall100k\", \"Number\": 0.0}, {\"Meldedatum\": \"2020-02-08T00:00:00\", \"Landkreis\": \"LK Celle\", \"category\": \"AnzahlFall100k\", \"Number\": 0.0}, {\"Meldedatum\": \"2020-02-09T00:00:00\", \"Landkreis\": \"LK Celle\", \"category\": \"AnzahlFall100k\", \"Number\": 0.0}, {\"Meldedatum\": \"2020-02-10T00:00:00\", \"Landkreis\": \"LK Celle\", \"category\": \"AnzahlFall100k\", \"Number\": 0.0}, {\"Meldedatum\": \"2020-02-11T00:00:00\", \"Landkreis\": \"LK Celle\", \"category\": \"AnzahlFall100k\", \"Number\": 0.0}, {\"Meldedatum\": \"2020-02-12T00:00:00\", \"Landkreis\": \"LK Celle\", \"category\": \"AnzahlFall100k\", \"Number\": 0.0}, {\"Meldedatum\": \"2020-02-13T00:00:00\", \"Landkreis\": \"LK Celle\", \"category\": \"AnzahlFall100k\", \"Number\": 0.0}, {\"Meldedatum\": \"2020-02-14T00:00:00\", \"Landkreis\": \"LK Celle\", \"category\": \"AnzahlFall100k\", \"Number\": 0.0}, {\"Meldedatum\": \"2020-02-15T00:00:00\", \"Landkreis\": \"LK Celle\", \"category\": \"AnzahlFall100k\", \"Number\": 0.0}, {\"Meldedatum\": \"2020-02-16T00:00:00\", \"Landkreis\": \"LK Celle\", \"category\": \"AnzahlFall100k\", \"Number\": 0.0}, {\"Meldedatum\": \"2020-02-17T00:00:00\", \"Landkreis\": \"LK Celle\", \"category\": \"AnzahlFall100k\", \"Number\": 0.0}, {\"Meldedatum\": \"2020-02-18T00:00:00\", \"Landkreis\": \"LK Celle\", \"category\": \"AnzahlFall100k\", \"Number\": 0.0}, {\"Meldedatum\": \"2020-02-19T00:00:00\", \"Landkreis\": \"LK Celle\", \"category\": \"AnzahlFall100k\", \"Number\": 0.0}, {\"Meldedatum\": \"2020-02-20T00:00:00\", \"Landkreis\": \"LK Celle\", \"category\": \"AnzahlFall100k\", \"Number\": 0.0}, {\"Meldedatum\": \"2020-02-21T00:00:00\", \"Landkreis\": \"LK Celle\", \"category\": \"AnzahlFall100k\", \"Number\": 0.0}, {\"Meldedatum\": \"2020-02-22T00:00:00\", \"Landkreis\": \"LK Celle\", \"category\": \"AnzahlFall100k\", \"Number\": 0.0}, {\"Meldedatum\": \"2020-02-23T00:00:00\", \"Landkreis\": \"LK Celle\", \"category\": \"AnzahlFall100k\", \"Number\": 0.0}, {\"Meldedatum\": \"2020-02-24T00:00:00\", \"Landkreis\": \"LK Celle\", \"category\": \"AnzahlFall100k\", \"Number\": 0.0}, {\"Meldedatum\": \"2020-02-25T00:00:00\", \"Landkreis\": \"LK Celle\", \"category\": \"AnzahlFall100k\", \"Number\": 0.0}, {\"Meldedatum\": \"2020-02-26T00:00:00\", \"Landkreis\": \"LK Celle\", \"category\": \"AnzahlFall100k\", \"Number\": 0.0}, {\"Meldedatum\": \"2020-02-27T00:00:00\", \"Landkreis\": \"LK Celle\", \"category\": \"AnzahlFall100k\", \"Number\": 0.0}, {\"Meldedatum\": \"2020-02-28T00:00:00\", \"Landkreis\": \"LK Celle\", \"category\": \"AnzahlFall100k\", \"Number\": 0.0}, {\"Meldedatum\": \"2020-02-29T00:00:00\", \"Landkreis\": \"LK Celle\", \"category\": \"AnzahlFall100k\", \"Number\": 0.0}, {\"Meldedatum\": \"2020-03-01T00:00:00\", \"Landkreis\": \"LK Celle\", \"category\": \"AnzahlFall100k\", \"Number\": 0.0}, {\"Meldedatum\": \"2020-03-02T00:00:00\", \"Landkreis\": \"LK Celle\", \"category\": \"AnzahlFall100k\", \"Number\": 0.0}, {\"Meldedatum\": \"2020-03-03T00:00:00\", \"Landkreis\": \"LK Celle\", \"category\": \"AnzahlFall100k\", \"Number\": 0.0}, {\"Meldedatum\": \"2020-03-04T00:00:00\", \"Landkreis\": \"LK Celle\", \"category\": \"AnzahlFall100k\", \"Number\": 0.0}, {\"Meldedatum\": \"2020-03-05T00:00:00\", \"Landkreis\": \"LK Celle\", \"category\": \"AnzahlFall100k\", \"Number\": 1.6765771001922476}, {\"Meldedatum\": \"2020-03-06T00:00:00\", \"Landkreis\": \"LK Celle\", \"category\": \"AnzahlFall100k\", \"Number\": 1.6765771001922476}, {\"Meldedatum\": \"2020-03-07T00:00:00\", \"Landkreis\": \"LK Celle\", \"category\": \"AnzahlFall100k\", \"Number\": 1.6765771001922476}, {\"Meldedatum\": \"2020-03-08T00:00:00\", \"Landkreis\": \"LK Celle\", \"category\": \"AnzahlFall100k\", \"Number\": 1.6765771001922476}, {\"Meldedatum\": \"2020-03-09T00:00:00\", \"Landkreis\": \"LK Celle\", \"category\": \"AnzahlFall100k\", \"Number\": 2.2354361335896638}, {\"Meldedatum\": \"2020-03-10T00:00:00\", \"Landkreis\": \"LK Celle\", \"category\": \"AnzahlFall100k\", \"Number\": 2.7942951669870792}, {\"Meldedatum\": \"2020-03-11T00:00:00\", \"Landkreis\": \"LK Celle\", \"category\": \"AnzahlFall100k\", \"Number\": 3.353154200384495}, {\"Meldedatum\": \"2020-03-12T00:00:00\", \"Landkreis\": \"LK Celle\", \"category\": \"AnzahlFall100k\", \"Number\": 1.6765771001922476}, {\"Meldedatum\": \"2020-03-13T00:00:00\", \"Landkreis\": \"LK Celle\", \"category\": \"AnzahlFall100k\", \"Number\": 2.7942951669870792}, {\"Meldedatum\": \"2020-03-14T00:00:00\", \"Landkreis\": \"LK Celle\", \"category\": \"AnzahlFall100k\", \"Number\": 2.7942951669870792}, {\"Meldedatum\": \"2020-03-15T00:00:00\", \"Landkreis\": \"LK Celle\", \"category\": \"AnzahlFall100k\", \"Number\": 2.7942951669870792}, {\"Meldedatum\": \"2020-03-16T00:00:00\", \"Landkreis\": \"LK Celle\", \"category\": \"AnzahlFall100k\", \"Number\": 5.029731300576743}, {\"Meldedatum\": \"2020-03-17T00:00:00\", \"Landkreis\": \"LK Celle\", \"category\": \"AnzahlFall100k\", \"Number\": 7.824026467563821}, {\"Meldedatum\": \"2020-03-18T00:00:00\", \"Landkreis\": \"LK Celle\", \"category\": \"AnzahlFall100k\", \"Number\": 9.50060356775607}, {\"Meldedatum\": \"2020-03-19T00:00:00\", \"Landkreis\": \"LK Celle\", \"category\": \"AnzahlFall100k\", \"Number\": 10.059462601153486}, {\"Meldedatum\": \"2020-03-20T00:00:00\", \"Landkreis\": \"LK Celle\", \"category\": \"AnzahlFall100k\", \"Number\": 11.177180667948317}, {\"Meldedatum\": \"2020-03-21T00:00:00\", \"Landkreis\": \"LK Celle\", \"category\": \"AnzahlFall100k\", \"Number\": 11.736039701345732}, {\"Meldedatum\": \"2020-03-22T00:00:00\", \"Landkreis\": \"LK Celle\", \"category\": \"AnzahlFall100k\", \"Number\": 11.736039701345732}, {\"Meldedatum\": \"2020-03-23T00:00:00\", \"Landkreis\": \"LK Celle\", \"category\": \"AnzahlFall100k\", \"Number\": 13.41261680153798}, {\"Meldedatum\": \"2020-03-24T00:00:00\", \"Landkreis\": \"LK Celle\", \"category\": \"AnzahlFall100k\", \"Number\": 13.41261680153798}, {\"Meldedatum\": \"2020-03-25T00:00:00\", \"Landkreis\": \"LK Celle\", \"category\": \"AnzahlFall100k\", \"Number\": 15.648052935127645}, {\"Meldedatum\": \"2020-03-26T00:00:00\", \"Landkreis\": \"LK Celle\", \"category\": \"AnzahlFall100k\", \"Number\": 20.11892520230697}, {\"Meldedatum\": \"2020-03-27T00:00:00\", \"Landkreis\": \"LK Celle\", \"category\": \"AnzahlFall100k\", \"Number\": 22.354361335896634}, {\"Meldedatum\": \"2020-03-28T00:00:00\", \"Landkreis\": \"LK Celle\", \"category\": \"AnzahlFall100k\", \"Number\": 22.913220369294052}, {\"Meldedatum\": \"2020-03-29T00:00:00\", \"Landkreis\": \"LK Celle\", \"category\": \"AnzahlFall100k\", \"Number\": 23.472079402691463}, {\"Meldedatum\": \"2020-03-30T00:00:00\", \"Landkreis\": \"LK Celle\", \"category\": \"AnzahlFall100k\", \"Number\": 25.70751553628112}, {\"Meldedatum\": \"2020-03-31T00:00:00\", \"Landkreis\": \"LK Celle\", \"category\": \"AnzahlFall100k\", \"Number\": 26.82523360307596}, {\"Meldedatum\": \"2020-04-01T00:00:00\", \"Landkreis\": \"LK Celle\", \"category\": \"AnzahlFall100k\", \"Number\": 24.5897974694863}, {\"Meldedatum\": \"2020-04-02T00:00:00\", \"Landkreis\": \"LK Celle\", \"category\": \"AnzahlFall100k\", \"Number\": 20.677784235704387}, {\"Meldedatum\": \"2020-04-03T00:00:00\", \"Landkreis\": \"LK Celle\", \"category\": \"AnzahlFall100k\", \"Number\": 17.883489068717306}, {\"Meldedatum\": \"2020-04-04T00:00:00\", \"Landkreis\": \"LK Celle\", \"category\": \"AnzahlFall100k\", \"Number\": 19.00120713551214}, {\"Meldedatum\": \"2020-04-05T00:00:00\", \"Landkreis\": \"LK Celle\", \"category\": \"AnzahlFall100k\", \"Number\": 18.442348102114718}, {\"Meldedatum\": \"2020-04-06T00:00:00\", \"Landkreis\": \"LK Celle\", \"category\": \"AnzahlFall100k\", \"Number\": 13.971475834935395}, {\"Meldedatum\": \"2020-04-07T00:00:00\", \"Landkreis\": \"LK Celle\", \"category\": \"AnzahlFall100k\", \"Number\": 10.059462601153486}, {\"Meldedatum\": \"2020-04-08T00:00:00\", \"Landkreis\": \"LK Celle\", \"category\": \"AnzahlFall100k\", \"Number\": 11.177180667948317}, {\"Meldedatum\": \"2020-04-09T00:00:00\", \"Landkreis\": \"LK Celle\", \"category\": \"AnzahlFall100k\", \"Number\": 12.29489873474315}, {\"Meldedatum\": \"2020-04-10T00:00:00\", \"Landkreis\": \"LK Celle\", \"category\": \"AnzahlFall100k\", \"Number\": 12.853757768140564}, {\"Meldedatum\": \"2020-04-11T00:00:00\", \"Landkreis\": \"LK Celle\", \"category\": \"AnzahlFall100k\", \"Number\": 11.177180667948317}, {\"Meldedatum\": \"2020-04-12T00:00:00\", \"Landkreis\": \"LK Celle\", \"category\": \"AnzahlFall100k\", \"Number\": 13.41261680153798}, {\"Meldedatum\": \"2020-04-13T00:00:00\", \"Landkreis\": \"LK Celle\", \"category\": \"AnzahlFall100k\", \"Number\": 11.736039701345732}, {\"Meldedatum\": \"2020-04-14T00:00:00\", \"Landkreis\": \"LK Celle\", \"category\": \"AnzahlFall100k\", \"Number\": 13.971475834935395}, {\"Meldedatum\": \"2020-04-15T00:00:00\", \"Landkreis\": \"LK Celle\", \"category\": \"AnzahlFall100k\", \"Number\": 14.530334868332814}, {\"Meldedatum\": \"2020-04-16T00:00:00\", \"Landkreis\": \"LK Celle\", \"category\": \"AnzahlFall100k\", \"Number\": 13.41261680153798}, {\"Meldedatum\": \"2020-04-17T00:00:00\", \"Landkreis\": \"LK Celle\", \"category\": \"AnzahlFall100k\", \"Number\": 11.736039701345732}, {\"Meldedatum\": \"2020-04-18T00:00:00\", \"Landkreis\": \"LK Celle\", \"category\": \"AnzahlFall100k\", \"Number\": 11.736039701345732}, {\"Meldedatum\": \"2020-04-19T00:00:00\", \"Landkreis\": \"LK Celle\", \"category\": \"AnzahlFall100k\", \"Number\": 9.50060356775607}, {\"Meldedatum\": \"2020-04-20T00:00:00\", \"Landkreis\": \"LK Celle\", \"category\": \"AnzahlFall100k\", \"Number\": 8.941744534358653}, {\"Meldedatum\": \"2020-04-21T00:00:00\", \"Landkreis\": \"LK Celle\", \"category\": \"AnzahlFall100k\", \"Number\": 6.70630840076899}, {\"Meldedatum\": \"2020-04-22T00:00:00\", \"Landkreis\": \"LK Celle\", \"category\": \"AnzahlFall100k\", \"Number\": 4.470872267179327}, {\"Meldedatum\": \"2020-04-23T00:00:00\", \"Landkreis\": \"LK Celle\", \"category\": \"AnzahlFall100k\", \"Number\": 4.470872267179327}, {\"Meldedatum\": \"2020-04-24T00:00:00\", \"Landkreis\": \"LK Celle\", \"category\": \"AnzahlFall100k\", \"Number\": 5.588590333974159}, {\"Meldedatum\": \"2020-04-25T00:00:00\", \"Landkreis\": \"LK Celle\", \"category\": \"AnzahlFall100k\", \"Number\": 6.70630840076899}, {\"Meldedatum\": \"2020-04-26T00:00:00\", \"Landkreis\": \"LK Celle\", \"category\": \"AnzahlFall100k\", \"Number\": 8.382885500961237}, {\"Meldedatum\": \"2020-04-27T00:00:00\", \"Landkreis\": \"LK Celle\", \"category\": \"AnzahlFall100k\", \"Number\": 9.50060356775607}, {\"Meldedatum\": \"2020-04-28T00:00:00\", \"Landkreis\": \"LK Celle\", \"category\": \"AnzahlFall100k\", \"Number\": 11.177180667948317}, {\"Meldedatum\": \"2020-04-29T00:00:00\", \"Landkreis\": \"LK Celle\", \"category\": \"AnzahlFall100k\", \"Number\": 14.530334868332814}, {\"Meldedatum\": \"2020-04-30T00:00:00\", \"Landkreis\": \"LK Celle\", \"category\": \"AnzahlFall100k\", \"Number\": 14.530334868332814}, {\"Meldedatum\": \"2020-05-01T00:00:00\", \"Landkreis\": \"LK Celle\", \"category\": \"AnzahlFall100k\", \"Number\": 13.41261680153798}, {\"Meldedatum\": \"2020-05-02T00:00:00\", \"Landkreis\": \"LK Celle\", \"category\": \"AnzahlFall100k\", \"Number\": 11.736039701345732}, {\"Meldedatum\": \"2020-05-03T00:00:00\", \"Landkreis\": \"LK Celle\", \"category\": \"AnzahlFall100k\", \"Number\": 10.059462601153486}, {\"Meldedatum\": \"2020-05-04T00:00:00\", \"Landkreis\": \"LK Celle\", \"category\": \"AnzahlFall100k\", \"Number\": 8.941744534358653}, {\"Meldedatum\": \"2020-05-05T00:00:00\", \"Landkreis\": \"LK Celle\", \"category\": \"AnzahlFall100k\", \"Number\": 7.824026467563821}, {\"Meldedatum\": \"2020-05-06T00:00:00\", \"Landkreis\": \"LK Celle\", \"category\": \"AnzahlFall100k\", \"Number\": 3.912013233781911}, {\"Meldedatum\": \"2020-05-07T00:00:00\", \"Landkreis\": \"LK Celle\", \"category\": \"AnzahlFall100k\", \"Number\": 2.7942951669870792}, {\"Meldedatum\": \"2020-05-08T00:00:00\", \"Landkreis\": \"LK Celle\", \"category\": \"AnzahlFall100k\", \"Number\": 2.7942951669870792}, {\"Meldedatum\": \"2020-05-09T00:00:00\", \"Landkreis\": \"LK Celle\", \"category\": \"AnzahlFall100k\", \"Number\": 2.7942951669870792}, {\"Meldedatum\": \"2020-05-10T00:00:00\", \"Landkreis\": \"LK Celle\", \"category\": \"AnzahlFall100k\", \"Number\": 2.7942951669870792}, {\"Meldedatum\": \"2020-05-11T00:00:00\", \"Landkreis\": \"LK Celle\", \"category\": \"AnzahlFall100k\", \"Number\": 2.7942951669870792}, {\"Meldedatum\": \"2020-05-12T00:00:00\", \"Landkreis\": \"LK Celle\", \"category\": \"AnzahlFall100k\", \"Number\": 1.6765771001922476}, {\"Meldedatum\": \"2020-01-28T00:00:00\", \"Landkreis\": \"LK Coesfeld\", \"category\": \"AnzahlFall100k\", \"Number\": 0.0}, {\"Meldedatum\": \"2020-01-29T00:00:00\", \"Landkreis\": \"LK Coesfeld\", \"category\": \"AnzahlFall100k\", \"Number\": 0.0}, {\"Meldedatum\": \"2020-01-30T00:00:00\", \"Landkreis\": \"LK Coesfeld\", \"category\": \"AnzahlFall100k\", \"Number\": 0.0}, {\"Meldedatum\": \"2020-01-31T00:00:00\", \"Landkreis\": \"LK Coesfeld\", \"category\": \"AnzahlFall100k\", \"Number\": 0.0}, {\"Meldedatum\": \"2020-02-01T00:00:00\", \"Landkreis\": \"LK Coesfeld\", \"category\": \"AnzahlFall100k\", \"Number\": 0.0}, {\"Meldedatum\": \"2020-02-02T00:00:00\", \"Landkreis\": \"LK Coesfeld\", \"category\": \"AnzahlFall100k\", \"Number\": 0.0}, {\"Meldedatum\": \"2020-02-03T00:00:00\", \"Landkreis\": \"LK Coesfeld\", \"category\": \"AnzahlFall100k\", \"Number\": 0.0}, {\"Meldedatum\": \"2020-02-04T00:00:00\", \"Landkreis\": \"LK Coesfeld\", \"category\": \"AnzahlFall100k\", \"Number\": 0.0}, {\"Meldedatum\": \"2020-02-05T00:00:00\", \"Landkreis\": \"LK Coesfeld\", \"category\": \"AnzahlFall100k\", \"Number\": 0.0}, {\"Meldedatum\": \"2020-02-06T00:00:00\", \"Landkreis\": \"LK Coesfeld\", \"category\": \"AnzahlFall100k\", \"Number\": 0.0}, {\"Meldedatum\": \"2020-02-07T00:00:00\", \"Landkreis\": \"LK Coesfeld\", \"category\": \"AnzahlFall100k\", \"Number\": 0.0}, {\"Meldedatum\": \"2020-02-08T00:00:00\", \"Landkreis\": \"LK Coesfeld\", \"category\": \"AnzahlFall100k\", \"Number\": 0.0}, {\"Meldedatum\": \"2020-02-09T00:00:00\", \"Landkreis\": \"LK Coesfeld\", \"category\": \"AnzahlFall100k\", \"Number\": 0.0}, {\"Meldedatum\": \"2020-02-10T00:00:00\", \"Landkreis\": \"LK Coesfeld\", \"category\": \"AnzahlFall100k\", \"Number\": 0.0}, {\"Meldedatum\": \"2020-02-11T00:00:00\", \"Landkreis\": \"LK Coesfeld\", \"category\": \"AnzahlFall100k\", \"Number\": 0.0}, {\"Meldedatum\": \"2020-02-12T00:00:00\", \"Landkreis\": \"LK Coesfeld\", \"category\": \"AnzahlFall100k\", \"Number\": 0.0}, {\"Meldedatum\": \"2020-02-13T00:00:00\", \"Landkreis\": \"LK Coesfeld\", \"category\": \"AnzahlFall100k\", \"Number\": 0.0}, {\"Meldedatum\": \"2020-02-14T00:00:00\", \"Landkreis\": \"LK Coesfeld\", \"category\": \"AnzahlFall100k\", \"Number\": 0.0}, {\"Meldedatum\": \"2020-02-15T00:00:00\", \"Landkreis\": \"LK Coesfeld\", \"category\": \"AnzahlFall100k\", \"Number\": 0.0}, {\"Meldedatum\": \"2020-02-16T00:00:00\", \"Landkreis\": \"LK Coesfeld\", \"category\": \"AnzahlFall100k\", \"Number\": 0.0}, {\"Meldedatum\": \"2020-02-17T00:00:00\", \"Landkreis\": \"LK Coesfeld\", \"category\": \"AnzahlFall100k\", \"Number\": 0.0}, {\"Meldedatum\": \"2020-02-18T00:00:00\", \"Landkreis\": \"LK Coesfeld\", \"category\": \"AnzahlFall100k\", \"Number\": 0.0}, {\"Meldedatum\": \"2020-02-19T00:00:00\", \"Landkreis\": \"LK Coesfeld\", \"category\": \"AnzahlFall100k\", \"Number\": 0.0}, {\"Meldedatum\": \"2020-02-20T00:00:00\", \"Landkreis\": \"LK Coesfeld\", \"category\": \"AnzahlFall100k\", \"Number\": 0.0}, {\"Meldedatum\": \"2020-02-21T00:00:00\", \"Landkreis\": \"LK Coesfeld\", \"category\": \"AnzahlFall100k\", \"Number\": 0.0}, {\"Meldedatum\": \"2020-02-22T00:00:00\", \"Landkreis\": \"LK Coesfeld\", \"category\": \"AnzahlFall100k\", \"Number\": 0.0}, {\"Meldedatum\": \"2020-02-23T00:00:00\", \"Landkreis\": \"LK Coesfeld\", \"category\": \"AnzahlFall100k\", \"Number\": 0.0}, {\"Meldedatum\": \"2020-02-24T00:00:00\", \"Landkreis\": \"LK Coesfeld\", \"category\": \"AnzahlFall100k\", \"Number\": 0.0}, {\"Meldedatum\": \"2020-02-25T00:00:00\", \"Landkreis\": \"LK Coesfeld\", \"category\": \"AnzahlFall100k\", \"Number\": 0.0}, {\"Meldedatum\": \"2020-02-26T00:00:00\", \"Landkreis\": \"LK Coesfeld\", \"category\": \"AnzahlFall100k\", \"Number\": 0.0}, {\"Meldedatum\": \"2020-02-27T00:00:00\", \"Landkreis\": \"LK Coesfeld\", \"category\": \"AnzahlFall100k\", \"Number\": 0.0}, {\"Meldedatum\": \"2020-02-28T00:00:00\", \"Landkreis\": \"LK Coesfeld\", \"category\": \"AnzahlFall100k\", \"Number\": 0.0}, {\"Meldedatum\": \"2020-02-29T00:00:00\", \"Landkreis\": \"LK Coesfeld\", \"category\": \"AnzahlFall100k\", \"Number\": 0.0}, {\"Meldedatum\": \"2020-03-01T00:00:00\", \"Landkreis\": \"LK Coesfeld\", \"category\": \"AnzahlFall100k\", \"Number\": 0.0}, {\"Meldedatum\": \"2020-03-02T00:00:00\", \"Landkreis\": \"LK Coesfeld\", \"category\": \"AnzahlFall100k\", \"Number\": 0.0}, {\"Meldedatum\": \"2020-03-03T00:00:00\", \"Landkreis\": \"LK Coesfeld\", \"category\": \"AnzahlFall100k\", \"Number\": 0.0}, {\"Meldedatum\": \"2020-03-04T00:00:00\", \"Landkreis\": \"LK Coesfeld\", \"category\": \"AnzahlFall100k\", \"Number\": 4.546921961178381}, {\"Meldedatum\": \"2020-03-05T00:00:00\", \"Landkreis\": \"LK Coesfeld\", \"category\": \"AnzahlFall100k\", \"Number\": 5.001614157296219}, {\"Meldedatum\": \"2020-03-06T00:00:00\", \"Landkreis\": \"LK Coesfeld\", \"category\": \"AnzahlFall100k\", \"Number\": 5.456306353414056}, {\"Meldedatum\": \"2020-03-07T00:00:00\", \"Landkreis\": \"LK Coesfeld\", \"category\": \"AnzahlFall100k\", \"Number\": 5.456306353414056}, {\"Meldedatum\": \"2020-03-08T00:00:00\", \"Landkreis\": \"LK Coesfeld\", \"category\": \"AnzahlFall100k\", \"Number\": 6.820382941767571}, {\"Meldedatum\": \"2020-03-09T00:00:00\", \"Landkreis\": \"LK Coesfeld\", \"category\": \"AnzahlFall100k\", \"Number\": 7.729767334003247}, {\"Meldedatum\": \"2020-03-10T00:00:00\", \"Landkreis\": \"LK Coesfeld\", \"category\": \"AnzahlFall100k\", \"Number\": 10.003228314592436}, {\"Meldedatum\": \"2020-03-11T00:00:00\", \"Landkreis\": \"LK Coesfeld\", \"category\": \"AnzahlFall100k\", \"Number\": 6.365690745649732}, {\"Meldedatum\": \"2020-03-12T00:00:00\", \"Landkreis\": \"LK Coesfeld\", \"category\": \"AnzahlFall100k\", \"Number\": 8.639151726238921}, {\"Meldedatum\": \"2020-03-13T00:00:00\", \"Landkreis\": \"LK Coesfeld\", \"category\": \"AnzahlFall100k\", \"Number\": 12.276689295181624}, {\"Meldedatum\": \"2020-03-14T00:00:00\", \"Landkreis\": \"LK Coesfeld\", \"category\": \"AnzahlFall100k\", \"Number\": 15.004842471888654}, {\"Meldedatum\": \"2020-03-15T00:00:00\", \"Landkreis\": \"LK Coesfeld\", \"category\": \"AnzahlFall100k\", \"Number\": 14.095458079652976}, {\"Meldedatum\": \"2020-03-16T00:00:00\", \"Landkreis\": \"LK Coesfeld\", \"category\": \"AnzahlFall100k\", \"Number\": 15.459534668006494}, {\"Meldedatum\": \"2020-03-17T00:00:00\", \"Landkreis\": \"LK Coesfeld\", \"category\": \"AnzahlFall100k\", \"Number\": 19.551764433067035}, {\"Meldedatum\": \"2020-03-18T00:00:00\", \"Landkreis\": \"LK Coesfeld\", \"category\": \"AnzahlFall100k\", \"Number\": 25.00807078648109}, {\"Meldedatum\": \"2020-03-19T00:00:00\", \"Landkreis\": \"LK Coesfeld\", \"category\": \"AnzahlFall100k\", \"Number\": 28.19091615930596}, {\"Meldedatum\": \"2020-03-20T00:00:00\", \"Landkreis\": \"LK Coesfeld\", \"category\": \"AnzahlFall100k\", \"Number\": 32.73783812048434}, {\"Meldedatum\": \"2020-03-21T00:00:00\", \"Landkreis\": \"LK Coesfeld\", \"category\": \"AnzahlFall100k\", \"Number\": 30.00968494377731}, {\"Meldedatum\": \"2020-03-22T00:00:00\", \"Landkreis\": \"LK Coesfeld\", \"category\": \"AnzahlFall100k\", \"Number\": 31.373761532130825}, {\"Meldedatum\": \"2020-03-23T00:00:00\", \"Landkreis\": \"LK Coesfeld\", \"category\": \"AnzahlFall100k\", \"Number\": 45.46921961178381}, {\"Meldedatum\": \"2020-03-24T00:00:00\", \"Landkreis\": \"LK Coesfeld\", \"category\": \"AnzahlFall100k\", \"Number\": 42.741066435076775}, {\"Meldedatum\": \"2020-03-25T00:00:00\", \"Landkreis\": \"LK Coesfeld\", \"category\": \"AnzahlFall100k\", \"Number\": 44.10514302343029}, {\"Meldedatum\": \"2020-03-26T00:00:00\", \"Landkreis\": \"LK Coesfeld\", \"category\": \"AnzahlFall100k\", \"Number\": 47.28798839625515}, {\"Meldedatum\": \"2020-03-27T00:00:00\", \"Landkreis\": \"LK Coesfeld\", \"category\": \"AnzahlFall100k\", \"Number\": 53.65367914190489}, {\"Meldedatum\": \"2020-03-28T00:00:00\", \"Landkreis\": \"LK Coesfeld\", \"category\": \"AnzahlFall100k\", \"Number\": 53.65367914190489}, {\"Meldedatum\": \"2020-03-29T00:00:00\", \"Landkreis\": \"LK Coesfeld\", \"category\": \"AnzahlFall100k\", \"Number\": 75.93359675167895}, {\"Meldedatum\": \"2020-03-30T00:00:00\", \"Landkreis\": \"LK Coesfeld\", \"category\": \"AnzahlFall100k\", \"Number\": 66.38506063320436}, {\"Meldedatum\": \"2020-03-31T00:00:00\", \"Landkreis\": \"LK Coesfeld\", \"category\": \"AnzahlFall100k\", \"Number\": 70.93198259438273}, {\"Meldedatum\": \"2020-04-01T00:00:00\", \"Landkreis\": \"LK Coesfeld\", \"category\": \"AnzahlFall100k\", \"Number\": 72.75075137885409}, {\"Meldedatum\": \"2020-04-02T00:00:00\", \"Landkreis\": \"LK Coesfeld\", \"category\": \"AnzahlFall100k\", \"Number\": 75.02421235944328}, {\"Meldedatum\": \"2020-04-03T00:00:00\", \"Landkreis\": \"LK Coesfeld\", \"category\": \"AnzahlFall100k\", \"Number\": 68.2038294176757}, {\"Meldedatum\": \"2020-04-04T00:00:00\", \"Landkreis\": \"LK Coesfeld\", \"category\": \"AnzahlFall100k\", \"Number\": 68.65852161379354}, {\"Meldedatum\": \"2020-04-05T00:00:00\", \"Landkreis\": \"LK Coesfeld\", \"category\": \"AnzahlFall100k\", \"Number\": 44.55983521954813}, {\"Meldedatum\": \"2020-04-06T00:00:00\", \"Landkreis\": \"LK Coesfeld\", \"category\": \"AnzahlFall100k\", \"Number\": 47.28798839625515}, {\"Meldedatum\": \"2020-04-07T00:00:00\", \"Landkreis\": \"LK Coesfeld\", \"category\": \"AnzahlFall100k\", \"Number\": 43.19575863119461}, {\"Meldedatum\": \"2020-04-08T00:00:00\", \"Landkreis\": \"LK Coesfeld\", \"category\": \"AnzahlFall100k\", \"Number\": 39.10352886613407}, {\"Meldedatum\": \"2020-04-09T00:00:00\", \"Landkreis\": \"LK Coesfeld\", \"category\": \"AnzahlFall100k\", \"Number\": 28.6456083554238}, {\"Meldedatum\": \"2020-04-10T00:00:00\", \"Landkreis\": \"LK Coesfeld\", \"category\": \"AnzahlFall100k\", \"Number\": 25.00807078648109}, {\"Meldedatum\": \"2020-04-11T00:00:00\", \"Landkreis\": \"LK Coesfeld\", \"category\": \"AnzahlFall100k\", \"Number\": 30.00968494377731}, {\"Meldedatum\": \"2020-04-12T00:00:00\", \"Landkreis\": \"LK Coesfeld\", \"category\": \"AnzahlFall100k\", \"Number\": 33.19253031660217}, {\"Meldedatum\": \"2020-04-13T00:00:00\", \"Landkreis\": \"LK Coesfeld\", \"category\": \"AnzahlFall100k\", \"Number\": 23.643994198127576}, {\"Meldedatum\": \"2020-04-14T00:00:00\", \"Landkreis\": \"LK Coesfeld\", \"category\": \"AnzahlFall100k\", \"Number\": 20.46114882530271}, {\"Meldedatum\": \"2020-04-15T00:00:00\", \"Landkreis\": \"LK Coesfeld\", \"category\": \"AnzahlFall100k\", \"Number\": 16.36891906024217}, {\"Meldedatum\": \"2020-04-16T00:00:00\", \"Landkreis\": \"LK Coesfeld\", \"category\": \"AnzahlFall100k\", \"Number\": 15.459534668006494}, {\"Meldedatum\": \"2020-04-17T00:00:00\", \"Landkreis\": \"LK Coesfeld\", \"category\": \"AnzahlFall100k\", \"Number\": 15.459534668006494}, {\"Meldedatum\": \"2020-04-18T00:00:00\", \"Landkreis\": \"LK Coesfeld\", \"category\": \"AnzahlFall100k\", \"Number\": 12.731381491299464}, {\"Meldedatum\": \"2020-04-19T00:00:00\", \"Landkreis\": \"LK Coesfeld\", \"category\": \"AnzahlFall100k\", \"Number\": 10.457920510710274}, {\"Meldedatum\": \"2020-04-20T00:00:00\", \"Landkreis\": \"LK Coesfeld\", \"category\": \"AnzahlFall100k\", \"Number\": 12.276689295181624}, {\"Meldedatum\": \"2020-04-21T00:00:00\", \"Landkreis\": \"LK Coesfeld\", \"category\": \"AnzahlFall100k\", \"Number\": 11.367304902945952}, {\"Meldedatum\": \"2020-04-22T00:00:00\", \"Landkreis\": \"LK Coesfeld\", \"category\": \"AnzahlFall100k\", \"Number\": 10.912612706828112}, {\"Meldedatum\": \"2020-04-23T00:00:00\", \"Landkreis\": \"LK Coesfeld\", \"category\": \"AnzahlFall100k\", \"Number\": 12.276689295181624}, {\"Meldedatum\": \"2020-04-24T00:00:00\", \"Landkreis\": \"LK Coesfeld\", \"category\": \"AnzahlFall100k\", \"Number\": 10.003228314592436}, {\"Meldedatum\": \"2020-04-25T00:00:00\", \"Landkreis\": \"LK Coesfeld\", \"category\": \"AnzahlFall100k\", \"Number\": 7.275075137885407}, {\"Meldedatum\": \"2020-04-26T00:00:00\", \"Landkreis\": \"LK Coesfeld\", \"category\": \"AnzahlFall100k\", \"Number\": 8.639151726238921}, {\"Meldedatum\": \"2020-04-27T00:00:00\", \"Landkreis\": \"LK Coesfeld\", \"category\": \"AnzahlFall100k\", \"Number\": 8.184459530121085}, {\"Meldedatum\": \"2020-04-28T00:00:00\", \"Landkreis\": \"LK Coesfeld\", \"category\": \"AnzahlFall100k\", \"Number\": 9.548536118474598}, {\"Meldedatum\": \"2020-04-29T00:00:00\", \"Landkreis\": \"LK Coesfeld\", \"category\": \"AnzahlFall100k\", \"Number\": 10.003228314592436}, {\"Meldedatum\": \"2020-04-30T00:00:00\", \"Landkreis\": \"LK Coesfeld\", \"category\": \"AnzahlFall100k\", \"Number\": 13.640765883535142}, {\"Meldedatum\": \"2020-05-01T00:00:00\", \"Landkreis\": \"LK Coesfeld\", \"category\": \"AnzahlFall100k\", \"Number\": 12.276689295181624}, {\"Meldedatum\": \"2020-05-02T00:00:00\", \"Landkreis\": \"LK Coesfeld\", \"category\": \"AnzahlFall100k\", \"Number\": 16.82361125636001}, {\"Meldedatum\": \"2020-05-03T00:00:00\", \"Landkreis\": \"LK Coesfeld\", \"category\": \"AnzahlFall100k\", \"Number\": 20.915841021420547}, {\"Meldedatum\": \"2020-05-04T00:00:00\", \"Landkreis\": \"LK Coesfeld\", \"category\": \"AnzahlFall100k\", \"Number\": 24.55337859036325}, {\"Meldedatum\": \"2020-05-05T00:00:00\", \"Landkreis\": \"LK Coesfeld\", \"category\": \"AnzahlFall100k\", \"Number\": 36.830067885544885}, {\"Meldedatum\": \"2020-05-06T00:00:00\", \"Landkreis\": \"LK Coesfeld\", \"category\": \"AnzahlFall100k\", \"Number\": 38.19414447389839}, {\"Meldedatum\": \"2020-05-07T00:00:00\", \"Landkreis\": \"LK Coesfeld\", \"category\": \"AnzahlFall100k\", \"Number\": 67.29444502544004}, {\"Meldedatum\": \"2020-05-08T00:00:00\", \"Landkreis\": \"LK Coesfeld\", \"category\": \"AnzahlFall100k\", \"Number\": 75.93359675167895}, {\"Meldedatum\": \"2020-05-09T00:00:00\", \"Landkreis\": \"LK Coesfeld\", \"category\": \"AnzahlFall100k\", \"Number\": 88.2102860468606}, {\"Meldedatum\": \"2020-05-10T00:00:00\", \"Landkreis\": \"LK Coesfeld\", \"category\": \"AnzahlFall100k\", \"Number\": 95.94005338086384}, {\"Meldedatum\": \"2020-05-11T00:00:00\", \"Landkreis\": \"LK Coesfeld\", \"category\": \"AnzahlFall100k\", \"Number\": 103.21512851874924}, {\"Meldedatum\": \"2020-05-12T00:00:00\", \"Landkreis\": \"LK Coesfeld\", \"category\": \"AnzahlFall100k\", \"Number\": 100.4869753420422}], \"data-255f3578bb6219ebdc07cc7aae4ba463\": [{\"a\": 50}]}}, {\"mode\": \"vega-lite\"});\n",
       "</script>"
      ],
      "text/plain": [
       "alt.LayerChart(...)"
      ]
     },
     "metadata": {},
     "output_type": "display_data"
    }
   ],
   "source": [
    "def plot_cases_line(df, cat , el_list, numeric_col, title_str):\n",
    "    c1 = alt.Chart(df.loc[df[cat].isin(el_list)])\\\n",
    "            .mark_line(point=True)\\\n",
    "            .encode(x=alt.X('monthdate(Meldedatum):O', title='Date'),\\\n",
    "                    y=alt.Y(numeric_col, title='Cases'),\\\n",
    "                    color=cat,\\\n",
    "                   tooltip = ['Landkreis','Meldedatum','Number'])\n",
    "            \n",
    "\n",
    "    data = pd.DataFrame({'a': [50]})\n",
    "    c2 = alt.Chart(data).mark_rule(strokeWidth=10).encode(y='a:Q',\\\n",
    "                                            opacity=alt.value(0.2),\n",
    "                                            color = alt.value('red'))\n",
    "    (c1+c2).properties(width=800, height=400, title=title_str).display()\n",
    "#    c.display()\n",
    "plot_cases_line(df_lkr_roll, 'Landkreis',['LK Celle','Region Hannover','LK Coesfeld'],'mean(Number):Q','Rolling 7-day sum of cases per 100k' ) "
   ]
  },
  {
   "cell_type": "code",
   "execution_count": 50,
   "metadata": {},
   "outputs": [
    {
     "ename": "KeyError",
     "evalue": "'Landkreis'",
     "output_type": "error",
     "traceback": [
      "\u001b[0;31m---------------------------------------------------------------------------\u001b[0m",
      "\u001b[0;31mKeyError\u001b[0m                                  Traceback (most recent call last)",
      "\u001b[0;32m~/anaconda3/envs/dsnd/lib/python3.8/site-packages/pandas/core/indexes/base.py\u001b[0m in \u001b[0;36mget_loc\u001b[0;34m(self, key, method, tolerance)\u001b[0m\n\u001b[1;32m   2645\u001b[0m             \u001b[0;32mtry\u001b[0m\u001b[0;34m:\u001b[0m\u001b[0;34m\u001b[0m\u001b[0;34m\u001b[0m\u001b[0m\n\u001b[0;32m-> 2646\u001b[0;31m                 \u001b[0;32mreturn\u001b[0m \u001b[0mself\u001b[0m\u001b[0;34m.\u001b[0m\u001b[0m_engine\u001b[0m\u001b[0;34m.\u001b[0m\u001b[0mget_loc\u001b[0m\u001b[0;34m(\u001b[0m\u001b[0mkey\u001b[0m\u001b[0;34m)\u001b[0m\u001b[0;34m\u001b[0m\u001b[0;34m\u001b[0m\u001b[0m\n\u001b[0m\u001b[1;32m   2647\u001b[0m             \u001b[0;32mexcept\u001b[0m \u001b[0mKeyError\u001b[0m\u001b[0;34m:\u001b[0m\u001b[0;34m\u001b[0m\u001b[0;34m\u001b[0m\u001b[0m\n",
      "\u001b[0;32mpandas/_libs/index.pyx\u001b[0m in \u001b[0;36mpandas._libs.index.IndexEngine.get_loc\u001b[0;34m()\u001b[0m\n",
      "\u001b[0;32mpandas/_libs/index.pyx\u001b[0m in \u001b[0;36mpandas._libs.index.IndexEngine.get_loc\u001b[0;34m()\u001b[0m\n",
      "\u001b[0;32mpandas/_libs/hashtable_class_helper.pxi\u001b[0m in \u001b[0;36mpandas._libs.hashtable.PyObjectHashTable.get_item\u001b[0;34m()\u001b[0m\n",
      "\u001b[0;32mpandas/_libs/hashtable_class_helper.pxi\u001b[0m in \u001b[0;36mpandas._libs.hashtable.PyObjectHashTable.get_item\u001b[0;34m()\u001b[0m\n",
      "\u001b[0;31mKeyError\u001b[0m: 'Landkreis'",
      "\nDuring handling of the above exception, another exception occurred:\n",
      "\u001b[0;31mKeyError\u001b[0m                                  Traceback (most recent call last)",
      "\u001b[0;32m<ipython-input-50-13f3155e6512>\u001b[0m in \u001b[0;36m<module>\u001b[0;34m\u001b[0m\n\u001b[1;32m      9\u001b[0m \u001b[0;34m\u001b[0m\u001b[0m\n\u001b[1;32m     10\u001b[0m     \u001b[0;31m#c.display()\u001b[0m\u001b[0;34m\u001b[0m\u001b[0;34m\u001b[0m\u001b[0;34m\u001b[0m\u001b[0m\n\u001b[0;32m---> 11\u001b[0;31m \u001b[0mplot_cases_line\u001b[0m\u001b[0;34m(\u001b[0m\u001b[0mtmp\u001b[0m\u001b[0;34m,\u001b[0m \u001b[0;34m'Landkreis'\u001b[0m\u001b[0;34m,\u001b[0m\u001b[0;34m[\u001b[0m\u001b[0;34m'LK Celle'\u001b[0m\u001b[0;34m,\u001b[0m\u001b[0;34m'Region Hannover'\u001b[0m\u001b[0;34m,\u001b[0m\u001b[0;34m'LK Coesfeld'\u001b[0m\u001b[0;34m,\u001b[0m\u001b[0;34m'Lockdown Threshold'\u001b[0m\u001b[0;34m]\u001b[0m\u001b[0;34m,\u001b[0m\u001b[0;34m'mean(Number):Q'\u001b[0m\u001b[0;34m,\u001b[0m\u001b[0;34m'Rolling 7-day sum of cases per 100k'\u001b[0m \u001b[0;34m)\u001b[0m\u001b[0;34m\u001b[0m\u001b[0;34m\u001b[0m\u001b[0m\n\u001b[0m",
      "\u001b[0;32m<ipython-input-50-13f3155e6512>\u001b[0m in \u001b[0;36mplot_cases_line\u001b[0;34m(df, cat, el_list, numeric_col, title_str)\u001b[0m\n\u001b[1;32m      1\u001b[0m \u001b[0;32mdef\u001b[0m \u001b[0mplot_cases_line\u001b[0m\u001b[0;34m(\u001b[0m\u001b[0mdf\u001b[0m\u001b[0;34m,\u001b[0m \u001b[0mcat\u001b[0m \u001b[0;34m,\u001b[0m \u001b[0mel_list\u001b[0m\u001b[0;34m,\u001b[0m \u001b[0mnumeric_col\u001b[0m\u001b[0;34m,\u001b[0m \u001b[0mtitle_str\u001b[0m\u001b[0;34m)\u001b[0m\u001b[0;34m:\u001b[0m\u001b[0;34m\u001b[0m\u001b[0;34m\u001b[0m\u001b[0m\n\u001b[0;32m----> 2\u001b[0;31m     \u001b[0mc\u001b[0m \u001b[0;34m=\u001b[0m \u001b[0malt\u001b[0m\u001b[0;34m.\u001b[0m\u001b[0mChart\u001b[0m\u001b[0;34m(\u001b[0m\u001b[0mdf\u001b[0m\u001b[0;34m.\u001b[0m\u001b[0mloc\u001b[0m\u001b[0;34m[\u001b[0m\u001b[0mdf\u001b[0m\u001b[0;34m[\u001b[0m\u001b[0mcat\u001b[0m\u001b[0;34m]\u001b[0m\u001b[0;34m.\u001b[0m\u001b[0misin\u001b[0m\u001b[0;34m(\u001b[0m\u001b[0mel_list\u001b[0m\u001b[0;34m)\u001b[0m\u001b[0;34m]\u001b[0m\u001b[0;34m)\u001b[0m\u001b[0;31m\\\u001b[0m\u001b[0;34m\u001b[0m\u001b[0;34m\u001b[0m\u001b[0m\n\u001b[0m\u001b[1;32m      3\u001b[0m             \u001b[0;34m.\u001b[0m\u001b[0mmark_line\u001b[0m\u001b[0;34m(\u001b[0m\u001b[0mpoint\u001b[0m\u001b[0;34m=\u001b[0m\u001b[0;32mFalse\u001b[0m\u001b[0;34m)\u001b[0m\u001b[0;31m\\\u001b[0m\u001b[0;34m\u001b[0m\u001b[0;34m\u001b[0m\u001b[0m\n\u001b[1;32m      4\u001b[0m             .encode(x=alt.X('monthdate(Meldedatum):O', title='Date'),\\\n\u001b[1;32m      5\u001b[0m                     \u001b[0my\u001b[0m\u001b[0;34m=\u001b[0m\u001b[0malt\u001b[0m\u001b[0;34m.\u001b[0m\u001b[0mY\u001b[0m\u001b[0;34m(\u001b[0m\u001b[0mnumeric_col\u001b[0m\u001b[0;34m,\u001b[0m \u001b[0mtitle\u001b[0m\u001b[0;34m=\u001b[0m\u001b[0;34m'Cases'\u001b[0m\u001b[0;34m)\u001b[0m\u001b[0;34m,\u001b[0m\u001b[0;31m\\\u001b[0m\u001b[0;34m\u001b[0m\u001b[0;34m\u001b[0m\u001b[0m\n",
      "\u001b[0;32m~/anaconda3/envs/dsnd/lib/python3.8/site-packages/pandas/core/frame.py\u001b[0m in \u001b[0;36m__getitem__\u001b[0;34m(self, key)\u001b[0m\n\u001b[1;32m   2798\u001b[0m             \u001b[0;32mif\u001b[0m \u001b[0mself\u001b[0m\u001b[0;34m.\u001b[0m\u001b[0mcolumns\u001b[0m\u001b[0;34m.\u001b[0m\u001b[0mnlevels\u001b[0m \u001b[0;34m>\u001b[0m \u001b[0;36m1\u001b[0m\u001b[0;34m:\u001b[0m\u001b[0;34m\u001b[0m\u001b[0;34m\u001b[0m\u001b[0m\n\u001b[1;32m   2799\u001b[0m                 \u001b[0;32mreturn\u001b[0m \u001b[0mself\u001b[0m\u001b[0;34m.\u001b[0m\u001b[0m_getitem_multilevel\u001b[0m\u001b[0;34m(\u001b[0m\u001b[0mkey\u001b[0m\u001b[0;34m)\u001b[0m\u001b[0;34m\u001b[0m\u001b[0;34m\u001b[0m\u001b[0m\n\u001b[0;32m-> 2800\u001b[0;31m             \u001b[0mindexer\u001b[0m \u001b[0;34m=\u001b[0m \u001b[0mself\u001b[0m\u001b[0;34m.\u001b[0m\u001b[0mcolumns\u001b[0m\u001b[0;34m.\u001b[0m\u001b[0mget_loc\u001b[0m\u001b[0;34m(\u001b[0m\u001b[0mkey\u001b[0m\u001b[0;34m)\u001b[0m\u001b[0;34m\u001b[0m\u001b[0;34m\u001b[0m\u001b[0m\n\u001b[0m\u001b[1;32m   2801\u001b[0m             \u001b[0;32mif\u001b[0m \u001b[0mis_integer\u001b[0m\u001b[0;34m(\u001b[0m\u001b[0mindexer\u001b[0m\u001b[0;34m)\u001b[0m\u001b[0;34m:\u001b[0m\u001b[0;34m\u001b[0m\u001b[0;34m\u001b[0m\u001b[0m\n\u001b[1;32m   2802\u001b[0m                 \u001b[0mindexer\u001b[0m \u001b[0;34m=\u001b[0m \u001b[0;34m[\u001b[0m\u001b[0mindexer\u001b[0m\u001b[0;34m]\u001b[0m\u001b[0;34m\u001b[0m\u001b[0;34m\u001b[0m\u001b[0m\n",
      "\u001b[0;32m~/anaconda3/envs/dsnd/lib/python3.8/site-packages/pandas/core/indexes/base.py\u001b[0m in \u001b[0;36mget_loc\u001b[0;34m(self, key, method, tolerance)\u001b[0m\n\u001b[1;32m   2646\u001b[0m                 \u001b[0;32mreturn\u001b[0m \u001b[0mself\u001b[0m\u001b[0;34m.\u001b[0m\u001b[0m_engine\u001b[0m\u001b[0;34m.\u001b[0m\u001b[0mget_loc\u001b[0m\u001b[0;34m(\u001b[0m\u001b[0mkey\u001b[0m\u001b[0;34m)\u001b[0m\u001b[0;34m\u001b[0m\u001b[0;34m\u001b[0m\u001b[0m\n\u001b[1;32m   2647\u001b[0m             \u001b[0;32mexcept\u001b[0m \u001b[0mKeyError\u001b[0m\u001b[0;34m:\u001b[0m\u001b[0;34m\u001b[0m\u001b[0;34m\u001b[0m\u001b[0m\n\u001b[0;32m-> 2648\u001b[0;31m                 \u001b[0;32mreturn\u001b[0m \u001b[0mself\u001b[0m\u001b[0;34m.\u001b[0m\u001b[0m_engine\u001b[0m\u001b[0;34m.\u001b[0m\u001b[0mget_loc\u001b[0m\u001b[0;34m(\u001b[0m\u001b[0mself\u001b[0m\u001b[0;34m.\u001b[0m\u001b[0m_maybe_cast_indexer\u001b[0m\u001b[0;34m(\u001b[0m\u001b[0mkey\u001b[0m\u001b[0;34m)\u001b[0m\u001b[0;34m)\u001b[0m\u001b[0;34m\u001b[0m\u001b[0;34m\u001b[0m\u001b[0m\n\u001b[0m\u001b[1;32m   2649\u001b[0m         \u001b[0mindexer\u001b[0m \u001b[0;34m=\u001b[0m \u001b[0mself\u001b[0m\u001b[0;34m.\u001b[0m\u001b[0mget_indexer\u001b[0m\u001b[0;34m(\u001b[0m\u001b[0;34m[\u001b[0m\u001b[0mkey\u001b[0m\u001b[0;34m]\u001b[0m\u001b[0;34m,\u001b[0m \u001b[0mmethod\u001b[0m\u001b[0;34m=\u001b[0m\u001b[0mmethod\u001b[0m\u001b[0;34m,\u001b[0m \u001b[0mtolerance\u001b[0m\u001b[0;34m=\u001b[0m\u001b[0mtolerance\u001b[0m\u001b[0;34m)\u001b[0m\u001b[0;34m\u001b[0m\u001b[0;34m\u001b[0m\u001b[0m\n\u001b[1;32m   2650\u001b[0m         \u001b[0;32mif\u001b[0m \u001b[0mindexer\u001b[0m\u001b[0;34m.\u001b[0m\u001b[0mndim\u001b[0m \u001b[0;34m>\u001b[0m \u001b[0;36m1\u001b[0m \u001b[0;32mor\u001b[0m \u001b[0mindexer\u001b[0m\u001b[0;34m.\u001b[0m\u001b[0msize\u001b[0m \u001b[0;34m>\u001b[0m \u001b[0;36m1\u001b[0m\u001b[0;34m:\u001b[0m\u001b[0;34m\u001b[0m\u001b[0;34m\u001b[0m\u001b[0m\n",
      "\u001b[0;32mpandas/_libs/index.pyx\u001b[0m in \u001b[0;36mpandas._libs.index.IndexEngine.get_loc\u001b[0;34m()\u001b[0m\n",
      "\u001b[0;32mpandas/_libs/index.pyx\u001b[0m in \u001b[0;36mpandas._libs.index.IndexEngine.get_loc\u001b[0;34m()\u001b[0m\n",
      "\u001b[0;32mpandas/_libs/hashtable_class_helper.pxi\u001b[0m in \u001b[0;36mpandas._libs.hashtable.PyObjectHashTable.get_item\u001b[0;34m()\u001b[0m\n",
      "\u001b[0;32mpandas/_libs/hashtable_class_helper.pxi\u001b[0m in \u001b[0;36mpandas._libs.hashtable.PyObjectHashTable.get_item\u001b[0;34m()\u001b[0m\n",
      "\u001b[0;31mKeyError\u001b[0m: 'Landkreis'"
     ]
    }
   ],
   "source": [
    "def plot_cases_line(df, cat , el_list, numeric_col, title_str):\n",
    "    c = alt.Chart(df.loc[df[cat].isin(el_list)])\\\n",
    "            .mark_line(point=False)\\\n",
    "            .encode(x=alt.X('monthdate(Meldedatum):O', title='Date'),\\\n",
    "                    y=alt.Y(numeric_col, title='Cases'),\\\n",
    "                    color=cat,\\\n",
    "                   tooltip = ['Landkreis','Meldedatum','Number'])\\\n",
    "            .properties(width=800, height=400, title=title_str).display()\n",
    "            \n",
    "    #c.display()\n",
    "plot_cases_line(tmp, 'Landkreis',['LK Celle','Region Hannover','LK Coesfeld','Lockdown Threshold'],'mean(Number):Q','Rolling 7-day sum of cases per 100k' ) "
   ]
  },
  {
   "cell_type": "code",
   "execution_count": null,
   "metadata": {},
   "outputs": [],
   "source": [
    "tmp = df_lkr_roll.append({'Meldedatum':df_lkr_roll['Meldedatum'].min(), \\\n",
    "                    'Landkreis':'Lockdown Threshold',\\\n",
    "                    'category':'AnzahlFall100k',\\\n",
    "                    'Number': 50},ignore_index=True)\n",
    "tmp = tmp.append({'Meldedatum':df_lkr_roll['Meldedatum'].max(), \\\n",
    "                    'Landkreis':'Lockdown Threshold',\\\n",
    "                    'category':'AnzahlFall100k',\\\n",
    "                    'Number': 50},ignore_index=True)\n",
    "tmp"
   ]
  },
  {
   "cell_type": "code",
   "execution_count": null,
   "metadata": {},
   "outputs": [],
   "source": [
    "#df_cases_pop.groupby(['Meldedatum']).sum()['AnzahlFall'].rolling(3).sum()\n",
    "df_cases_rolling = df_cases_pop.groupby(['Meldedatum','Landkreis']).sum()[['Case_per_100k']].rolling(7).sum().reset_index()"
   ]
  },
  {
   "cell_type": "code",
   "execution_count": null,
   "metadata": {},
   "outputs": [],
   "source": [
    "tmp = df_cases_pop.groupby(['Meldedatum','Landkreis']).sum()[['Case_per_100k']].reset_index()\n",
    "tmp.loc[tmp['Landkreis']=='LK Coesfeld' ][['Case_per_100k']].rolling(7).sum()"
   ]
  },
  {
   "cell_type": "code",
   "execution_count": null,
   "metadata": {},
   "outputs": [],
   "source": [
    "df2['AnzahlFall'].rolling('7d').sum()"
   ]
  },
  {
   "cell_type": "code",
   "execution_count": null,
   "metadata": {},
   "outputs": [],
   "source": [
    "keep_col = ['AnzahlFall','AnzahlTodesfall']#,'Bundesland','Landkreis']\n",
    "df3 = df_cases_pop.groupby('IdLandkreis').rolling('7d').sum()[keep_col].reset_index()\n",
    "#df3.loc[df3['Landkreis']=='LK Coesfeld']"
   ]
  },
  {
   "cell_type": "code",
   "execution_count": null,
   "metadata": {},
   "outputs": [],
   "source": []
  },
  {
   "cell_type": "code",
   "execution_count": null,
   "metadata": {},
   "outputs": [],
   "source": [
    "df2 = df_cases.sort_values(by='Meldedatum').set_index('Meldedatum')"
   ]
  },
  {
   "cell_type": "code",
   "execution_count": null,
   "metadata": {},
   "outputs": [],
   "source": [
    "alt.Chart(df_cases_rolling.loc[df_cases_rolling['Landkreis'].isin(['LK Coesfeld','LK Celle'])])\\\n",
    "        .mark_bar(point=True)\\\n",
    "        .encode(x=alt.X('monthdate(Meldedatum):O', title='Date'),\\\n",
    "                y=alt.Y('mean(Case_per_100k):Q', title='Cumulative Cases'),\\\n",
    "                color='Landkreis',\\\n",
    "                tooltip = ['Landkreis','Case_per_100k'])\\\n",
    "        .properties(width=800, height=400, title='Rolling number of cases per week per 100k inhabitant')"
   ]
  },
  {
   "cell_type": "markdown",
   "metadata": {},
   "source": [
    "# Bar plot cases by state"
   ]
  },
  {
   "cell_type": "code",
   "execution_count": 4,
   "metadata": {},
   "outputs": [
    {
     "ename": "NameError",
     "evalue": "name 'df_cases_pop' is not defined",
     "output_type": "error",
     "traceback": [
      "\u001b[0;31m---------------------------------------------------------------------------\u001b[0m",
      "\u001b[0;31mNameError\u001b[0m                                 Traceback (most recent call last)",
      "\u001b[0;32m<ipython-input-4-bca88a06f38e>\u001b[0m in \u001b[0;36m<module>\u001b[0;34m\u001b[0m\n\u001b[0;32m----> 1\u001b[0;31m \u001b[0mdf_cases_pop\u001b[0m\u001b[0;34m[\u001b[0m\u001b[0;34m'Meldedatum'\u001b[0m\u001b[0;34m]\u001b[0m\u001b[0;34m.\u001b[0m\u001b[0mdtype\u001b[0m\u001b[0;34m\u001b[0m\u001b[0;34m\u001b[0m\u001b[0m\n\u001b[0m",
      "\u001b[0;31mNameError\u001b[0m: name 'df_cases_pop' is not defined"
     ]
    }
   ],
   "source": [
    "df_cases_pop['Meldedatum'].dtype"
   ]
  },
  {
   "cell_type": "code",
   "execution_count": 5,
   "metadata": {},
   "outputs": [
    {
     "ename": "KeyError",
     "evalue": "\"['AnzahlTodesfall'] not in index\"",
     "output_type": "error",
     "traceback": [
      "\u001b[0;31m---------------------------------------------------------------------------\u001b[0m",
      "\u001b[0;31mKeyError\u001b[0m                                  Traceback (most recent call last)",
      "\u001b[0;32m<ipython-input-5-a4a57b9bc211>\u001b[0m in \u001b[0;36m<module>\u001b[0;34m\u001b[0m\n\u001b[0;32m----> 1\u001b[0;31m \u001b[0mtmp\u001b[0m \u001b[0;34m=\u001b[0m \u001b[0mdf_cases\u001b[0m\u001b[0;34m.\u001b[0m\u001b[0mgroupby\u001b[0m\u001b[0;34m(\u001b[0m\u001b[0;34m'Bundesland'\u001b[0m\u001b[0;34m)\u001b[0m\u001b[0;34m.\u001b[0m\u001b[0msum\u001b[0m\u001b[0;34m(\u001b[0m\u001b[0;34m)\u001b[0m\u001b[0;34m[\u001b[0m\u001b[0;34m[\u001b[0m\u001b[0;34m'AnzahlFall'\u001b[0m\u001b[0;34m,\u001b[0m\u001b[0;34m'AnzahlTodesfall'\u001b[0m\u001b[0;34m]\u001b[0m\u001b[0;34m]\u001b[0m\u001b[0;31m\\\u001b[0m\u001b[0;34m\u001b[0m\u001b[0;34m\u001b[0m\u001b[0m\n\u001b[0m\u001b[1;32m      2\u001b[0m         \u001b[0;34m.\u001b[0m\u001b[0msort_values\u001b[0m\u001b[0;34m(\u001b[0m\u001b[0mby\u001b[0m\u001b[0;34m=\u001b[0m\u001b[0;34m'AnzahlFall'\u001b[0m\u001b[0;34m,\u001b[0m \u001b[0mascending\u001b[0m\u001b[0;34m=\u001b[0m\u001b[0;32mFalse\u001b[0m\u001b[0;34m)\u001b[0m\u001b[0;34m.\u001b[0m\u001b[0mreset_index\u001b[0m\u001b[0;34m(\u001b[0m\u001b[0;34m)\u001b[0m\u001b[0;34m\u001b[0m\u001b[0;34m\u001b[0m\u001b[0m\n\u001b[1;32m      3\u001b[0m \u001b[0mtmp\u001b[0m \u001b[0;34m=\u001b[0m \u001b[0mtmp\u001b[0m\u001b[0;34m.\u001b[0m\u001b[0mmelt\u001b[0m\u001b[0;34m(\u001b[0m\u001b[0mid_vars\u001b[0m\u001b[0;34m=\u001b[0m\u001b[0;34m'Bundesland'\u001b[0m\u001b[0;34m,\u001b[0m \u001b[0mvalue_vars\u001b[0m \u001b[0;34m=\u001b[0m \u001b[0;34m[\u001b[0m\u001b[0;34m'AnzahlFall'\u001b[0m\u001b[0;34m,\u001b[0m \u001b[0;34m'AnzahlTodesfall'\u001b[0m\u001b[0;34m]\u001b[0m\u001b[0;34m,\u001b[0m \u001b[0mvalue_name\u001b[0m\u001b[0;34m=\u001b[0m\u001b[0;34m'Cases'\u001b[0m\u001b[0;34m)\u001b[0m\u001b[0;34m\u001b[0m\u001b[0;34m\u001b[0m\u001b[0m\n\u001b[1;32m      4\u001b[0m \u001b[0mlist\u001b[0m\u001b[0;34m(\u001b[0m\u001b[0mtmp\u001b[0m\u001b[0;34m[\u001b[0m\u001b[0;34m'Bundesland'\u001b[0m\u001b[0;34m]\u001b[0m\u001b[0;34m.\u001b[0m\u001b[0munique\u001b[0m\u001b[0;34m(\u001b[0m\u001b[0;34m)\u001b[0m\u001b[0;34m)\u001b[0m\u001b[0;34m\u001b[0m\u001b[0;34m\u001b[0m\u001b[0m\n",
      "\u001b[0;32m~/anaconda3/envs/dsnd/lib/python3.8/site-packages/pandas/core/frame.py\u001b[0m in \u001b[0;36m__getitem__\u001b[0;34m(self, key)\u001b[0m\n\u001b[1;32m   2804\u001b[0m             \u001b[0;32mif\u001b[0m \u001b[0mis_iterator\u001b[0m\u001b[0;34m(\u001b[0m\u001b[0mkey\u001b[0m\u001b[0;34m)\u001b[0m\u001b[0;34m:\u001b[0m\u001b[0;34m\u001b[0m\u001b[0;34m\u001b[0m\u001b[0m\n\u001b[1;32m   2805\u001b[0m                 \u001b[0mkey\u001b[0m \u001b[0;34m=\u001b[0m \u001b[0mlist\u001b[0m\u001b[0;34m(\u001b[0m\u001b[0mkey\u001b[0m\u001b[0;34m)\u001b[0m\u001b[0;34m\u001b[0m\u001b[0;34m\u001b[0m\u001b[0m\n\u001b[0;32m-> 2806\u001b[0;31m             \u001b[0mindexer\u001b[0m \u001b[0;34m=\u001b[0m \u001b[0mself\u001b[0m\u001b[0;34m.\u001b[0m\u001b[0mloc\u001b[0m\u001b[0;34m.\u001b[0m\u001b[0m_get_listlike_indexer\u001b[0m\u001b[0;34m(\u001b[0m\u001b[0mkey\u001b[0m\u001b[0;34m,\u001b[0m \u001b[0maxis\u001b[0m\u001b[0;34m=\u001b[0m\u001b[0;36m1\u001b[0m\u001b[0;34m,\u001b[0m \u001b[0mraise_missing\u001b[0m\u001b[0;34m=\u001b[0m\u001b[0;32mTrue\u001b[0m\u001b[0;34m)\u001b[0m\u001b[0;34m[\u001b[0m\u001b[0;36m1\u001b[0m\u001b[0;34m]\u001b[0m\u001b[0;34m\u001b[0m\u001b[0;34m\u001b[0m\u001b[0m\n\u001b[0m\u001b[1;32m   2807\u001b[0m \u001b[0;34m\u001b[0m\u001b[0m\n\u001b[1;32m   2808\u001b[0m         \u001b[0;31m# take() does not accept boolean indexers\u001b[0m\u001b[0;34m\u001b[0m\u001b[0;34m\u001b[0m\u001b[0;34m\u001b[0m\u001b[0m\n",
      "\u001b[0;32m~/anaconda3/envs/dsnd/lib/python3.8/site-packages/pandas/core/indexing.py\u001b[0m in \u001b[0;36m_get_listlike_indexer\u001b[0;34m(self, key, axis, raise_missing)\u001b[0m\n\u001b[1;32m   1550\u001b[0m             \u001b[0mkeyarr\u001b[0m\u001b[0;34m,\u001b[0m \u001b[0mindexer\u001b[0m\u001b[0;34m,\u001b[0m \u001b[0mnew_indexer\u001b[0m \u001b[0;34m=\u001b[0m \u001b[0max\u001b[0m\u001b[0;34m.\u001b[0m\u001b[0m_reindex_non_unique\u001b[0m\u001b[0;34m(\u001b[0m\u001b[0mkeyarr\u001b[0m\u001b[0;34m)\u001b[0m\u001b[0;34m\u001b[0m\u001b[0;34m\u001b[0m\u001b[0m\n\u001b[1;32m   1551\u001b[0m \u001b[0;34m\u001b[0m\u001b[0m\n\u001b[0;32m-> 1552\u001b[0;31m         self._validate_read_indexer(\n\u001b[0m\u001b[1;32m   1553\u001b[0m             \u001b[0mkeyarr\u001b[0m\u001b[0;34m,\u001b[0m \u001b[0mindexer\u001b[0m\u001b[0;34m,\u001b[0m \u001b[0mo\u001b[0m\u001b[0;34m.\u001b[0m\u001b[0m_get_axis_number\u001b[0m\u001b[0;34m(\u001b[0m\u001b[0maxis\u001b[0m\u001b[0;34m)\u001b[0m\u001b[0;34m,\u001b[0m \u001b[0mraise_missing\u001b[0m\u001b[0;34m=\u001b[0m\u001b[0mraise_missing\u001b[0m\u001b[0;34m\u001b[0m\u001b[0;34m\u001b[0m\u001b[0m\n\u001b[1;32m   1554\u001b[0m         )\n",
      "\u001b[0;32m~/anaconda3/envs/dsnd/lib/python3.8/site-packages/pandas/core/indexing.py\u001b[0m in \u001b[0;36m_validate_read_indexer\u001b[0;34m(self, key, indexer, axis, raise_missing)\u001b[0m\n\u001b[1;32m   1644\u001b[0m             \u001b[0;32mif\u001b[0m \u001b[0;32mnot\u001b[0m \u001b[0;34m(\u001b[0m\u001b[0mself\u001b[0m\u001b[0;34m.\u001b[0m\u001b[0mname\u001b[0m \u001b[0;34m==\u001b[0m \u001b[0;34m\"loc\"\u001b[0m \u001b[0;32mand\u001b[0m \u001b[0;32mnot\u001b[0m \u001b[0mraise_missing\u001b[0m\u001b[0;34m)\u001b[0m\u001b[0;34m:\u001b[0m\u001b[0;34m\u001b[0m\u001b[0;34m\u001b[0m\u001b[0m\n\u001b[1;32m   1645\u001b[0m                 \u001b[0mnot_found\u001b[0m \u001b[0;34m=\u001b[0m \u001b[0mlist\u001b[0m\u001b[0;34m(\u001b[0m\u001b[0mset\u001b[0m\u001b[0;34m(\u001b[0m\u001b[0mkey\u001b[0m\u001b[0;34m)\u001b[0m \u001b[0;34m-\u001b[0m \u001b[0mset\u001b[0m\u001b[0;34m(\u001b[0m\u001b[0max\u001b[0m\u001b[0;34m)\u001b[0m\u001b[0;34m)\u001b[0m\u001b[0;34m\u001b[0m\u001b[0;34m\u001b[0m\u001b[0m\n\u001b[0;32m-> 1646\u001b[0;31m                 \u001b[0;32mraise\u001b[0m \u001b[0mKeyError\u001b[0m\u001b[0;34m(\u001b[0m\u001b[0;34mf\"{not_found} not in index\"\u001b[0m\u001b[0;34m)\u001b[0m\u001b[0;34m\u001b[0m\u001b[0;34m\u001b[0m\u001b[0m\n\u001b[0m\u001b[1;32m   1647\u001b[0m \u001b[0;34m\u001b[0m\u001b[0m\n\u001b[1;32m   1648\u001b[0m             \u001b[0;31m# we skip the warning on Categorical/Interval\u001b[0m\u001b[0;34m\u001b[0m\u001b[0;34m\u001b[0m\u001b[0;34m\u001b[0m\u001b[0m\n",
      "\u001b[0;31mKeyError\u001b[0m: \"['AnzahlTodesfall'] not in index\""
     ]
    }
   ],
   "source": [
    "tmp = df_cases.groupby('Bundesland').sum()[['AnzahlFall','AnzahlTodesfall']]\\\n",
    "        .sort_values(by='AnzahlFall', ascending=False).reset_index()\n",
    "tmp = tmp.melt(id_vars='Bundesland', value_vars = ['AnzahlFall', 'AnzahlTodesfall'], value_name='Cases')\n",
    "list(tmp['Bundesland'].unique())"
   ]
  },
  {
   "cell_type": "code",
   "execution_count": 6,
   "metadata": {},
   "outputs": [
    {
     "ename": "NameError",
     "evalue": "name 'tmp' is not defined",
     "output_type": "error",
     "traceback": [
      "\u001b[0;31m---------------------------------------------------------------------------\u001b[0m",
      "\u001b[0;31mNameError\u001b[0m                                 Traceback (most recent call last)",
      "\u001b[0;32m<ipython-input-6-b559755a455c>\u001b[0m in \u001b[0;36m<module>\u001b[0;34m\u001b[0m\n\u001b[0;32m----> 1\u001b[0;31m \u001b[0malt\u001b[0m\u001b[0;34m.\u001b[0m\u001b[0mChart\u001b[0m\u001b[0;34m(\u001b[0m\u001b[0mtmp\u001b[0m\u001b[0;34m)\u001b[0m\u001b[0;31m\\\u001b[0m\u001b[0;34m\u001b[0m\u001b[0;34m\u001b[0m\u001b[0m\n\u001b[0m\u001b[1;32m      2\u001b[0m             \u001b[0;34m.\u001b[0m\u001b[0mmark_bar\u001b[0m\u001b[0;34m(\u001b[0m\u001b[0;34m)\u001b[0m\u001b[0;31m\\\u001b[0m\u001b[0;34m\u001b[0m\u001b[0;34m\u001b[0m\u001b[0m\n\u001b[1;32m      3\u001b[0m             .encode(x=alt.X('Bundesland:O', title='Bundesland', sort=list(tmp['Bundesland'].unique())),\\\n\u001b[1;32m      4\u001b[0m                     \u001b[0my\u001b[0m\u001b[0;34m=\u001b[0m\u001b[0malt\u001b[0m\u001b[0;34m.\u001b[0m\u001b[0mY\u001b[0m\u001b[0;34m(\u001b[0m\u001b[0;34m'Cases:Q'\u001b[0m\u001b[0;34m,\u001b[0m \u001b[0mtitle\u001b[0m\u001b[0;34m=\u001b[0m\u001b[0;34m'Cumulative Cases'\u001b[0m\u001b[0;34m)\u001b[0m\u001b[0;34m,\u001b[0m\u001b[0;31m\\\u001b[0m\u001b[0;34m\u001b[0m\u001b[0;34m\u001b[0m\u001b[0m\n\u001b[1;32m      5\u001b[0m                     \u001b[0mcolor\u001b[0m\u001b[0;34m=\u001b[0m\u001b[0;34m'variable'\u001b[0m\u001b[0;34m,\u001b[0m\u001b[0;31m\\\u001b[0m\u001b[0;34m\u001b[0m\u001b[0;34m\u001b[0m\u001b[0m\n",
      "\u001b[0;31mNameError\u001b[0m: name 'tmp' is not defined"
     ]
    }
   ],
   "source": [
    "alt.Chart(tmp)\\\n",
    "            .mark_bar()\\\n",
    "            .encode(x=alt.X('Bundesland:O', title='Bundesland', sort=list(tmp['Bundesland'].unique())),\\\n",
    "                    y=alt.Y('Cases:Q', title='Cumulative Cases'),\\\n",
    "                    color='variable',\\\n",
    "                   tooltip=['Cases','variable'])\\\n",
    "            .properties(width=800, height=400, title='Number of Cases')"
   ]
  },
  {
   "cell_type": "code",
   "execution_count": null,
   "metadata": {},
   "outputs": [],
   "source": []
  },
  {
   "cell_type": "code",
   "execution_count": null,
   "metadata": {},
   "outputs": [],
   "source": []
  }
 ],
 "metadata": {
  "kernelspec": {
   "display_name": "dsnd",
   "language": "python",
   "name": "dsnd"
  },
  "language_info": {
   "codemirror_mode": {
    "name": "ipython",
    "version": 3
   },
   "file_extension": ".py",
   "mimetype": "text/x-python",
   "name": "python",
   "nbconvert_exporter": "python",
   "pygments_lexer": "ipython3",
   "version": "3.8.2"
  }
 },
 "nbformat": 4,
 "nbformat_minor": 4
}
